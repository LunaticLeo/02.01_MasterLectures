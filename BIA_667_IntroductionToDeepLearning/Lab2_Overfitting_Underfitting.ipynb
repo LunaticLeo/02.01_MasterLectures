{
  "cells": [
    {
      "cell_type": "markdown",
      "metadata": {
        "id": "hyjkNoTxgCYS"
      },
      "source": [
        "# Overfitting and underfitting\n"
      ]
    },
    {
      "cell_type": "markdown",
      "metadata": {
        "id": "x_1U-g0WgHg2"
      },
      "source": [
        "**Credits to: Code and text adapted from [Deep Learning with Python](https://www.manning.com/books/deep-learning-with-python?a_aid=keras&a_bid=76564dff) Chapter 3, Section 6**\n",
        "\n",
        "\n",
        "**The fundamental issue in machine learning is the tension between optimization and generalization. \"Optimization\" refers to the process of \n",
        "adjusting a model to get the best performance possible on the training data (the \"learning\" in \"machine learning\"), while \"generalization\" \n",
        "refers to how well the trained model would perform on data it has never seen before. The goal of the game is to get good generalization, of \n",
        "course, but you do not control generalization; you can only adjust the model based on its training data**.\n",
        "\n",
        "**At the beginning of training, optimization and generalization are correlated: the lower your loss on training data, the lower your loss on \n",
        "test data. While this is happening, your model is said to be _under-fit_: there is still progress to be made; the network hasn't yet \n",
        "modeled all relevant patterns in the training data. But after a certain number of iterations on the training data, generalization stops \n",
        "improving, validation metrics stall then start degrading: the model is then starting to over-fit, i.e. is it starting to learn patterns \n",
        "that are specific to the training data but that are misleading or irrelevant when it comes to new data**.\n",
        "\n",
        "To prevent a model from learning misleading or irrelevant patterns found in the training data, **_the best solution is of course to get \n",
        "more training data_**. A model trained on more data will naturally generalize better. When that is no longer possible, **the next best solution \n",
        "is to modulate the quantity of information that your model is allowed to store, or to add constraints on what information it is allowed to \n",
        "store**. If a network can only afford to memorize a small number of patterns, the optimization process will force it to focus on the most \n",
        "**prominent** patterns, which have a better chance of generalizing well.\n",
        "\n",
        "The processing of fighting overfitting in this way is called **_regularization_**. Let's review some of the most common regularization \n",
        "techniques, and let's apply them in practice to improve our movie classification model from  the previous chapter."
      ]
    },
    {
      "cell_type": "markdown",
      "metadata": {
        "id": "MH6SYd52gCYV"
      },
      "source": [
        "## Set up:"
      ]
    },
    {
      "cell_type": "markdown",
      "metadata": {
        "id": "eMryT5VEgCYY"
      },
      "source": [
        "Dependencies:"
      ]
    },
    {
      "cell_type": "code",
      "execution_count": 1,
      "metadata": {
        "colab": {
          "base_uri": "https://localhost:8080/"
        },
        "id": "jz7w5-Jxok05",
        "outputId": "ae0d6172-900f-475d-e6da-797115a120b0"
      },
      "outputs": [
        {
          "name": "stdout",
          "output_type": "stream",
          "text": [
            "Requirement already satisfied: torchinfo in /usr/local/lib/python3.7/dist-packages (1.6.3)\n"
          ]
        }
      ],
      "source": [
        "! pip install torchinfo"
      ]
    },
    {
      "cell_type": "code",
      "execution_count": 2,
      "metadata": {
        "id": "zN7BNW-DgCYY"
      },
      "outputs": [],
      "source": [
        "import numpy as np\n",
        "import keras\n",
        "import torch\n",
        "import torch.nn as nn\n",
        "import matplotlib.pyplot as plt\n",
        "from keras.datasets import imdb\n",
        "from torch.utils.data import Dataset, DataLoader\n",
        "from pprint import pprint\n",
        "from torchinfo import summary"
      ]
    },
    {
      "cell_type": "markdown",
      "metadata": {
        "id": "vTLm94HpgLcD"
      },
      "source": [
        "Seed:"
      ]
    },
    {
      "cell_type": "code",
      "execution_count": 3,
      "metadata": {
        "id": "3shJ5VgfgNQD"
      },
      "outputs": [],
      "source": [
        "seed = 7777\n",
        "torch.manual_seed(seed)\n",
        "torch.backends.cudnn.deterministic = True"
      ]
    },
    {
      "cell_type": "markdown",
      "metadata": {
        "id": "muF2nCqBsS4C"
      },
      "source": [
        "Device:"
      ]
    },
    {
      "cell_type": "code",
      "execution_count": 4,
      "metadata": {
        "id": "c_F3reDVsUKT"
      },
      "outputs": [],
      "source": [
        "# set up device\n",
        "device = torch.device(\"cuda\" if torch.cuda.is_available() else \"cpu\")"
      ]
    },
    {
      "cell_type": "markdown",
      "metadata": {
        "id": "hZ2k4cC4gqFL"
      },
      "source": [
        "## Data"
      ]
    },
    {
      "cell_type": "markdown",
      "metadata": {
        "id": "HcAN1yyNgCYY"
      },
      "source": [
        "Note: in this notebook we will be using the IMDB test set as our validation set. It doesn't matter in this context."
      ]
    },
    {
      "cell_type": "markdown",
      "metadata": {
        "id": "Z2RNsLr8kZDp"
      },
      "source": [
        "### Download dataset"
      ]
    },
    {
      "cell_type": "code",
      "execution_count": 5,
      "metadata": {
        "id": "92CC0h73kHqV"
      },
      "outputs": [],
      "source": [
        "(train_data, train_labels), (test_data, test_labels) = imdb.load_data(num_words=10000)\n",
        "\n",
        "def vectorize_sequences(sequences, dimension=10000):\n",
        "    # Create an all-zero matrix of shape (len(sequences), dimension)\n",
        "    results = np.zeros((len(sequences), dimension))\n",
        "    for i, sequence in enumerate(sequences):\n",
        "        results[i, sequence] = 1.  # set specific indices of results[i] to 1s\n",
        "    return results\n",
        "\n",
        "# Our vectorized training data\n",
        "x_train = vectorize_sequences(train_data)\n",
        "# Our vectorized test data\n",
        "x_test = vectorize_sequences(test_data)\n",
        "# Our vectorized labels\n",
        "y_train = np.asarray(train_labels).astype('float32')\n",
        "y_test = np.asarray(test_labels).astype('float32')"
      ]
    },
    {
      "cell_type": "code",
      "execution_count": 6,
      "metadata": {
        "colab": {
          "base_uri": "https://localhost:8080/"
        },
        "id": "YojI8qK5mIeI",
        "outputId": "44162732-edb1-4783-9fe9-660b38c32476"
      },
      "outputs": [
        {
          "name": "stdout",
          "output_type": "stream",
          "text": [
            "? this film was just brilliant casting location scenery story direction everyone's really suited the part they played and you could just imagine being there robert ? is an amazing actor and now the same being director ? father came from the same scottish island as myself so i loved the fact there was a real connection with this film the witty remarks throughout the film were great it was just brilliant so much that i bought the film as soon as it was released for ? and would recommend it to everyone to watch and the fly fishing was amazing really cried at the end it was so sad and you know what they say if you cry at a film it must have been good and this definitely was also ? to the two little boy's that played the ? of norman and paul they were just brilliant children are often left out of the ? list i think because the stars that play them all grown up are such a big profile for the whole film but these children are amazing and should be praised for what they have done don't you think the whole story was so lovely because it was true and was someone's life after all that was shared with us all\n"
          ]
        }
      ],
      "source": [
        "# word_index is a dictionary mapping words to an integer index\n",
        "word_index = imdb.get_word_index()\n",
        "# We reverse it, mapping integer indices to words\n",
        "reverse_word_index = dict([(value, key) for (key, value) in word_index.items()])\n",
        "# We decode the review; note that our indices were offset by 3\n",
        "# because 0, 1 and 2 are reserved indices for \"padding\", \"start of sequence\", and \"unknown\".\n",
        "decoded_review = ' '.join([reverse_word_index.get(i - 3, '?') for i in train_data[0]])\n",
        "\n",
        "print(decoded_review)"
      ]
    },
    {
      "cell_type": "code",
      "execution_count": 7,
      "metadata": {
        "colab": {
          "base_uri": "https://localhost:8080/"
        },
        "id": "8ysl4If7VNxW",
        "outputId": "9a52c1aa-4c0d-4bd6-8ab9-58b9f2de39ef"
      },
      "outputs": [
        {
          "name": "stdout",
          "output_type": "stream",
          "text": [
            "[1, 14, 22, 16, 43]\n",
            "[0. 1. 1. 0. 1. 1. 1. 1. 1. 1. 0. 0. 1. 1. 1. 1. 1. 1. 1. 1. 0. 1. 1. 0.\n",
            " 0. 1. 1. 0. 1. 0. 1. 0. 1. 1. 0. 1. 1. 0. 1. 1. 0. 0. 0. 1. 0. 0. 1. 0.\n",
            " 1. 0.]\n"
          ]
        }
      ],
      "source": [
        "# One-hot encoding of document. Each number indicate a word presents (1) or does not present in the doc (0)\n",
        "print(train_data[0][:5])\n",
        "print(x_train[0][:50])  # dictionary"
      ]
    },
    {
      "cell_type": "markdown",
      "metadata": {
        "id": "ZPFhbqiukjM4"
      },
      "source": [
        "Define dataset class:"
      ]
    },
    {
      "cell_type": "code",
      "execution_count": 13,
      "metadata": {
        "id": "PMQ2apEXlQOR"
      },
      "outputs": [],
      "source": [
        "class IMDB_dataset(Dataset):\n",
        "    def __init__(self, x, y):\n",
        "        self.x = torch.Tensor(x).float()\n",
        "        self.y = torch.Tensor(y).float()\n",
        "    \n",
        "    def __getitem__(self, index):\n",
        "        return self.x[index], self.y[index]\n",
        "    \n",
        "    def __len__(self):\n",
        "        return self.x.size()[0]\n",
        "\n",
        "# dataset\n",
        "train_data = IMDB_dataset(x_train, y_train)\n",
        "test_data = IMDB_dataset(x_test, y_test)"
      ]
    },
    {
      "cell_type": "markdown",
      "metadata": {
        "id": "qVppF_AugCYZ"
      },
      "source": [
        "# Fighting overfitting\n",
        "\n",
        "## Reducing the network's size\n",
        "\n",
        "\n",
        "The simplest way to prevent overfitting is to reduce the size of the model, i.e. the number of learnable parameters in the model (which is \n",
        "determined by the number of layers and the number of units per layer). In deep learning, **the number of learnable parameters in a model is \n",
        "often referred to as the model's \"capacity\"**. Intuitively, **a model with more parameters will have more \"memorization capacity\"** and therefore \n",
        "will be able to easily learn a perfect dictionary-like mapping between training samples and their targets, a mapping without any \n",
        "generalization power. For instance, a model with 500,000 binary parameters could easily be made to learn the class of every digits in the \n",
        "MNIST training set: we would only need 10 binary parameters for each of the 50,000 digits. Such a model would be useless for classifying \n",
        "new digit samples. Always keep this in mind: deep learning models tend to be good at fitting to the training data, but the real challenge \n",
        "is generalization, not fitting.\n",
        "\n",
        "On the other hand, if the network has **limited memorization resources**, it will not be able to learn this mapping as easily, and thus, in \n",
        "order to minimize its loss, it will have to resort to learning **compressed representations that have predictive power** regarding the targets -- precisely the type of representations that we are interested in. At the same time, keep in mind that you should be using **models that have \n",
        "enough parameters that they won't be underfitting: your model shouldn't be starved for memorization resources**. There is a compromise to be \n",
        "found between **\"too much capacity\"** and **\"not enough capacity\"**.\n",
        "\n",
        "Unfortunately, there is no magical formula to determine what the right number of layers is, or what the right size for each layer is. You \n",
        "will have to evaluate an array of different architectures (**on your validation set, not on your test set**, of course) in order to find the \n",
        "right model size for your data. The general workflow to find an appropriate model size is to **start with relatively few layers and \n",
        "parameters, and start increasing the size of the layers or adding new layers until you see diminishing returns with regard to the \n",
        "validation loss**.\n",
        "\n",
        "Let's try this on our movie review classification network."
      ]
    },
    {
      "cell_type": "markdown",
      "metadata": {
        "id": "tgWN6QwbDkE4"
      },
      "source": [
        "Define model class"
      ]
    },
    {
      "cell_type": "code",
      "execution_count": 9,
      "metadata": {
        "id": "4TqDxKyT7WdC"
      },
      "outputs": [],
      "source": [
        "# simple_model\n",
        "class simple_model(nn.Module):\n",
        "    def __init__(self, hidden_units):\n",
        "        # initialize parent class\n",
        "        super(simple_model, self).__init__()\n",
        "        # define layers\n",
        "        self.classifier = nn.Sequential(  # define a subcomponent of neural network or another to define model\n",
        "            nn.Linear(in_features=10000, out_features=hidden_units),\n",
        "            nn.ReLU(),\n",
        "            nn.Linear(in_features=hidden_units, out_features=hidden_units),\n",
        "            nn.ReLU(),\n",
        "            nn.Linear(in_features=hidden_units, out_features=1)\n",
        "        )\n",
        "    \n",
        "    def forward(self, x):\n",
        "        return self.classifier(x)"
      ]
    },
    {
      "cell_type": "code",
      "execution_count": 10,
      "metadata": {
        "colab": {
          "base_uri": "https://localhost:8080/"
        },
        "id": "dV4Cd4_XpC04",
        "outputId": "d2af6e0e-5575-4c37-dc6a-669618a108db"
      },
      "outputs": [
        {
          "data": {
            "text/plain": [
              "==========================================================================================\n",
              "Layer (type:depth-idx)                   Output Shape              Param #\n",
              "==========================================================================================\n",
              "simple_model                             --                        --\n",
              "├─Sequential: 1-1                        [10, 1]                   --\n",
              "│    └─Linear: 2-1                       [10, 16]                  160,016\n",
              "│    └─ReLU: 2-2                         [10, 16]                  --\n",
              "│    └─Linear: 2-3                       [10, 16]                  272\n",
              "│    └─ReLU: 2-4                         [10, 16]                  --\n",
              "│    └─Linear: 2-5                       [10, 1]                   17\n",
              "==========================================================================================\n",
              "Total params: 160,305\n",
              "Trainable params: 160,305\n",
              "Non-trainable params: 0\n",
              "Total mult-adds (M): 1.60\n",
              "==========================================================================================\n",
              "Input size (MB): 0.40\n",
              "Forward/backward pass size (MB): 0.00\n",
              "Params size (MB): 0.64\n",
              "Estimated Total Size (MB): 1.04\n",
              "=========================================================================================="
            ]
          },
          "execution_count": 10,
          "metadata": {},
          "output_type": "execute_result"
        }
      ],
      "source": [
        "model_visual = simple_model(16)\n",
        "summary(model_visual, (10, 10000))"
      ]
    },
    {
      "cell_type": "markdown",
      "metadata": {
        "id": "qbRGr7rRq6eU"
      },
      "source": [
        "Train model function:"
      ]
    },
    {
      "cell_type": "code",
      "execution_count": 36,
      "metadata": {
        "id": "EDzskPo-q9IJ"
      },
      "outputs": [],
      "source": [
        "def train_model(model, train_dataset, test_dataset, device, lr=0.0001, epochs=20, batch_size=32):\n",
        "    # construct dataloader\n",
        "    train_loader = DataLoader(train_dataset, batch_size=batch_size)\n",
        "    test_loader = DataLoader(test_dataset, batch_size=batch_size)\n",
        "\n",
        "    # move model to device\n",
        "    model = model.to(device)\n",
        "\n",
        "    # history\n",
        "    history = {'train_loss': [],\n",
        "               'train_acc': [],\n",
        "               'test_loss': [],\n",
        "               'test_acc': []}\n",
        "\n",
        "    # setup loss function and optimizer\n",
        "    criterion = nn.BCEWithLogitsLoss()\n",
        "    optimizer = torch.optim.RMSprop(model.parameters(), lr=lr)\n",
        "\n",
        "    # training loop\n",
        "    print('Training Start')\n",
        "    for epoch in range(epochs):\n",
        "        model.train()\n",
        "        train_loss = 0\n",
        "        train_acc = 0\n",
        "        test_loss = 0\n",
        "        test_acc = 0\n",
        "        for x, y in train_loader:\n",
        "            # move data to device\n",
        "            x = x.to(device)\n",
        "            y = y.to(device)\n",
        "            # forward\n",
        "            outputs = model(x).view(-1) # (num_batch, 1) -> (num_batch,)\n",
        "            pred = torch.round(torch.sigmoid(outputs))\n",
        "            cur_train_loss = criterion(outputs, y)\n",
        "            cur_train_acc = (pred == y).float().mean().item()\n",
        "            # backward\n",
        "            cur_train_loss.backward()\n",
        "            optimizer.step()\n",
        "            optimizer.zero_grad()\n",
        "            # loss and acc\n",
        "            train_loss += cur_train_loss\n",
        "            train_acc += cur_train_acc\n",
        "\n",
        "        # test start\n",
        "        model.eval()\n",
        "        with torch.no_grad():\n",
        "            for x, y in test_loader:\n",
        "                # move\n",
        "                x = x.to(device)\n",
        "                y = y.to(device)\n",
        "                # predict\n",
        "                outputs = model(x).view(-1)\n",
        "                pred = torch.round(torch.sigmoid(outputs))\n",
        "                cur_test_loss = criterion(outputs, y)\n",
        "                cur_test_acc = (pred == y).float().mean().item() \n",
        "                # loss and acc\n",
        "                test_loss += cur_test_loss\n",
        "                test_acc += cur_test_acc\n",
        "\n",
        "        # epoch output\n",
        "        train_loss = (train_loss/len(train_loader)).item()\n",
        "        train_acc = train_acc/len(train_loader)\n",
        "        val_loss = (test_loss/len(test_loader)).item()\n",
        "        val_acc = test_acc/len(test_loader)\n",
        "        history['train_loss'].append(train_loss)\n",
        "        history['train_acc'].append(train_acc)\n",
        "        history['test_loss'].append(val_loss)\n",
        "        history['test_acc'].append(val_acc)\n",
        "        print(f\"Epoch:{epoch + 1} / {epochs}, train loss:{train_loss:.3f} train_acc:{train_acc:.3f}, validation loss:{val_loss:.3f} validation acc:{val_acc:.3f}\")\n",
        "    \n",
        "    return history"
      ]
    },
    {
      "cell_type": "markdown",
      "metadata": {
        "id": "8pVk9MTqCshk"
      },
      "source": [
        "**BCEWithLogistsLoss()**:  \n",
        "This loss function is just a combination of sigmoid layer and binary cross entropy layer. The combination enable the function to achieve a higher numerical stability(See: [this](https://gregorygundersen.com/blog/2020/02/09/log-sum-exp/)). When we use it, we don't need to add a sigmoid layer in our model."
      ]
    },
    {
      "cell_type": "markdown",
      "metadata": {
        "id": "XLu8SSTjFVHw"
      },
      "source": [
        "A short example:"
      ]
    },
    {
      "cell_type": "code",
      "execution_count": 15,
      "metadata": {
        "colab": {
          "base_uri": "https://localhost:8080/"
        },
        "id": "K-l6tB5fD0M5",
        "outputId": "546d46cf-eaa5-48f2-a5fd-4ef80dce5d12"
      },
      "outputs": [
        {
          "name": "stdout",
          "output_type": "stream",
          "text": [
            "tensor([[1.],\n",
            "        [1.],\n",
            "        [1.],\n",
            "        [1.],\n",
            "        [1.]])\n",
            "tensor([[1.5000],\n",
            "        [1.5000],\n",
            "        [1.5000],\n",
            "        [1.5000],\n",
            "        [1.5000]])\n"
          ]
        }
      ],
      "source": [
        "target = torch.ones([64, 1], dtype=torch.float32) \n",
        "output = torch.full([64, 1], 1.5)\n",
        "\n",
        "print(target[:5])\n",
        "print(output[:5])"
      ]
    },
    {
      "cell_type": "code",
      "execution_count": 16,
      "metadata": {
        "colab": {
          "base_uri": "https://localhost:8080/"
        },
        "id": "Viju_CvyFbB7",
        "outputId": "7ecc679e-69f4-4b07-ee02-6318dd5ad536"
      },
      "outputs": [
        {
          "name": "stdout",
          "output_type": "stream",
          "text": [
            "tensor(0.2014)\n"
          ]
        }
      ],
      "source": [
        "# apply\n",
        "criterion = nn.BCEWithLogitsLoss()  # defeault reduction is mean\n",
        "print(criterion(output, target))"
      ]
    },
    {
      "cell_type": "markdown",
      "metadata": {
        "id": "qObN5o27F9je"
      },
      "source": [
        "It equals to sigmoid layer following Binary Cross Entropy:"
      ]
    },
    {
      "cell_type": "code",
      "execution_count": 17,
      "metadata": {
        "colab": {
          "base_uri": "https://localhost:8080/"
        },
        "id": "Ypr4jTdNEJJr",
        "outputId": "6d0d78dd-47c8-4d7c-a3c7-26d078faa418"
      },
      "outputs": [
        {
          "name": "stdout",
          "output_type": "stream",
          "text": [
            "tensor(0.2014)\n"
          ]
        }
      ],
      "source": [
        "sigmoid_func = nn.Sigmoid()\n",
        "BCE_func = nn.BCELoss()\n",
        "print(BCE_func(sigmoid_func(output), target))"
      ]
    },
    {
      "cell_type": "markdown",
      "metadata": {
        "id": "3l4IrPDDwqxK"
      },
      "source": [
        "Train model:"
      ]
    },
    {
      "cell_type": "code",
      "execution_count": 57,
      "metadata": {
        "colab": {
          "base_uri": "https://localhost:8080/"
        },
        "id": "FG1UkmpnwqPj",
        "outputId": "3d271113-84fc-43ee-db5f-f5aa25506d53"
      },
      "outputs": [
        {
          "name": "stdout",
          "output_type": "stream",
          "text": [
            "Training Start\n",
            "Epoch:1 / 20, train loss:0.519 train_acc:0.834, validation loss:0.399 validation acc:0.873\n",
            "Epoch:2 / 20, train loss:0.312 train_acc:0.894, validation loss:0.302 validation acc:0.886\n",
            "Epoch:3 / 20, train loss:0.237 train_acc:0.915, validation loss:0.277 validation acc:0.892\n",
            "Epoch:4 / 20, train loss:0.201 train_acc:0.928, validation loss:0.274 validation acc:0.892\n",
            "Epoch:5 / 20, train loss:0.178 train_acc:0.937, validation loss:0.278 validation acc:0.891\n",
            "Epoch:6 / 20, train loss:0.161 train_acc:0.945, validation loss:0.286 validation acc:0.888\n",
            "Epoch:7 / 20, train loss:0.146 train_acc:0.950, validation loss:0.298 validation acc:0.885\n",
            "Epoch:8 / 20, train loss:0.134 train_acc:0.955, validation loss:0.312 validation acc:0.881\n",
            "Epoch:9 / 20, train loss:0.124 train_acc:0.959, validation loss:0.328 validation acc:0.879\n",
            "Epoch:10 / 20, train loss:0.115 train_acc:0.963, validation loss:0.345 validation acc:0.876\n",
            "Epoch:11 / 20, train loss:0.106 train_acc:0.966, validation loss:0.363 validation acc:0.874\n",
            "Epoch:12 / 20, train loss:0.099 train_acc:0.969, validation loss:0.382 validation acc:0.871\n",
            "Epoch:13 / 20, train loss:0.092 train_acc:0.971, validation loss:0.403 validation acc:0.869\n",
            "Epoch:14 / 20, train loss:0.086 train_acc:0.974, validation loss:0.424 validation acc:0.867\n",
            "Epoch:15 / 20, train loss:0.080 train_acc:0.976, validation loss:0.446 validation acc:0.866\n",
            "Epoch:16 / 20, train loss:0.074 train_acc:0.978, validation loss:0.470 validation acc:0.864\n",
            "Epoch:17 / 20, train loss:0.069 train_acc:0.980, validation loss:0.494 validation acc:0.862\n",
            "Epoch:18 / 20, train loss:0.063 train_acc:0.982, validation loss:0.520 validation acc:0.861\n",
            "Epoch:19 / 20, train loss:0.058 train_acc:0.984, validation loss:0.547 validation acc:0.859\n",
            "Epoch:20 / 20, train loss:0.054 train_acc:0.985, validation loss:0.575 validation acc:0.857\n"
          ]
        }
      ],
      "source": [
        "original = simple_model(16)\n",
        "original_hist = train_model(original, train_data, test_data, device)"
      ]
    },
    {
      "cell_type": "code",
      "execution_count": 58,
      "metadata": {
        "colab": {
          "base_uri": "https://localhost:8080/"
        },
        "id": "nkf4ISKSxLYq",
        "outputId": "4118ac7f-b831-4c07-fbe0-e2d267ba1b93"
      },
      "outputs": [
        {
          "name": "stdout",
          "output_type": "stream",
          "text": [
            "Training Start\n",
            "Epoch:1 / 20, train loss:0.589 train_acc:0.771, validation loss:0.520 validation acc:0.849\n",
            "Epoch:2 / 20, train loss:0.447 train_acc:0.875, validation loss:0.412 validation acc:0.872\n",
            "Epoch:3 / 20, train loss:0.349 train_acc:0.895, validation loss:0.344 validation acc:0.883\n",
            "Epoch:4 / 20, train loss:0.286 train_acc:0.907, validation loss:0.306 validation acc:0.889\n",
            "Epoch:5 / 20, train loss:0.247 train_acc:0.916, validation loss:0.286 validation acc:0.890\n",
            "Epoch:6 / 20, train loss:0.221 train_acc:0.923, validation loss:0.276 validation acc:0.892\n",
            "Epoch:7 / 20, train loss:0.202 train_acc:0.930, validation loss:0.272 validation acc:0.892\n",
            "Epoch:8 / 20, train loss:0.188 train_acc:0.935, validation loss:0.271 validation acc:0.892\n",
            "Epoch:9 / 20, train loss:0.176 train_acc:0.940, validation loss:0.273 validation acc:0.891\n",
            "Epoch:10 / 20, train loss:0.166 train_acc:0.944, validation loss:0.275 validation acc:0.890\n",
            "Epoch:11 / 20, train loss:0.157 train_acc:0.947, validation loss:0.279 validation acc:0.889\n",
            "Epoch:12 / 20, train loss:0.149 train_acc:0.950, validation loss:0.284 validation acc:0.887\n",
            "Epoch:13 / 20, train loss:0.141 train_acc:0.953, validation loss:0.290 validation acc:0.886\n",
            "Epoch:14 / 20, train loss:0.135 train_acc:0.955, validation loss:0.296 validation acc:0.884\n",
            "Epoch:15 / 20, train loss:0.129 train_acc:0.958, validation loss:0.303 validation acc:0.883\n",
            "Epoch:16 / 20, train loss:0.123 train_acc:0.959, validation loss:0.310 validation acc:0.881\n",
            "Epoch:17 / 20, train loss:0.118 train_acc:0.961, validation loss:0.318 validation acc:0.880\n",
            "Epoch:18 / 20, train loss:0.113 train_acc:0.964, validation loss:0.326 validation acc:0.879\n",
            "Epoch:19 / 20, train loss:0.108 train_acc:0.966, validation loss:0.335 validation acc:0.877\n",
            "Epoch:20 / 20, train loss:0.104 train_acc:0.967, validation loss:0.343 validation acc:0.875\n"
          ]
        }
      ],
      "source": [
        "smaller = simple_model(4)\n",
        "smaller_hist = train_model(smaller, train_data, test_data, device)"
      ]
    },
    {
      "cell_type": "markdown",
      "metadata": {
        "id": "OfbQzycAgCYb"
      },
      "source": [
        "\n",
        "Here's a comparison of the validation losses of the original network and the smaller network(remember: a lower validation loss signals a better model)."
      ]
    },
    {
      "cell_type": "code",
      "execution_count": 59,
      "metadata": {
        "colab": {
          "base_uri": "https://localhost:8080/",
          "height": 315
        },
        "id": "qZdFc3XzgCYc",
        "outputId": "c698dc24-2ffa-4c57-eb22-fc7cb926bdce"
      },
      "outputs": [
        {
          "data": {
            "image/png": "[encoded data removed]",
            "text/plain": [
              "<Figure size 432x288 with 1 Axes>"
            ]
          },
          "metadata": {
            "needs_background": "light"
          },
          "output_type": "display_data"
        }
      ],
      "source": [
        "plt.plot(range(1, 21), original_hist['test_loss'], label='Original model')\n",
        "plt.plot(range(1, 21), smaller_hist['test_loss'], label='Smaller model')\n",
        "plt.xlabel('Epochs')\n",
        "plt.ylabel('Test loss')\n",
        "plt.legend()\n",
        "plt.title(\"Test Loss\")\n",
        "plt.show()"
      ]
    },
    {
      "cell_type": "markdown",
      "metadata": {
        "id": "ViRTY-TZgCYc"
      },
      "source": [
        "\n",
        "As you can see, the smaller network starts overfitting later than the reference one (after 10 epochs rather than 4) and its performance \n",
        "degrades much more slowly once it starts overfitting.\n",
        "\n",
        "Now, for kicks, let's add to this benchmark a network that has much more capacity, far more than the problem would warrant:"
      ]
    },
    {
      "cell_type": "code",
      "execution_count": 60,
      "metadata": {
        "colab": {
          "base_uri": "https://localhost:8080/"
        },
        "id": "Mv9K9ialgCYd",
        "outputId": "27cf1882-35b9-4dff-828e-4c7fda4655a8"
      },
      "outputs": [
        {
          "name": "stdout",
          "output_type": "stream",
          "text": [
            "Training Start\n",
            "Epoch:1 / 20, train loss:0.314 train_acc:0.873, validation loss:0.283 validation acc:0.887\n",
            "Epoch:2 / 20, train loss:0.189 train_acc:0.930, validation loss:0.312 validation acc:0.878\n",
            "Epoch:3 / 20, train loss:0.132 train_acc:0.954, validation loss:0.366 validation acc:0.868\n",
            "Epoch:4 / 20, train loss:0.077 train_acc:0.975, validation loss:0.439 validation acc:0.864\n",
            "Epoch:5 / 20, train loss:0.032 train_acc:0.991, validation loss:0.593 validation acc:0.860\n",
            "Epoch:6 / 20, train loss:0.011 train_acc:0.997, validation loss:0.823 validation acc:0.862\n",
            "Epoch:7 / 20, train loss:0.004 train_acc:0.999, validation loss:0.946 validation acc:0.860\n",
            "Epoch:8 / 20, train loss:0.003 train_acc:0.999, validation loss:1.045 validation acc:0.858\n",
            "Epoch:9 / 20, train loss:0.002 train_acc:1.000, validation loss:1.162 validation acc:0.859\n",
            "Epoch:10 / 20, train loss:0.002 train_acc:1.000, validation loss:1.263 validation acc:0.860\n",
            "Epoch:11 / 20, train loss:0.000 train_acc:1.000, validation loss:1.523 validation acc:0.860\n",
            "Epoch:12 / 20, train loss:0.000 train_acc:1.000, validation loss:1.917 validation acc:0.860\n",
            "Epoch:13 / 20, train loss:0.001 train_acc:1.000, validation loss:1.888 validation acc:0.853\n",
            "Epoch:14 / 20, train loss:0.002 train_acc:0.999, validation loss:1.942 validation acc:0.846\n",
            "Epoch:15 / 20, train loss:0.003 train_acc:1.000, validation loss:1.700 validation acc:0.857\n",
            "Epoch:16 / 20, train loss:0.000 train_acc:1.000, validation loss:1.921 validation acc:0.858\n",
            "Epoch:17 / 20, train loss:0.000 train_acc:1.000, validation loss:2.175 validation acc:0.857\n",
            "Epoch:18 / 20, train loss:0.000 train_acc:1.000, validation loss:2.148 validation acc:0.859\n",
            "Epoch:19 / 20, train loss:0.000 train_acc:1.000, validation loss:2.164 validation acc:0.854\n",
            "Epoch:20 / 20, train loss:0.000 train_acc:1.000, validation loss:2.136 validation acc:0.853\n"
          ]
        }
      ],
      "source": [
        "bigger = simple_model(512)\n",
        "bigger_hist = train_model(bigger, train_data, test_data, device)"
      ]
    },
    {
      "cell_type": "markdown",
      "metadata": {
        "id": "4Jzk40btgCYd"
      },
      "source": [
        "Here's how the bigger network fares compared to the reference one."
      ]
    },
    {
      "cell_type": "code",
      "execution_count": 61,
      "metadata": {
        "colab": {
          "base_uri": "https://localhost:8080/",
          "height": 315
        },
        "id": "rVIUNsdjgCYd",
        "outputId": "b3946baf-29ef-46e5-bb29-7f5a98984347"
      },
      "outputs": [
        {
          "data": {
            "image/png": "[encoded data removed]",
            "text/plain": [
              "<Figure size 432x288 with 1 Axes>"
            ]
          },
          "metadata": {
            "needs_background": "light"
          },
          "output_type": "display_data"
        }
      ],
      "source": [
        "plt.plot(range(1, 21), original_hist['test_loss'], 'b-', label='Original model')\n",
        "plt.plot(range(1, 21), bigger_hist['test_loss'], 'r-', label='Bigger model')\n",
        "plt.xlabel('Epochs')\n",
        "plt.ylabel('Test loss')\n",
        "plt.legend()\n",
        "plt.title(\"Test Loss\")\n",
        "\n",
        "plt.show()"
      ]
    },
    {
      "cell_type": "markdown",
      "metadata": {
        "id": "ucGMV8LZgCYd"
      },
      "source": [
        "\n",
        "The bigger network starts overfitting almost right away, after just one epoch, and overfits much more severely. Its validation loss is also \n",
        "more noisy.\n",
        "\n",
        "Meanwhile, here are the training losses for our two networks:"
      ]
    },
    {
      "cell_type": "code",
      "execution_count": 62,
      "metadata": {
        "colab": {
          "base_uri": "https://localhost:8080/",
          "height": 315
        },
        "id": "j7RVqfoUgCYd",
        "outputId": "cad4408e-c060-4d2c-c037-0cefd90f1173"
      },
      "outputs": [
        {
          "data": {
            "image/png": "[encoded data removed]",
            "text/plain": [
              "<Figure size 432x288 with 1 Axes>"
            ]
          },
          "metadata": {
            "needs_background": "light"
          },
          "output_type": "display_data"
        }
      ],
      "source": [
        "plt.plot(range(1, 21), original_hist['train_loss'], 'b-', label='Original model')\n",
        "plt.plot(range(1, 21), bigger_hist['train_loss'], 'r-', label='Bigger model')\n",
        "plt.xlabel('Epochs')\n",
        "plt.ylabel('Training loss')\n",
        "plt.legend()\n",
        "plt.title(\"Training Loss\")\n",
        "\n",
        "plt.show()"
      ]
    },
    {
      "cell_type": "markdown",
      "metadata": {
        "id": "1WagQ_XZgCYe"
      },
      "source": [
        "As you can see, the bigger network gets its training loss near zero very quickly. The more capacity the network has, the quicker it will be \n",
        "able to model the training data (resulting in a low training loss), but the more susceptible it is to overfitting (resulting in a large \n",
        "difference between the training and validation loss)."
      ]
    },
    {
      "cell_type": "markdown",
      "metadata": {
        "id": "vTqs2zrPgCYe"
      },
      "source": [
        "## Adding weight regularization\n",
        "\n",
        "\n",
        "You may be familiar with _Occam's Razor_ principle: given two explanations for something, the explanation most likely to be correct is the \n",
        "\"simplest\" one, the one that makes the least amount of assumptions. This also applies to the models learned by neural networks: given some \n",
        "training data and a network architecture, there are multiple sets of weights values (multiple _models_) that could explain the data, and \n",
        "simpler models are less likely to overfit than complex ones.\n",
        "\n",
        "A \"simple model\" in this context is a model where the distribution of parameter values has less entropy (or a model with fewer \n",
        "parameters altogether, as we saw in the section above). Thus a common way to mitigate overfitting is to put constraints on the complexity \n",
        "of a network by forcing its weights to only take small values, which makes the distribution of weight values more \"regular\". This is called \n",
        "`weight regularization` or `norm regularization`, and it is done by adding to the loss function of the network a _cost_ associated with having large weights. This \n",
        "cost comes in two flavors:\n",
        "\n",
        "* L1 regularization, where the cost added is proportional to the _absolute value of the weights coefficients_ (i.e. to what is called the \n",
        "\"L1 norm\" of the weights).\n",
        "* L2 regularization, where the cost added is proportional to the _square of the value of the weights coefficients_ (i.e. to what is called \n",
        "the \"L2 norm\" of the weights). L2 regularization is also called _weight decay_ in the context of neural networks. Don't let the different \n",
        "name confuse you: weight decay is mathematically the exact same as L2 regularization."
      ]
    },
    {
      "cell_type": "markdown",
      "metadata": {
        "id": "EPLAf7S27dmm"
      },
      "source": [
        "To apply L2 regularization in Pytorch, we just need a minor modification in train function:\n",
        "\n",
        "- L2: Use `weight_decay` parameter in optimizer, i.e.,  `torch.optim.Adam(model.parameters(), lr=lr, weight_decay=0.01)`\n",
        "\n",
        "- L1: There is no torch implementation for L1 analogous to Keras. However, the implementation of L1 is very straightforward, e.g.:\n"
      ]
    },
    {
      "cell_type": "markdown",
      "metadata": {
        "id": "iXkbyd6br1U8"
      },
      "source": [
        "# Implementation of L1 Regularizer\n",
        "\n",
        "```\n",
        "loss = loss_fn(outputs, labels) # loss\n",
        "l1_lambda = 0.001 # L1 coefficient\n",
        "l1_norm = sum(p.abs().sum() for p in model.parameters())  # add up L1 norma of parameters\n",
        "\n",
        "loss = loss + l1_lambda * l1_norm  # add to the loss\n",
        "```\n"
      ]
    },
    {
      "cell_type": "code",
      "execution_count": 63,
      "metadata": {
        "id": "8CKLlF8CgCYe"
      },
      "outputs": [],
      "source": [
        "# define model\n",
        "l2_model = simple_model(16)"
      ]
    },
    {
      "cell_type": "code",
      "execution_count": 64,
      "metadata": {
        "id": "NIMoGPjigCYe"
      },
      "outputs": [],
      "source": [
        "def train_model_l2(model, train_dataset, test_dataset, device, lr=0.0001, epochs=20, batch_size=32, l2=0.01):\n",
        "    # construct dataloader\n",
        "    train_loader = DataLoader(train_dataset, batch_size=batch_size)\n",
        "    test_loader = DataLoader(test_dataset, batch_size=batch_size)\n",
        "\n",
        "    # move model to device\n",
        "    model = model.to(device)\n",
        "\n",
        "    # history\n",
        "    history = {'train_loss': [],\n",
        "               'train_acc': [],\n",
        "               'test_loss': [],\n",
        "               'test_acc': []}\n",
        "\n",
        "    # setup loss function and optimizer\n",
        "    criterion = nn.BCEWithLogitsLoss()\n",
        "    optimizer = torch.optim.Adam(model.parameters(), lr=lr, weight_decay=l2) # weight decay == l2\n",
        "\n",
        "    # training loop\n",
        "    print('Training Start')\n",
        "    for epoch in range(epochs):\n",
        "        model.train()\n",
        "        train_loss = 0\n",
        "        train_acc = 0\n",
        "        test_loss = 0\n",
        "        test_acc = 0\n",
        "        for x, y in train_loader:\n",
        "            # move data to device\n",
        "            x = x.to(device)\n",
        "            y = y.to(device)\n",
        "            # forward\n",
        "            outputs = model(x).view(-1)\n",
        "            pred = torch.round(torch.sigmoid(outputs))\n",
        "            cur_train_loss = criterion(outputs, y)\n",
        "            cur_train_acc = (pred == y).float().mean().item() \n",
        "            # backward\n",
        "            cur_train_loss.backward()\n",
        "            optimizer.step()\n",
        "            optimizer.zero_grad()\n",
        "            # loss and acc\n",
        "            train_loss += cur_train_loss\n",
        "            train_acc += cur_train_acc\n",
        "\n",
        "        # test start\n",
        "        model.eval()\n",
        "        with torch.no_grad():\n",
        "            for x, y in test_loader:\n",
        "                # move\n",
        "                x = x.to(device)\n",
        "                y = y.to(device)\n",
        "                # predict\n",
        "                outputs = model(x).view(-1)\n",
        "                pred = torch.round(torch.sigmoid(outputs))\n",
        "                cur_test_loss = criterion(outputs, y)\n",
        "                cur_test_acc = (pred == y).float().mean().item()  \n",
        "                # loss and acc\n",
        "                test_loss += cur_test_loss\n",
        "                test_acc += cur_test_acc\n",
        "\n",
        "        # epoch output\n",
        "        train_loss = (train_loss/len(train_loader)).item()\n",
        "        train_acc = train_acc/len(train_loader)\n",
        "        val_loss = (test_loss/len(test_loader)).item()\n",
        "        val_acc = test_acc/len(test_loader)\n",
        "        history['train_loss'].append(train_loss)\n",
        "        history['train_acc'].append(train_acc)\n",
        "        history['test_loss'].append(val_loss)\n",
        "        history['test_acc'].append(val_acc)\n",
        "        print(f\"Epoch:{epoch + 1} / {epochs}, train loss:{train_loss:.3f} train_acc:{train_acc:.3f}, validation loss:{val_loss:.3f} validation acc:{val_acc:.3f}\")\n",
        "    \n",
        "    return history"
      ]
    },
    {
      "cell_type": "markdown",
      "metadata": {
        "id": "Rx8OKYO2gCYe"
      },
      "source": [
        "Here's the impact of our L2 regularization penalty:"
      ]
    },
    {
      "cell_type": "code",
      "execution_count": 65,
      "metadata": {
        "colab": {
          "base_uri": "https://localhost:8080/"
        },
        "id": "FSj1CtOdgCYf",
        "outputId": "3eee2b76-e832-45a5-82a9-08573bd16ced"
      },
      "outputs": [
        {
          "name": "stdout",
          "output_type": "stream",
          "text": [
            "Training Start\n",
            "Epoch:1 / 20, train loss:0.604 train_acc:0.712, validation loss:0.469 validation acc:0.858\n",
            "Epoch:2 / 20, train loss:0.373 train_acc:0.876, validation loss:0.336 validation acc:0.877\n",
            "Epoch:3 / 20, train loss:0.292 train_acc:0.893, validation loss:0.305 validation acc:0.882\n",
            "Epoch:4 / 20, train loss:0.261 train_acc:0.904, validation loss:0.293 validation acc:0.885\n",
            "Epoch:5 / 20, train loss:0.243 train_acc:0.911, validation loss:0.289 validation acc:0.884\n",
            "Epoch:6 / 20, train loss:0.230 train_acc:0.917, validation loss:0.286 validation acc:0.885\n",
            "Epoch:7 / 20, train loss:0.220 train_acc:0.922, validation loss:0.285 validation acc:0.885\n",
            "Epoch:8 / 20, train loss:0.212 train_acc:0.926, validation loss:0.285 validation acc:0.885\n",
            "Epoch:9 / 20, train loss:0.205 train_acc:0.929, validation loss:0.286 validation acc:0.884\n",
            "Epoch:10 / 20, train loss:0.199 train_acc:0.932, validation loss:0.286 validation acc:0.883\n",
            "Epoch:11 / 20, train loss:0.193 train_acc:0.934, validation loss:0.287 validation acc:0.884\n",
            "Epoch:12 / 20, train loss:0.189 train_acc:0.936, validation loss:0.288 validation acc:0.883\n",
            "Epoch:13 / 20, train loss:0.184 train_acc:0.938, validation loss:0.289 validation acc:0.883\n",
            "Epoch:14 / 20, train loss:0.181 train_acc:0.939, validation loss:0.291 validation acc:0.882\n",
            "Epoch:15 / 20, train loss:0.177 train_acc:0.941, validation loss:0.292 validation acc:0.881\n",
            "Epoch:16 / 20, train loss:0.174 train_acc:0.942, validation loss:0.293 validation acc:0.881\n",
            "Epoch:17 / 20, train loss:0.171 train_acc:0.943, validation loss:0.295 validation acc:0.880\n",
            "Epoch:18 / 20, train loss:0.169 train_acc:0.944, validation loss:0.296 validation acc:0.879\n",
            "Epoch:19 / 20, train loss:0.166 train_acc:0.945, validation loss:0.297 validation acc:0.879\n",
            "Epoch:20 / 20, train loss:0.164 train_acc:0.946, validation loss:0.298 validation acc:0.879\n"
          ]
        }
      ],
      "source": [
        "l2_model_hist = train_model_l2(l2_model, train_data, test_data, device, l2=0.01)"
      ]
    },
    {
      "cell_type": "code",
      "execution_count": 66,
      "metadata": {
        "colab": {
          "base_uri": "https://localhost:8080/",
          "height": 315
        },
        "id": "gYJ54G_CgCYf",
        "outputId": "00c09fb8-cf7e-4260-d515-1f36dce30600"
      },
      "outputs": [
        {
          "data": {
            "image/png": "[encoded data removed]",
            "text/plain": [
              "<Figure size 432x288 with 1 Axes>"
            ]
          },
          "metadata": {
            "needs_background": "light"
          },
          "output_type": "display_data"
        }
      ],
      "source": [
        "plt.plot(range(1, 21), original_hist['test_loss'], 'b-', label='Original model')\n",
        "plt.plot(range(1, 21), l2_model_hist['test_loss'], 'g-', label='L2-regularized model')\n",
        "plt.xlabel('Epochs')\n",
        "plt.ylabel('Test loss')\n",
        "plt.legend()\n",
        "plt.title(\"Test Loss\")\n",
        "\n",
        "plt.show()"
      ]
    },
    {
      "cell_type": "markdown",
      "metadata": {
        "id": "lx-x0HRHgCYf"
      },
      "source": [
        "\n",
        "\n",
        "As you can see, the model with L2 regularization has become much more resistant to overfitting than the reference model, \n",
        "even though both models have the same number of parameters."
      ]
    },
    {
      "cell_type": "markdown",
      "metadata": {
        "id": "rtyic6MlgCYf"
      },
      "source": [
        "## Adding dropout\n",
        "\n",
        "\n",
        "Dropout is one of the most effective and most commonly used regularization techniques for neural networks, developed by Hinton and his \n",
        "students at the University of Toronto. Dropout, applied to a layer, consists of randomly \"dropping out\" (i.e. setting to zero) a number of \n",
        "output features of the layer during training. Let's say a given layer would normally have returned a vector `[0.2, 0.5, 1.3, 0.8, 1.1]` for a \n",
        "given input sample during training; after applying dropout, this vector will have a few zero entries distributed at random, e.g. `[0, 0.5, \n",
        "1.3, 0, 1.1]`. The \"dropout rate\" is the fraction of the features that are being zeroed-out; it is usually set between 0.2 and 0.5. At test \n",
        "time, no units are dropped out, and instead the layer's output values are scaled down by a factor equal to the dropout rate, so as to \n",
        "balance for the fact that more units are active than at training time."
      ]
    },
    {
      "cell_type": "markdown",
      "metadata": {
        "id": "pe1LTgN0gCYh"
      },
      "source": [
        "\n",
        "This technique may seem strange and arbitrary. Why would this help reduce overfitting? Geoff Hinton has said that he was inspired, among \n",
        "other things, by a fraud prevention mechanism used by banks -- in his own words: _\"I went to my bank. The tellers kept changing and I asked \n",
        "one of them why. He said he didn’t know but they got moved around a lot. I figured it must be because it would require cooperation \n",
        "between employees to successfully defraud the bank. This made me realize that randomly removing a different subset of neurons on each \n",
        "example would prevent conspiracies and thus reduce overfitting\"_.\n",
        "\n",
        "The core idea is that introducing noise in the output values of a layer can break up happenstance patterns that are not significant (what \n",
        "Hinton refers to as \"conspiracies\"), which the network would start memorizing if no noise was present. "
      ]
    },
    {
      "cell_type": "markdown",
      "metadata": {
        "id": "xJuQa8drgCYh"
      },
      "source": [
        "Let's add two `Dropout` layers in our IMDB network to see how well they do at reducing overfitting:"
      ]
    },
    {
      "cell_type": "code",
      "execution_count": 67,
      "metadata": {
        "id": "NbLkqCxHgCYh"
      },
      "outputs": [],
      "source": [
        "# simple_model\n",
        "class dropout_model(nn.Module):\n",
        "    def __init__(self, hidden_units, dropout_ratio = 0.5):\n",
        "        # initialize parent class\n",
        "        super(dropout_model, self).__init__()\n",
        "        # define layers\n",
        "        self.classifier = nn.Sequential(  # define a subcomponent of neural network or another to define model\n",
        "            nn.Linear(in_features=10000, out_features=hidden_units),\n",
        "            nn.ReLU(),\n",
        "            nn.Dropout(dropout_ratio),\n",
        "            nn.Linear(in_features=hidden_units, out_features=hidden_units),\n",
        "            nn.ReLU(),\n",
        "            nn.Dropout(dropout_ratio),\n",
        "            nn.Linear(in_features=hidden_units, out_features=1)\n",
        "        )\n",
        "    \n",
        "    def forward(self, x):\n",
        "        return self.classifier(x)"
      ]
    },
    {
      "cell_type": "code",
      "execution_count": null,
      "metadata": {
        "colab": {
          "base_uri": "https://localhost:8080/"
        },
        "id": "m2IlsNnXs1UW",
        "outputId": "2e3dacd0-6ea5-40e9-e8b1-68e7b07543f6"
      },
      "outputs": [
        {
          "data": {
            "text/plain": [
              "==========================================================================================\n",
              "Layer (type:depth-idx)                   Output Shape              Param #\n",
              "==========================================================================================\n",
              "dropout_model                            --                        --\n",
              "├─Sequential: 1-1                        [10, 1]                   --\n",
              "│    └─Linear: 2-1                       [10, 16]                  160,016\n",
              "│    └─ReLU: 2-2                         [10, 16]                  --\n",
              "│    └─Dropout: 2-3                      [10, 16]                  --\n",
              "│    └─Linear: 2-4                       [10, 16]                  272\n",
              "│    └─ReLU: 2-5                         [10, 16]                  --\n",
              "│    └─Dropout: 2-6                      [10, 16]                  --\n",
              "│    └─Linear: 2-7                       [10, 1]                   17\n",
              "==========================================================================================\n",
              "Total params: 160,305\n",
              "Trainable params: 160,305\n",
              "Non-trainable params: 0\n",
              "Total mult-adds (M): 1.60\n",
              "==========================================================================================\n",
              "Input size (MB): 0.40\n",
              "Forward/backward pass size (MB): 0.00\n",
              "Params size (MB): 0.64\n",
              "Estimated Total Size (MB): 1.04\n",
              "=========================================================================================="
            ]
          },
          "execution_count": 26,
          "metadata": {},
          "output_type": "execute_result"
        }
      ],
      "source": [
        "model_visual = dropout_model(16)\n",
        "summary(model_visual, (10, 10_000))"
      ]
    },
    {
      "cell_type": "code",
      "execution_count": 34,
      "metadata": {
        "colab": {
          "base_uri": "https://localhost:8080/"
        },
        "id": "ooNxfKjBAamw",
        "outputId": "9b8364dd-63ce-477f-c5f8-c50fc534d4e6"
      },
      "outputs": [
        {
          "name": "stdout",
          "output_type": "stream",
          "text": [
            "Training Start\n",
            "Epoch:1 / 20, train loss:0.525 train_acc:0.841, validation loss:0.40033 validation acc:0.873\n",
            "Epoch:2 / 20, train loss:0.312 train_acc:0.897, validation loss:0.30014 validation acc:0.888\n",
            "Epoch:3 / 20, train loss:0.237 train_acc:0.915, validation loss:0.27590 validation acc:0.891\n",
            "Epoch:4 / 20, train loss:0.203 train_acc:0.928, validation loss:0.27171 validation acc:0.892\n",
            "Epoch:5 / 20, train loss:0.180 train_acc:0.937, validation loss:0.27548 validation acc:0.892\n",
            "Epoch:6 / 20, train loss:0.162 train_acc:0.943, validation loss:0.28336 validation acc:0.889\n",
            "Epoch:7 / 20, train loss:0.148 train_acc:0.949, validation loss:0.29406 validation acc:0.886\n",
            "Epoch:8 / 20, train loss:0.136 train_acc:0.955, validation loss:0.30681 validation acc:0.883\n",
            "Epoch:9 / 20, train loss:0.125 train_acc:0.958, validation loss:0.32133 validation acc:0.880\n",
            "Epoch:10 / 20, train loss:0.116 train_acc:0.962, validation loss:0.33719 validation acc:0.877\n",
            "Epoch:11 / 20, train loss:0.107 train_acc:0.966, validation loss:0.35433 validation acc:0.875\n",
            "Epoch:12 / 20, train loss:0.099 train_acc:0.969, validation loss:0.37243 validation acc:0.872\n",
            "Epoch:13 / 20, train loss:0.092 train_acc:0.972, validation loss:0.39139 validation acc:0.870\n",
            "Epoch:14 / 20, train loss:0.085 train_acc:0.975, validation loss:0.41131 validation acc:0.868\n",
            "Epoch:15 / 20, train loss:0.079 train_acc:0.977, validation loss:0.43181 validation acc:0.866\n",
            "Epoch:16 / 20, train loss:0.073 train_acc:0.979, validation loss:0.45348 validation acc:0.864\n",
            "Epoch:17 / 20, train loss:0.067 train_acc:0.981, validation loss:0.47591 validation acc:0.862\n",
            "Epoch:18 / 20, train loss:0.061 train_acc:0.982, validation loss:0.49970 validation acc:0.860\n",
            "Epoch:19 / 20, train loss:0.056 train_acc:0.984, validation loss:0.52471 validation acc:0.858\n",
            "Epoch:20 / 20, train loss:0.051 train_acc:0.986, validation loss:0.55083 validation acc:0.857\n"
          ]
        }
      ],
      "source": [
        "original2 = simple_model(16)\n",
        "original2_hist = train_model(original2, train_data, test_data, device)"
      ]
    },
    {
      "cell_type": "code",
      "execution_count": 68,
      "metadata": {
        "colab": {
          "base_uri": "https://localhost:8080/"
        },
        "id": "rO7sPiWRgCYh",
        "outputId": "ed6b54e0-7cc9-4f90-ed60-dc17f3613061"
      },
      "outputs": [
        {
          "name": "stdout",
          "output_type": "stream",
          "text": [
            "Training Start\n",
            "Epoch:1 / 20, train loss:0.651 train_acc:0.663, validation loss:0.583 validation acc:0.845\n",
            "Epoch:2 / 20, train loss:0.541 train_acc:0.791, validation loss:0.452 validation acc:0.870\n",
            "Epoch:3 / 20, train loss:0.443 train_acc:0.844, validation loss:0.372 validation acc:0.881\n",
            "Epoch:4 / 20, train loss:0.374 train_acc:0.873, validation loss:0.323 validation acc:0.887\n",
            "Epoch:5 / 20, train loss:0.331 train_acc:0.890, validation loss:0.297 validation acc:0.890\n",
            "Epoch:6 / 20, train loss:0.299 train_acc:0.903, validation loss:0.287 validation acc:0.891\n",
            "Epoch:7 / 20, train loss:0.275 train_acc:0.910, validation loss:0.280 validation acc:0.891\n",
            "Epoch:8 / 20, train loss:0.252 train_acc:0.918, validation loss:0.283 validation acc:0.890\n",
            "Epoch:9 / 20, train loss:0.236 train_acc:0.924, validation loss:0.284 validation acc:0.890\n",
            "Epoch:10 / 20, train loss:0.223 train_acc:0.930, validation loss:0.292 validation acc:0.890\n",
            "Epoch:11 / 20, train loss:0.210 train_acc:0.933, validation loss:0.298 validation acc:0.887\n",
            "Epoch:12 / 20, train loss:0.202 train_acc:0.938, validation loss:0.308 validation acc:0.887\n",
            "Epoch:13 / 20, train loss:0.193 train_acc:0.940, validation loss:0.316 validation acc:0.886\n",
            "Epoch:14 / 20, train loss:0.184 train_acc:0.943, validation loss:0.325 validation acc:0.885\n",
            "Epoch:15 / 20, train loss:0.174 train_acc:0.944, validation loss:0.336 validation acc:0.884\n",
            "Epoch:16 / 20, train loss:0.168 train_acc:0.949, validation loss:0.346 validation acc:0.884\n",
            "Epoch:17 / 20, train loss:0.163 train_acc:0.950, validation loss:0.360 validation acc:0.883\n",
            "Epoch:18 / 20, train loss:0.155 train_acc:0.952, validation loss:0.367 validation acc:0.883\n",
            "Epoch:19 / 20, train loss:0.148 train_acc:0.956, validation loss:0.383 validation acc:0.881\n",
            "Epoch:20 / 20, train loss:0.146 train_acc:0.955, validation loss:0.390 validation acc:0.880\n"
          ]
        }
      ],
      "source": [
        "dropout = dropout_model(16, 0.5)\n",
        "dropout_hist = train_model(dropout, train_data, test_data, device)"
      ]
    },
    {
      "cell_type": "markdown",
      "metadata": {
        "id": "POopiIqsgCYh"
      },
      "source": [
        "Let's plot the results:"
      ]
    },
    {
      "cell_type": "code",
      "execution_count": 69,
      "metadata": {
        "colab": {
          "base_uri": "https://localhost:8080/",
          "height": 299
        },
        "id": "CjMbIXy9gCYi",
        "outputId": "f336ec83-dc97-4494-8883-960a47d6092d"
      },
      "outputs": [
        {
          "data": {
            "image/png": "[encoded data removed]",
            "text/plain": [
              "<Figure size 432x288 with 1 Axes>"
            ]
          },
          "metadata": {
            "needs_background": "light"
          },
          "output_type": "display_data"
        }
      ],
      "source": [
        "plt.plot(range(1, 21), original2_hist['test_loss'], 'b-', label='Original model')\n",
        "plt.plot(range(1, 21), dropout_hist['test_loss'], 'g-', label='Dropout-regularized model')\n",
        "plt.xlabel('Epochs')\n",
        "plt.ylabel('Test loss')\n",
        "plt.legend()\n",
        "\n",
        "plt.show()"
      ]
    },
    {
      "cell_type": "markdown",
      "metadata": {
        "id": "wf3kgN6OgCYi"
      },
      "source": [
        "## Batch Normalization"
      ]
    },
    {
      "cell_type": "code",
      "execution_count": 70,
      "metadata": {
        "id": "w_7FalDLgCYi"
      },
      "outputs": [],
      "source": [
        "# simple_model\n",
        "class batchnorm_model(nn.Module):\n",
        "    def __init__(self, hidden_units, dropout_ratio = 0.5):\n",
        "        # initialize parent class\n",
        "        super(batchnorm_model, self).__init__()\n",
        "        # define layers\n",
        "        self.classifier = nn.Sequential(  # define a subcomponent of neural network or another to define model\n",
        "            # nn.Dropout(dropout_ratio),\n",
        "            nn.Linear(in_features=10000, out_features=hidden_units),\n",
        "            nn.ReLU(),\n",
        "            nn.BatchNorm1d(hidden_units),\n",
        "                    \n",
        "            nn.Linear(in_features=hidden_units, out_features=hidden_units),            \n",
        "            nn.ReLU(),\n",
        "            nn.BatchNorm1d(hidden_units),\n",
        "\n",
        "            nn.Dropout(dropout_ratio),\n",
        "            \n",
        "            nn.Linear(in_features=hidden_units, out_features=1)\n",
        "        )\n",
        "    \n",
        "    def forward(self, x):\n",
        "        return self.classifier(x)"
      ]
    },
    {
      "cell_type": "code",
      "execution_count": 71,
      "metadata": {
        "colab": {
          "base_uri": "https://localhost:8080/"
        },
        "id": "O5BnlI8ftXAH",
        "outputId": "70bd079e-063e-472e-ff20-11cddb1e2937"
      },
      "outputs": [
        {
          "data": {
            "text/plain": [
              "==========================================================================================\n",
              "Layer (type:depth-idx)                   Output Shape              Param #\n",
              "==========================================================================================\n",
              "batchnorm_model                          --                        --\n",
              "├─Sequential: 1-1                        [10, 1]                   --\n",
              "│    └─Linear: 2-1                       [10, 16]                  160,016\n",
              "│    └─ReLU: 2-2                         [10, 16]                  --\n",
              "│    └─BatchNorm1d: 2-3                  [10, 16]                  32\n",
              "│    └─Linear: 2-4                       [10, 16]                  272\n",
              "│    └─ReLU: 2-5                         [10, 16]                  --\n",
              "│    └─BatchNorm1d: 2-6                  [10, 16]                  32\n",
              "│    └─Dropout: 2-7                      [10, 16]                  --\n",
              "│    └─Linear: 2-8                       [10, 1]                   17\n",
              "==========================================================================================\n",
              "Total params: 160,369\n",
              "Trainable params: 160,369\n",
              "Non-trainable params: 0\n",
              "Total mult-adds (M): 1.60\n",
              "==========================================================================================\n",
              "Input size (MB): 0.40\n",
              "Forward/backward pass size (MB): 0.01\n",
              "Params size (MB): 0.64\n",
              "Estimated Total Size (MB): 1.05\n",
              "=========================================================================================="
            ]
          },
          "execution_count": 71,
          "metadata": {},
          "output_type": "execute_result"
        }
      ],
      "source": [
        "model_visual = batchnorm_model(16, dropout_ratio = 0.5)\n",
        "summary(model_visual, (10, 10_000))"
      ]
    },
    {
      "cell_type": "code",
      "execution_count": 72,
      "metadata": {
        "colab": {
          "base_uri": "https://localhost:8080/"
        },
        "id": "9UGE0GGD_G-s",
        "outputId": "0a4c6724-5743-499a-fd5f-3f099666c370"
      },
      "outputs": [
        {
          "name": "stdout",
          "output_type": "stream",
          "text": [
            "Training Start\n",
            "Epoch:1 / 20, train loss:0.465 train_acc:0.786, validation loss:0.342 validation acc:0.870\n",
            "Epoch:2 / 20, train loss:0.296 train_acc:0.889, validation loss:0.299 validation acc:0.880\n",
            "Epoch:3 / 20, train loss:0.221 train_acc:0.924, validation loss:0.304 validation acc:0.873\n",
            "Epoch:4 / 20, train loss:0.164 train_acc:0.948, validation loss:0.328 validation acc:0.866\n",
            "Epoch:5 / 20, train loss:0.123 train_acc:0.965, validation loss:0.360 validation acc:0.860\n",
            "Epoch:6 / 20, train loss:0.089 train_acc:0.976, validation loss:0.404 validation acc:0.854\n",
            "Epoch:7 / 20, train loss:0.065 train_acc:0.985, validation loss:0.451 validation acc:0.848\n",
            "Epoch:8 / 20, train loss:0.051 train_acc:0.988, validation loss:0.488 validation acc:0.848\n",
            "Epoch:9 / 20, train loss:0.038 train_acc:0.991, validation loss:0.542 validation acc:0.846\n",
            "Epoch:10 / 20, train loss:0.032 train_acc:0.992, validation loss:0.598 validation acc:0.843\n",
            "Epoch:11 / 20, train loss:0.025 train_acc:0.994, validation loss:0.637 validation acc:0.843\n",
            "Epoch:12 / 20, train loss:0.025 train_acc:0.994, validation loss:0.663 validation acc:0.843\n",
            "Epoch:13 / 20, train loss:0.022 train_acc:0.994, validation loss:0.704 validation acc:0.839\n",
            "Epoch:14 / 20, train loss:0.018 train_acc:0.995, validation loss:0.734 validation acc:0.840\n",
            "Epoch:15 / 20, train loss:0.017 train_acc:0.996, validation loss:0.786 validation acc:0.841\n",
            "Epoch:16 / 20, train loss:0.014 train_acc:0.996, validation loss:0.810 validation acc:0.839\n",
            "Epoch:17 / 20, train loss:0.015 train_acc:0.996, validation loss:0.848 validation acc:0.838\n",
            "Epoch:18 / 20, train loss:0.013 train_acc:0.997, validation loss:0.879 validation acc:0.835\n",
            "Epoch:19 / 20, train loss:0.011 train_acc:0.997, validation loss:0.907 validation acc:0.837\n",
            "Epoch:20 / 20, train loss:0.011 train_acc:0.997, validation loss:0.950 validation acc:0.836\n"
          ]
        }
      ],
      "source": [
        "batch = batchnorm_model(16, dropout_ratio = 0.5)\n",
        "batch_hist = train_model(batch, train_data, test_data, device)"
      ]
    },
    {
      "cell_type": "code",
      "execution_count": 73,
      "metadata": {
        "colab": {
          "base_uri": "https://localhost:8080/",
          "height": 299
        },
        "id": "l1R19F2OgCYi",
        "outputId": "42f82553-03c8-4846-a63b-5ee4f864b695"
      },
      "outputs": [
        {
          "data": {
            "image/png": "[encoded data removed]",
            "text/plain": [
              "<Figure size 432x288 with 1 Axes>"
            ]
          },
          "metadata": {
            "needs_background": "light"
          },
          "output_type": "display_data"
        }
      ],
      "source": [
        "plt.plot(range(1, 21), original2_hist['test_loss'], 'b-', label='Original model')\n",
        "plt.plot(range(1, 21), batch_hist['test_loss'], 'g-', label='BN model')\n",
        "plt.xlabel('Epochs')\n",
        "plt.ylabel('Test loss')\n",
        "plt.legend()\n",
        "\n",
        "plt.show()"
      ]
    },
    {
      "cell_type": "markdown",
      "metadata": {
        "id": "DitzJTCugCYi"
      },
      "source": [
        "The effect of batch normalization is not very significant in this case. However, it is considered as a useful technique used in training very deep neural network."
      ]
    },
    {
      "cell_type": "markdown",
      "metadata": {
        "id": "BGWLDm_SgCYj"
      },
      "source": [
        "To recap: here the most common ways to prevent overfitting in neural networks:\n",
        "\n",
        "* Getting more training data.\n",
        "* Reducing the capacity of the network.\n",
        "* Adding weight regularization.\n",
        "* Adding dropout."
      ]
    }
  ],
  "metadata": {
    "accelerator": "GPU",
    "colab": {
      "collapsed_sections": [],
      "name": "Overfitting_Underfitting.ipynb",
      "provenance": [],
      "toc_visible": true
    },
    "kernelspec": {
      "display_name": "Python 3",
      "name": "python3"
    },
    "language_info": {
      "name": "python"
    }
  },
  "nbformat": 4,
  "nbformat_minor": 0
}
