{
 "cells": [
  {
   "cell_type": "markdown",
   "metadata": {
    "id": "xA9CaSjtisMM"
   },
   "source": [
    "# Colab & PyTorch Introduction"
   ]
  },
  {
   "cell_type": "markdown",
   "metadata": {
    "id": "zMp2wwOWi05n"
   },
   "source": [
    "## Benefits of using Colab"
   ]
  },
  {
   "cell_type": "markdown",
   "metadata": {
    "id": "yau2752ojZrb"
   },
   "source": [
    "### 1. Zero configuration & pre-installed environment"
   ]
  },
  {
   "cell_type": "markdown",
   "metadata": {
    "id": "UaauwaRC-n4A"
   },
   "source": [
    "Include some commonly used packages in Python:"
   ]
  },
  {
   "cell_type": "code",
   "execution_count": 13,
   "metadata": {
    "executionInfo": {
     "elapsed": 2,
     "status": "ok",
     "timestamp": 1645634861226,
     "user": {
      "displayName": "Rong Liu",
      "photoUrl": "https://lh3.googleusercontent.com/a/default-user=s64",
      "userId": "15250589813520096948"
     },
     "user_tz": 300
    },
    "id": "Du5L9AjXhFi-"
   },
   "outputs": [],
   "source": [
    "import numpy as np\n",
    "import pandas\n",
    "import sklearn\n",
    "import matplotlib.pyplot as plt"
   ]
  },
  {
   "cell_type": "markdown",
   "metadata": {
    "id": "eNG-Kx-q-1jP"
   },
   "source": [
    "Also, the common deep learning framework:"
   ]
  },
  {
   "cell_type": "code",
   "execution_count": 2,
   "metadata": {
    "executionInfo": {
     "elapsed": 2682,
     "status": "ok",
     "timestamp": 1645634727527,
     "user": {
      "displayName": "Rong Liu",
      "photoUrl": "https://lh3.googleusercontent.com/a/default-user=s64",
      "userId": "15250589813520096948"
     },
     "user_tz": 300
    },
    "id": "8HCh6fP_kxqW"
   },
   "outputs": [],
   "source": [
    "import keras\n",
    "import torch"
   ]
  },
  {
   "cell_type": "markdown",
   "metadata": {
    "id": "2-tF6c6UlQtb"
   },
   "source": [
    "### 2. Free access to GPU"
   ]
  },
  {
   "cell_type": "code",
   "execution_count": 3,
   "metadata": {
    "colab": {
     "base_uri": "https://localhost:8080/"
    },
    "executionInfo": {
     "elapsed": 251,
     "status": "ok",
     "timestamp": 1645634727775,
     "user": {
      "displayName": "Rong Liu",
      "photoUrl": "https://lh3.googleusercontent.com/a/default-user=s64",
      "userId": "15250589813520096948"
     },
     "user_tz": 300
    },
    "id": "aVfC8v_3zbuX",
    "outputId": "7d38d7e6-b5de-4d5d-d73c-7328bc503a68"
   },
   "outputs": [
    {
     "name": "stdout",
     "output_type": "stream",
     "text": [
      "Wed Feb 23 16:45:27 2022       \n",
      "+-----------------------------------------------------------------------------+\n",
      "| NVIDIA-SMI 460.32.03    Driver Version: 460.32.03    CUDA Version: 11.2     |\n",
      "|-------------------------------+----------------------+----------------------+\n",
      "| GPU  Name        Persistence-M| Bus-Id        Disp.A | Volatile Uncorr. ECC |\n",
      "| Fan  Temp  Perf  Pwr:Usage/Cap|         Memory-Usage | GPU-Util  Compute M. |\n",
      "|                               |                      |               MIG M. |\n",
      "|===============================+======================+======================|\n",
      "|   0  Tesla P100-PCIE...  Off  | 00000000:00:04.0 Off |                    0 |\n",
      "| N/A   37C    P0    26W / 250W |      0MiB / 16280MiB |      0%      Default |\n",
      "|                               |                      |                  N/A |\n",
      "+-------------------------------+----------------------+----------------------+\n",
      "                                                                               \n",
      "+-----------------------------------------------------------------------------+\n",
      "| Processes:                                                                  |\n",
      "|  GPU   GI   CI        PID   Type   Process name                  GPU Memory |\n",
      "|        ID   ID                                                   Usage      |\n",
      "|=============================================================================|\n",
      "|  No running processes found                                                 |\n",
      "+-----------------------------------------------------------------------------+\n"
     ]
    }
   ],
   "source": [
    "gpu_info = !nvidia-smi\n",
    "gpu_info = '\\n'.join(gpu_info)\n",
    "print(gpu_info)"
   ]
  },
  {
   "cell_type": "code",
   "execution_count": 4,
   "metadata": {
    "colab": {
     "base_uri": "https://localhost:8080/"
    },
    "executionInfo": {
     "elapsed": 129,
     "status": "ok",
     "timestamp": 1645634731398,
     "user": {
      "displayName": "Rong Liu",
      "photoUrl": "https://lh3.googleusercontent.com/a/default-user=s64",
      "userId": "15250589813520096948"
     },
     "user_tz": 300
    },
    "id": "0JzNQ9QzlJYp",
    "outputId": "558a5df9-8321-4be2-f37d-f86a25c15a9b"
   },
   "outputs": [
    {
     "name": "stdout",
     "output_type": "stream",
     "text": [
      "True\n"
     ]
    }
   ],
   "source": [
    "import torch\n",
    "print(torch.cuda.is_available())"
   ]
  },
  {
   "cell_type": "markdown",
   "metadata": {
    "id": "1y7zdUrN86EU"
   },
   "source": [
    "The \"cuda\" stands for the **[Compute Unified Device](https://blogs.nvidia.com/blog/2012/09/10/what-is-cuda-2/) Architecture**, which is a parallel computing platform and programming model developed by Nvidia that makes using a GPU for general purpose computing. "
   ]
  },
  {
   "cell_type": "markdown",
   "metadata": {
    "id": "rc7usJKk971x"
   },
   "source": [
    "In Pytorch, if the \n",
    "\n",
    "```\n",
    "torch.cuda.is_available()\n",
    "```\n",
    "\n",
    "is **True**, then the Pytorch successfully connected to GPU, and we can use GPU to compute and train our models.\n"
   ]
  },
  {
   "cell_type": "markdown",
   "metadata": {
    "id": "L3jVRHZom3o2"
   },
   "source": [
    "### 3. Easy sharing"
   ]
  },
  {
   "cell_type": "markdown",
   "metadata": {
    "id": "IF0ldYeODfz2"
   },
   "source": [
    "## Colab Tips:"
   ]
  },
  {
   "cell_type": "markdown",
   "metadata": {
    "id": "XO8wTmhrDss4"
   },
   "source": [
    "### 1. Install packages or run commands"
   ]
  },
  {
   "cell_type": "markdown",
   "metadata": {
    "id": "URC9fKsnEBhq"
   },
   "source": [
    "Easy to use NLP transformers models:\n",
    "Transformers: https://huggingface.co/transformers/"
   ]
  },
  {
   "cell_type": "code",
   "execution_count": null,
   "metadata": {
    "colab": {
     "base_uri": "https://localhost:8080/"
    },
    "executionInfo": {
     "elapsed": 7565,
     "status": "ok",
     "timestamp": 1631148171717,
     "user": {
      "displayName": "HaoHang Li",
      "photoUrl": "",
      "userId": "15486655135763708727"
     },
     "user_tz": 240
    },
    "id": "U4pduspnDkjT",
    "outputId": "740e4eeb-337a-4dd4-96e7-c4a131580ae4"
   },
   "outputs": [
    {
     "name": "stdout",
     "output_type": "stream",
     "text": [
      "Collecting transformers\n",
      "  Downloading transformers-4.10.0-py3-none-any.whl (2.8 MB)\n",
      "\u001b[K     |████████████████████████████████| 2.8 MB 4.3 MB/s \n",
      "\u001b[?25hCollecting sacremoses\n",
      "  Downloading sacremoses-0.0.45-py3-none-any.whl (895 kB)\n",
      "\u001b[K     |████████████████████████████████| 895 kB 71.4 MB/s \n",
      "\u001b[?25hRequirement already satisfied: tqdm>=4.27 in /usr/local/lib/python3.7/dist-packages (from transformers) (4.62.0)\n",
      "Requirement already satisfied: packaging in /usr/local/lib/python3.7/dist-packages (from transformers) (21.0)\n",
      "Requirement already satisfied: numpy>=1.17 in /usr/local/lib/python3.7/dist-packages (from transformers) (1.19.5)\n",
      "Requirement already satisfied: filelock in /usr/local/lib/python3.7/dist-packages (from transformers) (3.0.12)\n",
      "Requirement already satisfied: importlib-metadata in /usr/local/lib/python3.7/dist-packages (from transformers) (4.6.4)\n",
      "Collecting pyyaml>=5.1\n",
      "  Downloading PyYAML-5.4.1-cp37-cp37m-manylinux1_x86_64.whl (636 kB)\n",
      "\u001b[K     |████████████████████████████████| 636 kB 81.4 MB/s \n",
      "\u001b[?25hRequirement already satisfied: regex!=2019.12.17 in /usr/local/lib/python3.7/dist-packages (from transformers) (2019.12.20)\n",
      "Requirement already satisfied: requests in /usr/local/lib/python3.7/dist-packages (from transformers) (2.23.0)\n",
      "Collecting tokenizers<0.11,>=0.10.1\n",
      "  Downloading tokenizers-0.10.3-cp37-cp37m-manylinux_2_5_x86_64.manylinux1_x86_64.manylinux_2_12_x86_64.manylinux2010_x86_64.whl (3.3 MB)\n",
      "\u001b[K     |████████████████████████████████| 3.3 MB 78.1 MB/s \n",
      "\u001b[?25hCollecting huggingface-hub>=0.0.12\n",
      "  Downloading huggingface_hub-0.0.16-py3-none-any.whl (50 kB)\n",
      "\u001b[K     |████████████████████████████████| 50 kB 8.5 MB/s \n",
      "\u001b[?25hRequirement already satisfied: typing-extensions in /usr/local/lib/python3.7/dist-packages (from huggingface-hub>=0.0.12->transformers) (3.7.4.3)\n",
      "Requirement already satisfied: pyparsing>=2.0.2 in /usr/local/lib/python3.7/dist-packages (from packaging->transformers) (2.4.7)\n",
      "Requirement already satisfied: zipp>=0.5 in /usr/local/lib/python3.7/dist-packages (from importlib-metadata->transformers) (3.5.0)\n",
      "Requirement already satisfied: certifi>=2017.4.17 in /usr/local/lib/python3.7/dist-packages (from requests->transformers) (2021.5.30)\n",
      "Requirement already satisfied: idna<3,>=2.5 in /usr/local/lib/python3.7/dist-packages (from requests->transformers) (2.10)\n",
      "Requirement already satisfied: urllib3!=1.25.0,!=1.25.1,<1.26,>=1.21.1 in /usr/local/lib/python3.7/dist-packages (from requests->transformers) (1.24.3)\n",
      "Requirement already satisfied: chardet<4,>=3.0.2 in /usr/local/lib/python3.7/dist-packages (from requests->transformers) (3.0.4)\n",
      "Requirement already satisfied: joblib in /usr/local/lib/python3.7/dist-packages (from sacremoses->transformers) (1.0.1)\n",
      "Requirement already satisfied: click in /usr/local/lib/python3.7/dist-packages (from sacremoses->transformers) (7.1.2)\n",
      "Requirement already satisfied: six in /usr/local/lib/python3.7/dist-packages (from sacremoses->transformers) (1.15.0)\n",
      "Installing collected packages: tokenizers, sacremoses, pyyaml, huggingface-hub, transformers\n",
      "  Attempting uninstall: pyyaml\n",
      "    Found existing installation: PyYAML 3.13\n",
      "    Uninstalling PyYAML-3.13:\n",
      "      Successfully uninstalled PyYAML-3.13\n",
      "Successfully installed huggingface-hub-0.0.16 pyyaml-5.4.1 sacremoses-0.0.45 tokenizers-0.10.3 transformers-4.10.0\n"
     ]
    }
   ],
   "source": [
    "! pip install transformers"
   ]
  },
  {
   "cell_type": "markdown",
   "metadata": {
    "id": "vwT2jFIMEe-4"
   },
   "source": [
    "Run commands:\n",
    "\n",
    "Create a test folder"
   ]
  },
  {
   "cell_type": "code",
   "execution_count": null,
   "metadata": {
    "id": "DnqH67_-Egko"
   },
   "outputs": [],
   "source": [
    "#! mkdir test_folder"
   ]
  },
  {
   "cell_type": "markdown",
   "metadata": {
    "id": "_AhdRMJ-EavX"
   },
   "source": [
    "### 2. Load drive"
   ]
  },
  {
   "cell_type": "markdown",
   "metadata": {
    "id": "0VERObbXBVVv"
   },
   "source": [
    "Show alll files in your colab:"
   ]
  },
  {
   "cell_type": "code",
   "execution_count": 6,
   "metadata": {
    "colab": {
     "base_uri": "https://localhost:8080/"
    },
    "executionInfo": {
     "elapsed": 819,
     "status": "ok",
     "timestamp": 1645634810799,
     "user": {
      "displayName": "Rong Liu",
      "photoUrl": "https://lh3.googleusercontent.com/a/default-user=s64",
      "userId": "15250589813520096948"
     },
     "user_tz": 300
    },
    "id": "ApHi_9VkElAn",
    "outputId": "4f151a0a-09b5-47c6-e545-ed32ef006f74"
   },
   "outputs": [
    {
     "name": "stdout",
     "output_type": "stream",
     "text": [
      "Drive already mounted at /content/drive; to attempt to forcibly remount, call drive.mount(\"/content/drive\", force_remount=True).\n"
     ]
    }
   ],
   "source": [
    "import os\n",
    "from google.colab import drive\n",
    "\n",
    "drive.mount('/content/drive') # mount the drive\n",
    "cwd = os.path.join('drive', 'MyDrive')\n",
    "\n",
    "# show all files\n",
    "#print(os.listdir(cwd))"
   ]
  },
  {
   "cell_type": "markdown",
   "metadata": {
    "id": "I1MSi21UBa_b"
   },
   "source": [
    "List all files in this folder:"
   ]
  },
  {
   "cell_type": "code",
   "execution_count": 7,
   "metadata": {
    "colab": {
     "base_uri": "https://localhost:8080/"
    },
    "executionInfo": {
     "elapsed": 128,
     "status": "ok",
     "timestamp": 1645634818728,
     "user": {
      "displayName": "Rong Liu",
      "photoUrl": "https://lh3.googleusercontent.com/a/default-user=s64",
      "userId": "15250589813520096948"
     },
     "user_tz": 300
    },
    "id": "qQXxL_AxFc8K",
    "outputId": "feacd9d3-40b5-4ecc-b542-a859c0e65e6d"
   },
   "outputs": [
    {
     "name": "stdout",
     "output_type": "stream",
     "text": [
      "['ColabIntroduction.ipynb', 'hw', 'PytorchBasics.ipynb', 'PytorchDataset.ipynb']\n"
     ]
    }
   ],
   "source": [
    "cwd = os.path.join('drive','MyDrive', 'BIA667_Lab')\n",
    "print(os.listdir(cwd))"
   ]
  },
  {
   "cell_type": "markdown",
   "metadata": {
    "id": "CDufGO1KrWcc"
   },
   "source": [
    "## Pytorch & Tensor Basics\n"
   ]
  },
  {
   "cell_type": "markdown",
   "metadata": {
    "id": "YGzMUcIry-DF"
   },
   "source": [
    "### Import Packages\n",
    "\n",
    "> Import the torcch and torch.nn (torch neural networks module)"
   ]
  },
  {
   "cell_type": "code",
   "execution_count": 8,
   "metadata": {
    "executionInfo": {
     "elapsed": 125,
     "status": "ok",
     "timestamp": 1645634823551,
     "user": {
      "displayName": "Rong Liu",
      "photoUrl": "https://lh3.googleusercontent.com/a/default-user=s64",
      "userId": "15250589813520096948"
     },
     "user_tz": 300
    },
    "id": "LZX7KIZXsfFZ"
   },
   "outputs": [],
   "source": [
    "# import\n",
    "import torch\n",
    "import torch.nn as nn"
   ]
  },
  {
   "cell_type": "markdown",
   "metadata": {
    "id": "6lE4PRO406Bt"
   },
   "source": [
    "### Setup device"
   ]
  },
  {
   "cell_type": "markdown",
   "metadata": {
    "id": "8A143lsz_TpW"
   },
   "source": [
    "Set up our training device: \n",
    "\n",
    "> If the gpu is available, we will use gpu. Otherwise, use cpu instead.\n",
    "\n"
   ]
  },
  {
   "cell_type": "code",
   "execution_count": 9,
   "metadata": {
    "colab": {
     "base_uri": "https://localhost:8080/"
    },
    "executionInfo": {
     "elapsed": 246,
     "status": "ok",
     "timestamp": 1645634826147,
     "user": {
      "displayName": "Rong Liu",
      "photoUrl": "https://lh3.googleusercontent.com/a/default-user=s64",
      "userId": "15250589813520096948"
     },
     "user_tz": 300
    },
    "id": "tDVnf19-08fF",
    "outputId": "f1407615-1315-48a9-a45d-1d5dd543d904"
   },
   "outputs": [
    {
     "name": "stdout",
     "output_type": "stream",
     "text": [
      "cuda\n"
     ]
    }
   ],
   "source": [
    "device = torch.device(\"cuda\" if torch.cuda.is_available() else 'cpu')\n",
    "print(device)"
   ]
  },
  {
   "cell_type": "markdown",
   "metadata": {
    "id": "QN1A9cORLTw0"
   },
   "source": [
    "### Tensor Operations\n",
    "\n",
    "The basic building block in Pytorch is the tensor. Tensors are very similar to the narray in the numpy and it has many pre-defined operations:"
   ]
  },
  {
   "cell_type": "code",
   "execution_count": 14,
   "metadata": {
    "colab": {
     "base_uri": "https://localhost:8080/"
    },
    "executionInfo": {
     "elapsed": 127,
     "status": "ok",
     "timestamp": 1645634868734,
     "user": {
      "displayName": "Rong Liu",
      "photoUrl": "https://lh3.googleusercontent.com/a/default-user=s64",
      "userId": "15250589813520096948"
     },
     "user_tz": 300
    },
    "id": "7M_Zwim-LUQP",
    "outputId": "14f9f4c1-05de-47d0-aa20-9bcee1ccddce"
   },
   "outputs": [
    {
     "name": "stdout",
     "output_type": "stream",
     "text": [
      "Tensor and Numpy:\n",
      "[7 7 7]\n",
      "tensor([7., 7., 7.])\n",
      "\n",
      "Basic Operations\n",
      "Add\n",
      "tensor([3., 5., 7.])\n",
      "Multiply\n",
      "tensor([ 2.,  6., 12.])\n",
      "\n",
      "Tensor Oject method\n",
      "tensor([3., 5., 7.])\n",
      "\n",
      "Function operates on tensor\n",
      "Max value: 3.0, Max Index: 2\n"
     ]
    }
   ],
   "source": [
    "# define a new tensor is similar to define a numpy array\n",
    "a_numpy = np.array([7, 7, 7])\n",
    "a_tensor = torch.Tensor([7, 7, 7])\n",
    "print('Tensor and Numpy:')\n",
    "print(a_numpy)\n",
    "print(a_tensor)\n",
    "print()\n",
    "\n",
    "# tensor support basic operations\n",
    "tensor1 = torch.Tensor([1, 2, 3])\n",
    "tensor2 = torch.Tensor([2, 3, 4])\n",
    "print('Basic Operations')\n",
    "print('Add')\n",
    "print(tensor1 + tensor2)\n",
    "print('Multiply')\n",
    "print(tensor1 * tensor2)\n",
    "print()\n",
    "\n",
    "# tensor object also has its own method\n",
    "print('Tensor Oject method')\n",
    "print(tensor1.add(tensor2))\n",
    "print()\n",
    "\n",
    "# function operates on tensor\n",
    "print('Function operates on tensor')\n",
    "max_value, max_index = torch.max(tensor1, dim=0)\n",
    "print(f'Max value: {max_value}, Max Index: {max_index}')"
   ]
  },
  {
   "cell_type": "markdown",
   "metadata": {
    "id": "k7sMt-BMLiLT"
   },
   "source": [
    "Please note these opeartions will return a new tensor as result and the variables participating operations will not be modified. Alternatively, we can make these operations happens in-place. Instead of returing a extra tensor as result, in-place operations will directly change the content of given tensor. "
   ]
  },
  {
   "cell_type": "code",
   "execution_count": 15,
   "metadata": {
    "colab": {
     "base_uri": "https://localhost:8080/"
    },
    "executionInfo": {
     "elapsed": 174,
     "status": "ok",
     "timestamp": 1645634881913,
     "user": {
      "displayName": "Rong Liu",
      "photoUrl": "https://lh3.googleusercontent.com/a/default-user=s64",
      "userId": "15250589813520096948"
     },
     "user_tz": 300
    },
    "id": "ymgnyLehLi--",
    "outputId": "27c4220d-653e-45c0-b6f0-f283c8aa08b3"
   },
   "outputs": [
    {
     "name": "stdout",
     "output_type": "stream",
     "text": [
      "tensor([3., 5., 7.])\n",
      "tensor([ 5.,  8., 11.])\n"
     ]
    }
   ],
   "source": [
    "# not in-plcae\n",
    "tensor1 = torch.Tensor([1, 2, 3])\n",
    "tensor2 = torch.Tensor([2, 3, 4])\n",
    "tensor1 = tensor1.add(tensor2)\n",
    "print(tensor1)  # the content in tensor1 is not modified\n",
    "\n",
    "# in-place\n",
    "tensor1.add_(tensor2)\n",
    "print(tensor1) # the content in tensor1 is modified"
   ]
  },
  {
   "cell_type": "markdown",
   "metadata": {
    "id": "l15BTcDdLoia"
   },
   "source": [
    "In general, an in-place is the normal operation with extra '_' at the end. For example,\n",
    "\n",
    "\n",
    "```\n",
    "tensor.add() # not in-place\n",
    "tensor.add_() # in-place\n",
    "\n",
    "tensor.abs() # not in-place\n",
    "tensor.abs_() # in-place\n",
    "```\n",
    "\n",
    "The in-place operation will be useful when you have limitation on memory. For example, if you have a huge tensor representation for a high resolution image, it may be costly to keep an another copy. For the full list of operations, please see [here](https://pytorch.org/docs/stable/tensors.html).\n"
   ]
  },
  {
   "cell_type": "markdown",
   "metadata": {
    "id": "D5-xxMp_LriB"
   },
   "source": [
    "### Change the shape of the tensor\n",
    "To change the shape of a tensor, we can use the \n",
    "\n",
    "```\n",
    "Tensor.view()\n",
    "```\n",
    "which is similar to numpy.reshape(). Also, we can use -1 as place holder to let the pytorch find the correct shape for us.\n"
   ]
  },
  {
   "cell_type": "code",
   "execution_count": 16,
   "metadata": {
    "colab": {
     "base_uri": "https://localhost:8080/"
    },
    "executionInfo": {
     "elapsed": 140,
     "status": "ok",
     "timestamp": 1645634887564,
     "user": {
      "displayName": "Rong Liu",
      "photoUrl": "https://lh3.googleusercontent.com/a/default-user=s64",
      "userId": "15250589813520096948"
     },
     "user_tz": 300
    },
    "id": "Ey2dP5wOL5p6",
    "outputId": "af551959-1091-420b-838b-36d97b1a9f3f"
   },
   "outputs": [
    {
     "name": "stdout",
     "output_type": "stream",
     "text": [
      "torch.Size([100, 33, 22, 11])\n",
      "\n",
      "After reshape\n",
      "torch.Size([33, 22, 11, 100])\n",
      "\n",
      "After reshape\n",
      "torch.Size([33, 11, 10, 220])\n",
      "\n"
     ]
    }
   ],
   "source": [
    "# initialize a tensor with random numbers\n",
    "a_tensor = torch.randn((100, 33, 22, 11), dtype=torch.float)\n",
    "print(a_tensor.size())  # use Tensor.size() to find the shape\n",
    "print()\n",
    "\n",
    "\n",
    "# reshape to (33, 22, 11, 100)\n",
    "reshaped1 = a_tensor.view(33, 22, 11, 100)\n",
    "print('After reshape')\n",
    "print(reshaped1.size())\n",
    "print()\n",
    "\n",
    "# use -1 as place holder\n",
    "reshaped2 = a_tensor.view(33, -1, 10, 220)  # let pytorch calculate the last dimension for us\n",
    "print('After reshape')\n",
    "print(reshaped2.size())\n",
    "print()"
   ]
  },
  {
   "cell_type": "markdown",
   "metadata": {
    "id": "QApG9v10L6hG"
   },
   "source": [
    "### Move Tensor to GPU/CPU\n",
    "You may have heard deep learning models are training fatser on GPUs. To do this, we will need to move our data, which is represents as tensors, to GPU."
   ]
  },
  {
   "cell_type": "markdown",
   "metadata": {
    "id": "17oIAdT-ME5v"
   },
   "source": []
  },
  {
   "cell_type": "code",
   "execution_count": 17,
   "metadata": {
    "colab": {
     "base_uri": "https://localhost:8080/"
    },
    "executionInfo": {
     "elapsed": 3068,
     "status": "ok",
     "timestamp": 1645634895146,
     "user": {
      "displayName": "Rong Liu",
      "photoUrl": "https://lh3.googleusercontent.com/a/default-user=s64",
      "userId": "15250589813520096948"
     },
     "user_tz": 300
    },
    "id": "7_h2o8EGL-_d",
    "outputId": "270a41c4-f81c-4178-baf4-9dcb0df37a37"
   },
   "outputs": [
    {
     "name": "stdout",
     "output_type": "stream",
     "text": [
      "GPU tensor:\n",
      "tensor([1., 2., 3.], device='cuda:0')\n",
      "\n",
      "CPU tensor:\n",
      "tensor([1., 2., 3.])\n",
      "\n"
     ]
    }
   ],
   "source": [
    "# get the device on your machine\n",
    "cpu = torch.device('cpu')\n",
    "gpu = torch.device('cuda')\n",
    "\n",
    "# often we use the following one liner to help us choose device\n",
    "device = torch.device(\"cuda\" if torch.cuda.is_available() else \"cpu\")\n",
    "\n",
    "# move tensor to gpu\n",
    "a_tensor = torch.Tensor([1, 2, 3])\n",
    "a_tensor = a_tensor.to(gpu)  # you might get an error if you did not activate the gpu in your colab, see: https://colab.research.google.com/notebooks/gpu.ipynb\n",
    "print('GPU tensor:')\n",
    "print(a_tensor)\n",
    "print()\n",
    "\n",
    "# move back to cpu\n",
    "a_tensor = a_tensor.to(cpu)\n",
    "print('CPU tensor:')\n",
    "print(a_tensor)\n",
    "print()"
   ]
  },
  {
   "cell_type": "markdown",
   "metadata": {
    "id": "V1iEwcqcMFx_"
   },
   "source": [
    "The \n",
    "```\n",
    "tensor(...., device='cuda:0')\n",
    "```\n",
    "menas we have successfully moved tensor to GPU:0.\n"
   ]
  },
  {
   "cell_type": "markdown",
   "metadata": {
    "id": "1RSl4znSMyZZ"
   },
   "source": [
    "## Datasets\n",
    "\n",
    "\n",
    "In PyTorch, we define a dataset class to generate mini-batches for model training"
   ]
  },
  {
   "cell_type": "markdown",
   "metadata": {
    "id": "7g0DGxEqNctg"
   },
   "source": [
    "### Dependicies"
   ]
  },
  {
   "cell_type": "markdown",
   "metadata": {
    "id": "Z4d_9TCmNSw2"
   },
   "source": [
    "import torch\n",
    "import torch.nn as nn\n",
    "import numpy as np\n",
    "from torch.utils.data import DataLoader, random_split, Dataset"
   ]
  },
  {
   "cell_type": "code",
   "execution_count": 18,
   "metadata": {
    "executionInfo": {
     "elapsed": 142,
     "status": "ok",
     "timestamp": 1645634911947,
     "user": {
      "displayName": "Rong Liu",
      "photoUrl": "https://lh3.googleusercontent.com/a/default-user=s64",
      "userId": "15250589813520096948"
     },
     "user_tz": 300
    },
    "id": "okoF66oSNgyY"
   },
   "outputs": [],
   "source": [
    "import torch\n",
    "import torch.nn as nn\n",
    "import numpy as np\n",
    "from torch.utils.data import DataLoader, random_split, Dataset"
   ]
  },
  {
   "cell_type": "markdown",
   "metadata": {
    "id": "Nlt1XS_1Nl3Z"
   },
   "source": [
    "### Generate fake data"
   ]
  },
  {
   "cell_type": "code",
   "execution_count": 19,
   "metadata": {
    "executionInfo": {
     "elapsed": 121,
     "status": "ok",
     "timestamp": 1645634914475,
     "user": {
      "displayName": "Rong Liu",
      "photoUrl": "https://lh3.googleusercontent.com/a/default-user=s64",
      "userId": "15250589813520096948"
     },
     "user_tz": 300
    },
    "id": "J_Jqqw1lvoIr"
   },
   "outputs": [],
   "source": [
    "# fake data\n",
    "features = torch.randn(size=(1000, 2)) * 20 + 30\n",
    "w = torch.Tensor([1.5, 2])\n",
    "targets = torch.matmul(features, w) + 1 +  torch.randn(size=(1000,))"
   ]
  },
  {
   "cell_type": "markdown",
   "metadata": {
    "id": "HiL1PoY8zE1K"
   },
   "source": [
    "### Check data"
   ]
  },
  {
   "cell_type": "code",
   "execution_count": 20,
   "metadata": {
    "colab": {
     "base_uri": "https://localhost:8080/"
    },
    "executionInfo": {
     "elapsed": 141,
     "status": "ok",
     "timestamp": 1645634917937,
     "user": {
      "displayName": "Rong Liu",
      "photoUrl": "https://lh3.googleusercontent.com/a/default-user=s64",
      "userId": "15250589813520096948"
     },
     "user_tz": 300
    },
    "id": "w4EPPAD8psCV",
    "outputId": "1fe19923-a9a1-4869-97bb-a0607400ff22"
   },
   "outputs": [
    {
     "name": "stdout",
     "output_type": "stream",
     "text": [
      "tensor([[36.6525, 13.8604],\n",
      "        [37.0056, 55.6256],\n",
      "        [32.3917, 41.7897],\n",
      "        [63.2859, 24.9272],\n",
      "        [15.1525, 20.7489]])\n"
     ]
    }
   ],
   "source": [
    "print(features[:5])"
   ]
  },
  {
   "cell_type": "code",
   "execution_count": 21,
   "metadata": {
    "colab": {
     "base_uri": "https://localhost:8080/"
    },
    "executionInfo": {
     "elapsed": 182,
     "status": "ok",
     "timestamp": 1645634920467,
     "user": {
      "displayName": "Rong Liu",
      "photoUrl": "https://lh3.googleusercontent.com/a/default-user=s64",
      "userId": "15250589813520096948"
     },
     "user_tz": 300
    },
    "id": "ZAKL-J_NptgX",
    "outputId": "0928940f-e686-4243-a84c-c8ef3ea1c7c8"
   },
   "outputs": [
    {
     "name": "stdout",
     "output_type": "stream",
     "text": [
      "tensor([ 82.3267, 167.7586, 134.6422, 144.8727,  65.9563])\n"
     ]
    }
   ],
   "source": [
    "print(targets[:5])"
   ]
  },
  {
   "cell_type": "code",
   "execution_count": 22,
   "metadata": {
    "colab": {
     "base_uri": "https://localhost:8080/"
    },
    "executionInfo": {
     "elapsed": 173,
     "status": "ok",
     "timestamp": 1645634921577,
     "user": {
      "displayName": "Rong Liu",
      "photoUrl": "https://lh3.googleusercontent.com/a/default-user=s64",
      "userId": "15250589813520096948"
     },
     "user_tz": 300
    },
    "id": "DGA_-zzqpuBm",
    "outputId": "a0b4e0e0-5d39-4797-8a14-570d28aaad20"
   },
   "outputs": [
    {
     "data": {
      "text/plain": [
       "torch.Tensor"
      ]
     },
     "execution_count": 22,
     "metadata": {},
     "output_type": "execute_result"
    }
   ],
   "source": [
    "type(features)"
   ]
  },
  {
   "cell_type": "code",
   "execution_count": 23,
   "metadata": {
    "colab": {
     "base_uri": "https://localhost:8080/"
    },
    "executionInfo": {
     "elapsed": 141,
     "status": "ok",
     "timestamp": 1645634922728,
     "user": {
      "displayName": "Rong Liu",
      "photoUrl": "https://lh3.googleusercontent.com/a/default-user=s64",
      "userId": "15250589813520096948"
     },
     "user_tz": 300
    },
    "id": "HOm_kS7bv1nK",
    "outputId": "a5e71d9d-8feb-46ca-9806-35cc969e5912"
   },
   "outputs": [
    {
     "name": "stdout",
     "output_type": "stream",
     "text": [
      "features shape: torch.Size([1000, 2])\n",
      "targets shape: torch.Size([1000])\n"
     ]
    }
   ],
   "source": [
    "# varify data\n",
    "print(f'features shape: {features.size()}')\n",
    "print(f'targets shape: {targets.size()}')"
   ]
  },
  {
   "cell_type": "markdown",
   "metadata": {
    "id": "R6uPnrA4_rhd"
   },
   "source": [
    "\n",
    "\n",
    "```\n",
    "torch.Tensor.size()\n",
    "```\n",
    "will return the size(shape) of the Tensor.  \n",
    "\n",
    "\n",
    "\n",
    "In our case, the shape is (1000, 2) for features, which means we have 1000 data points and 2 features.\n",
    "\n"
   ]
  },
  {
   "cell_type": "markdown",
   "metadata": {
    "id": "xz80x2BgOGiV"
   },
   "source": [
    "### Define Dataset Class\n",
    "The dataset class should inherit from the pytorch's Dataset class, and we need to define:\n",
    "\n",
    "\n",
    "1.   `__init__`: Initialize your parent class and preprocess\n",
    "2.   `__getitem__`: Define how to retrieve your data by index, usually we return both data and corresponding label\n",
    "3.   `__len__`: Define how to get the total length of your data(how many observations/data points/rows) in your dataset\n",
    "\n"
   ]
  },
  {
   "cell_type": "code",
   "execution_count": 24,
   "metadata": {
    "executionInfo": {
     "elapsed": 180,
     "status": "ok",
     "timestamp": 1645634963863,
     "user": {
      "displayName": "Rong Liu",
      "photoUrl": "https://lh3.googleusercontent.com/a/default-user=s64",
      "userId": "15250589813520096948"
     },
     "user_tz": 300
    },
    "id": "Q66iObVoORFC"
   },
   "outputs": [],
   "source": [
    "class MyDataset(Dataset):\n",
    "    def __init__(self, features, labels):\n",
    "        super(MyDataset, self).__init__()\n",
    "        self.features = torch.Tensor(features)\n",
    "        self.labels = torch.Tensor(labels)  \n",
    "    \n",
    "    def __getitem__(self, index):\n",
    "        return self.features[index], self.labels[index]\n",
    "    \n",
    "    def __len__(self):\n",
    "        return self.labels.size()[0]"
   ]
  },
  {
   "cell_type": "markdown",
   "metadata": {
    "id": "7-lPBZXYOeKR"
   },
   "source": [
    "Create a dataset object:"
   ]
  },
  {
   "cell_type": "code",
   "execution_count": 26,
   "metadata": {
    "colab": {
     "base_uri": "https://localhost:8080/"
    },
    "executionInfo": {
     "elapsed": 4,
     "status": "ok",
     "timestamp": 1645634981261,
     "user": {
      "displayName": "Rong Liu",
      "photoUrl": "https://lh3.googleusercontent.com/a/default-user=s64",
      "userId": "15250589813520096948"
     },
     "user_tz": 300
    },
    "id": "Nq8f9XCfOi1F",
    "outputId": "91c5c945-d7f0-4a58-e7db-82466d3dddda"
   },
   "outputs": [
    {
     "name": "stdout",
     "output_type": "stream",
     "text": [
      "A feature:\n",
      "tensor([36.6525, 13.8604])\n",
      "A target:\n",
      "82.32672119140625\n"
     ]
    }
   ],
   "source": [
    "dataset_example = MyDataset(features=features, labels=targets)\n",
    "\n",
    "a_feature, a_target = dataset_example[0]\n",
    "print(f'A feature:\\n{a_feature}')\n",
    "print(f'A target:\\n{a_target}')"
   ]
  },
  {
   "cell_type": "markdown",
   "metadata": {
    "id": "o38oYL2kOqeq"
   },
   "source": [
    "### Split Dataset\n",
    "To split our dataset to train, validation, test datasets, we can use the `random_split` function."
   ]
  },
  {
   "cell_type": "code",
   "execution_count": 27,
   "metadata": {
    "colab": {
     "base_uri": "https://localhost:8080/"
    },
    "executionInfo": {
     "elapsed": 125,
     "status": "ok",
     "timestamp": 1645634985838,
     "user": {
      "displayName": "Rong Liu",
      "photoUrl": "https://lh3.googleusercontent.com/a/default-user=s64",
      "userId": "15250589813520096948"
     },
     "user_tz": 300
    },
    "id": "VG9Ov9PyPfgr",
    "outputId": "e8968b70-6cb9-4b19-9fa2-fefa8c601227"
   },
   "outputs": [
    {
     "name": "stdout",
     "output_type": "stream",
     "text": [
      "Train dataset length: 600\n",
      "Validation dataset length: 200\n",
      "Test dataset length: 200\n"
     ]
    },
    {
     "name": "stderr",
     "output_type": "stream",
     "text": [
      "/usr/local/lib/python3.7/dist-packages/ipykernel_launcher.py:1: DeprecationWarning: `np.int` is a deprecated alias for the builtin `int`. To silence this warning, use `int` by itself. Doing this will not modify any behavior and is safe. When replacing `np.int`, you may wish to use e.g. `np.int64` or `np.int32` to specify the precision. If you wish to review your current use, check the release note link for additional information.\n",
      "Deprecated in NumPy 1.20; for more details and guidance: https://numpy.org/devdocs/release/1.20.0-notes.html#deprecations\n",
      "  \"\"\"Entry point for launching an IPython kernel.\n"
     ]
    }
   ],
   "source": [
    "split_size = (np.array([0.6, 0.2, 0.2]) * len(dataset_example)).astype(np.int)\n",
    "train_data, valid_data, test_data = random_split(dataset_example, lengths=split_size)\n",
    "\n",
    "print(f'Train dataset length: {len(train_data)}')\n",
    "print(f'Validation dataset length: {len(valid_data)}')\n",
    "print(f'Test dataset length: {len(test_data)}')"
   ]
  },
  {
   "cell_type": "markdown",
   "metadata": {
    "id": "alkqhxoTPk0Y"
   },
   "source": [
    "### Data Loader\n",
    "Convert to dataloader so we can use our data in train function:"
   ]
  },
  {
   "cell_type": "code",
   "execution_count": 28,
   "metadata": {
    "colab": {
     "base_uri": "https://localhost:8080/"
    },
    "executionInfo": {
     "elapsed": 122,
     "status": "ok",
     "timestamp": 1645634996297,
     "user": {
      "displayName": "Rong Liu",
      "photoUrl": "https://lh3.googleusercontent.com/a/default-user=s64",
      "userId": "15250589813520096948"
     },
     "user_tz": 300
    },
    "id": "F9tw3secPlA1",
    "outputId": "5f2a8ce7-81cd-433d-a27c-4793fc25270b"
   },
   "outputs": [
    {
     "name": "stdout",
     "output_type": "stream",
     "text": [
      "torch.Size([32, 2])\n",
      "torch.Size([32])\n"
     ]
    }
   ],
   "source": [
    "train_loader = DataLoader(train_data, batch_size=32, shuffle=True)\n",
    "valid_loader = DataLoader(valid_data, batch_size=32, shuffle=True)\n",
    "test_loader = DataLoader(test_data, batch_size=32, shuffle=True)\n",
    "\n",
    "# one batch example\n",
    "one_batch_features, one_batch_labels = next(train_loader.__iter__())\n",
    "print(one_batch_features.size())  # (batch x num_features)\n",
    "print(one_batch_labels.size())  # (batch x num_labels)"
   ]
  },
  {
   "cell_type": "markdown",
   "metadata": {
    "id": "R2nrsjZEzIjb"
   },
   "source": [
    "## Put Everything Together: Simple Linear Regression\n"
   ]
  },
  {
   "cell_type": "markdown",
   "metadata": {
    "id": "9riT8fX_UoOO"
   },
   "source": [
    "### Define Model\n",
    "\n",
    "\n",
    "$$y = ax + b$$\n",
    "\n",
    "\n"
   ]
  },
  {
   "cell_type": "code",
   "execution_count": 29,
   "metadata": {
    "executionInfo": {
     "elapsed": 151,
     "status": "ok",
     "timestamp": 1645634999596,
     "user": {
      "displayName": "Rong Liu",
      "photoUrl": "https://lh3.googleusercontent.com/a/default-user=s64",
      "userId": "15250589813520096948"
     },
     "user_tz": 300
    },
    "id": "I4jSqx8mv-hs"
   },
   "outputs": [],
   "source": [
    "# pytorch simple linear regression model\n",
    "class SimpleLinearRegression(nn.Module):\n",
    "    # initilize and set up the layers\n",
    "    def __init__(self):\n",
    "        # initialize parent class\n",
    "        super(SimpleLinearRegression, self).__init__()\n",
    "        # define linear layer\n",
    "        self.linear = nn.Linear(in_features=2, out_features=1, bias=True)\n",
    "    \n",
    "    # how to pass your data through NN\n",
    "    def forward(self, x):\n",
    "        output = self.linear(x)\n",
    "        return output\n",
    "\n",
    "# model object\n",
    "model = SimpleLinearRegression()"
   ]
  },
  {
   "cell_type": "markdown",
   "metadata": {
    "id": "iWPWmMrPq8QB"
   },
   "source": [
    "For the details of Pytorch Linear layers:\n",
    "[Linear Layers](https://pytorch.org/docs/stable/generated/torch.nn.Linear.html)  \n"
   ]
  },
  {
   "cell_type": "markdown",
   "metadata": {
    "id": "oLE3q6OZ73K5"
   },
   "source": [
    "Take a look at the initialized parameters"
   ]
  },
  {
   "cell_type": "code",
   "execution_count": 30,
   "metadata": {
    "colab": {
     "base_uri": "https://localhost:8080/"
    },
    "executionInfo": {
     "elapsed": 138,
     "status": "ok",
     "timestamp": 1645635002328,
     "user": {
      "displayName": "Rong Liu",
      "photoUrl": "https://lh3.googleusercontent.com/a/default-user=s64",
      "userId": "15250589813520096948"
     },
     "user_tz": 300
    },
    "id": "6bnX-y4DDLd2",
    "outputId": "3d36e1c2-e487-4372-e24d-a83c4bcb5924"
   },
   "outputs": [
    {
     "name": "stdout",
     "output_type": "stream",
     "text": [
      "[Parameter containing:\n",
      "tensor([[-0.1966,  0.6684]], requires_grad=True), Parameter containing:\n",
      "tensor([0.0591], requires_grad=True)]\n"
     ]
    }
   ],
   "source": [
    "print([i for i in model.parameters()])"
   ]
  },
  {
   "cell_type": "markdown",
   "metadata": {
    "id": "WDKdwmok2F2c"
   },
   "source": [
    "### Define a loss function and optimizer"
   ]
  },
  {
   "cell_type": "code",
   "execution_count": 31,
   "metadata": {
    "executionInfo": {
     "elapsed": 136,
     "status": "ok",
     "timestamp": 1645635005816,
     "user": {
      "displayName": "Rong Liu",
      "photoUrl": "https://lh3.googleusercontent.com/a/default-user=s64",
      "userId": "15250589813520096948"
     },
     "user_tz": 300
    },
    "id": "SEudjaT40vFK"
   },
   "outputs": [],
   "source": [
    "loss_func = nn.MSELoss()\n",
    "optimizer = torch.optim.Adam(model.parameters(), lr=0.001)"
   ]
  },
  {
   "cell_type": "markdown",
   "metadata": {
    "id": "HgJl8H9d4qai"
   },
   "source": [
    "### Training"
   ]
  },
  {
   "cell_type": "code",
   "execution_count": 32,
   "metadata": {
    "executionInfo": {
     "elapsed": 132,
     "status": "ok",
     "timestamp": 1645635007965,
     "user": {
      "displayName": "Rong Liu",
      "photoUrl": "https://lh3.googleusercontent.com/a/default-user=s64",
      "userId": "15250589813520096948"
     },
     "user_tz": 300
    },
    "id": "MGotWXzJuo_8"
   },
   "outputs": [],
   "source": [
    "# move model to (device: GPU)\n",
    "model = model.to(device)"
   ]
  },
  {
   "cell_type": "code",
   "execution_count": 33,
   "metadata": {
    "colab": {
     "base_uri": "https://localhost:8080/"
    },
    "executionInfo": {
     "elapsed": 20353,
     "status": "ok",
     "timestamp": 1645635029545,
     "user": {
      "displayName": "Rong Liu",
      "photoUrl": "https://lh3.googleusercontent.com/a/default-user=s64",
      "userId": "15250589813520096948"
     },
     "user_tz": 300
    },
    "id": "vBq_Y9QHzALb",
    "outputId": "d9f94752-6a0a-4e88-a753-0c0757d518b2"
   },
   "outputs": [
    {
     "name": "stdout",
     "output_type": "stream",
     "text": [
      "Training Starts:\n",
      "Epoch:1 / 1000, train loss:10293.358, valid loss:9821.064\n",
      "Epoch:2 / 1000, train loss:9969.612, valid loss:9911.798\n",
      "Epoch:3 / 1000, train loss:9791.334, valid loss:9840.330\n",
      "Epoch:4 / 1000, train loss:9522.004, valid loss:9604.985\n",
      "Epoch:5 / 1000, train loss:9245.204, valid loss:8942.694\n",
      "Epoch:6 / 1000, train loss:8992.308, valid loss:8605.342\n",
      "Epoch:7 / 1000, train loss:8797.828, valid loss:8516.048\n",
      "Epoch:8 / 1000, train loss:8587.433, valid loss:8073.622\n",
      "Epoch:9 / 1000, train loss:8348.084, valid loss:8020.488\n",
      "Epoch:10 / 1000, train loss:8131.169, valid loss:7519.508\n",
      "Epoch:11 / 1000, train loss:7935.241, valid loss:7555.013\n",
      "Epoch:12 / 1000, train loss:7740.336, valid loss:7717.530\n",
      "Epoch:13 / 1000, train loss:7502.515, valid loss:6917.183\n",
      "Epoch:14 / 1000, train loss:7298.234, valid loss:7048.142\n",
      "Epoch:15 / 1000, train loss:7096.614, valid loss:6879.930\n",
      "Epoch:16 / 1000, train loss:6889.314, valid loss:6549.749\n",
      "Epoch:17 / 1000, train loss:6729.177, valid loss:6629.095\n",
      "Epoch:18 / 1000, train loss:6536.209, valid loss:6467.546\n",
      "Epoch:19 / 1000, train loss:6349.944, valid loss:6263.491\n",
      "Epoch:20 / 1000, train loss:6183.684, valid loss:6104.233\n",
      "Epoch:21 / 1000, train loss:6023.001, valid loss:6428.740\n",
      "Epoch:22 / 1000, train loss:5839.276, valid loss:5437.506\n",
      "Epoch:23 / 1000, train loss:5656.769, valid loss:5524.119\n",
      "Epoch:24 / 1000, train loss:5508.502, valid loss:5399.432\n",
      "Epoch:25 / 1000, train loss:5363.393, valid loss:5359.089\n",
      "Epoch:26 / 1000, train loss:5178.326, valid loss:4791.985\n",
      "Epoch:27 / 1000, train loss:5027.923, valid loss:5124.201\n",
      "Epoch:28 / 1000, train loss:4885.981, valid loss:4674.917\n",
      "Epoch:29 / 1000, train loss:4732.030, valid loss:4789.361\n",
      "Epoch:30 / 1000, train loss:4603.532, valid loss:4464.841\n",
      "Epoch:31 / 1000, train loss:4485.269, valid loss:4334.869\n",
      "Epoch:32 / 1000, train loss:4327.399, valid loss:4174.158\n",
      "Epoch:33 / 1000, train loss:4175.082, valid loss:4181.865\n",
      "Epoch:34 / 1000, train loss:4063.484, valid loss:3976.902\n",
      "Epoch:35 / 1000, train loss:3926.481, valid loss:3993.550\n",
      "Epoch:36 / 1000, train loss:3813.459, valid loss:3697.308\n",
      "Epoch:37 / 1000, train loss:3690.968, valid loss:3428.519\n",
      "Epoch:38 / 1000, train loss:3580.820, valid loss:3578.672\n",
      "Epoch:39 / 1000, train loss:3476.633, valid loss:3324.972\n",
      "Epoch:40 / 1000, train loss:3370.167, valid loss:3098.745\n",
      "Epoch:41 / 1000, train loss:3252.499, valid loss:2964.979\n",
      "Epoch:42 / 1000, train loss:3123.649, valid loss:3032.172\n",
      "Epoch:43 / 1000, train loss:3025.476, valid loss:2860.366\n",
      "Epoch:44 / 1000, train loss:2932.585, valid loss:2987.524\n",
      "Epoch:45 / 1000, train loss:2823.286, valid loss:2665.502\n",
      "Epoch:46 / 1000, train loss:2732.156, valid loss:2635.947\n",
      "Epoch:47 / 1000, train loss:2641.368, valid loss:2560.350\n",
      "Epoch:48 / 1000, train loss:2552.462, valid loss:2326.824\n",
      "Epoch:49 / 1000, train loss:2464.901, valid loss:2334.891\n",
      "Epoch:50 / 1000, train loss:2368.981, valid loss:2344.266\n",
      "Epoch:51 / 1000, train loss:2293.799, valid loss:2188.349\n",
      "Epoch:52 / 1000, train loss:2216.044, valid loss:2105.435\n",
      "Epoch:53 / 1000, train loss:2131.120, valid loss:2177.461\n",
      "Epoch:54 / 1000, train loss:2056.687, valid loss:1936.776\n",
      "Epoch:55 / 1000, train loss:1981.737, valid loss:1875.374\n",
      "Epoch:56 / 1000, train loss:1907.917, valid loss:1819.689\n",
      "Epoch:57 / 1000, train loss:1840.970, valid loss:1779.622\n",
      "Epoch:58 / 1000, train loss:1776.591, valid loss:1684.867\n",
      "Epoch:59 / 1000, train loss:1703.768, valid loss:1637.564\n",
      "Epoch:60 / 1000, train loss:1644.184, valid loss:1538.045\n",
      "Epoch:61 / 1000, train loss:1575.209, valid loss:1543.758\n",
      "Epoch:62 / 1000, train loss:1521.071, valid loss:1471.767\n",
      "Epoch:63 / 1000, train loss:1457.394, valid loss:1361.728\n",
      "Epoch:64 / 1000, train loss:1402.453, valid loss:1294.330\n",
      "Epoch:65 / 1000, train loss:1349.182, valid loss:1307.155\n",
      "Epoch:66 / 1000, train loss:1298.498, valid loss:1259.898\n",
      "Epoch:67 / 1000, train loss:1244.384, valid loss:1171.637\n",
      "Epoch:68 / 1000, train loss:1196.603, valid loss:1194.547\n",
      "Epoch:69 / 1000, train loss:1143.968, valid loss:1127.927\n",
      "Epoch:70 / 1000, train loss:1099.122, valid loss:1032.900\n",
      "Epoch:71 / 1000, train loss:1052.975, valid loss:1007.348\n",
      "Epoch:72 / 1000, train loss:1009.927, valid loss:930.656\n",
      "Epoch:73 / 1000, train loss:965.433, valid loss:956.900\n",
      "Epoch:74 / 1000, train loss:924.382, valid loss:897.472\n",
      "Epoch:75 / 1000, train loss:885.406, valid loss:865.783\n",
      "Epoch:76 / 1000, train loss:847.364, valid loss:797.853\n",
      "Epoch:77 / 1000, train loss:813.641, valid loss:756.585\n",
      "Epoch:78 / 1000, train loss:775.632, valid loss:730.784\n",
      "Epoch:79 / 1000, train loss:741.548, valid loss:692.445\n",
      "Epoch:80 / 1000, train loss:709.051, valid loss:660.235\n",
      "Epoch:81 / 1000, train loss:679.180, valid loss:641.214\n",
      "Epoch:82 / 1000, train loss:646.186, valid loss:608.672\n",
      "Epoch:83 / 1000, train loss:617.937, valid loss:566.324\n",
      "Epoch:84 / 1000, train loss:588.015, valid loss:544.902\n",
      "Epoch:85 / 1000, train loss:558.162, valid loss:520.525\n",
      "Epoch:86 / 1000, train loss:534.926, valid loss:513.615\n",
      "Epoch:87 / 1000, train loss:509.702, valid loss:478.999\n",
      "Epoch:88 / 1000, train loss:485.759, valid loss:448.630\n",
      "Epoch:89 / 1000, train loss:462.805, valid loss:422.229\n",
      "Epoch:90 / 1000, train loss:442.533, valid loss:411.611\n",
      "Epoch:91 / 1000, train loss:420.572, valid loss:386.536\n",
      "Epoch:92 / 1000, train loss:399.983, valid loss:371.541\n",
      "Epoch:93 / 1000, train loss:380.455, valid loss:368.574\n",
      "Epoch:94 / 1000, train loss:361.281, valid loss:353.791\n",
      "Epoch:95 / 1000, train loss:342.389, valid loss:336.035\n",
      "Epoch:96 / 1000, train loss:327.131, valid loss:306.849\n",
      "Epoch:97 / 1000, train loss:308.755, valid loss:296.210\n",
      "Epoch:98 / 1000, train loss:293.448, valid loss:284.927\n",
      "Epoch:99 / 1000, train loss:280.163, valid loss:258.851\n",
      "Epoch:100 / 1000, train loss:265.225, valid loss:260.647\n",
      "Epoch:101 / 1000, train loss:251.487, valid loss:255.165\n",
      "Epoch:102 / 1000, train loss:238.950, valid loss:218.110\n",
      "Epoch:103 / 1000, train loss:225.816, valid loss:208.243\n",
      "Epoch:104 / 1000, train loss:213.699, valid loss:199.168\n",
      "Epoch:105 / 1000, train loss:202.091, valid loss:195.653\n",
      "Epoch:106 / 1000, train loss:191.601, valid loss:174.183\n",
      "Epoch:107 / 1000, train loss:180.839, valid loss:175.446\n",
      "Epoch:108 / 1000, train loss:171.435, valid loss:156.222\n",
      "Epoch:109 / 1000, train loss:162.650, valid loss:151.464\n",
      "Epoch:110 / 1000, train loss:153.473, valid loss:140.808\n",
      "Epoch:111 / 1000, train loss:145.837, valid loss:131.264\n",
      "Epoch:112 / 1000, train loss:137.744, valid loss:134.873\n",
      "Epoch:113 / 1000, train loss:130.397, valid loss:124.798\n",
      "Epoch:114 / 1000, train loss:122.831, valid loss:119.766\n",
      "Epoch:115 / 1000, train loss:116.329, valid loss:100.566\n",
      "Epoch:116 / 1000, train loss:109.591, valid loss:105.617\n",
      "Epoch:117 / 1000, train loss:104.375, valid loss:100.562\n",
      "Epoch:118 / 1000, train loss:97.691, valid loss:89.017\n",
      "Epoch:119 / 1000, train loss:92.960, valid loss:88.107\n",
      "Epoch:120 / 1000, train loss:87.400, valid loss:80.779\n",
      "Epoch:121 / 1000, train loss:82.876, valid loss:77.886\n",
      "Epoch:122 / 1000, train loss:78.118, valid loss:73.080\n",
      "Epoch:123 / 1000, train loss:73.879, valid loss:69.550\n",
      "Epoch:124 / 1000, train loss:70.003, valid loss:66.827\n",
      "Epoch:125 / 1000, train loss:66.666, valid loss:66.633\n",
      "Epoch:126 / 1000, train loss:62.857, valid loss:61.755\n",
      "Epoch:127 / 1000, train loss:58.973, valid loss:56.150\n",
      "Epoch:128 / 1000, train loss:55.701, valid loss:53.597\n",
      "Epoch:129 / 1000, train loss:52.959, valid loss:46.945\n",
      "Epoch:130 / 1000, train loss:50.026, valid loss:48.374\n",
      "Epoch:131 / 1000, train loss:47.227, valid loss:45.534\n",
      "Epoch:132 / 1000, train loss:45.402, valid loss:40.706\n",
      "Epoch:133 / 1000, train loss:42.669, valid loss:38.709\n",
      "Epoch:134 / 1000, train loss:40.456, valid loss:40.757\n",
      "Epoch:135 / 1000, train loss:38.346, valid loss:35.768\n",
      "Epoch:136 / 1000, train loss:36.431, valid loss:34.271\n",
      "Epoch:137 / 1000, train loss:34.697, valid loss:34.283\n",
      "Epoch:138 / 1000, train loss:32.975, valid loss:30.604\n",
      "Epoch:139 / 1000, train loss:31.570, valid loss:32.905\n",
      "Epoch:140 / 1000, train loss:30.025, valid loss:27.756\n",
      "Epoch:141 / 1000, train loss:28.668, valid loss:27.745\n",
      "Epoch:142 / 1000, train loss:27.216, valid loss:24.856\n",
      "Epoch:143 / 1000, train loss:26.061, valid loss:24.800\n",
      "Epoch:144 / 1000, train loss:24.902, valid loss:23.186\n",
      "Epoch:145 / 1000, train loss:23.770, valid loss:24.272\n",
      "Epoch:146 / 1000, train loss:22.907, valid loss:21.588\n",
      "Epoch:147 / 1000, train loss:21.780, valid loss:21.158\n",
      "Epoch:148 / 1000, train loss:20.966, valid loss:20.134\n",
      "Epoch:149 / 1000, train loss:20.057, valid loss:19.405\n",
      "Epoch:150 / 1000, train loss:19.326, valid loss:19.806\n",
      "Epoch:151 / 1000, train loss:18.571, valid loss:19.563\n",
      "Epoch:152 / 1000, train loss:17.864, valid loss:18.121\n",
      "Epoch:153 / 1000, train loss:17.263, valid loss:17.316\n",
      "Epoch:154 / 1000, train loss:16.607, valid loss:16.607\n",
      "Epoch:155 / 1000, train loss:16.026, valid loss:16.338\n",
      "Epoch:156 / 1000, train loss:15.538, valid loss:17.184\n",
      "Epoch:157 / 1000, train loss:14.964, valid loss:14.327\n",
      "Epoch:158 / 1000, train loss:14.542, valid loss:15.301\n",
      "Epoch:159 / 1000, train loss:14.127, valid loss:13.069\n",
      "Epoch:160 / 1000, train loss:13.678, valid loss:12.555\n",
      "Epoch:161 / 1000, train loss:13.244, valid loss:14.326\n",
      "Epoch:162 / 1000, train loss:12.819, valid loss:12.456\n",
      "Epoch:163 / 1000, train loss:12.482, valid loss:11.840\n",
      "Epoch:164 / 1000, train loss:12.200, valid loss:12.867\n",
      "Epoch:165 / 1000, train loss:11.748, valid loss:11.824\n",
      "Epoch:166 / 1000, train loss:11.425, valid loss:11.949\n",
      "Epoch:167 / 1000, train loss:11.169, valid loss:11.976\n",
      "Epoch:168 / 1000, train loss:10.860, valid loss:11.635\n",
      "Epoch:169 / 1000, train loss:10.612, valid loss:11.850\n",
      "Epoch:170 / 1000, train loss:10.355, valid loss:11.847\n",
      "Epoch:171 / 1000, train loss:10.155, valid loss:10.243\n",
      "Epoch:172 / 1000, train loss:9.803, valid loss:9.599\n",
      "Epoch:173 / 1000, train loss:9.533, valid loss:9.178\n",
      "Epoch:174 / 1000, train loss:9.341, valid loss:9.432\n",
      "Epoch:175 / 1000, train loss:9.133, valid loss:9.069\n",
      "Epoch:176 / 1000, train loss:8.988, valid loss:9.099\n",
      "Epoch:177 / 1000, train loss:8.707, valid loss:8.597\n",
      "Epoch:178 / 1000, train loss:8.487, valid loss:8.829\n",
      "Epoch:179 / 1000, train loss:8.303, valid loss:8.691\n",
      "Epoch:180 / 1000, train loss:8.090, valid loss:9.074\n",
      "Epoch:181 / 1000, train loss:7.883, valid loss:8.196\n",
      "Epoch:182 / 1000, train loss:7.723, valid loss:9.011\n",
      "Epoch:183 / 1000, train loss:7.582, valid loss:7.588\n",
      "Epoch:184 / 1000, train loss:7.382, valid loss:8.084\n",
      "Epoch:185 / 1000, train loss:7.254, valid loss:8.813\n",
      "Epoch:186 / 1000, train loss:7.105, valid loss:7.315\n",
      "Epoch:187 / 1000, train loss:6.930, valid loss:7.609\n",
      "Epoch:188 / 1000, train loss:6.738, valid loss:7.671\n",
      "Epoch:189 / 1000, train loss:6.637, valid loss:6.674\n",
      "Epoch:190 / 1000, train loss:6.455, valid loss:7.085\n",
      "Epoch:191 / 1000, train loss:6.301, valid loss:6.203\n",
      "Epoch:192 / 1000, train loss:6.191, valid loss:6.197\n",
      "Epoch:193 / 1000, train loss:6.038, valid loss:6.024\n",
      "Epoch:194 / 1000, train loss:5.938, valid loss:6.395\n",
      "Epoch:195 / 1000, train loss:5.777, valid loss:5.668\n",
      "Epoch:196 / 1000, train loss:5.645, valid loss:5.515\n",
      "Epoch:197 / 1000, train loss:5.564, valid loss:6.125\n",
      "Epoch:198 / 1000, train loss:5.372, valid loss:5.660\n",
      "Epoch:199 / 1000, train loss:5.299, valid loss:5.370\n",
      "Epoch:200 / 1000, train loss:5.163, valid loss:5.411\n",
      "Epoch:201 / 1000, train loss:5.076, valid loss:4.863\n",
      "Epoch:202 / 1000, train loss:4.944, valid loss:4.955\n",
      "Epoch:203 / 1000, train loss:4.820, valid loss:5.416\n",
      "Epoch:204 / 1000, train loss:4.699, valid loss:5.048\n",
      "Epoch:205 / 1000, train loss:4.598, valid loss:4.906\n",
      "Epoch:206 / 1000, train loss:4.468, valid loss:4.553\n",
      "Epoch:207 / 1000, train loss:4.397, valid loss:4.461\n",
      "Epoch:208 / 1000, train loss:4.286, valid loss:4.926\n",
      "Epoch:209 / 1000, train loss:4.157, valid loss:4.046\n",
      "Epoch:210 / 1000, train loss:4.071, valid loss:4.276\n",
      "Epoch:211 / 1000, train loss:3.990, valid loss:4.083\n",
      "Epoch:212 / 1000, train loss:3.898, valid loss:4.102\n",
      "Epoch:213 / 1000, train loss:3.805, valid loss:3.838\n",
      "Epoch:214 / 1000, train loss:3.722, valid loss:3.611\n",
      "Epoch:215 / 1000, train loss:3.637, valid loss:3.745\n",
      "Epoch:216 / 1000, train loss:3.537, valid loss:3.704\n",
      "Epoch:217 / 1000, train loss:3.460, valid loss:3.653\n",
      "Epoch:218 / 1000, train loss:3.380, valid loss:3.525\n",
      "Epoch:219 / 1000, train loss:3.327, valid loss:3.931\n",
      "Epoch:220 / 1000, train loss:3.226, valid loss:3.383\n",
      "Epoch:221 / 1000, train loss:3.152, valid loss:3.193\n",
      "Epoch:222 / 1000, train loss:3.092, valid loss:3.176\n",
      "Epoch:223 / 1000, train loss:3.002, valid loss:2.921\n",
      "Epoch:224 / 1000, train loss:2.957, valid loss:3.305\n",
      "Epoch:225 / 1000, train loss:2.896, valid loss:2.905\n",
      "Epoch:226 / 1000, train loss:2.806, valid loss:3.018\n",
      "Epoch:227 / 1000, train loss:2.745, valid loss:2.872\n",
      "Epoch:228 / 1000, train loss:2.686, valid loss:2.801\n",
      "Epoch:229 / 1000, train loss:2.609, valid loss:2.775\n",
      "Epoch:230 / 1000, train loss:2.556, valid loss:2.486\n",
      "Epoch:231 / 1000, train loss:2.516, valid loss:2.631\n",
      "Epoch:232 / 1000, train loss:2.459, valid loss:2.658\n",
      "Epoch:233 / 1000, train loss:2.410, valid loss:2.389\n",
      "Epoch:234 / 1000, train loss:2.363, valid loss:2.417\n",
      "Epoch:235 / 1000, train loss:2.301, valid loss:2.486\n",
      "Epoch:236 / 1000, train loss:2.259, valid loss:2.263\n",
      "Epoch:237 / 1000, train loss:2.200, valid loss:2.324\n",
      "Epoch:238 / 1000, train loss:2.173, valid loss:2.161\n",
      "Epoch:239 / 1000, train loss:2.119, valid loss:2.107\n",
      "Epoch:240 / 1000, train loss:2.069, valid loss:1.982\n",
      "Epoch:241 / 1000, train loss:2.029, valid loss:2.057\n",
      "Epoch:242 / 1000, train loss:1.992, valid loss:1.878\n",
      "Epoch:243 / 1000, train loss:1.954, valid loss:2.098\n",
      "Epoch:244 / 1000, train loss:1.918, valid loss:1.843\n",
      "Epoch:245 / 1000, train loss:1.876, valid loss:2.198\n",
      "Epoch:246 / 1000, train loss:1.847, valid loss:1.811\n",
      "Epoch:247 / 1000, train loss:1.813, valid loss:1.892\n",
      "Epoch:248 / 1000, train loss:1.788, valid loss:2.053\n",
      "Epoch:249 / 1000, train loss:1.754, valid loss:1.681\n",
      "Epoch:250 / 1000, train loss:1.723, valid loss:1.832\n",
      "Epoch:251 / 1000, train loss:1.688, valid loss:1.680\n",
      "Epoch:252 / 1000, train loss:1.651, valid loss:1.625\n",
      "Epoch:253 / 1000, train loss:1.631, valid loss:1.619\n",
      "Epoch:254 / 1000, train loss:1.601, valid loss:1.822\n",
      "Epoch:255 / 1000, train loss:1.574, valid loss:1.757\n",
      "Epoch:256 / 1000, train loss:1.551, valid loss:1.863\n",
      "Epoch:257 / 1000, train loss:1.533, valid loss:1.460\n",
      "Epoch:258 / 1000, train loss:1.513, valid loss:1.601\n",
      "Epoch:259 / 1000, train loss:1.482, valid loss:1.460\n",
      "Epoch:260 / 1000, train loss:1.473, valid loss:1.432\n",
      "Epoch:261 / 1000, train loss:1.449, valid loss:1.628\n",
      "Epoch:262 / 1000, train loss:1.428, valid loss:1.515\n",
      "Epoch:263 / 1000, train loss:1.412, valid loss:1.425\n",
      "Epoch:264 / 1000, train loss:1.394, valid loss:1.383\n",
      "Epoch:265 / 1000, train loss:1.380, valid loss:1.355\n",
      "Epoch:266 / 1000, train loss:1.352, valid loss:1.338\n",
      "Epoch:267 / 1000, train loss:1.342, valid loss:1.306\n",
      "Epoch:268 / 1000, train loss:1.334, valid loss:1.426\n",
      "Epoch:269 / 1000, train loss:1.319, valid loss:1.263\n",
      "Epoch:270 / 1000, train loss:1.306, valid loss:1.304\n",
      "Epoch:271 / 1000, train loss:1.283, valid loss:1.242\n",
      "Epoch:272 / 1000, train loss:1.276, valid loss:1.201\n",
      "Epoch:273 / 1000, train loss:1.269, valid loss:1.277\n",
      "Epoch:274 / 1000, train loss:1.250, valid loss:1.413\n",
      "Epoch:275 / 1000, train loss:1.242, valid loss:1.261\n",
      "Epoch:276 / 1000, train loss:1.237, valid loss:1.147\n",
      "Epoch:277 / 1000, train loss:1.224, valid loss:1.181\n",
      "Epoch:278 / 1000, train loss:1.216, valid loss:1.140\n",
      "Epoch:279 / 1000, train loss:1.202, valid loss:1.333\n",
      "Epoch:280 / 1000, train loss:1.197, valid loss:1.177\n",
      "Epoch:281 / 1000, train loss:1.189, valid loss:1.174\n",
      "Epoch:282 / 1000, train loss:1.181, valid loss:1.272\n",
      "Epoch:283 / 1000, train loss:1.181, valid loss:1.154\n",
      "Epoch:284 / 1000, train loss:1.168, valid loss:1.149\n",
      "Epoch:285 / 1000, train loss:1.166, valid loss:1.167\n",
      "Epoch:286 / 1000, train loss:1.151, valid loss:1.169\n",
      "Epoch:287 / 1000, train loss:1.156, valid loss:1.060\n",
      "Epoch:288 / 1000, train loss:1.144, valid loss:1.176\n",
      "Epoch:289 / 1000, train loss:1.147, valid loss:1.135\n",
      "Epoch:290 / 1000, train loss:1.133, valid loss:1.072\n",
      "Epoch:291 / 1000, train loss:1.138, valid loss:1.082\n",
      "Epoch:292 / 1000, train loss:1.133, valid loss:1.184\n",
      "Epoch:293 / 1000, train loss:1.124, valid loss:1.092\n",
      "Epoch:294 / 1000, train loss:1.126, valid loss:1.091\n",
      "Epoch:295 / 1000, train loss:1.115, valid loss:1.024\n",
      "Epoch:296 / 1000, train loss:1.113, valid loss:1.052\n",
      "Epoch:297 / 1000, train loss:1.120, valid loss:1.103\n",
      "Epoch:298 / 1000, train loss:1.107, valid loss:1.082\n",
      "Epoch:299 / 1000, train loss:1.106, valid loss:1.079\n",
      "Epoch:300 / 1000, train loss:1.102, valid loss:1.055\n",
      "Epoch:301 / 1000, train loss:1.098, valid loss:1.074\n",
      "Epoch:302 / 1000, train loss:1.093, valid loss:1.087\n",
      "Epoch:303 / 1000, train loss:1.106, valid loss:1.038\n",
      "Epoch:304 / 1000, train loss:1.095, valid loss:1.133\n",
      "Epoch:305 / 1000, train loss:1.090, valid loss:1.140\n",
      "Epoch:306 / 1000, train loss:1.091, valid loss:1.025\n",
      "Epoch:307 / 1000, train loss:1.089, valid loss:1.091\n",
      "Epoch:308 / 1000, train loss:1.082, valid loss:1.033\n",
      "Epoch:309 / 1000, train loss:1.086, valid loss:1.014\n",
      "Epoch:310 / 1000, train loss:1.085, valid loss:1.030\n",
      "Epoch:311 / 1000, train loss:1.090, valid loss:1.078\n",
      "Epoch:312 / 1000, train loss:1.084, valid loss:1.157\n",
      "Epoch:313 / 1000, train loss:1.078, valid loss:1.119\n",
      "Epoch:314 / 1000, train loss:1.079, valid loss:1.145\n",
      "Epoch:315 / 1000, train loss:1.082, valid loss:1.134\n",
      "Epoch:316 / 1000, train loss:1.078, valid loss:1.018\n",
      "Epoch:317 / 1000, train loss:1.078, valid loss:1.053\n",
      "Epoch:318 / 1000, train loss:1.078, valid loss:1.020\n",
      "Epoch:319 / 1000, train loss:1.073, valid loss:1.042\n",
      "Epoch:320 / 1000, train loss:1.078, valid loss:1.097\n",
      "Epoch:321 / 1000, train loss:1.071, valid loss:0.977\n",
      "Epoch:322 / 1000, train loss:1.075, valid loss:1.027\n",
      "Epoch:323 / 1000, train loss:1.071, valid loss:1.069\n",
      "Epoch:324 / 1000, train loss:1.073, valid loss:0.978\n",
      "Epoch:325 / 1000, train loss:1.070, valid loss:1.005\n",
      "Epoch:326 / 1000, train loss:1.074, valid loss:1.137\n",
      "Epoch:327 / 1000, train loss:1.074, valid loss:0.986\n",
      "Epoch:328 / 1000, train loss:1.074, valid loss:0.994\n",
      "Epoch:329 / 1000, train loss:1.077, valid loss:0.962\n",
      "Epoch:330 / 1000, train loss:1.070, valid loss:0.989\n",
      "Epoch:331 / 1000, train loss:1.071, valid loss:1.021\n",
      "Epoch:332 / 1000, train loss:1.073, valid loss:1.029\n",
      "Epoch:333 / 1000, train loss:1.069, valid loss:0.991\n",
      "Epoch:334 / 1000, train loss:1.071, valid loss:0.992\n",
      "Epoch:335 / 1000, train loss:1.071, valid loss:1.019\n",
      "Epoch:336 / 1000, train loss:1.071, valid loss:0.978\n",
      "Epoch:337 / 1000, train loss:1.072, valid loss:1.028\n",
      "Epoch:338 / 1000, train loss:1.069, valid loss:1.085\n",
      "Epoch:339 / 1000, train loss:1.067, valid loss:1.085\n",
      "Epoch:340 / 1000, train loss:1.068, valid loss:0.990\n",
      "Epoch:341 / 1000, train loss:1.072, valid loss:0.969\n",
      "Epoch:342 / 1000, train loss:1.063, valid loss:1.065\n",
      "Epoch:343 / 1000, train loss:1.066, valid loss:0.951\n",
      "Epoch:344 / 1000, train loss:1.068, valid loss:1.031\n",
      "Epoch:345 / 1000, train loss:1.066, valid loss:0.988\n",
      "Epoch:346 / 1000, train loss:1.068, valid loss:0.968\n",
      "Epoch:347 / 1000, train loss:1.070, valid loss:1.072\n",
      "Epoch:348 / 1000, train loss:1.067, valid loss:1.129\n",
      "Epoch:349 / 1000, train loss:1.067, valid loss:1.037\n",
      "Epoch:350 / 1000, train loss:1.071, valid loss:1.094\n",
      "Epoch:351 / 1000, train loss:1.076, valid loss:1.014\n",
      "Epoch:352 / 1000, train loss:1.074, valid loss:0.988\n",
      "Epoch:353 / 1000, train loss:1.061, valid loss:0.960\n",
      "Epoch:354 / 1000, train loss:1.070, valid loss:0.970\n",
      "Epoch:355 / 1000, train loss:1.063, valid loss:1.080\n",
      "Epoch:356 / 1000, train loss:1.067, valid loss:0.967\n",
      "Epoch:357 / 1000, train loss:1.064, valid loss:0.999\n",
      "Epoch:358 / 1000, train loss:1.067, valid loss:1.072\n",
      "Epoch:359 / 1000, train loss:1.067, valid loss:1.154\n",
      "Epoch:360 / 1000, train loss:1.063, valid loss:1.019\n",
      "Epoch:361 / 1000, train loss:1.064, valid loss:1.049\n",
      "Epoch:362 / 1000, train loss:1.066, valid loss:0.999\n",
      "Epoch:363 / 1000, train loss:1.062, valid loss:1.093\n",
      "Epoch:364 / 1000, train loss:1.064, valid loss:1.028\n",
      "Epoch:365 / 1000, train loss:1.073, valid loss:1.091\n",
      "Epoch:366 / 1000, train loss:1.061, valid loss:1.047\n",
      "Epoch:367 / 1000, train loss:1.066, valid loss:1.024\n",
      "Epoch:368 / 1000, train loss:1.063, valid loss:1.095\n",
      "Epoch:369 / 1000, train loss:1.066, valid loss:1.001\n",
      "Epoch:370 / 1000, train loss:1.065, valid loss:0.978\n",
      "Epoch:371 / 1000, train loss:1.060, valid loss:0.986\n",
      "Epoch:372 / 1000, train loss:1.060, valid loss:0.974\n",
      "Epoch:373 / 1000, train loss:1.066, valid loss:1.006\n",
      "Epoch:374 / 1000, train loss:1.063, valid loss:1.004\n",
      "Epoch:375 / 1000, train loss:1.066, valid loss:1.079\n",
      "Epoch:376 / 1000, train loss:1.060, valid loss:0.949\n",
      "Epoch:377 / 1000, train loss:1.066, valid loss:0.984\n",
      "Epoch:378 / 1000, train loss:1.072, valid loss:1.101\n",
      "Epoch:379 / 1000, train loss:1.065, valid loss:0.978\n",
      "Epoch:380 / 1000, train loss:1.064, valid loss:1.064\n",
      "Epoch:381 / 1000, train loss:1.065, valid loss:0.942\n",
      "Epoch:382 / 1000, train loss:1.060, valid loss:1.037\n",
      "Epoch:383 / 1000, train loss:1.062, valid loss:1.164\n",
      "Epoch:384 / 1000, train loss:1.067, valid loss:1.106\n",
      "Epoch:385 / 1000, train loss:1.061, valid loss:0.998\n",
      "Epoch:386 / 1000, train loss:1.071, valid loss:1.024\n",
      "Epoch:387 / 1000, train loss:1.061, valid loss:1.010\n",
      "Epoch:388 / 1000, train loss:1.060, valid loss:0.986\n",
      "Epoch:389 / 1000, train loss:1.065, valid loss:1.045\n",
      "Epoch:390 / 1000, train loss:1.069, valid loss:1.016\n",
      "Epoch:391 / 1000, train loss:1.057, valid loss:1.077\n",
      "Epoch:392 / 1000, train loss:1.065, valid loss:1.023\n",
      "Epoch:393 / 1000, train loss:1.059, valid loss:0.958\n",
      "Epoch:394 / 1000, train loss:1.055, valid loss:0.967\n",
      "Epoch:395 / 1000, train loss:1.062, valid loss:0.967\n",
      "Epoch:396 / 1000, train loss:1.064, valid loss:1.013\n",
      "Epoch:397 / 1000, train loss:1.064, valid loss:0.982\n",
      "Epoch:398 / 1000, train loss:1.066, valid loss:1.002\n",
      "Epoch:399 / 1000, train loss:1.060, valid loss:1.065\n",
      "Epoch:400 / 1000, train loss:1.056, valid loss:0.955\n",
      "Epoch:401 / 1000, train loss:1.059, valid loss:1.015\n",
      "Epoch:402 / 1000, train loss:1.063, valid loss:1.114\n",
      "Epoch:403 / 1000, train loss:1.057, valid loss:1.048\n",
      "Epoch:404 / 1000, train loss:1.058, valid loss:0.954\n",
      "Epoch:405 / 1000, train loss:1.059, valid loss:1.056\n",
      "Epoch:406 / 1000, train loss:1.059, valid loss:0.970\n",
      "Epoch:407 / 1000, train loss:1.060, valid loss:0.961\n",
      "Epoch:408 / 1000, train loss:1.064, valid loss:1.013\n",
      "Epoch:409 / 1000, train loss:1.062, valid loss:1.094\n",
      "Epoch:410 / 1000, train loss:1.059, valid loss:1.055\n",
      "Epoch:411 / 1000, train loss:1.060, valid loss:0.988\n",
      "Epoch:412 / 1000, train loss:1.060, valid loss:1.035\n",
      "Epoch:413 / 1000, train loss:1.057, valid loss:1.117\n",
      "Epoch:414 / 1000, train loss:1.053, valid loss:0.939\n",
      "Epoch:415 / 1000, train loss:1.061, valid loss:1.040\n",
      "Epoch:416 / 1000, train loss:1.057, valid loss:1.051\n",
      "Epoch:417 / 1000, train loss:1.057, valid loss:1.097\n",
      "Epoch:418 / 1000, train loss:1.058, valid loss:1.117\n",
      "Epoch:419 / 1000, train loss:1.058, valid loss:1.177\n",
      "Epoch:420 / 1000, train loss:1.051, valid loss:0.998\n",
      "Epoch:421 / 1000, train loss:1.056, valid loss:1.056\n",
      "Epoch:422 / 1000, train loss:1.057, valid loss:0.981\n",
      "Epoch:423 / 1000, train loss:1.058, valid loss:1.065\n",
      "Epoch:424 / 1000, train loss:1.057, valid loss:1.077\n",
      "Epoch:425 / 1000, train loss:1.055, valid loss:1.009\n",
      "Epoch:426 / 1000, train loss:1.050, valid loss:1.000\n",
      "Epoch:427 / 1000, train loss:1.056, valid loss:0.928\n",
      "Epoch:428 / 1000, train loss:1.052, valid loss:0.985\n",
      "Epoch:429 / 1000, train loss:1.056, valid loss:1.039\n",
      "Epoch:430 / 1000, train loss:1.060, valid loss:1.071\n",
      "Epoch:431 / 1000, train loss:1.052, valid loss:1.041\n",
      "Epoch:432 / 1000, train loss:1.060, valid loss:0.980\n",
      "Epoch:433 / 1000, train loss:1.048, valid loss:0.970\n",
      "Epoch:434 / 1000, train loss:1.055, valid loss:1.036\n",
      "Epoch:435 / 1000, train loss:1.052, valid loss:0.966\n",
      "Epoch:436 / 1000, train loss:1.047, valid loss:1.037\n",
      "Epoch:437 / 1000, train loss:1.052, valid loss:0.967\n",
      "Epoch:438 / 1000, train loss:1.053, valid loss:1.025\n",
      "Epoch:439 / 1000, train loss:1.055, valid loss:1.119\n",
      "Epoch:440 / 1000, train loss:1.056, valid loss:1.247\n",
      "Epoch:441 / 1000, train loss:1.052, valid loss:0.980\n",
      "Epoch:442 / 1000, train loss:1.053, valid loss:0.987\n",
      "Epoch:443 / 1000, train loss:1.046, valid loss:1.020\n",
      "Epoch:444 / 1000, train loss:1.051, valid loss:1.007\n",
      "Epoch:445 / 1000, train loss:1.052, valid loss:1.088\n",
      "Epoch:446 / 1000, train loss:1.055, valid loss:1.018\n",
      "Epoch:447 / 1000, train loss:1.050, valid loss:1.192\n",
      "Epoch:448 / 1000, train loss:1.049, valid loss:1.116\n",
      "Epoch:449 / 1000, train loss:1.047, valid loss:1.041\n",
      "Epoch:450 / 1000, train loss:1.051, valid loss:0.995\n",
      "Epoch:451 / 1000, train loss:1.043, valid loss:0.965\n",
      "Epoch:452 / 1000, train loss:1.050, valid loss:1.120\n",
      "Epoch:453 / 1000, train loss:1.053, valid loss:1.062\n",
      "Epoch:454 / 1000, train loss:1.047, valid loss:0.953\n",
      "Epoch:455 / 1000, train loss:1.045, valid loss:1.024\n",
      "Epoch:456 / 1000, train loss:1.050, valid loss:1.071\n",
      "Epoch:457 / 1000, train loss:1.046, valid loss:1.045\n",
      "Epoch:458 / 1000, train loss:1.045, valid loss:1.030\n",
      "Epoch:459 / 1000, train loss:1.054, valid loss:1.007\n",
      "Epoch:460 / 1000, train loss:1.045, valid loss:0.963\n",
      "Epoch:461 / 1000, train loss:1.049, valid loss:0.962\n",
      "Epoch:462 / 1000, train loss:1.044, valid loss:1.098\n",
      "Epoch:463 / 1000, train loss:1.049, valid loss:0.975\n",
      "Epoch:464 / 1000, train loss:1.049, valid loss:1.027\n",
      "Epoch:465 / 1000, train loss:1.043, valid loss:1.085\n",
      "Epoch:466 / 1000, train loss:1.046, valid loss:0.937\n",
      "Epoch:467 / 1000, train loss:1.043, valid loss:1.158\n",
      "Epoch:468 / 1000, train loss:1.046, valid loss:0.951\n",
      "Epoch:469 / 1000, train loss:1.049, valid loss:0.947\n",
      "Epoch:470 / 1000, train loss:1.046, valid loss:1.206\n",
      "Epoch:471 / 1000, train loss:1.045, valid loss:1.030\n",
      "Epoch:472 / 1000, train loss:1.047, valid loss:1.003\n",
      "Epoch:473 / 1000, train loss:1.049, valid loss:0.944\n",
      "Epoch:474 / 1000, train loss:1.046, valid loss:0.942\n",
      "Epoch:475 / 1000, train loss:1.046, valid loss:1.135\n",
      "Epoch:476 / 1000, train loss:1.043, valid loss:1.003\n",
      "Epoch:477 / 1000, train loss:1.047, valid loss:1.035\n",
      "Epoch:478 / 1000, train loss:1.043, valid loss:1.050\n",
      "Epoch:479 / 1000, train loss:1.046, valid loss:0.989\n",
      "Epoch:480 / 1000, train loss:1.048, valid loss:1.049\n",
      "Epoch:481 / 1000, train loss:1.046, valid loss:0.951\n",
      "Epoch:482 / 1000, train loss:1.048, valid loss:1.091\n",
      "Epoch:483 / 1000, train loss:1.039, valid loss:1.122\n",
      "Epoch:484 / 1000, train loss:1.041, valid loss:1.070\n",
      "Epoch:485 / 1000, train loss:1.043, valid loss:1.005\n",
      "Epoch:486 / 1000, train loss:1.047, valid loss:1.023\n",
      "Epoch:487 / 1000, train loss:1.041, valid loss:1.025\n",
      "Epoch:488 / 1000, train loss:1.057, valid loss:0.948\n",
      "Epoch:489 / 1000, train loss:1.045, valid loss:1.014\n",
      "Epoch:490 / 1000, train loss:1.043, valid loss:0.986\n",
      "Epoch:491 / 1000, train loss:1.041, valid loss:1.108\n",
      "Epoch:492 / 1000, train loss:1.047, valid loss:1.014\n",
      "Epoch:493 / 1000, train loss:1.037, valid loss:0.963\n",
      "Epoch:494 / 1000, train loss:1.039, valid loss:1.128\n",
      "Epoch:495 / 1000, train loss:1.044, valid loss:1.001\n",
      "Epoch:496 / 1000, train loss:1.038, valid loss:1.002\n",
      "Epoch:497 / 1000, train loss:1.041, valid loss:1.073\n",
      "Epoch:498 / 1000, train loss:1.042, valid loss:0.990\n",
      "Epoch:499 / 1000, train loss:1.038, valid loss:1.141\n",
      "Epoch:500 / 1000, train loss:1.043, valid loss:0.955\n",
      "Epoch:501 / 1000, train loss:1.046, valid loss:1.057\n",
      "Epoch:502 / 1000, train loss:1.035, valid loss:0.974\n",
      "Epoch:503 / 1000, train loss:1.038, valid loss:1.016\n",
      "Epoch:504 / 1000, train loss:1.038, valid loss:1.057\n",
      "Epoch:505 / 1000, train loss:1.034, valid loss:0.967\n",
      "Epoch:506 / 1000, train loss:1.038, valid loss:0.957\n",
      "Epoch:507 / 1000, train loss:1.041, valid loss:0.947\n",
      "Epoch:508 / 1000, train loss:1.036, valid loss:0.985\n",
      "Epoch:509 / 1000, train loss:1.045, valid loss:1.011\n",
      "Epoch:510 / 1000, train loss:1.035, valid loss:0.999\n",
      "Epoch:511 / 1000, train loss:1.038, valid loss:1.018\n",
      "Epoch:512 / 1000, train loss:1.036, valid loss:1.043\n",
      "Epoch:513 / 1000, train loss:1.038, valid loss:1.036\n",
      "Epoch:514 / 1000, train loss:1.033, valid loss:0.995\n",
      "Epoch:515 / 1000, train loss:1.044, valid loss:0.953\n",
      "Epoch:516 / 1000, train loss:1.038, valid loss:0.921\n",
      "Epoch:517 / 1000, train loss:1.031, valid loss:0.934\n",
      "Epoch:518 / 1000, train loss:1.038, valid loss:0.963\n",
      "Epoch:519 / 1000, train loss:1.033, valid loss:1.044\n",
      "Epoch:520 / 1000, train loss:1.026, valid loss:1.057\n",
      "Epoch:521 / 1000, train loss:1.033, valid loss:1.068\n",
      "Epoch:522 / 1000, train loss:1.038, valid loss:1.058\n",
      "Epoch:523 / 1000, train loss:1.029, valid loss:1.008\n",
      "Epoch:524 / 1000, train loss:1.030, valid loss:1.020\n",
      "Epoch:525 / 1000, train loss:1.029, valid loss:1.061\n",
      "Epoch:526 / 1000, train loss:1.032, valid loss:1.083\n",
      "Epoch:527 / 1000, train loss:1.039, valid loss:1.156\n",
      "Epoch:528 / 1000, train loss:1.033, valid loss:1.096\n",
      "Epoch:529 / 1000, train loss:1.036, valid loss:1.164\n",
      "Epoch:530 / 1000, train loss:1.042, valid loss:0.938\n",
      "Epoch:531 / 1000, train loss:1.030, valid loss:1.194\n",
      "Epoch:532 / 1000, train loss:1.032, valid loss:1.010\n",
      "Epoch:533 / 1000, train loss:1.029, valid loss:0.989\n",
      "Epoch:534 / 1000, train loss:1.031, valid loss:1.119\n",
      "Epoch:535 / 1000, train loss:1.031, valid loss:1.138\n",
      "Epoch:536 / 1000, train loss:1.026, valid loss:1.084\n",
      "Epoch:537 / 1000, train loss:1.027, valid loss:0.954\n",
      "Epoch:538 / 1000, train loss:1.029, valid loss:0.994\n",
      "Epoch:539 / 1000, train loss:1.028, valid loss:1.059\n",
      "Epoch:540 / 1000, train loss:1.028, valid loss:1.028\n",
      "Epoch:541 / 1000, train loss:1.028, valid loss:1.042\n",
      "Epoch:542 / 1000, train loss:1.031, valid loss:0.976\n",
      "Epoch:543 / 1000, train loss:1.035, valid loss:1.053\n",
      "Epoch:544 / 1000, train loss:1.035, valid loss:0.960\n",
      "Epoch:545 / 1000, train loss:1.022, valid loss:1.028\n",
      "Epoch:546 / 1000, train loss:1.029, valid loss:0.987\n",
      "Epoch:547 / 1000, train loss:1.029, valid loss:0.995\n",
      "Epoch:548 / 1000, train loss:1.027, valid loss:0.993\n",
      "Epoch:549 / 1000, train loss:1.023, valid loss:0.981\n",
      "Epoch:550 / 1000, train loss:1.028, valid loss:0.980\n",
      "Epoch:551 / 1000, train loss:1.026, valid loss:1.033\n",
      "Epoch:552 / 1000, train loss:1.028, valid loss:0.964\n",
      "Epoch:553 / 1000, train loss:1.023, valid loss:1.041\n",
      "Epoch:554 / 1000, train loss:1.024, valid loss:0.992\n",
      "Epoch:555 / 1000, train loss:1.028, valid loss:1.038\n",
      "Epoch:556 / 1000, train loss:1.029, valid loss:0.957\n",
      "Epoch:557 / 1000, train loss:1.027, valid loss:1.044\n",
      "Epoch:558 / 1000, train loss:1.023, valid loss:1.047\n",
      "Epoch:559 / 1000, train loss:1.030, valid loss:1.013\n",
      "Epoch:560 / 1000, train loss:1.025, valid loss:0.991\n",
      "Epoch:561 / 1000, train loss:1.024, valid loss:1.077\n",
      "Epoch:562 / 1000, train loss:1.020, valid loss:1.023\n",
      "Epoch:563 / 1000, train loss:1.023, valid loss:1.030\n",
      "Epoch:564 / 1000, train loss:1.026, valid loss:0.959\n",
      "Epoch:565 / 1000, train loss:1.024, valid loss:1.092\n",
      "Epoch:566 / 1000, train loss:1.019, valid loss:0.940\n",
      "Epoch:567 / 1000, train loss:1.018, valid loss:1.018\n",
      "Epoch:568 / 1000, train loss:1.023, valid loss:0.915\n",
      "Epoch:569 / 1000, train loss:1.025, valid loss:1.003\n",
      "Epoch:570 / 1000, train loss:1.026, valid loss:1.006\n",
      "Epoch:571 / 1000, train loss:1.023, valid loss:1.118\n",
      "Epoch:572 / 1000, train loss:1.023, valid loss:1.092\n",
      "Epoch:573 / 1000, train loss:1.021, valid loss:1.054\n",
      "Epoch:574 / 1000, train loss:1.019, valid loss:0.973\n",
      "Epoch:575 / 1000, train loss:1.014, valid loss:0.969\n",
      "Epoch:576 / 1000, train loss:1.025, valid loss:1.184\n",
      "Epoch:577 / 1000, train loss:1.020, valid loss:1.046\n",
      "Epoch:578 / 1000, train loss:1.014, valid loss:0.991\n",
      "Epoch:579 / 1000, train loss:1.024, valid loss:1.114\n",
      "Epoch:580 / 1000, train loss:1.025, valid loss:0.947\n",
      "Epoch:581 / 1000, train loss:1.014, valid loss:0.991\n",
      "Epoch:582 / 1000, train loss:1.022, valid loss:0.973\n",
      "Epoch:583 / 1000, train loss:1.020, valid loss:1.098\n",
      "Epoch:584 / 1000, train loss:1.021, valid loss:0.995\n",
      "Epoch:585 / 1000, train loss:1.015, valid loss:1.047\n",
      "Epoch:586 / 1000, train loss:1.020, valid loss:1.008\n",
      "Epoch:587 / 1000, train loss:1.016, valid loss:0.950\n",
      "Epoch:588 / 1000, train loss:1.016, valid loss:1.035\n",
      "Epoch:589 / 1000, train loss:1.021, valid loss:1.112\n",
      "Epoch:590 / 1000, train loss:1.013, valid loss:1.049\n",
      "Epoch:591 / 1000, train loss:1.012, valid loss:1.016\n",
      "Epoch:592 / 1000, train loss:1.016, valid loss:1.015\n",
      "Epoch:593 / 1000, train loss:1.017, valid loss:0.977\n",
      "Epoch:594 / 1000, train loss:1.017, valid loss:1.118\n",
      "Epoch:595 / 1000, train loss:1.021, valid loss:1.034\n",
      "Epoch:596 / 1000, train loss:1.017, valid loss:0.965\n",
      "Epoch:597 / 1000, train loss:1.020, valid loss:0.951\n",
      "Epoch:598 / 1000, train loss:1.012, valid loss:1.004\n",
      "Epoch:599 / 1000, train loss:1.021, valid loss:1.003\n",
      "Epoch:600 / 1000, train loss:1.013, valid loss:1.009\n",
      "Epoch:601 / 1000, train loss:1.014, valid loss:1.015\n",
      "Epoch:602 / 1000, train loss:1.018, valid loss:1.018\n",
      "Epoch:603 / 1000, train loss:1.010, valid loss:0.989\n",
      "Epoch:604 / 1000, train loss:1.014, valid loss:1.071\n",
      "Epoch:605 / 1000, train loss:1.018, valid loss:0.994\n",
      "Epoch:606 / 1000, train loss:1.027, valid loss:1.002\n",
      "Epoch:607 / 1000, train loss:1.019, valid loss:1.171\n",
      "Epoch:608 / 1000, train loss:1.012, valid loss:1.076\n",
      "Epoch:609 / 1000, train loss:1.010, valid loss:1.052\n",
      "Epoch:610 / 1000, train loss:1.019, valid loss:1.044\n",
      "Epoch:611 / 1000, train loss:1.013, valid loss:0.990\n",
      "Epoch:612 / 1000, train loss:1.017, valid loss:1.054\n",
      "Epoch:613 / 1000, train loss:1.009, valid loss:0.966\n",
      "Epoch:614 / 1000, train loss:1.008, valid loss:0.971\n",
      "Epoch:615 / 1000, train loss:1.015, valid loss:1.066\n",
      "Epoch:616 / 1000, train loss:1.013, valid loss:0.950\n",
      "Epoch:617 / 1000, train loss:1.013, valid loss:1.036\n",
      "Epoch:618 / 1000, train loss:1.006, valid loss:1.005\n",
      "Epoch:619 / 1000, train loss:1.015, valid loss:1.031\n",
      "Epoch:620 / 1000, train loss:1.014, valid loss:0.953\n",
      "Epoch:621 / 1000, train loss:1.015, valid loss:0.976\n",
      "Epoch:622 / 1000, train loss:1.011, valid loss:0.984\n",
      "Epoch:623 / 1000, train loss:1.012, valid loss:0.958\n",
      "Epoch:624 / 1000, train loss:1.014, valid loss:1.050\n",
      "Epoch:625 / 1000, train loss:1.008, valid loss:0.969\n",
      "Epoch:626 / 1000, train loss:1.012, valid loss:1.122\n",
      "Epoch:627 / 1000, train loss:1.013, valid loss:1.042\n",
      "Epoch:628 / 1000, train loss:1.009, valid loss:1.032\n",
      "Epoch:629 / 1000, train loss:1.013, valid loss:0.948\n",
      "Epoch:630 / 1000, train loss:1.007, valid loss:0.992\n",
      "Epoch:631 / 1000, train loss:1.010, valid loss:0.982\n",
      "Epoch:632 / 1000, train loss:1.013, valid loss:0.944\n",
      "Epoch:633 / 1000, train loss:1.005, valid loss:1.050\n",
      "Epoch:634 / 1000, train loss:1.016, valid loss:0.967\n",
      "Epoch:635 / 1000, train loss:1.012, valid loss:0.997\n",
      "Epoch:636 / 1000, train loss:1.012, valid loss:0.950\n",
      "Epoch:637 / 1000, train loss:1.011, valid loss:1.035\n",
      "Epoch:638 / 1000, train loss:1.019, valid loss:0.994\n",
      "Epoch:639 / 1000, train loss:1.020, valid loss:1.000\n",
      "Epoch:640 / 1000, train loss:1.019, valid loss:1.009\n",
      "Epoch:641 / 1000, train loss:1.019, valid loss:1.146\n",
      "Epoch:642 / 1000, train loss:1.011, valid loss:0.999\n",
      "Epoch:643 / 1000, train loss:1.014, valid loss:1.005\n",
      "Epoch:644 / 1000, train loss:1.010, valid loss:1.049\n",
      "Epoch:645 / 1000, train loss:1.016, valid loss:1.009\n",
      "Epoch:646 / 1000, train loss:1.013, valid loss:1.121\n",
      "Epoch:647 / 1000, train loss:1.003, valid loss:0.980\n",
      "Epoch:648 / 1000, train loss:1.012, valid loss:1.014\n",
      "Epoch:649 / 1000, train loss:1.011, valid loss:1.086\n",
      "Epoch:650 / 1000, train loss:1.012, valid loss:1.002\n",
      "Epoch:651 / 1000, train loss:1.015, valid loss:1.017\n",
      "Epoch:652 / 1000, train loss:1.012, valid loss:0.973\n",
      "Epoch:653 / 1000, train loss:1.003, valid loss:1.044\n",
      "Epoch:654 / 1000, train loss:1.011, valid loss:1.035\n",
      "Epoch:655 / 1000, train loss:1.011, valid loss:0.948\n",
      "Epoch:656 / 1000, train loss:1.009, valid loss:0.967\n",
      "Epoch:657 / 1000, train loss:1.010, valid loss:0.973\n",
      "Epoch:658 / 1000, train loss:1.015, valid loss:0.976\n",
      "Epoch:659 / 1000, train loss:1.013, valid loss:1.047\n",
      "Epoch:660 / 1000, train loss:1.009, valid loss:0.966\n",
      "Epoch:661 / 1000, train loss:1.002, valid loss:0.989\n",
      "Epoch:662 / 1000, train loss:1.011, valid loss:0.987\n",
      "Epoch:663 / 1000, train loss:1.010, valid loss:1.119\n",
      "Epoch:664 / 1000, train loss:1.010, valid loss:0.980\n",
      "Epoch:665 / 1000, train loss:1.020, valid loss:1.002\n",
      "Epoch:666 / 1000, train loss:1.012, valid loss:1.058\n",
      "Epoch:667 / 1000, train loss:1.009, valid loss:1.056\n",
      "Epoch:668 / 1000, train loss:1.012, valid loss:1.053\n",
      "Epoch:669 / 1000, train loss:1.013, valid loss:0.987\n",
      "Epoch:670 / 1000, train loss:1.025, valid loss:1.134\n",
      "Epoch:671 / 1000, train loss:1.012, valid loss:1.002\n",
      "Epoch:672 / 1000, train loss:1.008, valid loss:1.038\n",
      "Epoch:673 / 1000, train loss:1.009, valid loss:1.047\n",
      "Epoch:674 / 1000, train loss:1.020, valid loss:1.021\n",
      "Epoch:675 / 1000, train loss:1.021, valid loss:1.068\n",
      "Epoch:676 / 1000, train loss:1.005, valid loss:1.133\n",
      "Epoch:677 / 1000, train loss:1.008, valid loss:0.986\n",
      "Epoch:678 / 1000, train loss:1.007, valid loss:0.965\n",
      "Epoch:679 / 1000, train loss:1.008, valid loss:1.025\n",
      "Epoch:680 / 1000, train loss:1.012, valid loss:1.051\n",
      "Epoch:681 / 1000, train loss:1.016, valid loss:1.026\n",
      "Epoch:682 / 1000, train loss:1.019, valid loss:1.009\n",
      "Epoch:683 / 1000, train loss:1.019, valid loss:0.980\n",
      "Epoch:684 / 1000, train loss:1.025, valid loss:1.061\n",
      "Epoch:685 / 1000, train loss:1.022, valid loss:1.005\n",
      "Epoch:686 / 1000, train loss:1.015, valid loss:0.941\n",
      "Epoch:687 / 1000, train loss:1.014, valid loss:1.118\n",
      "Epoch:688 / 1000, train loss:1.016, valid loss:0.981\n",
      "Epoch:689 / 1000, train loss:1.024, valid loss:1.045\n",
      "Epoch:690 / 1000, train loss:1.014, valid loss:1.054\n",
      "Epoch:691 / 1000, train loss:1.007, valid loss:1.106\n",
      "Epoch:692 / 1000, train loss:1.004, valid loss:1.025\n",
      "Epoch:693 / 1000, train loss:1.006, valid loss:1.032\n",
      "Epoch:694 / 1000, train loss:1.010, valid loss:0.986\n",
      "Epoch:695 / 1000, train loss:1.002, valid loss:1.048\n",
      "Epoch:696 / 1000, train loss:1.007, valid loss:0.963\n",
      "Epoch:697 / 1000, train loss:1.009, valid loss:1.028\n",
      "Epoch:698 / 1000, train loss:1.012, valid loss:1.096\n",
      "Epoch:699 / 1000, train loss:1.015, valid loss:1.013\n",
      "Epoch:700 / 1000, train loss:1.017, valid loss:1.008\n",
      "Epoch:701 / 1000, train loss:1.014, valid loss:1.038\n",
      "Epoch:702 / 1000, train loss:1.009, valid loss:1.038\n",
      "Epoch:703 / 1000, train loss:1.005, valid loss:1.045\n",
      "Epoch:704 / 1000, train loss:1.015, valid loss:0.972\n",
      "Epoch:705 / 1000, train loss:1.004, valid loss:0.936\n",
      "Epoch:706 / 1000, train loss:1.007, valid loss:1.002\n",
      "Epoch:707 / 1000, train loss:1.007, valid loss:0.982\n",
      "Epoch:708 / 1000, train loss:1.013, valid loss:1.229\n",
      "Epoch:709 / 1000, train loss:1.003, valid loss:0.947\n",
      "Epoch:710 / 1000, train loss:1.014, valid loss:1.003\n",
      "Epoch:711 / 1000, train loss:1.006, valid loss:1.002\n",
      "Epoch:712 / 1000, train loss:1.006, valid loss:1.013\n",
      "Epoch:713 / 1000, train loss:1.007, valid loss:0.985\n",
      "Epoch:714 / 1000, train loss:1.006, valid loss:1.062\n",
      "Epoch:715 / 1000, train loss:1.002, valid loss:1.005\n",
      "Epoch:716 / 1000, train loss:1.009, valid loss:0.997\n",
      "Epoch:717 / 1000, train loss:1.013, valid loss:0.968\n",
      "Epoch:718 / 1000, train loss:1.020, valid loss:0.986\n",
      "Epoch:719 / 1000, train loss:1.013, valid loss:0.973\n",
      "Epoch:720 / 1000, train loss:1.012, valid loss:1.064\n",
      "Epoch:721 / 1000, train loss:1.004, valid loss:1.106\n",
      "Epoch:722 / 1000, train loss:1.011, valid loss:0.951\n",
      "Epoch:723 / 1000, train loss:1.015, valid loss:1.081\n",
      "Epoch:724 / 1000, train loss:1.005, valid loss:0.975\n",
      "Epoch:725 / 1000, train loss:1.007, valid loss:1.035\n",
      "Epoch:726 / 1000, train loss:1.012, valid loss:1.010\n",
      "Epoch:727 / 1000, train loss:1.005, valid loss:1.043\n",
      "Epoch:728 / 1000, train loss:1.003, valid loss:1.087\n",
      "Epoch:729 / 1000, train loss:1.006, valid loss:1.071\n",
      "Epoch:730 / 1000, train loss:1.013, valid loss:0.977\n",
      "Epoch:731 / 1000, train loss:1.005, valid loss:0.946\n",
      "Epoch:732 / 1000, train loss:1.010, valid loss:0.962\n",
      "Epoch:733 / 1000, train loss:1.028, valid loss:0.997\n",
      "Epoch:734 / 1000, train loss:1.016, valid loss:1.143\n",
      "Epoch:735 / 1000, train loss:1.005, valid loss:1.093\n",
      "Epoch:736 / 1000, train loss:1.007, valid loss:1.107\n",
      "Epoch:737 / 1000, train loss:1.010, valid loss:1.062\n",
      "Epoch:738 / 1000, train loss:1.016, valid loss:0.970\n",
      "Epoch:739 / 1000, train loss:1.007, valid loss:0.956\n",
      "Epoch:740 / 1000, train loss:1.006, valid loss:1.119\n",
      "Epoch:741 / 1000, train loss:1.010, valid loss:1.014\n",
      "Epoch:742 / 1000, train loss:1.014, valid loss:0.933\n",
      "Epoch:743 / 1000, train loss:1.015, valid loss:1.065\n",
      "Epoch:744 / 1000, train loss:1.006, valid loss:1.109\n",
      "Epoch:745 / 1000, train loss:1.002, valid loss:1.044\n",
      "Epoch:746 / 1000, train loss:1.008, valid loss:1.067\n",
      "Epoch:747 / 1000, train loss:1.007, valid loss:1.088\n",
      "Epoch:748 / 1000, train loss:1.009, valid loss:1.015\n",
      "Epoch:749 / 1000, train loss:1.005, valid loss:1.016\n",
      "Epoch:750 / 1000, train loss:1.005, valid loss:0.955\n",
      "Epoch:751 / 1000, train loss:1.004, valid loss:1.007\n",
      "Epoch:752 / 1000, train loss:1.015, valid loss:1.087\n",
      "Epoch:753 / 1000, train loss:1.005, valid loss:0.952\n",
      "Epoch:754 / 1000, train loss:1.006, valid loss:0.989\n",
      "Epoch:755 / 1000, train loss:1.007, valid loss:1.005\n",
      "Epoch:756 / 1000, train loss:1.006, valid loss:1.016\n",
      "Epoch:757 / 1000, train loss:1.011, valid loss:1.028\n",
      "Epoch:758 / 1000, train loss:1.011, valid loss:1.058\n",
      "Epoch:759 / 1000, train loss:1.016, valid loss:1.058\n",
      "Epoch:760 / 1000, train loss:1.010, valid loss:1.012\n",
      "Epoch:761 / 1000, train loss:1.025, valid loss:0.964\n",
      "Epoch:762 / 1000, train loss:1.010, valid loss:1.080\n",
      "Epoch:763 / 1000, train loss:1.006, valid loss:1.031\n",
      "Epoch:764 / 1000, train loss:1.005, valid loss:0.974\n",
      "Epoch:765 / 1000, train loss:1.004, valid loss:0.978\n",
      "Epoch:766 / 1000, train loss:1.007, valid loss:1.245\n",
      "Epoch:767 / 1000, train loss:1.002, valid loss:1.094\n",
      "Epoch:768 / 1000, train loss:1.016, valid loss:1.184\n",
      "Epoch:769 / 1000, train loss:1.016, valid loss:1.089\n",
      "Epoch:770 / 1000, train loss:1.006, valid loss:1.079\n",
      "Epoch:771 / 1000, train loss:1.002, valid loss:1.043\n",
      "Epoch:772 / 1000, train loss:1.016, valid loss:1.131\n",
      "Epoch:773 / 1000, train loss:1.006, valid loss:0.960\n",
      "Epoch:774 / 1000, train loss:1.008, valid loss:0.990\n",
      "Epoch:775 / 1000, train loss:1.009, valid loss:0.977\n",
      "Epoch:776 / 1000, train loss:1.011, valid loss:0.951\n",
      "Epoch:777 / 1000, train loss:1.010, valid loss:0.956\n",
      "Epoch:778 / 1000, train loss:1.007, valid loss:1.005\n",
      "Epoch:779 / 1000, train loss:1.006, valid loss:1.007\n",
      "Epoch:780 / 1000, train loss:1.006, valid loss:1.007\n",
      "Epoch:781 / 1000, train loss:1.012, valid loss:0.964\n",
      "Epoch:782 / 1000, train loss:1.012, valid loss:1.064\n",
      "Epoch:783 / 1000, train loss:1.003, valid loss:1.087\n",
      "Epoch:784 / 1000, train loss:1.008, valid loss:1.117\n",
      "Epoch:785 / 1000, train loss:1.007, valid loss:0.955\n",
      "Epoch:786 / 1000, train loss:1.006, valid loss:0.925\n",
      "Epoch:787 / 1000, train loss:1.010, valid loss:0.940\n",
      "Epoch:788 / 1000, train loss:1.009, valid loss:1.076\n",
      "Epoch:789 / 1000, train loss:1.002, valid loss:1.162\n",
      "Epoch:790 / 1000, train loss:1.008, valid loss:1.031\n",
      "Epoch:791 / 1000, train loss:1.013, valid loss:1.051\n",
      "Epoch:792 / 1000, train loss:1.008, valid loss:0.967\n",
      "Epoch:793 / 1000, train loss:1.012, valid loss:0.999\n",
      "Epoch:794 / 1000, train loss:1.011, valid loss:1.024\n",
      "Epoch:795 / 1000, train loss:1.002, valid loss:0.969\n",
      "Epoch:796 / 1000, train loss:1.008, valid loss:0.967\n",
      "Epoch:797 / 1000, train loss:1.008, valid loss:0.998\n",
      "Epoch:798 / 1000, train loss:1.010, valid loss:1.095\n",
      "Epoch:799 / 1000, train loss:1.013, valid loss:1.005\n",
      "Epoch:800 / 1000, train loss:1.006, valid loss:1.044\n",
      "Epoch:801 / 1000, train loss:1.006, valid loss:1.017\n",
      "Epoch:802 / 1000, train loss:1.003, valid loss:0.995\n",
      "Epoch:803 / 1000, train loss:1.003, valid loss:1.088\n",
      "Epoch:804 / 1000, train loss:1.012, valid loss:0.956\n",
      "Epoch:805 / 1000, train loss:1.019, valid loss:0.934\n",
      "Epoch:806 / 1000, train loss:1.013, valid loss:0.986\n",
      "Epoch:807 / 1000, train loss:1.010, valid loss:0.942\n",
      "Epoch:808 / 1000, train loss:1.004, valid loss:1.122\n",
      "Epoch:809 / 1000, train loss:1.013, valid loss:0.936\n",
      "Epoch:810 / 1000, train loss:1.008, valid loss:0.967\n",
      "Epoch:811 / 1000, train loss:1.010, valid loss:1.075\n",
      "Epoch:812 / 1000, train loss:1.009, valid loss:1.109\n",
      "Epoch:813 / 1000, train loss:1.016, valid loss:0.976\n",
      "Epoch:814 / 1000, train loss:1.009, valid loss:1.139\n",
      "Epoch:815 / 1000, train loss:1.002, valid loss:1.070\n",
      "Epoch:816 / 1000, train loss:1.005, valid loss:0.956\n",
      "Epoch:817 / 1000, train loss:1.024, valid loss:1.096\n",
      "Epoch:818 / 1000, train loss:1.024, valid loss:1.037\n",
      "Epoch:819 / 1000, train loss:1.008, valid loss:1.015\n",
      "Epoch:820 / 1000, train loss:1.011, valid loss:0.984\n",
      "Epoch:821 / 1000, train loss:1.005, valid loss:1.113\n",
      "Epoch:822 / 1000, train loss:1.021, valid loss:0.971\n",
      "Epoch:823 / 1000, train loss:1.011, valid loss:1.077\n",
      "Epoch:824 / 1000, train loss:1.004, valid loss:0.949\n",
      "Epoch:825 / 1000, train loss:1.006, valid loss:0.954\n",
      "Epoch:826 / 1000, train loss:1.011, valid loss:1.209\n",
      "Epoch:827 / 1000, train loss:1.006, valid loss:1.046\n",
      "Epoch:828 / 1000, train loss:1.007, valid loss:1.027\n",
      "Epoch:829 / 1000, train loss:1.011, valid loss:1.060\n",
      "Epoch:830 / 1000, train loss:1.015, valid loss:1.027\n",
      "Epoch:831 / 1000, train loss:1.013, valid loss:0.948\n",
      "Epoch:832 / 1000, train loss:1.011, valid loss:1.036\n",
      "Epoch:833 / 1000, train loss:1.018, valid loss:1.017\n",
      "Epoch:834 / 1000, train loss:1.014, valid loss:1.131\n",
      "Epoch:835 / 1000, train loss:1.012, valid loss:1.100\n",
      "Epoch:836 / 1000, train loss:1.024, valid loss:0.988\n",
      "Epoch:837 / 1000, train loss:1.016, valid loss:1.000\n",
      "Epoch:838 / 1000, train loss:1.016, valid loss:0.992\n",
      "Epoch:839 / 1000, train loss:1.003, valid loss:1.059\n",
      "Epoch:840 / 1000, train loss:1.012, valid loss:1.013\n",
      "Epoch:841 / 1000, train loss:1.011, valid loss:1.018\n",
      "Epoch:842 / 1000, train loss:1.003, valid loss:1.015\n",
      "Epoch:843 / 1000, train loss:1.011, valid loss:0.973\n",
      "Epoch:844 / 1000, train loss:1.012, valid loss:0.998\n",
      "Epoch:845 / 1000, train loss:1.005, valid loss:1.017\n",
      "Epoch:846 / 1000, train loss:1.007, valid loss:1.066\n",
      "Epoch:847 / 1000, train loss:1.022, valid loss:1.000\n",
      "Epoch:848 / 1000, train loss:1.006, valid loss:1.033\n",
      "Epoch:849 / 1000, train loss:1.016, valid loss:0.980\n",
      "Epoch:850 / 1000, train loss:1.014, valid loss:1.041\n",
      "Epoch:851 / 1000, train loss:1.014, valid loss:1.050\n",
      "Epoch:852 / 1000, train loss:1.007, valid loss:1.110\n",
      "Epoch:853 / 1000, train loss:1.009, valid loss:1.107\n",
      "Epoch:854 / 1000, train loss:1.022, valid loss:0.981\n",
      "Epoch:855 / 1000, train loss:1.005, valid loss:0.995\n",
      "Epoch:856 / 1000, train loss:1.008, valid loss:0.940\n",
      "Epoch:857 / 1000, train loss:1.009, valid loss:1.068\n",
      "Epoch:858 / 1000, train loss:1.007, valid loss:1.071\n",
      "Epoch:859 / 1000, train loss:1.007, valid loss:0.962\n",
      "Epoch:860 / 1000, train loss:1.013, valid loss:1.012\n",
      "Epoch:861 / 1000, train loss:1.013, valid loss:1.021\n",
      "Epoch:862 / 1000, train loss:1.013, valid loss:1.040\n",
      "Epoch:863 / 1000, train loss:1.002, valid loss:1.006\n",
      "Epoch:864 / 1000, train loss:1.018, valid loss:1.006\n",
      "Epoch:865 / 1000, train loss:1.025, valid loss:1.079\n",
      "Epoch:866 / 1000, train loss:1.003, valid loss:0.974\n",
      "Epoch:867 / 1000, train loss:1.014, valid loss:0.968\n",
      "Epoch:868 / 1000, train loss:1.021, valid loss:0.967\n",
      "Epoch:869 / 1000, train loss:1.009, valid loss:0.998\n",
      "Epoch:870 / 1000, train loss:1.009, valid loss:1.027\n",
      "Epoch:871 / 1000, train loss:1.010, valid loss:1.027\n",
      "Epoch:872 / 1000, train loss:1.002, valid loss:0.958\n",
      "Epoch:873 / 1000, train loss:1.000, valid loss:1.002\n",
      "Epoch:874 / 1000, train loss:1.004, valid loss:0.995\n",
      "Epoch:875 / 1000, train loss:1.004, valid loss:0.999\n",
      "Epoch:876 / 1000, train loss:1.008, valid loss:1.022\n",
      "Epoch:877 / 1000, train loss:1.007, valid loss:1.119\n",
      "Epoch:878 / 1000, train loss:1.008, valid loss:1.047\n",
      "Epoch:879 / 1000, train loss:1.007, valid loss:1.085\n",
      "Epoch:880 / 1000, train loss:1.006, valid loss:0.984\n",
      "Epoch:881 / 1000, train loss:1.008, valid loss:0.993\n",
      "Epoch:882 / 1000, train loss:1.001, valid loss:1.056\n",
      "Epoch:883 / 1000, train loss:1.019, valid loss:0.960\n",
      "Epoch:884 / 1000, train loss:1.019, valid loss:1.040\n",
      "Epoch:885 / 1000, train loss:1.014, valid loss:1.068\n",
      "Epoch:886 / 1000, train loss:1.017, valid loss:1.060\n",
      "Epoch:887 / 1000, train loss:1.006, valid loss:1.033\n",
      "Epoch:888 / 1000, train loss:1.006, valid loss:0.939\n",
      "Epoch:889 / 1000, train loss:1.016, valid loss:0.991\n",
      "Epoch:890 / 1000, train loss:1.005, valid loss:1.046\n",
      "Epoch:891 / 1000, train loss:1.011, valid loss:1.000\n",
      "Epoch:892 / 1000, train loss:1.010, valid loss:0.988\n",
      "Epoch:893 / 1000, train loss:1.002, valid loss:1.067\n",
      "Epoch:894 / 1000, train loss:1.006, valid loss:1.002\n",
      "Epoch:895 / 1000, train loss:1.006, valid loss:1.067\n",
      "Epoch:896 / 1000, train loss:1.005, valid loss:0.943\n",
      "Epoch:897 / 1000, train loss:1.016, valid loss:1.128\n",
      "Epoch:898 / 1000, train loss:1.018, valid loss:0.968\n",
      "Epoch:899 / 1000, train loss:1.005, valid loss:0.953\n",
      "Epoch:900 / 1000, train loss:1.006, valid loss:0.970\n",
      "Epoch:901 / 1000, train loss:1.006, valid loss:1.023\n",
      "Epoch:902 / 1000, train loss:1.012, valid loss:1.044\n",
      "Epoch:903 / 1000, train loss:1.011, valid loss:1.060\n",
      "Epoch:904 / 1000, train loss:1.009, valid loss:1.002\n",
      "Epoch:905 / 1000, train loss:1.004, valid loss:1.155\n",
      "Epoch:906 / 1000, train loss:1.014, valid loss:1.018\n",
      "Epoch:907 / 1000, train loss:1.016, valid loss:0.951\n",
      "Epoch:908 / 1000, train loss:1.018, valid loss:1.171\n",
      "Epoch:909 / 1000, train loss:1.014, valid loss:1.132\n",
      "Epoch:910 / 1000, train loss:1.011, valid loss:0.964\n",
      "Epoch:911 / 1000, train loss:1.008, valid loss:1.072\n",
      "Epoch:912 / 1000, train loss:1.009, valid loss:1.079\n",
      "Epoch:913 / 1000, train loss:1.013, valid loss:1.058\n",
      "Epoch:914 / 1000, train loss:1.003, valid loss:0.973\n",
      "Epoch:915 / 1000, train loss:1.010, valid loss:0.995\n",
      "Epoch:916 / 1000, train loss:1.002, valid loss:0.992\n",
      "Epoch:917 / 1000, train loss:1.013, valid loss:1.046\n",
      "Epoch:918 / 1000, train loss:1.006, valid loss:1.053\n",
      "Epoch:919 / 1000, train loss:1.011, valid loss:0.994\n",
      "Epoch:920 / 1000, train loss:1.006, valid loss:0.989\n",
      "Epoch:921 / 1000, train loss:1.007, valid loss:1.067\n",
      "Epoch:922 / 1000, train loss:1.015, valid loss:1.015\n",
      "Epoch:923 / 1000, train loss:1.005, valid loss:0.957\n",
      "Epoch:924 / 1000, train loss:1.002, valid loss:0.990\n",
      "Epoch:925 / 1000, train loss:1.006, valid loss:1.031\n",
      "Epoch:926 / 1000, train loss:1.012, valid loss:1.144\n",
      "Epoch:927 / 1000, train loss:1.010, valid loss:0.998\n",
      "Epoch:928 / 1000, train loss:1.011, valid loss:1.049\n",
      "Epoch:929 / 1000, train loss:1.010, valid loss:1.037\n",
      "Epoch:930 / 1000, train loss:1.010, valid loss:1.055\n",
      "Epoch:931 / 1000, train loss:1.011, valid loss:1.046\n",
      "Epoch:932 / 1000, train loss:1.009, valid loss:0.983\n",
      "Epoch:933 / 1000, train loss:1.013, valid loss:0.986\n",
      "Epoch:934 / 1000, train loss:1.018, valid loss:1.010\n",
      "Epoch:935 / 1000, train loss:1.011, valid loss:1.119\n",
      "Epoch:936 / 1000, train loss:1.012, valid loss:1.007\n",
      "Epoch:937 / 1000, train loss:1.006, valid loss:0.974\n",
      "Epoch:938 / 1000, train loss:1.005, valid loss:0.959\n",
      "Epoch:939 / 1000, train loss:1.002, valid loss:1.038\n",
      "Epoch:940 / 1000, train loss:1.007, valid loss:0.973\n",
      "Epoch:941 / 1000, train loss:1.004, valid loss:0.931\n",
      "Epoch:942 / 1000, train loss:1.014, valid loss:1.033\n",
      "Epoch:943 / 1000, train loss:1.014, valid loss:1.002\n",
      "Epoch:944 / 1000, train loss:1.011, valid loss:0.956\n",
      "Epoch:945 / 1000, train loss:1.005, valid loss:1.135\n",
      "Epoch:946 / 1000, train loss:1.005, valid loss:0.982\n",
      "Epoch:947 / 1000, train loss:1.007, valid loss:1.020\n",
      "Epoch:948 / 1000, train loss:1.010, valid loss:1.015\n",
      "Epoch:949 / 1000, train loss:1.005, valid loss:1.034\n",
      "Epoch:950 / 1000, train loss:1.009, valid loss:1.024\n",
      "Epoch:951 / 1000, train loss:1.004, valid loss:0.938\n",
      "Epoch:952 / 1000, train loss:1.011, valid loss:0.974\n",
      "Epoch:953 / 1000, train loss:1.013, valid loss:0.997\n",
      "Epoch:954 / 1000, train loss:1.013, valid loss:1.031\n",
      "Epoch:955 / 1000, train loss:1.011, valid loss:1.000\n",
      "Epoch:956 / 1000, train loss:1.014, valid loss:0.960\n",
      "Epoch:957 / 1000, train loss:1.005, valid loss:1.082\n",
      "Epoch:958 / 1000, train loss:1.015, valid loss:0.975\n",
      "Epoch:959 / 1000, train loss:1.014, valid loss:1.029\n",
      "Epoch:960 / 1000, train loss:1.012, valid loss:0.959\n",
      "Epoch:961 / 1000, train loss:1.020, valid loss:1.108\n",
      "Epoch:962 / 1000, train loss:1.012, valid loss:0.958\n",
      "Epoch:963 / 1000, train loss:1.014, valid loss:1.132\n",
      "Epoch:964 / 1000, train loss:1.009, valid loss:1.054\n",
      "Epoch:965 / 1000, train loss:1.006, valid loss:0.974\n",
      "Epoch:966 / 1000, train loss:1.009, valid loss:1.026\n",
      "Epoch:967 / 1000, train loss:1.005, valid loss:0.944\n",
      "Epoch:968 / 1000, train loss:1.011, valid loss:1.096\n",
      "Epoch:969 / 1000, train loss:1.016, valid loss:1.015\n",
      "Epoch:970 / 1000, train loss:1.021, valid loss:1.043\n",
      "Epoch:971 / 1000, train loss:1.007, valid loss:0.992\n",
      "Epoch:972 / 1000, train loss:1.005, valid loss:1.105\n",
      "Epoch:973 / 1000, train loss:1.007, valid loss:1.014\n",
      "Epoch:974 / 1000, train loss:1.015, valid loss:1.098\n",
      "Epoch:975 / 1000, train loss:1.023, valid loss:1.009\n",
      "Epoch:976 / 1000, train loss:1.019, valid loss:1.003\n",
      "Epoch:977 / 1000, train loss:1.007, valid loss:0.998\n",
      "Epoch:978 / 1000, train loss:1.009, valid loss:0.968\n",
      "Epoch:979 / 1000, train loss:1.011, valid loss:1.063\n",
      "Epoch:980 / 1000, train loss:1.007, valid loss:1.141\n",
      "Epoch:981 / 1000, train loss:1.003, valid loss:1.080\n",
      "Epoch:982 / 1000, train loss:1.018, valid loss:1.113\n",
      "Epoch:983 / 1000, train loss:1.003, valid loss:0.988\n",
      "Epoch:984 / 1000, train loss:1.012, valid loss:0.983\n",
      "Epoch:985 / 1000, train loss:1.014, valid loss:1.016\n",
      "Epoch:986 / 1000, train loss:1.010, valid loss:0.975\n",
      "Epoch:987 / 1000, train loss:1.012, valid loss:1.058\n",
      "Epoch:988 / 1000, train loss:1.005, valid loss:0.983\n",
      "Epoch:989 / 1000, train loss:1.004, valid loss:0.991\n",
      "Epoch:990 / 1000, train loss:1.012, valid loss:1.122\n",
      "Epoch:991 / 1000, train loss:1.017, valid loss:0.996\n",
      "Epoch:992 / 1000, train loss:1.005, valid loss:1.090\n",
      "Epoch:993 / 1000, train loss:1.011, valid loss:1.070\n",
      "Epoch:994 / 1000, train loss:1.010, valid loss:1.056\n",
      "Epoch:995 / 1000, train loss:1.005, valid loss:1.008\n",
      "Epoch:996 / 1000, train loss:1.017, valid loss:1.022\n",
      "Epoch:997 / 1000, train loss:1.008, valid loss:0.963\n",
      "Epoch:998 / 1000, train loss:1.018, valid loss:0.978\n",
      "Epoch:999 / 1000, train loss:1.005, valid loss:1.005\n",
      "Epoch:1000 / 1000, train loss:1.004, valid loss:1.010\n"
     ]
    }
   ],
   "source": [
    "# traning loop\n",
    "print('Training Starts:')\n",
    "\n",
    "# training epochs\n",
    "num_epochs = 1000\n",
    "\n",
    "# record validation loss history\n",
    "val_loss_hist = []\n",
    "\n",
    "for epoch in range(num_epochs):\n",
    "\n",
    "    model.train()  # start to train the model, activate training behavior\n",
    "    train_loss = 0\n",
    "    val_loss = 0\n",
    "\n",
    "    for x, y in train_loader:\n",
    "\n",
    "      # move batch to device\n",
    "      x = x.to(device)\n",
    "      y = y.to(device)\n",
    "\n",
    "      # forward\n",
    "      y_hat = model(x).squeeze()  # y_hat has shape (32,1), but y has shape (32,). Use squeeze to change y_hat's shape to (32,)\n",
    "\n",
    "\n",
    "      # calculate loss\n",
    "      loss = loss_func(y_hat, y)\n",
    "      train_loss += (loss.detach().item())\n",
    "\n",
    "      # backpropation: calculate the gradients\n",
    "      loss.backward()\n",
    "    \n",
    "      # update weight based on gradients\n",
    "      optimizer.step()\n",
    "\n",
    "      # delete gradients after parameter update\n",
    "      optimizer.zero_grad()\n",
    "\n",
    "    # valid\n",
    "    model.eval()  # put the model in evaluation model\n",
    "\n",
    "    with torch.no_grad():  # tell pytorch not to update parameters\n",
    "        \n",
    "        for x, y in valid_loader:\n",
    "\n",
    "          # move batch to device\n",
    "          x = x.to(device)\n",
    "          y = y.to(device)\n",
    "          \n",
    "          # forward\n",
    "          y_hat = model(x).squeeze()\n",
    "\n",
    "          # calculate loss\n",
    "          loss = loss_func(y_hat, y)\n",
    "          val_loss += (loss.detach().item())\n",
    "    \n",
    "    # print\n",
    "    print(f\"Epoch:{epoch + 1} / {num_epochs}, train loss:{train_loss/len(train_loader):.3f}, valid loss:{val_loss/len(valid_loader):.3f}\")\n",
    "    val_loss_hist.append(val_loss/len(valid_loader))"
   ]
  },
  {
   "cell_type": "code",
   "execution_count": 34,
   "metadata": {
    "colab": {
     "base_uri": "https://localhost:8080/",
     "height": 282
    },
    "executionInfo": {
     "elapsed": 369,
     "status": "ok",
     "timestamp": 1645635032073,
     "user": {
      "displayName": "Rong Liu",
      "photoUrl": "https://lh3.googleusercontent.com/a/default-user=s64",
      "userId": "15250589813520096948"
     },
     "user_tz": 300
    },
    "id": "X476aEPpDAag",
    "outputId": "c1ba78fd-a0d4-42f1-9b88-5106c00f455e"
   },
   "outputs": [
    {
     "data": {
      "text/plain": [
       "[<matplotlib.lines.Line2D at 0x7fbcfc6d8410>]"
      ]
     },
     "execution_count": 34,
     "metadata": {},
     "output_type": "execute_result"
    },
    {
     "data": {
      "image/png": "[encoded data removed]",
      "text/plain": [
       "<Figure size 432x288 with 1 Axes>"
      ]
     },
     "metadata": {
      "needs_background": "light"
     },
     "output_type": "display_data"
    }
   ],
   "source": [
    "plt.plot(val_loss_hist)"
   ]
  },
  {
   "cell_type": "markdown",
   "metadata": {
    "id": "5Y0v3yRRa1f1"
   },
   "source": [
    "Check the model parameters\n",
    "\n",
    "Notice that the parameters are very close to the formula used in generating fake data."
   ]
  },
  {
   "cell_type": "code",
   "execution_count": 35,
   "metadata": {
    "colab": {
     "base_uri": "https://localhost:8080/"
    },
    "executionInfo": {
     "elapsed": 140,
     "status": "ok",
     "timestamp": 1645635040097,
     "user": {
      "displayName": "Rong Liu",
      "photoUrl": "https://lh3.googleusercontent.com/a/default-user=s64",
      "userId": "15250589813520096948"
     },
     "user_tz": 300
    },
    "id": "RSzGvmReDENf",
    "outputId": "9770033c-2a81-4391-dd2c-19525c3ab651"
   },
   "outputs": [
    {
     "name": "stdout",
     "output_type": "stream",
     "text": [
      "[Parameter containing:\n",
      "tensor([[1.5001, 2.0019]], device='cuda:0', requires_grad=True), Parameter containing:\n",
      "tensor([0.9342], device='cuda:0', requires_grad=True)]\n"
     ]
    }
   ],
   "source": [
    "print([i for i in model.parameters()])"
   ]
  },
  {
   "cell_type": "markdown",
   "metadata": {
    "id": "jvqPtYmeCvcj"
   },
   "source": [
    "### Test result"
   ]
  },
  {
   "cell_type": "code",
   "execution_count": 36,
   "metadata": {
    "executionInfo": {
     "elapsed": 135,
     "status": "ok",
     "timestamp": 1645635044274,
     "user": {
      "displayName": "Rong Liu",
      "photoUrl": "https://lh3.googleusercontent.com/a/default-user=s64",
      "userId": "15250589813520096948"
     },
     "user_tz": 300
    },
    "id": "nD9l34twbEyv"
   },
   "outputs": [],
   "source": [
    "ys = []\n",
    "yhats = []\n",
    "model.eval()\n",
    "\n",
    "for x, y in test_loader:\n",
    "  \n",
    "  # move batch to device\n",
    "  x = x.to(device)\n",
    "          \n",
    "  # forward\n",
    "  y_hat = model(x).squeeze().detach().cpu().numpy() # remove data from gpu to cpu, convert to numpy arary\n",
    "\n",
    "  yhats.append(y_hat)      # y_hat has shape (batch,)\n",
    "  ys.append(y.cpu().numpy())\n"
   ]
  },
  {
   "cell_type": "code",
   "execution_count": 37,
   "metadata": {
    "executionInfo": {
     "elapsed": 152,
     "status": "ok",
     "timestamp": 1645635047294,
     "user": {
      "displayName": "Rong Liu",
      "photoUrl": "https://lh3.googleusercontent.com/a/default-user=s64",
      "userId": "15250589813520096948"
     },
     "user_tz": 300
    },
    "id": "drYFNAENc5U8"
   },
   "outputs": [],
   "source": [
    "# Concatenate the list of arrays to a single array\n",
    "yhats = np.concatenate(yhats)\n",
    "ys = np.concatenate(ys)"
   ]
  },
  {
   "cell_type": "code",
   "execution_count": 38,
   "metadata": {
    "colab": {
     "base_uri": "https://localhost:8080/",
     "height": 320
    },
    "executionInfo": {
     "elapsed": 474,
     "status": "ok",
     "timestamp": 1645635048562,
     "user": {
      "displayName": "Rong Liu",
      "photoUrl": "https://lh3.googleusercontent.com/a/default-user=s64",
      "userId": "15250589813520096948"
     },
     "user_tz": 300
    },
    "id": "eMqjlbqPAKdy",
    "outputId": "629b3433-be73-4cc4-af73-c28d2bba4dc0"
   },
   "outputs": [
    {
     "data": {
      "image/png": "[encoded data removed]",
      "text/plain": [
       "<Figure size 1080x360 with 1 Axes>"
      ]
     },
     "metadata": {
      "needs_background": "light"
     },
     "output_type": "display_data"
    }
   ],
   "source": [
    "plt.figure(figsize=(15,5))\n",
    "plt.plot(range(len(yhats)), yhats, 'r-', label='Predict')\n",
    "plt.plot(range(len(ys)), ys, 'b-', label='True')\n",
    "plt.legend()\n",
    "plt.show()"
   ]
  }
 ],
 "metadata": {
  "accelerator": "GPU",
  "colab": {
   "collapsed_sections": [],
   "machine_shape": "hm",
   "name": "ColabIntroduction.ipynb",
   "provenance": [
    {
     "file_id": "14oCAgbVDTlUFTZU23yzI-3eZfZlOHOA1",
     "timestamp": 1645569227087
    }
   ],
   "toc_visible": true
  },
  "kernelspec": {
   "display_name": "Python 3 (ipykernel)",
   "language": "python",
   "name": "python3"
  },
  "language_info": {
   "codemirror_mode": {
    "name": "ipython",
    "version": 3
   },
   "file_extension": ".py",
   "mimetype": "text/x-python",
   "name": "python",
   "nbconvert_exporter": "python",
   "pygments_lexer": "ipython3",
   "version": "3.9.7"
  }
 },
 "nbformat": 4,
 "nbformat_minor": 4
}
