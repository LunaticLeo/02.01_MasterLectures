{
 "cells": [
  {
   "cell_type": "markdown",
   "metadata": {
    "id": "BNHIIyVwnAzV"
   },
   "source": [
    "\n",
    "\n",
    "\n",
    "\n",
    "The codes are modified from the following source:\\\n",
    "1. https://github.com/bentrevett/pytorch-sentiment-analysis/blob/master/3%20-%20Faster%20Sentiment%20Analysis.ipynb \\\n",
    "2.https://github.com/pyg-team/pytorch_geometric/blob/master/examples/node2vec.py \\\n",
    "3.https://colab.research.google.com/drive/1h3-vJGRVloF5zStxL5I0rSy4ZUPNsjy8?usp=sharing#scrollTo=ci-LpZWhRJoI\n"
   ]
  },
  {
   "cell_type": "markdown",
   "metadata": {
    "id": "JSMVWrMQfiR5"
   },
   "source": [
    "# Word Embedding\n",
    "We will use word embedding to predict the sentiment of each sentence in IMDB data. Our plan is to use Keras to pre-process the data, and use Pytorch to build classification model and train the data. "
   ]
  },
  {
   "cell_type": "markdown",
   "metadata": {
    "id": "FpMU_7Ita8Sk"
   },
   "source": [
    "## Preparing Data\n",
    "Keras provides us an easy and transparant way to process the data. "
   ]
  },
  {
   "cell_type": "code",
   "execution_count": null,
   "metadata": {
    "id": "8UF3nbE48QXz"
   },
   "outputs": [],
   "source": [
    "import numpy as np\n",
    "import keras\n",
    "import torch\n",
    "import torch.nn as nn\n",
    "import matplotlib.pyplot as plt\n",
    "from keras.datasets import imdb\n",
    "from torch.utils.data import Dataset, DataLoader\n",
    "from pprint import pprint\n",
    "\n",
    "np.set_printoptions(formatter={'float': lambda x: \"{0:0.4f}\".format(x)})"
   ]
  },
  {
   "cell_type": "markdown",
   "metadata": {
    "id": "87G-KARcUGR4"
   },
   "source": [
    "Next, let's load the training and test datasets.\n",
    "\n",
    "To save training time, let's only keep the 10,000 most frequent words in the corpus. You can increase the number of words to get better performance"
   ]
  },
  {
   "cell_type": "code",
   "execution_count": null,
   "metadata": {
    "colab": {
     "base_uri": "https://localhost:8080/"
    },
    "executionInfo": {
     "elapsed": 5886,
     "status": "ok",
     "timestamp": 1646840102204,
     "user": {
      "displayName": "Rong Liu",
      "photoUrl": "https://lh3.googleusercontent.com/a/default-user=s64",
      "userId": "15250589813520096948"
     },
     "user_tz": 300
    },
    "id": "GxcgroMsf218",
    "outputId": "dbe74fed-f22b-41a5-99fe-815d1a4e716c"
   },
   "outputs": [
    {
     "name": "stdout",
     "output_type": "stream",
     "text": [
      "Downloading data from https://storage.googleapis.com/tensorflow/tf-keras-datasets/imdb.npz\n",
      "17465344/17464789 [==============================] - 0s 0us/step\n",
      "17473536/17464789 [==============================] - 0s 0us/step\n",
      "[1, 13, 28, 1039, 7, 14, 23, 1856, 13, 104, 36, 4, 699, 8060, 144, 297, 14, 175, 291, 18, 4, 375, 1784, 153, 38, 15, 75, 92, 859, 51, 16, 5, 15, 75, 377, 24, 8, 81, 4, 172, 2497, 174, 40, 1489, 49, 84, 11, 4, 2030, 3039, 121, 36, 92, 4881, 14, 20, 2, 9, 40, 6, 2, 621, 18, 148, 37, 191, 1941, 42, 511, 14, 20, 9, 17, 76, 253, 17, 269, 8, 3336, 4, 2, 8, 1278, 6, 543, 2647, 10, 10, 308, 3102, 2, 47, 43, 188, 46, 7, 1172, 5, 240, 2854, 145, 8, 4, 154, 3243, 11, 4819, 58, 18, 35, 32, 8, 327, 823, 7, 7350, 7, 265, 308, 1828, 145, 1646, 4, 154, 890, 5, 9, 2, 34, 362, 2515, 154, 1914, 5, 27, 2, 2, 17, 36, 837, 5, 1941, 32, 367, 4, 96, 10, 10, 13, 62, 386, 14, 48, 13, 16, 3178, 42, 48, 11, 882, 294, 16, 3412, 2, 4360, 2, 34, 6, 1042, 18, 2, 345, 96, 14, 9, 6, 862, 526, 3757, 917, 5, 60, 1055, 13, 115, 197, 474, 1829, 15, 2006, 7, 6791, 113, 19, 4, 2, 261, 13, 104, 4, 1653, 173, 7, 4, 65, 143, 4, 3801, 1366, 548, 844, 5, 4, 837, 1396, 27, 369, 459, 44, 68, 4731, 5, 181, 8, 607, 4, 6791, 39, 112, 3067, 180, 5, 2, 56, 10, 10, 859, 7552, 2, 4386, 100, 28, 1199, 35, 735, 18, 15, 11, 2096, 8, 14, 3644, 449, 73, 48, 25, 169, 624, 1786, 8, 462, 624, 710, 5, 289, 9800, 2942, 30, 252, 8, 3163, 86, 10, 10, 5, 591, 106, 2, 57, 381, 128, 1996, 375, 58]\n",
      "284\n",
      "label: 0\n"
     ]
    }
   ],
   "source": [
    "imdb = keras.datasets.imdb\n",
    "num_words = 10000           # Only the 10,000 most frequent words \n",
    "\n",
    "# Load data from keras\n",
    "(train_data, train_labels), (test_data, test_labels) = imdb.load_data(seed=1, num_words=num_words)\n",
    "\n",
    "# The first review of the data\n",
    "print(train_data[0])\n",
    "print(len(train_data[0]))\n",
    "print('label:', train_labels[0])"
   ]
  },
  {
   "cell_type": "markdown",
   "metadata": {
    "id": "sr8WP4q4IP95"
   },
   "source": [
    "For processing raw text from the scratch, there are many tutorials online that you can follow. For example, [here](https://medium.com/geekculture/nlp-with-tensorflow-keras-explanation-and-tutorial-cae3554b1290) or [here](https://realpython.com/python-keras-text-classification/)."
   ]
  },
  {
   "cell_type": "markdown",
   "metadata": {
    "id": "3N455ao4kcVE"
   },
   "source": [
    "We see that the text of each review has been encoded as a sequence of integers. Each word in the text is represented as an integer. A dictionary called the `vocabulary` links each word to a unique integer. In the example above, we see that the integer 13 is repeated many times. This integer corresponds to a very frequent word 'i'. In fact, in the `vocabulary`, the more frequent a word, the lower the integer. \n"
   ]
  },
  {
   "cell_type": "markdown",
   "metadata": {
    "id": "BwPvThpqZ1Kk"
   },
   "source": [
    "To get a fixed length input, we can simply truncate the documents to a fixed number of words, say 256. For documents that have more than 256 words, we will keep only the first 256 words. For shorter document, we will fill the unused word slots with zeros. However, you need to study the distribution of document lengths to ensure most  documents are not truncated to maintain the content completeness.\n",
    "\n",
    "\n",
    "With keras, this is easy to do:"
   ]
  },
  {
   "cell_type": "code",
   "execution_count": null,
   "metadata": {
    "id": "wtVWEHQyZ22t"
   },
   "outputs": [],
   "source": [
    "train_data = keras.preprocessing.sequence.pad_sequences(train_data,\n",
    "                                                        value=0,\n",
    "                                                        padding='post',\n",
    "                                                        maxlen=256)\n",
    "\n",
    "test_data = keras.preprocessing.sequence.pad_sequences(test_data,\n",
    "                                                       value=0,\n",
    "                                                       padding='post',\n",
    "                                                       maxlen=256)"
   ]
  },
  {
   "cell_type": "code",
   "execution_count": null,
   "metadata": {
    "colab": {
     "base_uri": "https://localhost:8080/"
    },
    "executionInfo": {
     "elapsed": 353,
     "status": "ok",
     "timestamp": 1646840391707,
     "user": {
      "displayName": "Rong Liu",
      "photoUrl": "https://lh3.googleusercontent.com/a/default-user=s64",
      "userId": "15250589813520096948"
     },
     "user_tz": 300
    },
    "id": "CanIWImWZ99h",
    "outputId": "1a8ba085-0990-4eed-a89e-042c9a9aaaf2"
   },
   "outputs": [
    {
     "data": {
      "text/plain": [
       "array([   1,  103,  450,  576,   73, 2896,    8,    4,  213,    7,  897,\n",
       "         13,   16,  576, 3521,   19,    4,   22,    4,   22,   16,  465,\n",
       "        728,    4, 2563,    4, 1460,    4, 3237,    5,    6,   55,  576,\n",
       "       1078, 2734,   10,   10,   13,   69, 2721,  873,    8,   67,  111,\n",
       "        318,  302,    5,   40,    6,    2,    2,   12, 4280,   72,  245,\n",
       "         19,    4, 4211,    5,    4,    2,    7,   12, 1620,   13,  244,\n",
       "        174, 2654,  245,   19,  129, 7102,   19,    4,  979,    7,    4,\n",
       "         65,    5,  129,  459,    7,    4,  318,  302,   25,   80,  140,\n",
       "          6,  196,   96,   61,  464,   13,   80,  407,   30,    4, 2217,\n",
       "          7,  129,  337, 1333,   10,   10, 2127,    2,    4,  118,  284,\n",
       "       1344,   16,    4,  612,   31, 1099,   25,   93, 1792, 7606,  168,\n",
       "         40,    6,  506, 1079,    8,    2,   10,   10,  444,    4,  116,\n",
       "         65,  347,    4,  312,  489, 1423,    5, 1190,  302,   12,   16,\n",
       "        777,   13,   43,  657,   12,   71, 1207,   13,  244,  267,  930,\n",
       "          8,    4,    2,   19,  576,  312, 1398,    0,    0,    0,    0,\n",
       "          0,    0,    0,    0,    0,    0,    0,    0,    0,    0,    0,\n",
       "          0,    0,    0,    0,    0,    0,    0,    0,    0,    0,    0,\n",
       "          0,    0,    0,    0,    0,    0,    0,    0,    0,    0,    0,\n",
       "          0,    0,    0,    0,    0,    0,    0,    0,    0,    0,    0,\n",
       "          0,    0,    0,    0,    0,    0,    0,    0,    0,    0,    0,\n",
       "          0,    0,    0,    0,    0,    0,    0,    0,    0,    0,    0,\n",
       "          0,    0,    0,    0,    0,    0,    0,    0,    0,    0,    0,\n",
       "          0,    0,    0,    0,    0,    0,    0,    0,    0,    0,    0,\n",
       "          0,    0,    0], dtype=int32)"
      ]
     },
     "execution_count": 5,
     "metadata": {},
     "output_type": "execute_result"
    }
   ],
   "source": [
    "# You can check one and notice 0s are appended at the end\n",
    "\n",
    "train_data[1]"
   ]
  },
  {
   "cell_type": "code",
   "execution_count": null,
   "metadata": {
    "id": "3zNVwk6XEZDW"
   },
   "outputs": [],
   "source": [
    "# show mapping between words and index\n",
    "# dict(sorted(imdb.get_word_index().items(), key=lambda x:x[1]))\n",
    "\n"
   ]
  },
  {
   "cell_type": "code",
   "execution_count": null,
   "metadata": {
    "colab": {
     "base_uri": "https://localhost:8080/"
    },
    "executionInfo": {
     "elapsed": 482,
     "status": "ok",
     "timestamp": 1646840397143,
     "user": {
      "displayName": "Rong Liu",
      "photoUrl": "https://lh3.googleusercontent.com/a/default-user=s64",
      "userId": "15250589813520096948"
     },
     "user_tz": 300
    },
    "id": "IWc3SnBv3SHc",
    "outputId": "96de5d19-cb18-467d-dd32-3d76ff731a6e"
   },
   "outputs": [
    {
     "name": "stdout",
     "output_type": "stream",
     "text": [
      "Downloading data from https://storage.googleapis.com/tensorflow/tf-keras-datasets/imdb_word_index.json\n",
      "1646592/1641221 [==============================] - 0s 0us/step\n",
      "1654784/1641221 [==============================] - 0s 0us/step\n",
      "forget what was and that we remember not to do the same mistakes again like putting some people in the director's chair where they don't belong this movie ? is like a ? musical for those who can't sing or act this movie is as much fun as trying to teach the ? to drive a city bus br br john hood ? has just got out of prison and he's headed back to the old neighborhood in serving time for an all to nice crime of necessity of course john heads back onto the old street and is ? by kids dogs old ladies and his ? ? as they dance and sing all along the way br br i would recommend this if i was sentimental or if in truth someone was smoking ? pot ? by a doctor for ? either way this is a poorly directed scripted acted and even produced i never thought i'd sat that satire of ghetto life with the ? although i think the redeeming part of the story through the wannabe gang fight sequences and the dance numbers his friends care about their neighbors and want to save the ghetto from being torn down and ? up br br forget sonny ? mario could have won an oscar for that in comparison to this rap oh well if you find yourself wanting to laugh yourself silly and three quarters embarrassed be sure to drink first br br and please watch ? no stars better luck next time\n"
     ]
    }
   ],
   "source": [
    "# Decode text\n",
    "\n",
    "# word_index is a dictionary mapping words to an integer index\n",
    "word_index = imdb.get_word_index()\n",
    "\n",
    "# We reverse it, mapping integer indices to words\n",
    "reverse_word_index = dict([(value, key) for (key, value) in word_index.items()])\n",
    "\n",
    "# We decode the review; note that our indices were offset by 3\n",
    "# because 0, 1 and 2 are reserved indices for \"padding\", \"start of sequence\", and \"unknown\".\n",
    "decoded_review = ' '.join([reverse_word_index.get(i - 3, '?') for i in train_data[0]])\n",
    "\n",
    "print(decoded_review)"
   ]
  },
  {
   "cell_type": "markdown",
   "metadata": {
    "id": "aLdo-ADv3stO"
   },
   "source": [
    "## Train word vectors by Gensim\n",
    "\n",
    "\n",
    "Check tutorial here: https://machinelearningmastery.com/develop-word-embeddings-python-gensim/"
   ]
  },
  {
   "cell_type": "markdown",
   "metadata": {
    "id": "lbYVYklorhhg"
   },
   "source": [
    "## Use Pretrained Wordvector - GloVe\n",
    "Rather than training our own word vectors from scratch, we will leverage on GloVe. Its authors have released four text files with word vectors trained on different massive web datasets. We will use the smallest file (“ glove.6B.zip”), which was trained on a corpus of 6 billion tokens and contains a vocabulary of 400 thousand tokens. It provides text-encoded vectors of various sizes: 50-dimensional, 100-dimensional, 200-dimensional, 300-dimensional. To save training time, We'll use the 50-dimension vectors.  A higher dimension can give you better results.\n"
   ]
  },
  {
   "cell_type": "code",
   "execution_count": null,
   "metadata": {
    "colab": {
     "base_uri": "https://localhost:8080/"
    },
    "executionInfo": {
     "elapsed": 193331,
     "status": "ok",
     "timestamp": 1646947897392,
     "user": {
      "displayName": "Rong Liu",
      "photoUrl": "https://lh3.googleusercontent.com/a/default-user=s64",
      "userId": "15250589813520096948"
     },
     "user_tz": 300
    },
    "id": "WVdbREtx4cxB",
    "outputId": "1911cc96-bc5a-46c6-f341-e1ac079d7d2e"
   },
   "outputs": [
    {
     "name": "stderr",
     "output_type": "stream",
     "text": [
      ".vector_cache/glove.6B.zip: 862MB [02:39, 5.39MB/s]                           \n",
      "100%|█████████▉| 399999/400000 [00:09<00:00, 43817.03it/s]\n"
     ]
    },
    {
     "data": {
      "text/plain": [
       "tensor([ 0.4394,  0.4327, -0.3665,  0.2778,  0.0629, -0.8020, -0.9304,  0.0164,\n",
       "        -0.5503, -0.1628, -0.4035, -1.3975,  0.3208, -0.8895, -0.1885,  0.1152,\n",
       "         0.0453,  0.8300, -0.8759,  0.7765,  0.5595,  0.0747, -0.8467,  0.4098,\n",
       "        -0.5977, -2.0620, -0.1589,  0.5798,  0.2827, -1.0213,  3.2488,  0.5003,\n",
       "         0.1156, -1.1707,  0.1902,  0.3689, -0.0420,  0.0282,  0.5412,  0.8489,\n",
       "        -0.6671,  0.6080,  0.2379, -0.6538, -0.7055,  0.5165, -1.0780, -0.7152,\n",
       "         0.4840, -0.3256])"
      ]
     },
     "execution_count": 1,
     "metadata": {},
     "output_type": "execute_result"
    }
   ],
   "source": [
    "# load Glove word vector\n",
    "import torchtext\n",
    "\n",
    "vector = torchtext.vocab.GloVe(name='6B', dim=50)\n",
    "\n",
    "vector[\"city\"]\n"
   ]
  },
  {
   "cell_type": "markdown",
   "metadata": {
    "id": "e-X4T0cK5bG8"
   },
   "source": [
    "## Embedding matrix \n",
    "\n",
    "\n",
    "Next we need to look up the Glove vector for each word used in our dataset. \n",
    "\n",
    "We limit our vocabulary to 10,000 words. \n",
    "\n",
    "Note, the first three words are reserved for padding, unknown tokens, and a symbol to indicate the start of a sentence. We use all zero vectors to represent these words."
   ]
  },
  {
   "cell_type": "code",
   "execution_count": null,
   "metadata": {
    "colab": {
     "base_uri": "https://localhost:8080/"
    },
    "executionInfo": {
     "elapsed": 8,
     "status": "ok",
     "timestamp": 1646840685321,
     "user": {
      "displayName": "Rong Liu",
      "photoUrl": "https://lh3.googleusercontent.com/a/default-user=s64",
      "userId": "15250589813520096948"
     },
     "user_tz": 300
    },
    "id": "V8bN0Nxp41BD",
    "outputId": "cd8d7cf0-64fa-49c3-e5de-fa7d96850388"
   },
   "outputs": [
    {
     "name": "stdout",
     "output_type": "stream",
     "text": [
      "[]\n"
     ]
    }
   ],
   "source": [
    "# Look up word vector for each word in our vocabulary\n",
    "\n",
    "vocab_size = 10000  \n",
    "emb_dim = 50\n",
    "missing_words = []  # check if any word without a vector\n",
    "\n",
    "# initialize embedding matrix\n",
    "emb_weight = np.zeros((vocab_size, emb_dim))\n",
    "\n",
    "# loop through all words\n",
    "for word, idx in word_index.items():\n",
    "\n",
    "  # align with word index in sentences, since the first 3 indexes are reserved\n",
    "  if idx + 3 < vocab_size :  \n",
    "    try:\n",
    "      emb = vector[word]\n",
    "      emb_weight[idx+3] = emb    \n",
    "\n",
    "    # not every word has a vector\n",
    "    except:\n",
    "      missing_words.append(word)\n",
    "    \n",
    "print(missing_words)"
   ]
  },
  {
   "cell_type": "markdown",
   "metadata": {
    "id": "WHzL28-S1Acs"
   },
   "source": [
    "Check embeddings for a few words to ensure our embedding matrix is correct."
   ]
  },
  {
   "cell_type": "code",
   "execution_count": null,
   "metadata": {
    "colab": {
     "base_uri": "https://localhost:8080/"
    },
    "executionInfo": {
     "elapsed": 12,
     "status": "ok",
     "timestamp": 1646840685322,
     "user": {
      "displayName": "Rong Liu",
      "photoUrl": "https://lh3.googleusercontent.com/a/default-user=s64",
      "userId": "15250589813520096948"
     },
     "user_tz": 300
    },
    "id": "AszFHq95Ewdd",
    "outputId": "260e313b-2528-4a41-b940-dd01a8d91bbb"
   },
   "outputs": [
    {
     "name": "stdout",
     "output_type": "stream",
     "text": [
      "[0.4394 0.4327 -0.3665 0.2778 0.0629 -0.8020 -0.9304 0.0164 -0.5503\n",
      " -0.1628 -0.4035 -1.3975 0.3208 -0.8895 -0.1885 0.1152 0.0453 0.8300\n",
      " -0.8759 0.7765 0.5595 0.0747 -0.8467 0.4098 -0.5977 -2.0620 -0.1589\n",
      " 0.5798 0.2827 -1.0213 3.2488 0.5003 0.1156 -1.1707 0.1902 0.3689 -0.0420\n",
      " 0.0282 0.5412 0.8489 -0.6671 0.6080 0.2379 -0.6538 -0.7055 0.5165 -1.0780\n",
      " -0.7152 0.4840 -0.3256]\n"
     ]
    },
    {
     "data": {
      "text/plain": [
       "tensor([ 0.4394,  0.4327, -0.3665,  0.2778,  0.0629, -0.8020, -0.9304,  0.0164,\n",
       "        -0.5503, -0.1628, -0.4035, -1.3975,  0.3208, -0.8895, -0.1885,  0.1152,\n",
       "         0.0453,  0.8300, -0.8759,  0.7765,  0.5595,  0.0747, -0.8467,  0.4098,\n",
       "        -0.5977, -2.0620, -0.1589,  0.5798,  0.2827, -1.0213,  3.2488,  0.5003,\n",
       "         0.1156, -1.1707,  0.1902,  0.3689, -0.0420,  0.0282,  0.5412,  0.8489,\n",
       "        -0.6671,  0.6080,  0.2379, -0.6538, -0.7055,  0.5165, -1.0780, -0.7152,\n",
       "         0.4840, -0.3256])"
      ]
     },
     "execution_count": 9,
     "metadata": {},
     "output_type": "execute_result"
    }
   ],
   "source": [
    "# get index for word city\n",
    "i = word_index['city']\n",
    "\n",
    "# remember to add 3 to the index \n",
    "print(emb_weight[i+3])\n",
    "\n",
    "# vector from Glove\n",
    "vector[\"city\"]"
   ]
  },
  {
   "cell_type": "markdown",
   "metadata": {
    "id": "cIvAzU7BvNkM"
   },
   "source": [
    "## Build the Model\n",
    "The next stage is building the model that we'll eventually train and evaluate. We will build a simple model of 3 layers: the `embedding` layer,  an average laery, and the linear layer:\n",
    "-  **Embedding layer**: look up for each word in the `emb_matrix` and convert a document to a matrix of shape `(doc_len, emb_dim)`. Here we use pretrained Glove vectors. We freeze `emb_matrix` to make it non-trainable. You can also continue to fine tune the vectors.\n",
    "- **Average layer**: take the average of word vectors across all words in a document to create a representation for the document.\n",
    "- **Linear layer**: produce the final prediction."
   ]
  },
  {
   "cell_type": "markdown",
   "metadata": {
    "id": "j6KxgUKoIpK8"
   },
   "source": [
    "We now create a neural network with an embedding layer as first layer (we load into it the weights matrix). "
   ]
  },
  {
   "cell_type": "code",
   "execution_count": null,
   "metadata": {
    "id": "WBs7HoFsIm9O"
   },
   "outputs": [],
   "source": [
    "import torch\n",
    "import torch.nn as nn\n",
    "import torch.nn.functional as F\n",
    "\n",
    "class EmbNN(nn.Module):\n",
    "    def __init__(self, emb_weight, emb_dim, output_dim):\n",
    "        \n",
    "        super().__init__()\n",
    "        \n",
    "        # Create a embedding layer using emb_weight.\n",
    "        # Weights can be frozen or trainable\n",
    "        self.embedding = nn.Embedding.from_pretrained(emb_weight, freeze=True)\n",
    "        \n",
    "        self.fc = nn.Linear(emb_dim, output_dim)\n",
    "        \n",
    "    def forward(self, text):\n",
    "        \n",
    "        #text shape: [batch size, sent len]\n",
    "        \n",
    "        embedded = self.embedding(text)              \n",
    "        #embedded shape: [batch size, sent len, emb dim]\n",
    "        \n",
    "        # Take average of word vectors in a sentence as the feature\n",
    "        avg = embedded.mean(dim = 1)    \n",
    "        #avg shape: [batch size, emb_dim]\n",
    "\n",
    "        output =  self.fc(avg)   \n",
    "        #output shape: [batch size, output_dim]\n",
    "\n",
    "        return output"
   ]
  },
  {
   "cell_type": "code",
   "execution_count": null,
   "metadata": {
    "colab": {
     "base_uri": "https://localhost:8080/"
    },
    "executionInfo": {
     "elapsed": 256,
     "status": "ok",
     "timestamp": 1646841010057,
     "user": {
      "displayName": "Rong Liu",
      "photoUrl": "https://lh3.googleusercontent.com/a/default-user=s64",
      "userId": "15250589813520096948"
     },
     "user_tz": 300
    },
    "id": "YZqMMsBFMK3h",
    "outputId": "a918d99a-120f-4632-9c5c-8de81ce58f91"
   },
   "outputs": [
    {
     "name": "stdout",
     "output_type": "stream",
     "text": [
      "torch.Size([10000, 50])\n"
     ]
    }
   ],
   "source": [
    "# create a model\n",
    "output_dim = 1\n",
    "\n",
    "emb_dim = 50\n",
    "\n",
    "# convert emb_matrix to tensor\n",
    "emb_matrix = torch.Tensor(emb_weight)\n",
    "print(emb_matrix.shape)\n",
    "\n",
    "model = EmbNN(emb_matrix,emb_dim, output_dim)"
   ]
  },
  {
   "cell_type": "markdown",
   "metadata": {
    "id": "-3mxgdf1LtRo"
   },
   "source": [
    "##Train the Model"
   ]
  },
  {
   "cell_type": "markdown",
   "metadata": {
    "id": "kW6KsF8Awf9Y"
   },
   "source": []
  },
  {
   "cell_type": "markdown",
   "metadata": {
    "id": "UbOWiyO4X7gh"
   },
   "source": [
    "As usual, we first define train/test datasets."
   ]
  },
  {
   "cell_type": "code",
   "execution_count": null,
   "metadata": {
    "id": "fQ6GYQJPAEt0"
   },
   "outputs": [],
   "source": [
    "class IMDB_dataset(Dataset):\n",
    "    def __init__(self, x, y):\n",
    "        self.x = torch.Tensor(x).long()\n",
    "        self.y = torch.Tensor(y).float()\n",
    "    \n",
    "    def __getitem__(self, index):\n",
    "        return self.x[index], self.y[index]\n",
    "    \n",
    "    def __len__(self):\n",
    "        return self.x.size()[0]\n",
    "\n",
    "# dataset\n",
    "train_dataset = IMDB_dataset(train_data, train_labels)\n",
    "test_dataset = IMDB_dataset(test_data, test_labels)"
   ]
  },
  {
   "cell_type": "code",
   "execution_count": null,
   "metadata": {
    "colab": {
     "base_uri": "https://localhost:8080/",
     "height": 38
    },
    "executionInfo": {
     "elapsed": 213,
     "status": "ok",
     "timestamp": 1646841081427,
     "user": {
      "displayName": "Rong Liu",
      "photoUrl": "https://lh3.googleusercontent.com/a/default-user=s64",
      "userId": "15250589813520096948"
     },
     "user_tz": 300
    },
    "id": "0mtt0FfEL22W",
    "outputId": "2ed29c58-888b-4f95-d079-338e0fbffeaf"
   },
   "outputs": [
    {
     "data": {
      "application/vnd.google.colaboratory.intrinsic+json": {
       "type": "string"
      },
      "text/plain": [
       "'cuda'"
      ]
     },
     "execution_count": 17,
     "metadata": {},
     "output_type": "execute_result"
    }
   ],
   "source": [
    "import torch.optim as optim\n",
    "\n",
    "device = 'cuda' if torch.cuda.is_available() else 'cpu'\n",
    "device"
   ]
  },
  {
   "cell_type": "code",
   "execution_count": null,
   "metadata": {
    "id": "QoGt20Hz_cUA"
   },
   "outputs": [],
   "source": [
    "# the train function is reused from last lab\n",
    "\n",
    "def train_model(model, train_dataset, test_dataset, device, lr=0.0001, epochs=20, batch_size=32):\n",
    "    # construct dataloader\n",
    "    train_loader = DataLoader(train_dataset, batch_size=batch_size, shuffle = True)\n",
    "    test_loader = DataLoader(test_dataset, batch_size=batch_size)\n",
    "\n",
    "    # move model to device\n",
    "    model = model.to(device)\n",
    "\n",
    "    # history\n",
    "    history = {'train_loss': [],\n",
    "               'train_acc': [],\n",
    "               'test_loss': [],\n",
    "               'test_acc': []}\n",
    "\n",
    "    # setup loss function and optimizer\n",
    "    criterion = nn.BCEWithLogitsLoss()\n",
    "    optimizer = torch.optim.RMSprop(model.parameters(), lr=lr)\n",
    "\n",
    "    # training loop\n",
    "    print('Training Start')\n",
    "    for epoch in range(epochs):\n",
    "        model.train()\n",
    "        train_loss = 0\n",
    "        train_acc = 0\n",
    "        test_loss = 0\n",
    "        test_acc = 0\n",
    "        for x, y in train_loader:\n",
    "            # move data to device\n",
    "            x = x.to(device)\n",
    "            y = y.to(device)\n",
    "            # forward\n",
    "            outputs = model(x).view(-1) # (num_batch, 1) -> (num_batch,)\n",
    "            pred = torch.round(torch.sigmoid(outputs))\n",
    "            cur_train_loss = criterion(outputs, y)\n",
    "            cur_train_acc = (pred == y).float().mean().item()\n",
    "            # backward\n",
    "            cur_train_loss.backward()\n",
    "            optimizer.step()\n",
    "            optimizer.zero_grad()\n",
    "            # loss and acc\n",
    "            train_loss += cur_train_loss\n",
    "            train_acc += cur_train_acc\n",
    "\n",
    "        # test start\n",
    "        model.eval()\n",
    "        with torch.no_grad():\n",
    "            for x, y in test_loader:\n",
    "                # move\n",
    "                x = x.to(device)\n",
    "                y = y.to(device)\n",
    "                # predict\n",
    "                outputs = model(x).view(-1)\n",
    "                pred = torch.round(torch.sigmoid(outputs))\n",
    "                cur_test_loss = criterion(outputs, y)\n",
    "                cur_test_acc = (pred == y).float().mean().item() \n",
    "                # loss and acc\n",
    "                test_loss += cur_test_loss\n",
    "                test_acc += cur_test_acc\n",
    "\n",
    "        # epoch output\n",
    "        train_loss = (train_loss/len(train_loader)).item()\n",
    "        train_acc = train_acc/len(train_loader)\n",
    "        val_loss = (test_loss/len(test_loader)).item()\n",
    "        val_acc = test_acc/len(test_loader)\n",
    "        history['train_loss'].append(train_loss)\n",
    "        history['train_acc'].append(train_acc)\n",
    "        history['test_loss'].append(val_loss)\n",
    "        history['test_acc'].append(val_acc)\n",
    "        print(f\"Epoch:{epoch + 1} / {epochs}, train loss:{train_loss:.3f} train_acc:{train_acc:.3f}, validation loss:{val_loss:.3f} validation acc:{val_acc:.3f}\")\n",
    "    \n",
    "    return history"
   ]
  },
  {
   "cell_type": "code",
   "execution_count": null,
   "metadata": {
    "colab": {
     "base_uri": "https://localhost:8080/"
    },
    "executionInfo": {
     "elapsed": 54777,
     "status": "ok",
     "timestamp": 1646841140512,
     "user": {
      "displayName": "Rong Liu",
      "photoUrl": "https://lh3.googleusercontent.com/a/default-user=s64",
      "userId": "15250589813520096948"
     },
     "user_tz": 300
    },
    "id": "0raCHOr-_u9f",
    "outputId": "3a1b4ea8-fd34-47c0-ffa2-d5f78b5037a6"
   },
   "outputs": [
    {
     "name": "stdout",
     "output_type": "stream",
     "text": [
      "Training Start\n",
      "Epoch:1 / 50, train loss:0.686 train_acc:0.584, validation loss:0.681 validation acc:0.617\n",
      "Epoch:2 / 50, train loss:0.675 train_acc:0.636, validation loss:0.672 validation acc:0.641\n",
      "Epoch:3 / 50, train loss:0.667 train_acc:0.654, validation loss:0.664 validation acc:0.648\n",
      "Epoch:4 / 50, train loss:0.659 train_acc:0.662, validation loss:0.658 validation acc:0.654\n",
      "Epoch:5 / 50, train loss:0.653 train_acc:0.667, validation loss:0.652 validation acc:0.661\n",
      "Epoch:6 / 50, train loss:0.647 train_acc:0.670, validation loss:0.647 validation acc:0.664\n",
      "Epoch:7 / 50, train loss:0.641 train_acc:0.675, validation loss:0.642 validation acc:0.668\n",
      "Epoch:8 / 50, train loss:0.636 train_acc:0.676, validation loss:0.637 validation acc:0.672\n",
      "Epoch:9 / 50, train loss:0.631 train_acc:0.680, validation loss:0.633 validation acc:0.675\n",
      "Epoch:10 / 50, train loss:0.627 train_acc:0.683, validation loss:0.629 validation acc:0.677\n",
      "Epoch:11 / 50, train loss:0.623 train_acc:0.685, validation loss:0.626 validation acc:0.679\n",
      "Epoch:12 / 50, train loss:0.620 train_acc:0.688, validation loss:0.623 validation acc:0.682\n",
      "Epoch:13 / 50, train loss:0.617 train_acc:0.690, validation loss:0.620 validation acc:0.685\n",
      "Epoch:14 / 50, train loss:0.613 train_acc:0.692, validation loss:0.617 validation acc:0.687\n",
      "Epoch:15 / 50, train loss:0.611 train_acc:0.694, validation loss:0.614 validation acc:0.689\n",
      "Epoch:16 / 50, train loss:0.608 train_acc:0.697, validation loss:0.612 validation acc:0.688\n",
      "Epoch:17 / 50, train loss:0.605 train_acc:0.698, validation loss:0.609 validation acc:0.692\n",
      "Epoch:18 / 50, train loss:0.603 train_acc:0.700, validation loss:0.607 validation acc:0.695\n",
      "Epoch:19 / 50, train loss:0.600 train_acc:0.701, validation loss:0.604 validation acc:0.696\n",
      "Epoch:20 / 50, train loss:0.598 train_acc:0.703, validation loss:0.602 validation acc:0.698\n",
      "Epoch:21 / 50, train loss:0.596 train_acc:0.706, validation loss:0.600 validation acc:0.700\n",
      "Epoch:22 / 50, train loss:0.594 train_acc:0.707, validation loss:0.598 validation acc:0.701\n",
      "Epoch:23 / 50, train loss:0.592 train_acc:0.708, validation loss:0.596 validation acc:0.703\n",
      "Epoch:24 / 50, train loss:0.590 train_acc:0.709, validation loss:0.595 validation acc:0.704\n",
      "Epoch:25 / 50, train loss:0.588 train_acc:0.711, validation loss:0.593 validation acc:0.703\n",
      "Epoch:26 / 50, train loss:0.586 train_acc:0.711, validation loss:0.591 validation acc:0.706\n",
      "Epoch:27 / 50, train loss:0.585 train_acc:0.713, validation loss:0.590 validation acc:0.707\n",
      "Epoch:28 / 50, train loss:0.583 train_acc:0.713, validation loss:0.588 validation acc:0.708\n",
      "Epoch:29 / 50, train loss:0.582 train_acc:0.715, validation loss:0.587 validation acc:0.708\n",
      "Epoch:30 / 50, train loss:0.580 train_acc:0.716, validation loss:0.585 validation acc:0.709\n",
      "Epoch:31 / 50, train loss:0.579 train_acc:0.717, validation loss:0.584 validation acc:0.710\n",
      "Epoch:32 / 50, train loss:0.577 train_acc:0.719, validation loss:0.583 validation acc:0.711\n",
      "Epoch:33 / 50, train loss:0.576 train_acc:0.719, validation loss:0.581 validation acc:0.712\n",
      "Epoch:34 / 50, train loss:0.575 train_acc:0.721, validation loss:0.580 validation acc:0.712\n",
      "Epoch:35 / 50, train loss:0.574 train_acc:0.721, validation loss:0.579 validation acc:0.713\n",
      "Epoch:36 / 50, train loss:0.572 train_acc:0.722, validation loss:0.578 validation acc:0.714\n",
      "Epoch:37 / 50, train loss:0.571 train_acc:0.722, validation loss:0.577 validation acc:0.715\n",
      "Epoch:38 / 50, train loss:0.570 train_acc:0.724, validation loss:0.576 validation acc:0.716\n",
      "Epoch:39 / 50, train loss:0.569 train_acc:0.724, validation loss:0.575 validation acc:0.717\n",
      "Epoch:40 / 50, train loss:0.568 train_acc:0.726, validation loss:0.574 validation acc:0.717\n",
      "Epoch:41 / 50, train loss:0.567 train_acc:0.726, validation loss:0.573 validation acc:0.717\n",
      "Epoch:42 / 50, train loss:0.566 train_acc:0.726, validation loss:0.572 validation acc:0.718\n",
      "Epoch:43 / 50, train loss:0.565 train_acc:0.727, validation loss:0.571 validation acc:0.718\n",
      "Epoch:44 / 50, train loss:0.564 train_acc:0.728, validation loss:0.570 validation acc:0.720\n",
      "Epoch:45 / 50, train loss:0.564 train_acc:0.728, validation loss:0.569 validation acc:0.720\n",
      "Epoch:46 / 50, train loss:0.563 train_acc:0.728, validation loss:0.569 validation acc:0.721\n",
      "Epoch:47 / 50, train loss:0.562 train_acc:0.729, validation loss:0.568 validation acc:0.721\n",
      "Epoch:48 / 50, train loss:0.561 train_acc:0.728, validation loss:0.567 validation acc:0.721\n",
      "Epoch:49 / 50, train loss:0.560 train_acc:0.731, validation loss:0.566 validation acc:0.722\n",
      "Epoch:50 / 50, train loss:0.560 train_acc:0.731, validation loss:0.566 validation acc:0.722\n"
     ]
    }
   ],
   "source": [
    "hist = train_model(model, train_dataset, test_dataset, device, \\\n",
    "                   lr=0.0005, epochs = 50, batch_size = 64)"
   ]
  },
  {
   "cell_type": "markdown",
   "metadata": {
    "id": "zYpOJ6Mk_ZVr"
   },
   "source": [
    "# Node2Vec Embedding Example\n",
    "We will use the well-known network of Zachary's karate club to illustrate Node2Vec method. This graph describes a social network of 34 members of a karate club and documents links between members. "
   ]
  },
  {
   "cell_type": "code",
   "execution_count": null,
   "metadata": {
    "colab": {
     "base_uri": "https://localhost:8080/"
    },
    "executionInfo": {
     "elapsed": 226,
     "status": "ok",
     "timestamp": 1646841214943,
     "user": {
      "displayName": "Rong Liu",
      "photoUrl": "https://lh3.googleusercontent.com/a/default-user=s64",
      "userId": "15250589813520096948"
     },
     "user_tz": 300
    },
    "id": "aujuONm5KtCz",
    "outputId": "97162abb-84a4-4ba2-f3dd-51568a4b669e"
   },
   "outputs": [
    {
     "name": "stdout",
     "output_type": "stream",
     "text": [
      "1.10.0+cu111\n"
     ]
    }
   ],
   "source": [
    "import torch\n",
    "\n",
    "print(torch.__version__)"
   ]
  },
  {
   "cell_type": "markdown",
   "metadata": {
    "id": "_1vUKSH6_4AQ"
   },
   "source": [
    "We'll use package `node2vec`. This package is a Python implementation of the node2vec algorithm. Given any graph, it can learn continuous feature representations for the nodes, which can then be used for various downstream machine learning tasks. You can find more details about the package [here](https://github.com/eliorc/node2vec)."
   ]
  },
  {
   "cell_type": "code",
   "execution_count": null,
   "metadata": {
    "colab": {
     "base_uri": "https://localhost:8080/"
    },
    "executionInfo": {
     "elapsed": 5210,
     "status": "ok",
     "timestamp": 1646841221000,
     "user": {
      "displayName": "Rong Liu",
      "photoUrl": "https://lh3.googleusercontent.com/a/default-user=s64",
      "userId": "15250589813520096948"
     },
     "user_tz": 300
    },
    "id": "C9FkKCmxoTcd",
    "outputId": "1f43886c-20f2-4f40-95c6-9512d78edde6"
   },
   "outputs": [
    {
     "name": "stdout",
     "output_type": "stream",
     "text": [
      "Collecting node2vec\n",
      "  Downloading node2vec-0.4.3.tar.gz (4.6 kB)\n",
      "Requirement already satisfied: networkx in /usr/local/lib/python3.7/dist-packages (from node2vec) (2.6.3)\n",
      "Requirement already satisfied: gensim in /usr/local/lib/python3.7/dist-packages (from node2vec) (3.6.0)\n",
      "Requirement already satisfied: numpy in /usr/local/lib/python3.7/dist-packages (from node2vec) (1.21.5)\n",
      "Requirement already satisfied: tqdm in /usr/local/lib/python3.7/dist-packages (from node2vec) (4.63.0)\n",
      "Requirement already satisfied: joblib>=0.13.2 in /usr/local/lib/python3.7/dist-packages (from node2vec) (1.1.0)\n",
      "Requirement already satisfied: six>=1.5.0 in /usr/local/lib/python3.7/dist-packages (from gensim->node2vec) (1.15.0)\n",
      "Requirement already satisfied: smart-open>=1.2.1 in /usr/local/lib/python3.7/dist-packages (from gensim->node2vec) (5.2.1)\n",
      "Requirement already satisfied: scipy>=0.18.1 in /usr/local/lib/python3.7/dist-packages (from gensim->node2vec) (1.4.1)\n",
      "Building wheels for collected packages: node2vec\n",
      "  Building wheel for node2vec (setup.py) ... \u001b[?25l\u001b[?25hdone\n",
      "  Created wheel for node2vec: filename=node2vec-0.4.3-py3-none-any.whl size=5980 sha256=e5cf7d72716eff7658032223e0a9a6b391ce71db0d54acbf320a05464aad388d\n",
      "  Stored in directory: /root/.cache/pip/wheels/07/62/78/5202cb8c03cbf1593b48a8a442fca8ceec2a8c80e22318bae9\n",
      "Successfully built node2vec\n",
      "Installing collected packages: node2vec\n",
      "Successfully installed node2vec-0.4.3\n"
     ]
    }
   ],
   "source": [
    "!pip install node2vec "
   ]
  },
  {
   "cell_type": "markdown",
   "metadata": {
    "id": "75wr2ONLVsPq"
   },
   "source": [
    "### Visualize Graph"
   ]
  },
  {
   "cell_type": "code",
   "execution_count": null,
   "metadata": {
    "id": "kyVoeOAUOJnT"
   },
   "outputs": [],
   "source": [
    "import networkx as nx"
   ]
  },
  {
   "cell_type": "code",
   "execution_count": null,
   "metadata": {
    "colab": {
     "base_uri": "https://localhost:8080/",
     "height": 357
    },
    "executionInfo": {
     "elapsed": 789,
     "status": "ok",
     "timestamp": 1646841221785,
     "user": {
      "displayName": "Rong Liu",
      "photoUrl": "https://lh3.googleusercontent.com/a/default-user=s64",
      "userId": "15250589813520096948"
     },
     "user_tz": 300
    },
    "id": "rFX7szH3OL8-",
    "outputId": "5d1f8df5-345c-4f3e-eff6-00c43c7cff5b"
   },
   "outputs": [
    {
     "name": "stdout",
     "output_type": "stream",
     "text": [
      "['Mr. Hi', 'Mr. Hi', 'Mr. Hi', 'Mr. Hi', 'Mr. Hi', 'Mr. Hi', 'Mr. Hi', 'Mr. Hi', 'Mr. Hi', 'Officer', 'Mr. Hi', 'Mr. Hi', 'Mr. Hi', 'Mr. Hi', 'Officer', 'Officer', 'Mr. Hi', 'Mr. Hi', 'Officer', 'Mr. Hi', 'Officer', 'Mr. Hi', 'Officer', 'Officer', 'Officer', 'Officer', 'Officer', 'Officer', 'Officer', 'Officer', 'Officer', 'Officer', 'Officer', 'Officer']\n"
     ]
    },
    {
     "data": {
      "image/png": "[encoded data removed]",
      "text/plain": [
       "<Figure size 432x288 with 1 Axes>"
      ]
     },
     "metadata": {},
     "output_type": "display_data"
    }
   ],
   "source": [
    "# Load the Zachary's Karate Club as a NetworkX Graph object\n",
    "KCG = nx.karate_club_graph() \n",
    "\n",
    "# each node has a class, either \"Mr. Hi\" or \"Officer\"\n",
    "labels = [KCG.nodes[i]['club'] for i in KCG.nodes]\n",
    "print(labels)\n",
    "\n",
    "color_map = ['lightblue' if l == 'Officer' else 'orange' for l in labels]  \n",
    "\n",
    "nx.draw(KCG, with_labels=True, font_weight='bold', \\\n",
    "        node_color=color_map)"
   ]
  },
  {
   "cell_type": "markdown",
   "metadata": {
    "id": "PmIEwn3dAfOV"
   },
   "source": [
    "After initializing the KarateClub dataset, we first can inspect some of its properties. This graph has 34 nodes, and 156 undirected edges. Nodes belong two classes: 'Officer' or 'Mr. Hi'. Each edge stands for communication between two nodes."
   ]
  },
  {
   "cell_type": "markdown",
   "metadata": {
    "id": "sn6fdHdWV11E"
   },
   "source": [
    "### Random Walk"
   ]
  },
  {
   "cell_type": "markdown",
   "metadata": {
    "id": "xUAgS29561xc"
   },
   "source": [
    "Firstly, we will learn to do the node embedding. There are different embedding generation methods like node2vec, DeepWalk etc. In this example, we will use node2vec. \n",
    "\n",
    "Animation of random walk\n",
    "\n",
    "\n",
    "<img src = 'https://miro.medium.com/max/1400/1*qKUw21HrfmQf5F8FcJgFMQ.gif' width =\"70%\"> </img>\n",
    "\n",
    "(References: https://towardsdatascience.com/node2vec-explained-graphically-749e49b7eb6b)"
   ]
  },
  {
   "cell_type": "code",
   "execution_count": null,
   "metadata": {
    "colab": {
     "base_uri": "https://localhost:8080/",
     "height": 84,
     "referenced_widgets": [
      "e128a4d119154d7f9ad83ec61f9045a1",
      "6c0b66b28ad84995bd49b1495cb28140",
      "132fce5a299e4b6f944735019e648f3b",
      "6a494c68876b437993b75cf4e1e4244d",
      "9059c75d9a9343e885b0d1c7b46b80be",
      "6b493ef31efa402581f12cae509daead",
      "22fb52ae8fd744bfa320bb9df5bf1bbd",
      "e313bfe02b404cad95e7f54e224ba66a",
      "f8eef188b6ad4646a0f1bb03698c56b7",
      "890137045e624c8abed4e0da07ba42a3",
      "5f71ae8083eb4c4ab2d2030c1ba245f2"
     ]
    },
    "executionInfo": {
     "elapsed": 5162,
     "status": "ok",
     "timestamp": 1646841232071,
     "user": {
      "displayName": "Rong Liu",
      "photoUrl": "https://lh3.googleusercontent.com/a/default-user=s64",
      "userId": "15250589813520096948"
     },
     "user_tz": 300
    },
    "id": "8jn1k_pQ7K_G",
    "outputId": "f10d1d8f-ffe7-4192-ad15-67ec3636d1ee"
   },
   "outputs": [
    {
     "data": {
      "application/vnd.jupyter.widget-view+json": {
       "model_id": "e128a4d119154d7f9ad83ec61f9045a1",
       "version_major": 2,
       "version_minor": 0
      },
      "text/plain": [
       "Computing transition probabilities:   0%|          | 0/34 [00:00<?, ?it/s]"
      ]
     },
     "metadata": {},
     "output_type": "display_data"
    },
    {
     "name": "stderr",
     "output_type": "stream",
     "text": [
      "Generating walks (CPU: 1): 100%|██████████| 80/80 [00:01<00:00, 41.94it/s]\n"
     ]
    },
    {
     "data": {
      "text/plain": [
       "(34, 64)"
      ]
     },
     "execution_count": 25,
     "metadata": {},
     "output_type": "execute_result"
    }
   ],
   "source": [
    "from node2vec import Node2Vec\n",
    "# generate walks\n",
    "node2vec = Node2Vec(KCG, dimensions=64, walk_length=10,num_walks=80)    # walk_length: How many nodes are in each random walk\n",
    "#Embed nodes                                                                             # num_walks: Number of random walks to be generated from each node in the graph\n",
    "node2vec_model = node2vec.fit(window=10, min_count=1,batch_words=4)                      # p: controls the probability to go back\n",
    "                                                                                         # q: controls the probability to explore\n",
    "# get embeddings\n",
    "# The variable embeddings stores the embeddings in form of a dictionary where the keys are the nodes and values are the embeddings themselves.\n",
    "embeddings_map = node2vec_model.wv\n",
    "embeddings = embeddings_map[[str(i) for i in range(len(KCG.nodes))]]\n",
    "\n",
    "embeddings.shape\n",
    "#Note: any keywords acceptable by gensim.Word2vec can be passed"
   ]
  },
  {
   "cell_type": "markdown",
   "metadata": {
    "id": "Tw_4EHvNAoYy"
   },
   "source": [
    "### Biased Walk\n",
    "\n",
    "We can set biased walking policy by adjusting parameters `p` and `q` in 'Node2Vec'\n",
    "\n",
    "![Screen Shot 2021-10-14 at 10.48.14 AM.png](data:image/png;base64,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)\n"
   ]
  },
  {
   "cell_type": "code",
   "execution_count": null,
   "metadata": {
    "colab": {
     "base_uri": "https://localhost:8080/",
     "height": 134,
     "referenced_widgets": [
      "ea35dcfe31e241b39297247754ef2eef",
      "7895f3829a0d448093a7d25239297769",
      "8b92810fbf934fa1b2df66d8c3492926",
      "ef52a346e7444eeb9752026b6637a7b1",
      "04993f1f6cd14a618fed4571cbd81c7e",
      "1826dbbf0f0a4ff39531fba62c201e69",
      "cba40378dfa8496f8968f954ffa21519",
      "f6e7b95fa29d464894ee7fe128941a2b",
      "357a15c799b54238aa7e4e9f9e89c576",
      "c789bbb0cc7d4c63a1f95bea6cb618b2",
      "6e05431dd99c432989eccbf1d7c1111e",
      "c832a41a74184b0d878fb1815b8b25d5",
      "a26ab09c93714d29a568be9cd3b8aaf5",
      "040e4f41340c48e0b4565a1523b4f94f",
      "82733703c1d14f719e0bf67939a00d7d",
      "381b369815b148d68ee8b436afa7e21f",
      "846773c6c79e4d52a0ad1b80d62eb0d2",
      "3c87cd88d91e488680feb05a2da23f0b",
      "77f16bcf2ba3451fb42368d7aaae9184",
      "18379a3f30f845758023e417caeb5d99",
      "9163c057a65d4c9f93bec5218d6872f1",
      "022e3cf4d5dc4ffa95187319831b7961"
     ]
    },
    "executionInfo": {
     "elapsed": 2218,
     "status": "ok",
     "timestamp": 1646841271127,
     "user": {
      "displayName": "Rong Liu",
      "photoUrl": "https://lh3.googleusercontent.com/a/default-user=s64",
      "userId": "15250589813520096948"
     },
     "user_tz": 300
    },
    "id": "xSNqvDEFL2iL",
    "outputId": "883c974d-2b25-43d4-a63f-c9f1c1373725"
   },
   "outputs": [
    {
     "data": {
      "application/vnd.jupyter.widget-view+json": {
       "model_id": "ea35dcfe31e241b39297247754ef2eef",
       "version_major": 2,
       "version_minor": 0
      },
      "text/plain": [
       "Computing transition probabilities:   0%|          | 0/34 [00:00<?, ?it/s]"
      ]
     },
     "metadata": {},
     "output_type": "display_data"
    },
    {
     "name": "stderr",
     "output_type": "stream",
     "text": [
      "Generating walks (CPU: 1): 100%|██████████| 80/80 [00:01<00:00, 76.97it/s]\n"
     ]
    },
    {
     "data": {
      "application/vnd.jupyter.widget-view+json": {
       "model_id": "c832a41a74184b0d878fb1815b8b25d5",
       "version_major": 2,
       "version_minor": 0
      },
      "text/plain": [
       "Computing transition probabilities:   0%|          | 0/34 [00:00<?, ?it/s]"
      ]
     },
     "metadata": {},
     "output_type": "display_data"
    },
    {
     "name": "stderr",
     "output_type": "stream",
     "text": [
      "Generating walks (CPU: 1): 100%|██████████| 80/80 [00:00<00:00, 82.43it/s]\n"
     ]
    },
    {
     "data": {
      "text/plain": [
       "<node2vec.node2vec.Node2Vec at 0x7f7b3e15e8d0>"
      ]
     },
     "execution_count": 26,
     "metadata": {},
     "output_type": "execute_result"
    }
   ],
   "source": [
    "# p: controls the probability to go back\n",
    "# q: controls the probability to explore\n",
    "\n",
    "Node2Vec(KCG, dimensions=64, walk_length=10,num_walks=80, workers=1,p=1,q=2)                  #smaller p: local structure\n",
    "Node2Vec(KCG, dimensions=64, walk_length=10,num_walks=80, workers=1,p=2,q=1)                  #smaller q: global structure"
   ]
  },
  {
   "cell_type": "code",
   "execution_count": null,
   "metadata": {
    "id": "HDOJtj9iy5da"
   },
   "outputs": [],
   "source": []
  },
  {
   "cell_type": "markdown",
   "metadata": {
    "id": "rG9zImHECTuC"
   },
   "source": [
    "## Visualize the embeddings\n",
    "Embeddings are just low-dimensional numerical representations of the network, therefore we can make a visualization of these embeddings. Here, the size of the embeddings is 64, so we need to employ t-SNE which is a dimensionality reduction technique. Basically, t-SNE transforms the 64 dimension array into a 2-dimensional array so that we can visualize it in a 2D space. We can observe the 4groups of nodes are separated decently in the 2D space. The node embeddings are informative. \n",
    "\n"
   ]
  },
  {
   "cell_type": "code",
   "execution_count": null,
   "metadata": {
    "colab": {
     "base_uri": "https://localhost:8080/",
     "height": 434
    },
    "executionInfo": {
     "elapsed": 780,
     "status": "ok",
     "timestamp": 1646841275849,
     "user": {
      "displayName": "Rong Liu",
      "photoUrl": "https://lh3.googleusercontent.com/a/default-user=s64",
      "userId": "15250589813520096948"
     },
     "user_tz": 300
    },
    "id": "Z_bPa0_u_mRQ",
    "outputId": "c3a267ec-e25d-4f17-ce84-a780a007b897"
   },
   "outputs": [
    {
     "name": "stderr",
     "output_type": "stream",
     "text": [
      "/usr/local/lib/python3.7/dist-packages/sklearn/manifold/_t_sne.py:783: FutureWarning: The default initialization in TSNE will change from 'random' to 'pca' in 1.2.\n",
      "  FutureWarning,\n"
     ]
    },
    {
     "data": {
      "text/plain": [
       "([], <a list of 0 Text major ticklabel objects>)"
      ]
     },
     "execution_count": 27,
     "metadata": {},
     "output_type": "execute_result"
    },
    {
     "data": {
      "image/png": "[encoded data removed]",
      "text/plain": [
       "<Figure size 648x432 with 1 Axes>"
      ]
     },
     "metadata": {},
     "output_type": "display_data"
    }
   ],
   "source": [
    "#Visualize the embeddings\n",
    "import numpy as np\n",
    "from sklearn.manifold import TSNE\n",
    "import matplotlib.pyplot as plt\n",
    "\n",
    "# transform the embeddings from 64 dimensions to 2D space\n",
    "# TSNE is a dimension deduction technique \n",
    "m = TSNE(learning_rate=20, random_state=42)\n",
    "tsne_features = m.fit_transform(list(embeddings))\n",
    "\n",
    "# retrieve the labels for each node\n",
    "#labels = data.y\n",
    "\n",
    "# plot the transformed embeddings\n",
    "plt.figure(figsize=(9,6)) \n",
    "plt.scatter(x = tsne_features[:,0], \n",
    "            y = tsne_features[:,1],\n",
    "            c = color_map,\n",
    "            s =140,\n",
    "            cmap=\"Set2\",\n",
    "            )\n",
    "plt.xticks([])\n",
    "plt.yticks([])\n"
   ]
  },
  {
   "cell_type": "markdown",
   "metadata": {
    "id": "EXfu2a96DgOL"
   },
   "source": [
    "# Graph Neural Network (GNN)\n",
    "\n",
    "\n",
    "References: https://towardsdatascience.com/a-beginners-guide-to-graph-neural-networks-using-pytorch-geometric-part-1-d98dc93e7742\n",
    "\n"
   ]
  },
  {
   "cell_type": "markdown",
   "metadata": {
    "id": "VKHBHieeD8wN"
   },
   "source": [
    "Next, we use GNN to derive node representation and classify nodes into labels.\n",
    "\n",
    "\n",
    "We divide the graph into train and test sets where we use the train set to build a graph neural network model and use the model to predict the missing node labels in the test set.\n",
    "\n",
    "\n",
    "Here, we use PyTorch Geometric (PyG) python library to model the graph neural network. Alternatively, Deep Graph Library (DGL) can also be used for the same purpose.\n",
    "PyTorch Geometric is a geometric deep learning library built on top of PyTorch. Several popular graph neural network methods have been implemented using PyG and you can play around with the code using built-in datasets or create your own dataset. PyG uses a nifty implementation where it provides an InMemoryDataset class which can be used to create the custom dataset (Note: InMemoryDataset should be used for datasets small enough to load in the memory)."
   ]
  },
  {
   "cell_type": "markdown",
   "metadata": {
    "id": "N62UGROxHGID"
   },
   "source": [
    "Fist, install packages"
   ]
  },
  {
   "cell_type": "code",
   "execution_count": null,
   "metadata": {
    "colab": {
     "base_uri": "https://localhost:8080/"
    },
    "executionInfo": {
     "elapsed": 19642,
     "status": "ok",
     "timestamp": 1667407329945,
     "user": {
      "displayName": "Rong Liu",
      "userId": "15250589813520096948"
     },
     "user_tz": 240
    },
    "id": "L-rpJj8cEYnN",
    "outputId": "53ec4f8e-5e2a-4d2f-ff34-560c65d16eff"
   },
   "outputs": [
    {
     "name": "stdout",
     "output_type": "stream",
     "text": [
      "\u001b[33mWARNING: Skipping torch-scatter as it is not installed.\u001b[0m\n",
      "\u001b[33mWARNING: Skipping torch-sparse as it is not installed.\u001b[0m\n",
      "Found existing installation: torch-geometric 2.1.0.post1\n",
      "Uninstalling torch-geometric-2.1.0.post1:\n",
      "  Successfully uninstalled torch-geometric-2.1.0.post1\n",
      "\u001b[33mWARNING: Skipping torch-cluster as it is not installed.\u001b[0m\n",
      "Looking in indexes: https://pypi.org/simple, https://us-python.pkg.dev/colab-wheels/public/simple/\n",
      "Looking in links: https://data.pyg.org/whl/torch-1.12.1+cu113.html\n",
      "Collecting torch-scatter\n",
      "  Downloading https://data.pyg.org/whl/torch-1.12.0%2Bcu113/torch_scatter-2.0.9-cp37-cp37m-linux_x86_64.whl (7.9 MB)\n",
      "\u001b[K     |████████████████████████████████| 7.9 MB 2.8 MB/s \n",
      "\u001b[?25hInstalling collected packages: torch-scatter\n",
      "Successfully installed torch-scatter-2.0.9\n",
      "Looking in indexes: https://pypi.org/simple, https://us-python.pkg.dev/colab-wheels/public/simple/\n",
      "Looking in links: https://data.pyg.org/whl/torch-1.12.1+cu113.html\n",
      "Collecting torch-sparse\n",
      "  Downloading https://data.pyg.org/whl/torch-1.12.0%2Bcu113/torch_sparse-0.6.15-cp37-cp37m-linux_x86_64.whl (3.5 MB)\n",
      "\u001b[K     |████████████████████████████████| 3.5 MB 2.7 MB/s \n",
      "\u001b[?25hRequirement already satisfied: scipy in /usr/local/lib/python3.7/dist-packages (from torch-sparse) (1.7.3)\n",
      "Requirement already satisfied: numpy<1.23.0,>=1.16.5 in /usr/local/lib/python3.7/dist-packages (from scipy->torch-sparse) (1.21.6)\n",
      "Installing collected packages: torch-sparse\n",
      "Successfully installed torch-sparse-0.6.15\n",
      "Looking in indexes: https://pypi.org/simple, https://us-python.pkg.dev/colab-wheels/public/simple/\n",
      "Looking in links: https://data.pyg.org/whl/torch-1.12.1+cu113.html\n",
      "Collecting torch-cluster\n",
      "  Downloading https://data.pyg.org/whl/torch-1.12.0%2Bcu113/torch_cluster-1.6.0-cp37-cp37m-linux_x86_64.whl (2.4 MB)\n",
      "\u001b[K     |████████████████████████████████| 2.4 MB 2.0 MB/s \n",
      "\u001b[?25hInstalling collected packages: torch-cluster\n",
      "Successfully installed torch-cluster-1.6.0\n",
      "Looking in indexes: https://pypi.org/simple, https://us-python.pkg.dev/colab-wheels/public/simple/\n",
      "Collecting git+https://github.com/pyg-team/pytorch_geometric.git\n",
      "  Cloning https://github.com/pyg-team/pytorch_geometric.git to /tmp/pip-req-build-f5rrrb4_\n",
      "  Running command git clone -q https://github.com/pyg-team/pytorch_geometric.git /tmp/pip-req-build-f5rrrb4_\n",
      "Requirement already satisfied: tqdm in /usr/local/lib/python3.7/dist-packages (from torch-geometric==2.1.0) (4.64.1)\n",
      "Requirement already satisfied: numpy in /usr/local/lib/python3.7/dist-packages (from torch-geometric==2.1.0) (1.21.6)\n",
      "Requirement already satisfied: scipy in /usr/local/lib/python3.7/dist-packages (from torch-geometric==2.1.0) (1.7.3)\n",
      "Requirement already satisfied: jinja2 in /usr/local/lib/python3.7/dist-packages (from torch-geometric==2.1.0) (2.11.3)\n",
      "Requirement already satisfied: requests in /usr/local/lib/python3.7/dist-packages (from torch-geometric==2.1.0) (2.23.0)\n",
      "Requirement already satisfied: pyparsing in /usr/local/lib/python3.7/dist-packages (from torch-geometric==2.1.0) (3.0.9)\n",
      "Requirement already satisfied: scikit-learn in /usr/local/lib/python3.7/dist-packages (from torch-geometric==2.1.0) (1.0.2)\n",
      "Requirement already satisfied: MarkupSafe>=0.23 in /usr/local/lib/python3.7/dist-packages (from jinja2->torch-geometric==2.1.0) (2.0.1)\n",
      "Requirement already satisfied: chardet<4,>=3.0.2 in /usr/local/lib/python3.7/dist-packages (from requests->torch-geometric==2.1.0) (3.0.4)\n",
      "Requirement already satisfied: idna<3,>=2.5 in /usr/local/lib/python3.7/dist-packages (from requests->torch-geometric==2.1.0) (2.10)\n",
      "Requirement already satisfied: urllib3!=1.25.0,!=1.25.1,<1.26,>=1.21.1 in /usr/local/lib/python3.7/dist-packages (from requests->torch-geometric==2.1.0) (1.24.3)\n",
      "Requirement already satisfied: certifi>=2017.4.17 in /usr/local/lib/python3.7/dist-packages (from requests->torch-geometric==2.1.0) (2022.9.24)\n",
      "Requirement already satisfied: joblib>=0.11 in /usr/local/lib/python3.7/dist-packages (from scikit-learn->torch-geometric==2.1.0) (1.2.0)\n",
      "Requirement already satisfied: threadpoolctl>=2.0.0 in /usr/local/lib/python3.7/dist-packages (from scikit-learn->torch-geometric==2.1.0) (3.1.0)\n",
      "Building wheels for collected packages: torch-geometric\n",
      "  Building wheel for torch-geometric (setup.py) ... \u001b[?25l\u001b[?25hdone\n",
      "  Created wheel for torch-geometric: filename=torch_geometric-2.1.0-py3-none-any.whl size=737388 sha256=0dfa81433cdf750054d880d92df2ed439f24b24d224ac2bc2601398f3b6a64ad\n",
      "  Stored in directory: /tmp/pip-ephem-wheel-cache-359njut3/wheels/85/c9/07/7936efecad79b906348a7e9fb644d914160544efa9aa7f4b2b\n",
      "Successfully built torch-geometric\n",
      "Installing collected packages: torch-geometric\n",
      "Successfully installed torch-geometric-2.1.0\n"
     ]
    }
   ],
   "source": [
    "import torch\n",
    "\n",
    "!pip uninstall torch-scatter torch-sparse torch-geometric torch-cluster  --y\n",
    "!pip install torch-scatter -f https://data.pyg.org/whl/torch-{torch.__version__}.html\n",
    "!pip install torch-sparse -f https://data.pyg.org/whl/torch-{torch.__version__}.html\n",
    "!pip install torch-cluster -f https://data.pyg.org/whl/torch-{torch.__version__}.html\n",
    "!pip install git+https://github.com/pyg-team/pytorch_geometric.git"
   ]
  },
  {
   "cell_type": "markdown",
   "metadata": {
    "id": "lhTVQW9EGMyK"
   },
   "source": [
    "## Prepare data"
   ]
  },
  {
   "cell_type": "markdown",
   "metadata": {
    "id": "icuWOKUfE8pn"
   },
   "source": [
    "The karate club dataset can be loaded directly from the NetworkX library. We retrieve the labels from the graph and create an edge index in the coordinate format. The node degree was used as embeddings/ numerical representations for the nodes (In the case of a directed graph, in-degree can be used for the same purpose). Since degree values tend to be diverse, we normalize them before using the values as input to the GNN model.\n"
   ]
  },
  {
   "cell_type": "code",
   "execution_count": null,
   "metadata": {
    "id": "ejkPXqLqEunW"
   },
   "outputs": [],
   "source": [
    "import networkx as nx\n",
    "import numpy as np\n",
    "import torch\n",
    "from sklearn.preprocessing import StandardScaler\n",
    "\n",
    "# load graph from networkx library\n",
    "G = nx.karate_club_graph()\n",
    "\n",
    "# retrieve the labels for each node\n",
    "labels = np.asarray([G.nodes[i]['club'] != 'Mr. Hi' for i in G.nodes]).astype(np.int64)\n",
    "\n",
    "# create edge index from \n",
    "adj = nx.to_scipy_sparse_matrix(G).tocoo()\n",
    "row = torch.from_numpy(adj.row.astype(np.int64)).to(torch.long)\n",
    "col = torch.from_numpy(adj.col.astype(np.int64)).to(torch.long)\n",
    "edge_index = torch.stack([row, col], dim=0)\n",
    "\n",
    "# using degree as embedding\n",
    "embeddings = np.array(list(dict(G.degree()).values()))\n",
    "\n",
    "# normalizing degree values\n",
    "scale = StandardScaler()\n",
    "embeddings = scale.fit_transform(embeddings.reshape(-1,1))"
   ]
  },
  {
   "cell_type": "markdown",
   "metadata": {
    "id": "Ilss49XSGXRt"
   },
   "source": [
    "## Split nodes into train/test via masking"
   ]
  },
  {
   "cell_type": "markdown",
   "metadata": {
    "id": "gKychXgpF1li"
   },
   "source": [
    "The KarateDataset class inherits from the InMemoryDataset class and use a Data object to collate all information relating to the karate club dataset. The graph data is then split into train and test sets, thereby creating the train and test masks using the splits."
   ]
  },
  {
   "cell_type": "code",
   "execution_count": null,
   "metadata": {
    "id": "QOvZVqG_im3J"
   },
   "outputs": [],
   "source": [
    "import torch\n",
    "import pandas as pd\n",
    "from torch_geometric.data import InMemoryDataset, Data\n",
    "from sklearn.model_selection import train_test_split\n",
    "import torch_geometric.transforms as T\n",
    "\n",
    "# custom dataset\n",
    "class KarateDataset(InMemoryDataset):\n",
    "    def __init__(self, transform=None):\n",
    "        super(KarateDataset, self).__init__('.', transform, None, None)\n",
    "\n",
    "        data = Data(edge_index=edge_index)\n",
    "        \n",
    "        data.num_nodes = G.number_of_nodes()\n",
    "        \n",
    "        # embedding \n",
    "        data.x = torch.from_numpy(embeddings).type(torch.float32)\n",
    "        \n",
    "        # labels\n",
    "        y = torch.from_numpy(labels).type(torch.long)\n",
    "        data.y = y.clone().detach()\n",
    "        \n",
    "        data.num_classes = 2\n",
    "\n",
    "        # splitting the data into train, validation and test\n",
    "        X_train, X_test, y_train, y_test = train_test_split(pd.Series(list(G.nodes())), \n",
    "                                                            pd.Series(labels),\n",
    "                                                            test_size=0.30, \n",
    "                                                            random_state=42)\n",
    "        \n",
    "        n_nodes = G.number_of_nodes()\n",
    "        \n",
    "        # create train and test masks for data\n",
    "        train_mask = torch.zeros(n_nodes, dtype=torch.bool)\n",
    "        test_mask = torch.zeros(n_nodes, dtype=torch.bool)\n",
    "        train_mask[X_train.index] = True\n",
    "        test_mask[X_test.index] = True\n",
    "        data['train_mask'] = train_mask\n",
    "        data['test_mask'] = test_mask\n",
    "\n",
    "        self.data, self.slices = self.collate([data])\n",
    "\n",
    "    def _download(self):\n",
    "        return\n",
    "\n",
    "    def _process(self):\n",
    "        return\n",
    "\n",
    "    def __repr__(self):\n",
    "        return '{}()'.format(self.__class__.__name__)\n",
    "    \n",
    "dataset = KarateDataset()\n",
    "data = dataset[0]"
   ]
  },
  {
   "cell_type": "markdown",
   "metadata": {
    "id": "AqH_DZ-AGcz-"
   },
   "source": [
    "## Create GNN model (two-layer GNN)"
   ]
  },
  {
   "cell_type": "code",
   "execution_count": null,
   "metadata": {
    "id": "mlYicTDqEmi_"
   },
   "outputs": [],
   "source": [
    "import torch.nn as nn\n",
    "import torch.nn.functional as F\n",
    "from torch_geometric.nn import GCNConv\n",
    "\n",
    "# GCN model with 2 layers \n",
    "class Net(torch.nn.Module):\n",
    "    def __init__(self):\n",
    "        super(Net, self).__init__()\n",
    "        self.conv1 = GCNConv(data.num_features, 16)\n",
    "        self.conv2 = GCNConv(16, int(data.num_classes))\n",
    "\n",
    "    def forward(self):\n",
    "        x, edge_index = data.x, data.edge_index\n",
    "        x = F.relu(self.conv1(x, edge_index))\n",
    "        x = F.dropout(x, training=self.training)\n",
    "        x = self.conv2(x, edge_index)\n",
    "        return F.log_softmax(x, dim=1)  # loss is calculated here\n",
    "\n",
    "device = torch.device('cuda' if torch.cuda.is_available() else 'cpu')\n",
    "\n",
    "data =  data.to(device)\n",
    "\n",
    "model = Net().to(device) "
   ]
  },
  {
   "cell_type": "markdown",
   "metadata": {
    "id": "TzmQvbhVGm4e"
   },
   "source": [
    "## Train model"
   ]
  },
  {
   "cell_type": "markdown",
   "metadata": {
    "id": "0OhQleOoGyUz"
   },
   "source": [
    "Pay extra attention to how the loss is calculated through masking"
   ]
  },
  {
   "cell_type": "code",
   "execution_count": null,
   "metadata": {
    "colab": {
     "base_uri": "https://localhost:8080/"
    },
    "executionInfo": {
     "elapsed": 3341,
     "status": "ok",
     "timestamp": 1667407356416,
     "user": {
      "displayName": "Rong Liu",
      "userId": "15250589813520096948"
     },
     "user_tz": 240
    },
    "id": "HLJJbEnbGuIv",
    "outputId": "6cd169e9-5822-47af-c79c-8f16984f70d7"
   },
   "outputs": [
    {
     "name": "stdout",
     "output_type": "stream",
     "text": [
      "######################################################################\n",
      "Train Accuracy: 0.8695652173913043\n",
      "Test Accuracy: 0.7272727272727273\n",
      "######################################################################\n"
     ]
    }
   ],
   "source": [
    "torch.manual_seed(42)\n",
    "\n",
    "optimizer_name = \"Adam\"\n",
    "lr = 1e-1\n",
    "optimizer = getattr(torch.optim, optimizer_name)(model.parameters(), lr=lr)\n",
    "epochs = 200\n",
    "\n",
    "def train():\n",
    "  model.train()\n",
    "  optimizer.zero_grad()\n",
    "  F.nll_loss(model()[data.train_mask], data.y[data.train_mask]).backward()\n",
    "  optimizer.step()\n",
    "\n",
    "@torch.no_grad()\n",
    "def test():\n",
    "  model.eval()\n",
    "  logits = model()\n",
    "  mask1 = data['train_mask']\n",
    "  pred1 = logits[mask1].max(1)[1]\n",
    "  acc1 = pred1.eq(data.y[mask1]).sum().item() / mask1.sum().item()\n",
    "  mask = data['test_mask']\n",
    "  pred = logits[mask].max(1)[1]\n",
    "  acc = pred.eq(data.y[mask]).sum().item() / mask.sum().item()\n",
    "  return acc1,acc\n",
    "\n",
    "for epoch in range(1, epochs):\n",
    "  train()\n",
    "\n",
    "train_acc,test_acc = test()\n",
    "\n",
    "print('#' * 70)\n",
    "print('Train Accuracy: %s' %train_acc )\n",
    "print('Test Accuracy: %s' % test_acc)\n",
    "print('#' * 70)"
   ]
  },
  {
   "cell_type": "markdown",
   "metadata": {
    "id": "WlUlZVTuDrXx"
   },
   "source": [
    "# New Section"
   ]
  }
 ],
 "metadata": {
  "accelerator": "GPU",
  "colab": {
   "collapsed_sections": [],
   "machine_shape": "hm",
   "provenance": [
    {
     "file_id": "1p22woSOw449Uv1GnldONI0rIr2p1-3od",
     "timestamp": 1646798559225
    }
   ],
   "toc_visible": true
  },
  "kernelspec": {
   "display_name": "Python 3 (ipykernel)",
   "language": "python",
   "name": "python3"
  },
  "language_info": {
   "codemirror_mode": {
    "name": "ipython",
    "version": 3
   },
   "file_extension": ".py",
   "mimetype": "text/x-python",
   "name": "python",
   "nbconvert_exporter": "python",
   "pygments_lexer": "ipython3",
   "version": "3.9.7"
  },
  "widgets": {
   "application/vnd.jupyter.widget-state+json": {
    "022e3cf4d5dc4ffa95187319831b7961": {
     "model_module": "@jupyter-widgets/base",
     "model_module_version": "1.2.0",
     "model_name": "LayoutModel",
     "state": {
      "_model_module": "@jupyter-widgets/base",
      "_model_module_version": "1.2.0",
      "_model_name": "LayoutModel",
      "_view_count": null,
      "_view_module": "@jupyter-widgets/base",
      "_view_module_version": "1.2.0",
      "_view_name": "LayoutView",
      "align_content": null,
      "align_items": null,
      "align_self": null,
      "border": null,
      "bottom": null,
      "display": null,
      "flex": null,
      "flex_flow": null,
      "grid_area": null,
      "grid_auto_columns": null,
      "grid_auto_flow": null,
      "grid_auto_rows": null,
      "grid_column": null,
      "grid_gap": null,
      "grid_row": null,
      "grid_template_areas": null,
      "grid_template_columns": null,
      "grid_template_rows": null,
      "height": null,
      "justify_content": null,
      "justify_items": null,
      "left": null,
      "margin": null,
      "max_height": null,
      "max_width": null,
      "min_height": null,
      "min_width": null,
      "object_fit": null,
      "object_position": null,
      "order": null,
      "overflow": null,
      "overflow_x": null,
      "overflow_y": null,
      "padding": null,
      "right": null,
      "top": null,
      "visibility": null,
      "width": null
     }
    },
    "040e4f41340c48e0b4565a1523b4f94f": {
     "model_module": "@jupyter-widgets/controls",
     "model_module_version": "1.5.0",
     "model_name": "HTMLModel",
     "state": {
      "_dom_classes": [],
      "_model_module": "@jupyter-widgets/controls",
      "_model_module_version": "1.5.0",
      "_model_name": "HTMLModel",
      "_view_count": null,
      "_view_module": "@jupyter-widgets/controls",
      "_view_module_version": "1.5.0",
      "_view_name": "HTMLView",
      "description": "",
      "description_tooltip": null,
      "layout": "IPY_MODEL_3c87cd88d91e488680feb05a2da23f0b",
      "placeholder": "​",
      "style": "IPY_MODEL_846773c6c79e4d52a0ad1b80d62eb0d2",
      "value": "Computing transition probabilities: 100%"
     }
    },
    "04993f1f6cd14a618fed4571cbd81c7e": {
     "model_module": "@jupyter-widgets/controls",
     "model_module_version": "1.5.0",
     "model_name": "HTMLModel",
     "state": {
      "_dom_classes": [],
      "_model_module": "@jupyter-widgets/controls",
      "_model_module_version": "1.5.0",
      "_model_name": "HTMLModel",
      "_view_count": null,
      "_view_module": "@jupyter-widgets/controls",
      "_view_module_version": "1.5.0",
      "_view_name": "HTMLView",
      "description": "",
      "description_tooltip": null,
      "layout": "IPY_MODEL_6e05431dd99c432989eccbf1d7c1111e",
      "placeholder": "​",
      "style": "IPY_MODEL_c789bbb0cc7d4c63a1f95bea6cb618b2",
      "value": " 34/34 [00:00&lt;00:00, 895.54it/s]"
     }
    },
    "132fce5a299e4b6f944735019e648f3b": {
     "model_module": "@jupyter-widgets/controls",
     "model_module_version": "1.5.0",
     "model_name": "HTMLModel",
     "state": {
      "_dom_classes": [],
      "_model_module": "@jupyter-widgets/controls",
      "_model_module_version": "1.5.0",
      "_model_name": "HTMLModel",
      "_view_count": null,
      "_view_module": "@jupyter-widgets/controls",
      "_view_module_version": "1.5.0",
      "_view_name": "HTMLView",
      "description": "",
      "description_tooltip": null,
      "layout": "IPY_MODEL_22fb52ae8fd744bfa320bb9df5bf1bbd",
      "placeholder": "​",
      "style": "IPY_MODEL_6b493ef31efa402581f12cae509daead",
      "value": "Computing transition probabilities: 100%"
     }
    },
    "1826dbbf0f0a4ff39531fba62c201e69": {
     "model_module": "@jupyter-widgets/controls",
     "model_module_version": "1.5.0",
     "model_name": "DescriptionStyleModel",
     "state": {
      "_model_module": "@jupyter-widgets/controls",
      "_model_module_version": "1.5.0",
      "_model_name": "DescriptionStyleModel",
      "_view_count": null,
      "_view_module": "@jupyter-widgets/base",
      "_view_module_version": "1.2.0",
      "_view_name": "StyleView",
      "description_width": ""
     }
    },
    "18379a3f30f845758023e417caeb5d99": {
     "model_module": "@jupyter-widgets/base",
     "model_module_version": "1.2.0",
     "model_name": "LayoutModel",
     "state": {
      "_model_module": "@jupyter-widgets/base",
      "_model_module_version": "1.2.0",
      "_model_name": "LayoutModel",
      "_view_count": null,
      "_view_module": "@jupyter-widgets/base",
      "_view_module_version": "1.2.0",
      "_view_name": "LayoutView",
      "align_content": null,
      "align_items": null,
      "align_self": null,
      "border": null,
      "bottom": null,
      "display": null,
      "flex": null,
      "flex_flow": null,
      "grid_area": null,
      "grid_auto_columns": null,
      "grid_auto_flow": null,
      "grid_auto_rows": null,
      "grid_column": null,
      "grid_gap": null,
      "grid_row": null,
      "grid_template_areas": null,
      "grid_template_columns": null,
      "grid_template_rows": null,
      "height": null,
      "justify_content": null,
      "justify_items": null,
      "left": null,
      "margin": null,
      "max_height": null,
      "max_width": null,
      "min_height": null,
      "min_width": null,
      "object_fit": null,
      "object_position": null,
      "order": null,
      "overflow": null,
      "overflow_x": null,
      "overflow_y": null,
      "padding": null,
      "right": null,
      "top": null,
      "visibility": null,
      "width": null
     }
    },
    "22fb52ae8fd744bfa320bb9df5bf1bbd": {
     "model_module": "@jupyter-widgets/base",
     "model_module_version": "1.2.0",
     "model_name": "LayoutModel",
     "state": {
      "_model_module": "@jupyter-widgets/base",
      "_model_module_version": "1.2.0",
      "_model_name": "LayoutModel",
      "_view_count": null,
      "_view_module": "@jupyter-widgets/base",
      "_view_module_version": "1.2.0",
      "_view_name": "LayoutView",
      "align_content": null,
      "align_items": null,
      "align_self": null,
      "border": null,
      "bottom": null,
      "display": null,
      "flex": null,
      "flex_flow": null,
      "grid_area": null,
      "grid_auto_columns": null,
      "grid_auto_flow": null,
      "grid_auto_rows": null,
      "grid_column": null,
      "grid_gap": null,
      "grid_row": null,
      "grid_template_areas": null,
      "grid_template_columns": null,
      "grid_template_rows": null,
      "height": null,
      "justify_content": null,
      "justify_items": null,
      "left": null,
      "margin": null,
      "max_height": null,
      "max_width": null,
      "min_height": null,
      "min_width": null,
      "object_fit": null,
      "object_position": null,
      "order": null,
      "overflow": null,
      "overflow_x": null,
      "overflow_y": null,
      "padding": null,
      "right": null,
      "top": null,
      "visibility": null,
      "width": null
     }
    },
    "357a15c799b54238aa7e4e9f9e89c576": {
     "model_module": "@jupyter-widgets/base",
     "model_module_version": "1.2.0",
     "model_name": "LayoutModel",
     "state": {
      "_model_module": "@jupyter-widgets/base",
      "_model_module_version": "1.2.0",
      "_model_name": "LayoutModel",
      "_view_count": null,
      "_view_module": "@jupyter-widgets/base",
      "_view_module_version": "1.2.0",
      "_view_name": "LayoutView",
      "align_content": null,
      "align_items": null,
      "align_self": null,
      "border": null,
      "bottom": null,
      "display": null,
      "flex": null,
      "flex_flow": null,
      "grid_area": null,
      "grid_auto_columns": null,
      "grid_auto_flow": null,
      "grid_auto_rows": null,
      "grid_column": null,
      "grid_gap": null,
      "grid_row": null,
      "grid_template_areas": null,
      "grid_template_columns": null,
      "grid_template_rows": null,
      "height": null,
      "justify_content": null,
      "justify_items": null,
      "left": null,
      "margin": null,
      "max_height": null,
      "max_width": null,
      "min_height": null,
      "min_width": null,
      "object_fit": null,
      "object_position": null,
      "order": null,
      "overflow": null,
      "overflow_x": null,
      "overflow_y": null,
      "padding": null,
      "right": null,
      "top": null,
      "visibility": null,
      "width": null
     }
    },
    "381b369815b148d68ee8b436afa7e21f": {
     "model_module": "@jupyter-widgets/controls",
     "model_module_version": "1.5.0",
     "model_name": "HTMLModel",
     "state": {
      "_dom_classes": [],
      "_model_module": "@jupyter-widgets/controls",
      "_model_module_version": "1.5.0",
      "_model_name": "HTMLModel",
      "_view_count": null,
      "_view_module": "@jupyter-widgets/controls",
      "_view_module_version": "1.5.0",
      "_view_name": "HTMLView",
      "description": "",
      "description_tooltip": null,
      "layout": "IPY_MODEL_022e3cf4d5dc4ffa95187319831b7961",
      "placeholder": "​",
      "style": "IPY_MODEL_9163c057a65d4c9f93bec5218d6872f1",
      "value": " 34/34 [00:00&lt;00:00, 724.66it/s]"
     }
    },
    "3c87cd88d91e488680feb05a2da23f0b": {
     "model_module": "@jupyter-widgets/base",
     "model_module_version": "1.2.0",
     "model_name": "LayoutModel",
     "state": {
      "_model_module": "@jupyter-widgets/base",
      "_model_module_version": "1.2.0",
      "_model_name": "LayoutModel",
      "_view_count": null,
      "_view_module": "@jupyter-widgets/base",
      "_view_module_version": "1.2.0",
      "_view_name": "LayoutView",
      "align_content": null,
      "align_items": null,
      "align_self": null,
      "border": null,
      "bottom": null,
      "display": null,
      "flex": null,
      "flex_flow": null,
      "grid_area": null,
      "grid_auto_columns": null,
      "grid_auto_flow": null,
      "grid_auto_rows": null,
      "grid_column": null,
      "grid_gap": null,
      "grid_row": null,
      "grid_template_areas": null,
      "grid_template_columns": null,
      "grid_template_rows": null,
      "height": null,
      "justify_content": null,
      "justify_items": null,
      "left": null,
      "margin": null,
      "max_height": null,
      "max_width": null,
      "min_height": null,
      "min_width": null,
      "object_fit": null,
      "object_position": null,
      "order": null,
      "overflow": null,
      "overflow_x": null,
      "overflow_y": null,
      "padding": null,
      "right": null,
      "top": null,
      "visibility": null,
      "width": null
     }
    },
    "5f71ae8083eb4c4ab2d2030c1ba245f2": {
     "model_module": "@jupyter-widgets/base",
     "model_module_version": "1.2.0",
     "model_name": "LayoutModel",
     "state": {
      "_model_module": "@jupyter-widgets/base",
      "_model_module_version": "1.2.0",
      "_model_name": "LayoutModel",
      "_view_count": null,
      "_view_module": "@jupyter-widgets/base",
      "_view_module_version": "1.2.0",
      "_view_name": "LayoutView",
      "align_content": null,
      "align_items": null,
      "align_self": null,
      "border": null,
      "bottom": null,
      "display": null,
      "flex": null,
      "flex_flow": null,
      "grid_area": null,
      "grid_auto_columns": null,
      "grid_auto_flow": null,
      "grid_auto_rows": null,
      "grid_column": null,
      "grid_gap": null,
      "grid_row": null,
      "grid_template_areas": null,
      "grid_template_columns": null,
      "grid_template_rows": null,
      "height": null,
      "justify_content": null,
      "justify_items": null,
      "left": null,
      "margin": null,
      "max_height": null,
      "max_width": null,
      "min_height": null,
      "min_width": null,
      "object_fit": null,
      "object_position": null,
      "order": null,
      "overflow": null,
      "overflow_x": null,
      "overflow_y": null,
      "padding": null,
      "right": null,
      "top": null,
      "visibility": null,
      "width": null
     }
    },
    "6a494c68876b437993b75cf4e1e4244d": {
     "model_module": "@jupyter-widgets/controls",
     "model_module_version": "1.5.0",
     "model_name": "FloatProgressModel",
     "state": {
      "_dom_classes": [],
      "_model_module": "@jupyter-widgets/controls",
      "_model_module_version": "1.5.0",
      "_model_name": "FloatProgressModel",
      "_view_count": null,
      "_view_module": "@jupyter-widgets/controls",
      "_view_module_version": "1.5.0",
      "_view_name": "ProgressView",
      "bar_style": "success",
      "description": "",
      "description_tooltip": null,
      "layout": "IPY_MODEL_f8eef188b6ad4646a0f1bb03698c56b7",
      "max": 34,
      "min": 0,
      "orientation": "horizontal",
      "style": "IPY_MODEL_e313bfe02b404cad95e7f54e224ba66a",
      "value": 34
     }
    },
    "6b493ef31efa402581f12cae509daead": {
     "model_module": "@jupyter-widgets/controls",
     "model_module_version": "1.5.0",
     "model_name": "DescriptionStyleModel",
     "state": {
      "_model_module": "@jupyter-widgets/controls",
      "_model_module_version": "1.5.0",
      "_model_name": "DescriptionStyleModel",
      "_view_count": null,
      "_view_module": "@jupyter-widgets/base",
      "_view_module_version": "1.2.0",
      "_view_name": "StyleView",
      "description_width": ""
     }
    },
    "6c0b66b28ad84995bd49b1495cb28140": {
     "model_module": "@jupyter-widgets/base",
     "model_module_version": "1.2.0",
     "model_name": "LayoutModel",
     "state": {
      "_model_module": "@jupyter-widgets/base",
      "_model_module_version": "1.2.0",
      "_model_name": "LayoutModel",
      "_view_count": null,
      "_view_module": "@jupyter-widgets/base",
      "_view_module_version": "1.2.0",
      "_view_name": "LayoutView",
      "align_content": null,
      "align_items": null,
      "align_self": null,
      "border": null,
      "bottom": null,
      "display": null,
      "flex": null,
      "flex_flow": null,
      "grid_area": null,
      "grid_auto_columns": null,
      "grid_auto_flow": null,
      "grid_auto_rows": null,
      "grid_column": null,
      "grid_gap": null,
      "grid_row": null,
      "grid_template_areas": null,
      "grid_template_columns": null,
      "grid_template_rows": null,
      "height": null,
      "justify_content": null,
      "justify_items": null,
      "left": null,
      "margin": null,
      "max_height": null,
      "max_width": null,
      "min_height": null,
      "min_width": null,
      "object_fit": null,
      "object_position": null,
      "order": null,
      "overflow": null,
      "overflow_x": null,
      "overflow_y": null,
      "padding": null,
      "right": null,
      "top": null,
      "visibility": null,
      "width": null
     }
    },
    "6e05431dd99c432989eccbf1d7c1111e": {
     "model_module": "@jupyter-widgets/base",
     "model_module_version": "1.2.0",
     "model_name": "LayoutModel",
     "state": {
      "_model_module": "@jupyter-widgets/base",
      "_model_module_version": "1.2.0",
      "_model_name": "LayoutModel",
      "_view_count": null,
      "_view_module": "@jupyter-widgets/base",
      "_view_module_version": "1.2.0",
      "_view_name": "LayoutView",
      "align_content": null,
      "align_items": null,
      "align_self": null,
      "border": null,
      "bottom": null,
      "display": null,
      "flex": null,
      "flex_flow": null,
      "grid_area": null,
      "grid_auto_columns": null,
      "grid_auto_flow": null,
      "grid_auto_rows": null,
      "grid_column": null,
      "grid_gap": null,
      "grid_row": null,
      "grid_template_areas": null,
      "grid_template_columns": null,
      "grid_template_rows": null,
      "height": null,
      "justify_content": null,
      "justify_items": null,
      "left": null,
      "margin": null,
      "max_height": null,
      "max_width": null,
      "min_height": null,
      "min_width": null,
      "object_fit": null,
      "object_position": null,
      "order": null,
      "overflow": null,
      "overflow_x": null,
      "overflow_y": null,
      "padding": null,
      "right": null,
      "top": null,
      "visibility": null,
      "width": null
     }
    },
    "77f16bcf2ba3451fb42368d7aaae9184": {
     "model_module": "@jupyter-widgets/controls",
     "model_module_version": "1.5.0",
     "model_name": "ProgressStyleModel",
     "state": {
      "_model_module": "@jupyter-widgets/controls",
      "_model_module_version": "1.5.0",
      "_model_name": "ProgressStyleModel",
      "_view_count": null,
      "_view_module": "@jupyter-widgets/base",
      "_view_module_version": "1.2.0",
      "_view_name": "StyleView",
      "bar_color": null,
      "description_width": ""
     }
    },
    "7895f3829a0d448093a7d25239297769": {
     "model_module": "@jupyter-widgets/base",
     "model_module_version": "1.2.0",
     "model_name": "LayoutModel",
     "state": {
      "_model_module": "@jupyter-widgets/base",
      "_model_module_version": "1.2.0",
      "_model_name": "LayoutModel",
      "_view_count": null,
      "_view_module": "@jupyter-widgets/base",
      "_view_module_version": "1.2.0",
      "_view_name": "LayoutView",
      "align_content": null,
      "align_items": null,
      "align_self": null,
      "border": null,
      "bottom": null,
      "display": null,
      "flex": null,
      "flex_flow": null,
      "grid_area": null,
      "grid_auto_columns": null,
      "grid_auto_flow": null,
      "grid_auto_rows": null,
      "grid_column": null,
      "grid_gap": null,
      "grid_row": null,
      "grid_template_areas": null,
      "grid_template_columns": null,
      "grid_template_rows": null,
      "height": null,
      "justify_content": null,
      "justify_items": null,
      "left": null,
      "margin": null,
      "max_height": null,
      "max_width": null,
      "min_height": null,
      "min_width": null,
      "object_fit": null,
      "object_position": null,
      "order": null,
      "overflow": null,
      "overflow_x": null,
      "overflow_y": null,
      "padding": null,
      "right": null,
      "top": null,
      "visibility": null,
      "width": null
     }
    },
    "82733703c1d14f719e0bf67939a00d7d": {
     "model_module": "@jupyter-widgets/controls",
     "model_module_version": "1.5.0",
     "model_name": "FloatProgressModel",
     "state": {
      "_dom_classes": [],
      "_model_module": "@jupyter-widgets/controls",
      "_model_module_version": "1.5.0",
      "_model_name": "FloatProgressModel",
      "_view_count": null,
      "_view_module": "@jupyter-widgets/controls",
      "_view_module_version": "1.5.0",
      "_view_name": "ProgressView",
      "bar_style": "success",
      "description": "",
      "description_tooltip": null,
      "layout": "IPY_MODEL_18379a3f30f845758023e417caeb5d99",
      "max": 34,
      "min": 0,
      "orientation": "horizontal",
      "style": "IPY_MODEL_77f16bcf2ba3451fb42368d7aaae9184",
      "value": 34
     }
    },
    "846773c6c79e4d52a0ad1b80d62eb0d2": {
     "model_module": "@jupyter-widgets/controls",
     "model_module_version": "1.5.0",
     "model_name": "DescriptionStyleModel",
     "state": {
      "_model_module": "@jupyter-widgets/controls",
      "_model_module_version": "1.5.0",
      "_model_name": "DescriptionStyleModel",
      "_view_count": null,
      "_view_module": "@jupyter-widgets/base",
      "_view_module_version": "1.2.0",
      "_view_name": "StyleView",
      "description_width": ""
     }
    },
    "890137045e624c8abed4e0da07ba42a3": {
     "model_module": "@jupyter-widgets/controls",
     "model_module_version": "1.5.0",
     "model_name": "DescriptionStyleModel",
     "state": {
      "_model_module": "@jupyter-widgets/controls",
      "_model_module_version": "1.5.0",
      "_model_name": "DescriptionStyleModel",
      "_view_count": null,
      "_view_module": "@jupyter-widgets/base",
      "_view_module_version": "1.2.0",
      "_view_name": "StyleView",
      "description_width": ""
     }
    },
    "8b92810fbf934fa1b2df66d8c3492926": {
     "model_module": "@jupyter-widgets/controls",
     "model_module_version": "1.5.0",
     "model_name": "HTMLModel",
     "state": {
      "_dom_classes": [],
      "_model_module": "@jupyter-widgets/controls",
      "_model_module_version": "1.5.0",
      "_model_name": "HTMLModel",
      "_view_count": null,
      "_view_module": "@jupyter-widgets/controls",
      "_view_module_version": "1.5.0",
      "_view_name": "HTMLView",
      "description": "",
      "description_tooltip": null,
      "layout": "IPY_MODEL_cba40378dfa8496f8968f954ffa21519",
      "placeholder": "​",
      "style": "IPY_MODEL_1826dbbf0f0a4ff39531fba62c201e69",
      "value": "Computing transition probabilities: 100%"
     }
    },
    "9059c75d9a9343e885b0d1c7b46b80be": {
     "model_module": "@jupyter-widgets/controls",
     "model_module_version": "1.5.0",
     "model_name": "HTMLModel",
     "state": {
      "_dom_classes": [],
      "_model_module": "@jupyter-widgets/controls",
      "_model_module_version": "1.5.0",
      "_model_name": "HTMLModel",
      "_view_count": null,
      "_view_module": "@jupyter-widgets/controls",
      "_view_module_version": "1.5.0",
      "_view_name": "HTMLView",
      "description": "",
      "description_tooltip": null,
      "layout": "IPY_MODEL_5f71ae8083eb4c4ab2d2030c1ba245f2",
      "placeholder": "​",
      "style": "IPY_MODEL_890137045e624c8abed4e0da07ba42a3",
      "value": " 34/34 [00:00&lt;00:00, 527.15it/s]"
     }
    },
    "9163c057a65d4c9f93bec5218d6872f1": {
     "model_module": "@jupyter-widgets/controls",
     "model_module_version": "1.5.0",
     "model_name": "DescriptionStyleModel",
     "state": {
      "_model_module": "@jupyter-widgets/controls",
      "_model_module_version": "1.5.0",
      "_model_name": "DescriptionStyleModel",
      "_view_count": null,
      "_view_module": "@jupyter-widgets/base",
      "_view_module_version": "1.2.0",
      "_view_name": "StyleView",
      "description_width": ""
     }
    },
    "a26ab09c93714d29a568be9cd3b8aaf5": {
     "model_module": "@jupyter-widgets/base",
     "model_module_version": "1.2.0",
     "model_name": "LayoutModel",
     "state": {
      "_model_module": "@jupyter-widgets/base",
      "_model_module_version": "1.2.0",
      "_model_name": "LayoutModel",
      "_view_count": null,
      "_view_module": "@jupyter-widgets/base",
      "_view_module_version": "1.2.0",
      "_view_name": "LayoutView",
      "align_content": null,
      "align_items": null,
      "align_self": null,
      "border": null,
      "bottom": null,
      "display": null,
      "flex": null,
      "flex_flow": null,
      "grid_area": null,
      "grid_auto_columns": null,
      "grid_auto_flow": null,
      "grid_auto_rows": null,
      "grid_column": null,
      "grid_gap": null,
      "grid_row": null,
      "grid_template_areas": null,
      "grid_template_columns": null,
      "grid_template_rows": null,
      "height": null,
      "justify_content": null,
      "justify_items": null,
      "left": null,
      "margin": null,
      "max_height": null,
      "max_width": null,
      "min_height": null,
      "min_width": null,
      "object_fit": null,
      "object_position": null,
      "order": null,
      "overflow": null,
      "overflow_x": null,
      "overflow_y": null,
      "padding": null,
      "right": null,
      "top": null,
      "visibility": null,
      "width": null
     }
    },
    "c789bbb0cc7d4c63a1f95bea6cb618b2": {
     "model_module": "@jupyter-widgets/controls",
     "model_module_version": "1.5.0",
     "model_name": "DescriptionStyleModel",
     "state": {
      "_model_module": "@jupyter-widgets/controls",
      "_model_module_version": "1.5.0",
      "_model_name": "DescriptionStyleModel",
      "_view_count": null,
      "_view_module": "@jupyter-widgets/base",
      "_view_module_version": "1.2.0",
      "_view_name": "StyleView",
      "description_width": ""
     }
    },
    "c832a41a74184b0d878fb1815b8b25d5": {
     "model_module": "@jupyter-widgets/controls",
     "model_module_version": "1.5.0",
     "model_name": "HBoxModel",
     "state": {
      "_dom_classes": [],
      "_model_module": "@jupyter-widgets/controls",
      "_model_module_version": "1.5.0",
      "_model_name": "HBoxModel",
      "_view_count": null,
      "_view_module": "@jupyter-widgets/controls",
      "_view_module_version": "1.5.0",
      "_view_name": "HBoxView",
      "box_style": "",
      "children": [
       "IPY_MODEL_040e4f41340c48e0b4565a1523b4f94f",
       "IPY_MODEL_82733703c1d14f719e0bf67939a00d7d",
       "IPY_MODEL_381b369815b148d68ee8b436afa7e21f"
      ],
      "layout": "IPY_MODEL_a26ab09c93714d29a568be9cd3b8aaf5"
     }
    },
    "cba40378dfa8496f8968f954ffa21519": {
     "model_module": "@jupyter-widgets/base",
     "model_module_version": "1.2.0",
     "model_name": "LayoutModel",
     "state": {
      "_model_module": "@jupyter-widgets/base",
      "_model_module_version": "1.2.0",
      "_model_name": "LayoutModel",
      "_view_count": null,
      "_view_module": "@jupyter-widgets/base",
      "_view_module_version": "1.2.0",
      "_view_name": "LayoutView",
      "align_content": null,
      "align_items": null,
      "align_self": null,
      "border": null,
      "bottom": null,
      "display": null,
      "flex": null,
      "flex_flow": null,
      "grid_area": null,
      "grid_auto_columns": null,
      "grid_auto_flow": null,
      "grid_auto_rows": null,
      "grid_column": null,
      "grid_gap": null,
      "grid_row": null,
      "grid_template_areas": null,
      "grid_template_columns": null,
      "grid_template_rows": null,
      "height": null,
      "justify_content": null,
      "justify_items": null,
      "left": null,
      "margin": null,
      "max_height": null,
      "max_width": null,
      "min_height": null,
      "min_width": null,
      "object_fit": null,
      "object_position": null,
      "order": null,
      "overflow": null,
      "overflow_x": null,
      "overflow_y": null,
      "padding": null,
      "right": null,
      "top": null,
      "visibility": null,
      "width": null
     }
    },
    "e128a4d119154d7f9ad83ec61f9045a1": {
     "model_module": "@jupyter-widgets/controls",
     "model_module_version": "1.5.0",
     "model_name": "HBoxModel",
     "state": {
      "_dom_classes": [],
      "_model_module": "@jupyter-widgets/controls",
      "_model_module_version": "1.5.0",
      "_model_name": "HBoxModel",
      "_view_count": null,
      "_view_module": "@jupyter-widgets/controls",
      "_view_module_version": "1.5.0",
      "_view_name": "HBoxView",
      "box_style": "",
      "children": [
       "IPY_MODEL_132fce5a299e4b6f944735019e648f3b",
       "IPY_MODEL_6a494c68876b437993b75cf4e1e4244d",
       "IPY_MODEL_9059c75d9a9343e885b0d1c7b46b80be"
      ],
      "layout": "IPY_MODEL_6c0b66b28ad84995bd49b1495cb28140"
     }
    },
    "e313bfe02b404cad95e7f54e224ba66a": {
     "model_module": "@jupyter-widgets/controls",
     "model_module_version": "1.5.0",
     "model_name": "ProgressStyleModel",
     "state": {
      "_model_module": "@jupyter-widgets/controls",
      "_model_module_version": "1.5.0",
      "_model_name": "ProgressStyleModel",
      "_view_count": null,
      "_view_module": "@jupyter-widgets/base",
      "_view_module_version": "1.2.0",
      "_view_name": "StyleView",
      "bar_color": null,
      "description_width": ""
     }
    },
    "ea35dcfe31e241b39297247754ef2eef": {
     "model_module": "@jupyter-widgets/controls",
     "model_module_version": "1.5.0",
     "model_name": "HBoxModel",
     "state": {
      "_dom_classes": [],
      "_model_module": "@jupyter-widgets/controls",
      "_model_module_version": "1.5.0",
      "_model_name": "HBoxModel",
      "_view_count": null,
      "_view_module": "@jupyter-widgets/controls",
      "_view_module_version": "1.5.0",
      "_view_name": "HBoxView",
      "box_style": "",
      "children": [
       "IPY_MODEL_8b92810fbf934fa1b2df66d8c3492926",
       "IPY_MODEL_ef52a346e7444eeb9752026b6637a7b1",
       "IPY_MODEL_04993f1f6cd14a618fed4571cbd81c7e"
      ],
      "layout": "IPY_MODEL_7895f3829a0d448093a7d25239297769"
     }
    },
    "ef52a346e7444eeb9752026b6637a7b1": {
     "model_module": "@jupyter-widgets/controls",
     "model_module_version": "1.5.0",
     "model_name": "FloatProgressModel",
     "state": {
      "_dom_classes": [],
      "_model_module": "@jupyter-widgets/controls",
      "_model_module_version": "1.5.0",
      "_model_name": "FloatProgressModel",
      "_view_count": null,
      "_view_module": "@jupyter-widgets/controls",
      "_view_module_version": "1.5.0",
      "_view_name": "ProgressView",
      "bar_style": "success",
      "description": "",
      "description_tooltip": null,
      "layout": "IPY_MODEL_357a15c799b54238aa7e4e9f9e89c576",
      "max": 34,
      "min": 0,
      "orientation": "horizontal",
      "style": "IPY_MODEL_f6e7b95fa29d464894ee7fe128941a2b",
      "value": 34
     }
    },
    "f6e7b95fa29d464894ee7fe128941a2b": {
     "model_module": "@jupyter-widgets/controls",
     "model_module_version": "1.5.0",
     "model_name": "ProgressStyleModel",
     "state": {
      "_model_module": "@jupyter-widgets/controls",
      "_model_module_version": "1.5.0",
      "_model_name": "ProgressStyleModel",
      "_view_count": null,
      "_view_module": "@jupyter-widgets/base",
      "_view_module_version": "1.2.0",
      "_view_name": "StyleView",
      "bar_color": null,
      "description_width": ""
     }
    },
    "f8eef188b6ad4646a0f1bb03698c56b7": {
     "model_module": "@jupyter-widgets/base",
     "model_module_version": "1.2.0",
     "model_name": "LayoutModel",
     "state": {
      "_model_module": "@jupyter-widgets/base",
      "_model_module_version": "1.2.0",
      "_model_name": "LayoutModel",
      "_view_count": null,
      "_view_module": "@jupyter-widgets/base",
      "_view_module_version": "1.2.0",
      "_view_name": "LayoutView",
      "align_content": null,
      "align_items": null,
      "align_self": null,
      "border": null,
      "bottom": null,
      "display": null,
      "flex": null,
      "flex_flow": null,
      "grid_area": null,
      "grid_auto_columns": null,
      "grid_auto_flow": null,
      "grid_auto_rows": null,
      "grid_column": null,
      "grid_gap": null,
      "grid_row": null,
      "grid_template_areas": null,
      "grid_template_columns": null,
      "grid_template_rows": null,
      "height": null,
      "justify_content": null,
      "justify_items": null,
      "left": null,
      "margin": null,
      "max_height": null,
      "max_width": null,
      "min_height": null,
      "min_width": null,
      "object_fit": null,
      "object_position": null,
      "order": null,
      "overflow": null,
      "overflow_x": null,
      "overflow_y": null,
      "padding": null,
      "right": null,
      "top": null,
      "visibility": null,
      "width": null
     }
    }
   }
  }
 },
 "nbformat": 4,
 "nbformat_minor": 4
}
