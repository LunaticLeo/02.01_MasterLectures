{
 "cells": [
  {
   "cell_type": "markdown",
   "metadata": {},
   "source": [
    "## HW 1: Math Foundation and Python Programming"
   ]
  },
  {
   "cell_type": "markdown",
   "metadata": {},
   "source": [
    " <div class=\"alert alert-block alert-warning\">Each assignment needs to be completed independently. Never ever copy others' work (even with minor modification, e.g. changing variable names). Anti-Plagiarism software will be used to check all submissions. </div>"
   ]
  },
  {
   "cell_type": "markdown",
   "metadata": {},
   "source": [
    "### Objectives: "
   ]
  },
  {
   "cell_type": "markdown",
   "metadata": {},
   "source": [
    "The objectives of this assignment include:\n",
    "- Test your Python programming skills\n",
    "- Program deep learning models from scrath\n",
    "- Understand gradients, backpropagtion, and the impact of activation/loss functions on model performance\n",
    "- Learn to analyze model performance analytically "
   ]
  },
  {
   "cell_type": "markdown",
   "metadata": {},
   "source": [
    "### Problem Description"
   ]
  },
  {
   "cell_type": "markdown",
   "metadata": {},
   "source": [
    "- Suppose you have a two-layer deep learning model as shown below: \n",
    "    - $ L = g~(z^{(2)}, y)$, where $y$ is ground-truth, and $g$ is a loss function. \n",
    "    - $ z^{(2)} = \\sigma~(~u^{(2)}~), ~ u^{(2)} = A^{(2)~T} z^{(1)} + b^{(2)},\\text{where}  ~z^{(2)}, b^{(2)} \\in R,~ z^{(1)},A^{(2)} \\in R^3, ~\\text{and} ~\\sigma $ is the `sigmoid` activation function.\n",
    "    - $ z^{(1)} = f ~(~u^{(1)}~),~ u^{(1)} = A^{(1)} x + b^{(1)}, \\text{where}~x \\in R^2, ~z^{(1)},~b^{(1)} \\in R^3, A^{(1)}\\in R^{3 \\times 2}$, and $f$ is an activation function.\n",
    "    \n",
    "    \n",
    "- Now, you have two options for $f$ and $g$:\n",
    "    - $f$: `ReLU` or `tanh`\n",
    "    - $g$: `cross_entropy` $L=-\\frac{1}{N}\\sum_i[~y_i*\\ln{z^{(2)}_i}+(1-y_i)*ln~{(1-z^{(2)}_i)}~]$, or `mean squared error (mse)`, $L=\\frac{1}{2N}\\sum_i(y_i- z^{(2)}_i)^2$, where $i\\in [1, 2, ..., N]$ are training instances.\n",
    "    "
   ]
  },
  {
   "cell_type": "markdown",
   "metadata": {},
   "source": [
    "<img src='./hw1.png' width = '50%'>"
   ]
  },
  {
   "cell_type": "markdown",
   "metadata": {},
   "source": [
    "Following the instruction below to program your solution in Python notebook step by step carefully.\n",
    "\n",
    "\n",
    "In this assignment, `you don't need PyTorch. You only need to use Numpy Package`. The following are useful numpy functions: `np.dot`, `np.exp`, `np.tanh`, `np.squeeze`, `np.eye`, `np.zeros`, `np.expand_dims`, `np.fill_diagonal`. Do your search to figure out how to use these functions.\n",
    "\n",
    "\n",
    "For the sake of convenience, in the code, we use `A1, A2, b1, b2, u1, u2, z1, z2` to denote $A^{(1)}, A^{(2)}, b^{(1)}, b^{(2)}, z^{(1)}, z^{(2)}$ respectively."
   ]
  },
  {
   "cell_type": "markdown",
   "metadata": {},
   "source": [
    "### Requirements"
   ]
  },
  {
   "cell_type": "markdown",
   "metadata": {},
   "source": [
    "1. (2 points) Write a function to calculate each of the following partial derivatives. The inputs to the function are all the variables in the model and the returned derivatives are expressions of these variables. Pay attention to the shape of each gradient. An example is given below.\n",
    "\n",
    "- $ \\frac{d{L}}{du^{(2)}}$, a scalar\n",
    "- $ \\frac{\\partial{u^{(2)}}}{\\partial{z^{(1)}}} \\in R^{1\\times 3}$ \n",
    "- $ \\frac{\\partial{u^{(2)}}}{\\partial{A^{(2)}}} \\in R^{1\\times 3}$\n",
    "- $ \\frac{\\partial{u^{(2)}}}{\\partial{b^{(2)}}}$, a sclar\n",
    "- $ \\frac{\\partial{z^{(1)}}}{\\partial{u^{(1)}}} \\in R^{3\\times 3}$\n",
    "- $ \\frac{\\partial{u^{(1)}}}{\\partial{A^{(1)}}} \\in R^{3\\times 3 \\times 2}$\n",
    "- $ \\frac{\\partial{u^{(1)}}}{\\partial{b^{(1)}}} \\in R^{3\\times 3}$\n"
   ]
  },
  {
   "cell_type": "code",
   "execution_count": 1,
   "metadata": {},
   "outputs": [],
   "source": [
    "import numpy as np\n",
    "from matplotlib import pyplot as plt"
   ]
  },
  {
   "cell_type": "code",
   "execution_count": 2,
   "metadata": {},
   "outputs": [],
   "source": [
    "def dL_du2(L, y, u2, z2, fun = 'cross_entropy'):\n",
    "    if fun == 'cross_entropy':\n",
    "        return z2-y\n",
    "    else:\n",
    "        return (z2 - y)*z2*(1-z2)\n",
    "    \n",
    "def du2_dz1(A2):\n",
    "    return A2.reshape((1,A2.shape[0]))\n",
    "\n",
    "def du2_dA2(u2, z1, A2):\n",
    "    return z1\n",
    "\n",
    "def du2_db2(u2, b2):\n",
    "    return 1\n",
    "\n",
    "def dz1_du1(z1, u1, fun = 'relu'):\n",
    "    g = np.zeros((3,3))\n",
    "    \n",
    "    if fun == 'relu':\n",
    "        temp = np.where(u1>0,1,0).reshape(3)\n",
    "        for i in range(len(temp)):\n",
    "            g[i,i] = temp[i]\n",
    "    else:\n",
    "        temp = (np.power(np.tanh(u1),2)*-1 + 1).reshape(3)\n",
    "        for i in range(len(temp)):\n",
    "            g[i,i] = temp[i]\n",
    "    return g\n",
    "\n",
    "def du1_dA1(u1, x, A1):\n",
    "    # make Jacobian tensor with all 0s\n",
    "    g = np.zeros(u1.shape + A1.shape)\n",
    "    # set the gradient values\n",
    "    for i, _ in enumerate(u1):\n",
    "        g[i,i] = x\n",
    "    return g.reshape((3,3,2))\n",
    "    \n",
    "def du1_db1(u1, b1):\n",
    "    return np.eye(3)"
   ]
  },
  {
   "cell_type": "markdown",
   "metadata": {},
   "source": [
    "2. (1 point) Write a function `forward(A1, A2, b1, b2, x, y, act_fun = 'relu', loss_fun = 'cross_entropy')`, which calculates `u1, z1, u2, z2`, and `loss` based on the provided model inputs and parameter values."
   ]
  },
  {
   "cell_type": "code",
   "execution_count": 3,
   "metadata": {},
   "outputs": [],
   "source": [
    "def forward(A1, A2, b1, b2, x, y, act_fun = 'relu', loss_fun = 'cross_entropy'):\n",
    "    \n",
    "    u1, z1, u2, z2, loss  = None, None, None, None, None\n",
    "    \n",
    "    u1 = A1.dot(x) + b1\n",
    "    \n",
    "    if act_fun == 'relu':\n",
    "        z1 = np.where(u1<=0,0,u1)\n",
    "    else:\n",
    "        z1 = np.tanh(u1)\n",
    "        \n",
    "    u2 = z1.dot(A2) + b2\n",
    "    \n",
    "    z2 = 1/(1 + np.exp(-u2))\n",
    "\n",
    "    if loss_fun == 'cross_entropy':\n",
    "        loss = np.sum(np.log(z2) * y + np.log(1-z2) * (1-y) ) * -1\n",
    "    else:\n",
    "        loss = (z2-y)**2/2\n",
    "        \n",
    "    return u1, z1, u2, z2, loss              "
   ]
  },
  {
   "cell_type": "markdown",
   "metadata": {},
   "source": [
    "3. (2 point) Write a function `backpropagate(L, x, y, u1, u2, z1, z2, A1, A2, b1, b2, act_fun = 'relu', loss_fun = 'cross_entropy')` to compute the gradients $\\frac{\\partial{L}}{\\partial{A^{(1)}}}, \\frac{\\partial{L}}{\\partial{A^{(2)}}}, \\frac{\\partial{L}}{\\partial{b^{(1)}}}, \\frac{\\partial{L}}{\\partial{b^{(2)}}}$ using the functions defined in Q1. The inputs to this function are all the variables defined in the model and the chosen $f, g$ function names. This function return these 4 gradients."
   ]
  },
  {
   "cell_type": "code",
   "execution_count": 4,
   "metadata": {},
   "outputs": [],
   "source": [
    "def backpropagate(L, x, y, u1, u2, z1, z2, \\\n",
    "                  A1, A2, b1, b2, \\\n",
    "                  act_fun = 'relu', \\\n",
    "                  loss_fun = 'cross_entropy'):\n",
    "    \n",
    "    g_A1, g_b1, g_A2, g_b2 = None, None, None, None\n",
    "    \n",
    "    g_A1 = dL_du2(L,y,u2,z2, loss_fun) * du2_dz1(A2).dot(dz1_du1(z1,u1, act_fun)).dot(du1_dA1(u1,x,A1))\n",
    "    \n",
    "    g_b1 = dL_du2(L,y,u2,z2,loss_fun) *  du2_dz1(A2).dot(dz1_du1(z1,u1, act_fun)).dot(du1_db1(u1,b1))   \n",
    "    \n",
    "    g_A2 = dL_du2(L,y,u2,z2,loss_fun) * du2_dA2(u2,z1,A2)\n",
    "    \n",
    "    g_b2 = dL_du2(L,y,u2,z2,loss_fun) * du2_db2(u2,b2)\n",
    "    \n",
    "    return g_A1, g_b1, g_A2, g_b2"
   ]
  },
  {
   "cell_type": "markdown",
   "metadata": {},
   "source": [
    "4. (0.5 point) Write a function `gradient_desc(v, g, lam)` to adjust a parameter value $v$ by its gradient $g$, i.e. return the new value of parameter $v = v - lam*g$, where `lam` is a given learning rate.\n",
    "\n",
    "\n",
    "Note, The shape of your gradient may be different from that of $v$. Check the shapes of $v, g$ to make sure they are the same."
   ]
  },
  {
   "cell_type": "code",
   "execution_count": 5,
   "metadata": {},
   "outputs": [],
   "source": [
    "def gradient_desc(v, g, lam):\n",
    "    v = v - lam * g\n",
    "    return v"
   ]
  },
  {
   "cell_type": "markdown",
   "metadata": {},
   "source": [
    "5. (2 points) Write a function `train(x, y, A1, A2, b1, b2, lam = 0.001, act_fun = 'relu', loss_fun = 'cross_entropy', epoch = 100)`: as follows:\n",
    "   1. Input arguments are:\n",
    "        - Training sample $(x, y)$. For simplicity, let's assume there is *only one* training instance.\n",
    "        - Initial parameter values $A1, A2, b1, b2$.\n",
    "        - Learning rate `lam`, epochs, and the chosen function names for $f, g$\n",
    "       \n",
    "   1. Use a loop of `epoch` rounds to do the following:\n",
    "       - Call the `forward` function to run a foward pass \n",
    "       - Call the `backpropagate` function to compute gradients $\\frac{\\partial{L}}{\\partial{A^{(1)}}}, \\frac{\\partial{L}}{\\partial{A^{(2)}}}, \\frac{\\partial{L}}{\\partial{b^{(1)}}}, \\frac{\\partial{L}}{\\partial{b^{(2)}}}$ \n",
    "       - Call the `gradient_desc` function to update parameters $A^{(1)}, A^{(2)}, b^{(1)}, b^{(2)}$\n",
    "       \n",
    "   1. Return of the loss and $z^{(2)}$ obtained in each epoch, and the final values of and the values of $A^{(1)}, A^{(2)}, b^{(1)}, b^{(2)}$."
   ]
  },
  {
   "cell_type": "code",
   "execution_count": 6,
   "metadata": {},
   "outputs": [],
   "source": [
    "def train(x, y, A1, A2, b1, b2, \\\n",
    "          lam = 0.001, act_fun = 'relu', \\\n",
    "          loss_fun = 'cross_entropy', \\\n",
    "          epoch = 100):\n",
    "    \n",
    "    loss_hist = []  # loss curve\n",
    "    pred_hist = []  # prediction curve\n",
    "\n",
    "    for i in range(epoch):\n",
    "        u1, z1, u2, z2, loss = forward(A1,A2,b1,b2,x,y,act_fun,loss_fun)\n",
    "        loss_hist.append(loss)\n",
    "        pred_hist.append(z2)\n",
    "        \n",
    "        g_A1, g_b1, g_A2, g_A2 = backpropagate(loss, x, y, u1, u2, z1, z2, A1, A2, b1, b2, act_fun,loss_fun)\n",
    "        A1 = gradient_desc(A1,g_A1,lam)\n",
    "        b1 = gradient_desc(b1,g_b1,lam)\n",
    "        A2 = gradient_desc(A2,g_A2,lam)\n",
    "        b2 = gradient_desc(b2,g_A2,lam)\n",
    "        \n",
    "              \n",
    "    return A1, b1, A2, b2, loss_hist, pred_hist"
   ]
  },
  {
   "cell_type": "markdown",
   "metadata": {},
   "source": [
    "6. (0.5 point) Test your your `forward` and `backpropagate` functions as follows:\n",
    "    - Initial parameter values and the training sample are set as follows: \n",
    "        - `A1 = [[-2,1],[2, -2],[-1, 5]], b1 = [3, -1, 2]`\n",
    "        - `A2 = [1, -2, 2], b2 = 0`\n",
    "        - `x = [0.465, 0.178], y = 0`\n",
    "   \n",
    "    - Call your `forward` and `backpropagate` functions under two cases:\n",
    "        1. `act_fun = 'relu', loss_fun = 'cross_entropy'`\n",
    "        1. `act_fun = 'tanh', loss_fun = 'mse'`\n",
    "        \n",
    "    - Carefully check the obtained `u1, z1, u2, z2, L` and the values of gradients $\\frac{\\partial{L}}{\\partial{A^{(1)}}}, \\frac{\\partial{L}}{\\partial{A^{(2)}}}, \\frac{\\partial{L}}{\\partial{b^{(1)}}}, \\frac{\\partial{L}}{\\partial{b^{(2)}}}$ to make sure they are correct."
   ]
  },
  {
   "cell_type": "code",
   "execution_count": 7,
   "metadata": {},
   "outputs": [],
   "source": [
    "A1 = np.array([[-2,1],[2, -2],[-1, 5]])\n",
    "A2 = np.array([1, -2, 2])\n",
    "b1 = np.array([3, -1, 2])\n",
    "b2 = 0\n",
    "x = np.array([0.465, 0.178])\n",
    "y = 0"
   ]
  },
  {
   "cell_type": "code",
   "execution_count": 8,
   "metadata": {},
   "outputs": [
    {
     "name": "stdout",
     "output_type": "stream",
     "text": [
      "u1:\n",
      " [ 2.248 -0.426  2.425]\n",
      "\n",
      "z1:\n",
      " [2.248 0.    2.425]\n",
      "\n",
      "u2:\n",
      " 7.098\n",
      "\n",
      "z2:\n",
      " 0.9991739261777141\n",
      "\n",
      "loss:\n",
      " 7.0988264152093095\n",
      "\n",
      "g_A1:\n",
      " [[[0.46461588 0.17785296]\n",
      "  [0.         0.        ]\n",
      "  [0.92923175 0.35570592]]]\n",
      "\n",
      "g_b1:\n",
      " [[0.99917393 0.         1.99834785]]\n",
      "\n",
      "g_A2:\n",
      " [2.24614299 0.         2.42299677]\n",
      "\n",
      "g_b2:\n",
      " 0.9991739261777141\n"
     ]
    }
   ],
   "source": [
    "# Case A\n",
    "\n",
    "act_fun = 'relu'\n",
    "loss_fun = 'cross_entropy'\n",
    "\n",
    "u1,z1,u2,z2,loss = forward(A1, A2, b1, b2, x, y, act_fun, loss_fun)\n",
    "print('u1:\\n',u1)\n",
    "print('\\nz1:\\n',z1)\n",
    "print('\\nu2:\\n',u2)\n",
    "print('\\nz2:\\n',z2)\n",
    "print('\\nloss:\\n',loss)\n",
    "\n",
    "g_A1, g_b1, g_A2, g_b2 = backpropagate(loss, x, y, u1, u2, z1, z2, A1, A2, b1, b2, act_fun = 'relu', loss_fun = 'cross_entropy')\n",
    "print('\\ng_A1:\\n',g_A1)\n",
    "print('\\ng_b1:\\n',g_b1)\n",
    "print('\\ng_A2:\\n',g_A2)\n",
    "print('\\ng_b2:\\n',g_b2)"
   ]
  },
  {
   "cell_type": "code",
   "execution_count": 9,
   "metadata": {},
   "outputs": [
    {
     "name": "stdout",
     "output_type": "stream",
     "text": [
      "u1:\n",
      " [ 2.248 -0.426  2.425]\n",
      "\n",
      "z1:\n",
      " [ 0.97793901 -0.40197304  0.98446486]\n",
      "\n",
      "u2:\n",
      " 3.7508148133339616\n",
      "\n",
      "z2:\n",
      " 0.9770409150607987\n",
      "\n",
      "loss:\n",
      " 0.4773044748514214\n",
      "\n",
      "g_A1:\n",
      " [[[ 0.0004447   0.00017023]\n",
      "  [-0.01708927 -0.0065417 ]\n",
      "  [ 0.00062838  0.00024054]]]\n",
      "\n",
      "g_b1:\n",
      " [[ 0.00095635 -0.03675111  0.00135135]]\n",
      "\n",
      "g_A2:\n",
      " [ 0.02143344 -0.00881002  0.02157647]\n",
      "\n",
      "g_b2:\n",
      " 0.0219169479599493\n"
     ]
    }
   ],
   "source": [
    "# Test Case B\n",
    "\n",
    "act_fun = 'tanh'\n",
    "loss_fun = 'mse'\n",
    "\n",
    "u1,z1,u2,z2,loss = forward(A1, A2, b1, b2, x, y, act_fun, loss_fun)\n",
    "print('u1:\\n',u1)\n",
    "print('\\nz1:\\n',z1)\n",
    "print('\\nu2:\\n',u2)\n",
    "print('\\nz2:\\n',z2)\n",
    "print('\\nloss:\\n',loss)\n",
    "\n",
    "g_A1, g_b1, g_A2, g_b2 = backpropagate(loss, x, y, u1, u2, z1, z2, A1, A2, b1, b2, act_fun, loss_fun)\n",
    "print('\\ng_A1:\\n',g_A1)\n",
    "print('\\ng_b1:\\n',g_b1)\n",
    "print('\\ng_A2:\\n',g_A2)\n",
    "print('\\ng_b2:\\n',g_b2)"
   ]
  },
  {
   "cell_type": "markdown",
   "metadata": {},
   "source": [
    "7. (1 point) Put everything together: with the same initial parameter values and training instance as in Q6, train your model for 300 epochs with a learning rate of 0.01 under 4 cases:\n",
    "    1. $f$ = `relu` and $g$ = `cross_entropy`\n",
    "    1. $f$ = `relu` and $g$ = `mse`\n",
    "    1. $f$ = `tanh` and $g$ = `cross_entropy`\n",
    "    1. $f$ = `tanh` and $g$ = `mse`\n",
    "\n",
    "\n",
    "Plot the loss and $z^{(2)}$ obtained in each epoch as a line chart. An example is shown below."
   ]
  },
  {
   "cell_type": "code",
   "execution_count": 11,
   "metadata": {},
   "outputs": [
    {
     "data": {
      "image/png": "[encoded data removed]",
      "text/plain": [
       "<Figure size 720x1080 with 8 Axes>"
      ]
     },
     "metadata": {
      "needs_background": "light"
     },
     "output_type": "display_data"
    }
   ],
   "source": [
    "fig, ax = plt.subplots(4,2, figsize = (10,15))\n",
    "\n",
    "####################\n",
    "# relu cross_entropy \n",
    "####################\n",
    "A1 = np.array([[-2,1],[2, -2],[-1, 5]])\n",
    "A2 = np.array([1, -2, 2])\n",
    "b1 = np.array([3, -1, 2])\n",
    "b2 = 0\n",
    "x = np.array([0.465, 0.178])\n",
    "y = 0\n",
    "A1, b1, A2, b2, loss_hist, pred_hist = train(x, y, A1, A2, b1, b2, 0.01, 'relu', 'cross_entropy', 300)\n",
    "\n",
    "# loss\n",
    "ax[0,0].plot(range(300),loss_hist)\n",
    "ax[0,0].set_title('relu cross_entropy loss')\n",
    "ax[0,0].set_xlabel('epoch')\n",
    "\n",
    "# prediction\n",
    "ax[0,1].plot(range(300),pred_hist)\n",
    "ax[0,1].set_title('relu cross_entropy prediction')\n",
    "ax[0,1].set_xlabel('epoch')\n",
    "\n",
    "\n",
    "##########\n",
    "# relu mse \n",
    "##########\n",
    "A1 = np.array([[-2,1],[2, -2],[-1, 5]])\n",
    "A2 = np.array([1, -2, 2])\n",
    "b1 = np.array([3, -1, 2])\n",
    "b2 = 0\n",
    "x = np.array([0.465, 0.178])\n",
    "y = 0\n",
    "A1, b1, A2, b2, loss_hist, pred_hist = train(x, y, A1, A2, b1, b2, 0.01, 'relu', 'mse', 300)\n",
    "\n",
    "# loss\n",
    "ax[1,0].plot(range(300),loss_hist)\n",
    "ax[1,0].set_title('relu mse loss')\n",
    "ax[1,0].set_xlabel('epoch')\n",
    "ax[1,0].set_yticks(np.arange(0,0.7,0.1))\n",
    "\n",
    "# prediction\n",
    "ax[1,1].plot(range(300),pred_hist)\n",
    "ax[1,1].set_title('relu mse prediction')\n",
    "ax[1,1].set_xlabel('epoch')\n",
    "ax[1,1].set_yticks(np.arange(0,1.2,0.1))\n",
    "\n",
    "####################\n",
    "# tanh cross_entropy \n",
    "####################\n",
    "A1 = np.array([[-2,1],[2, -2],[-1, 5]])\n",
    "A2 = np.array([1, -2, 2])\n",
    "b1 = np.array([3, -1, 2])\n",
    "b2 = 0\n",
    "x = np.array([0.465, 0.178])\n",
    "y = 0\n",
    "A1, b1, A2, b2, loss_hist, pred_hist = train(x, y, A1, A2, b1, b2, 0.01, 'tanh', 'cross_entropy', 300)\n",
    "\n",
    "# loss\n",
    "ax[2,0].plot(range(300),loss_hist)\n",
    "ax[2,0].set_title('tanh cross_entropy loss')\n",
    "ax[2,0].set_xlabel('epoch')\n",
    "\n",
    "# prediction\n",
    "ax[2,1].plot(range(300),pred_hist)\n",
    "ax[2,1].set_title('tanh cross_entropy prediction')\n",
    "ax[2,1].set_xlabel('epoch')\n",
    "\n",
    "##########\n",
    "# tanh mse \n",
    "##########\n",
    "A1 = np.array([[-2,1],[2, -2],[-1, 5]])\n",
    "A2 = np.array([1, -2, 2])\n",
    "b1 = np.array([3, -1, 2])\n",
    "b2 = 0\n",
    "x = np.array([0.465, 0.178])\n",
    "y = 0\n",
    "A1, b1, A2, b2, loss_hist, pred_hist = train(x, y, A1, A2, b1, b2, 0.01, 'tanh', 'mse', 300)\n",
    "\n",
    "# loss\n",
    "ax[3,0].plot(range(300),loss_hist)\n",
    "ax[3,0].set_title('tanh mse loss')\n",
    "ax[3,0].set_xlabel('epoch')\n",
    "ax[3,0].set_yticks(np.arange(0,0.7,0.1))\n",
    "\n",
    "# prediction\n",
    "ax[3,1].plot(range(300),pred_hist)\n",
    "ax[3,1].set_title('tanh mse prediction')\n",
    "ax[3,1].set_xlabel('epoch')\n",
    "ax[3,1].set_yticks(np.arange(0,1.3,0.2))\n",
    "\n",
    "\n",
    "plt.subplots_adjust( hspace=0.5)\n",
    "plt.show()"
   ]
  },
  {
   "cell_type": "markdown",
   "metadata": {},
   "source": [
    "8. (1 point) Analysis: \n",
    "    - Comparing Case A and B (i.e., different loss functions), do you notice any significant difference in the loss and prediction curves? Can you explain this difference `analytically`? Hint: think about gradients under these two cases.\n",
    "    - Comparing Case A and C (i.e., different activation functions), do you notice any significant difference in the loss and prediction curves? Can you explain this difference analytically? \n",
    "    - With your analysis, which functions would work the best for $f$ and $g$?\n",
    "    \n",
    "\n",
    "Write your analysis as markdowns in the Juypter Notebook. Please clearly demonstrate your analysis using formulas or experiment results.\n"
   ]
  },
  {
   "cell_type": "markdown",
   "metadata": {},
   "source": [
    "- 8.1) By viewing the plot, we can found when loss function is `mse`, the curve is too small, and the `lam` to adjust the $A^{(1)}, A^{(2)}, b^{(1)}, b^{(2)}$.  \n",
    "When loss function is mse, $ \\frac{d{L}}{du^{(2)}}$ = (z2 - y)*z2*(1-z2)= 0 , so it's has no effect on adjust variables.  \n",
    "  \n",
    "- 8.2) Due to the gradient of `tanh` is bigger thant `relu`, the speed of `tanh` is faster than `relu`\n",
    "\n",
    "- 8.3) tanh and cross_entropy works better"
   ]
  },
  {
   "cell_type": "markdown",
   "metadata": {},
   "source": [
    "9.(Bonus) So far we trained the model with a single sample. If you train the model using a batch of training samples, do you think the observations you had before still hold? \n",
    "- Rewrite the train function so that the model can be trained by a batch of samples.\n",
    "- Train the model with the samples provided (`hw1_data.txt`; x: the first two columns, and y: the last column).\n",
    "- You may need to adjust `epoch` and `learning rate`to prevent underfitting or overfitting\n",
    "- Use plots to demonstrate your finding."
   ]
  },
  {
   "cell_type": "code",
   "execution_count": 12,
   "metadata": {},
   "outputs": [
    {
     "data": {
      "text/plain": [
       "array([[0.93629975, 0.61317151, 1.        ],\n",
       "       [0.46518579, 0.17846441, 0.        ]])"
      ]
     },
     "execution_count": 12,
     "metadata": {},
     "output_type": "execute_result"
    }
   ],
   "source": [
    "# Load training samples\n",
    "\n",
    "data = np.loadtxt(\"hw1_data.txt\")\n",
    "data[0:2]"
   ]
  },
  {
   "cell_type": "code",
   "execution_count": 13,
   "metadata": {},
   "outputs": [],
   "source": [
    "# create pdf\n",
    "# jupyter nbconvert --to webpdf --allow-chromium-download ###.ipynb"
   ]
  }
 ],
 "metadata": {
  "kernelspec": {
   "display_name": "Python 3 (ipykernel)",
   "language": "python",
   "name": "python3"
  },
  "language_info": {
   "codemirror_mode": {
    "name": "ipython",
    "version": 3
   },
   "file_extension": ".py",
   "mimetype": "text/x-python",
   "name": "python",
   "nbconvert_exporter": "python",
   "pygments_lexer": "ipython3",
   "version": "3.9.7"
  },
  "latex_envs": {
   "LaTeX_envs_menu_present": true,
   "autoclose": false,
   "autocomplete": true,
   "bibliofile": "biblio.bib",
   "cite_by": "apalike",
   "current_citInitial": 1,
   "eqLabelWithNumbers": true,
   "eqNumInitial": 1,
   "hotkeys": {
    "equation": "Ctrl-E",
    "itemize": "Ctrl-I"
   },
   "labels_anchors": false,
   "latex_user_defs": false,
   "report_style_numbering": false,
   "user_envs_cfg": false
  },
  "toc": {
   "base_numbering": 1,
   "nav_menu": {},
   "number_sections": true,
   "sideBar": true,
   "skip_h1_title": false,
   "title_cell": "Table of Contents",
   "title_sidebar": "Contents",
   "toc_cell": true,
   "toc_position": {},
   "toc_section_display": true,
   "toc_window_display": false
  }
 },
 "nbformat": 4,
 "nbformat_minor": 2
}
