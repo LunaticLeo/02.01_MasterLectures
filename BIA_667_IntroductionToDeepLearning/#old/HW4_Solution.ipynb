{
 "cells": [
  {
   "cell_type": "markdown",
   "metadata": {},
   "source": [
    "# Homework 4: Recurrent Neural Network"
   ]
  },
  {
   "cell_type": "markdown",
   "metadata": {},
   "source": [
    "<div class=\"alert alert-block alert-warning\">Each assignment needs to be completed independently. Never ever copy others' work (even with minor modification, e.g. changing variable names). Anti-Plagiarism software will be used to check all submissions. </div>"
   ]
  },
  {
   "cell_type": "markdown",
   "metadata": {},
   "source": [
    "## Objectives:\n",
    "\n",
    "- Use recurrent neural networks for text classification\n",
    "- Use recurrent neural networks for timer series regression"
   ]
  },
  {
   "cell_type": "code",
   "execution_count": 149,
   "metadata": {},
   "outputs": [],
   "source": [
    "from IPython.core.interactiveshell import InteractiveShell\n",
    "InteractiveShell.ast_node_interactivity = \"all\"\n",
    "\n",
    "import pandas as pd\n",
    "import torch.nn as nn\n",
    "import torch.nn.functional as F\n",
    "\n",
    "from torch.utils.data import DataLoader, random_split, Subset, Dataset\n",
    "import torchvision.transforms as transforms\n",
    "\n",
    "import torchvision\n",
    "\n",
    "from numpy.random import seed\n",
    "import torch\n",
    "import numpy as np\n",
    "\n",
    "from torchinfo import summary\n",
    "import matplotlib.pyplot as plt"
   ]
  },
  {
   "cell_type": "code",
   "execution_count": 3,
   "metadata": {},
   "outputs": [
    {
     "data": {
      "text/plain": [
       "<torch._C.Generator at 0x7f8008b809b0>"
      ]
     },
     "execution_count": 3,
     "metadata": {},
     "output_type": "execute_result"
    }
   ],
   "source": [
    "# Fix random number so that your traing process can be replicated\n",
    "\n",
    "random_seed = 124\n",
    "seed(random_seed)\n",
    "\n",
    "torch.manual_seed(random_seed)\n",
    "torch.backends.cudnn.deterministic = True"
   ]
  },
  {
   "cell_type": "markdown",
   "metadata": {},
   "source": [
    "## Q1: Recurrent Neural Network for Text Classification"
   ]
  },
  {
   "cell_type": "markdown",
   "metadata": {},
   "source": [
    "Continuing the emotion detection task in HW3, now let's use recurrent nueral network to detect emotion from text. The dataset is taken from https://www.kaggle.com/datasets/ishantjuyal/emotions-in-text.\n",
    "\n",
    "This task is similar to Task 3 in HW 3. The only difference is that we will use RNN layers (LSTM or GRU)\n",
    "\n",
    "The following scripts show you how to load the data and split the samples into training, evaluation, and test.\n",
    "\n",
    "Reuse all the code you use for preprocessing, loading pretrained word vectors, training models, and plotting results. Feel free to use the  reference code I gave."
   ]
  },
  {
   "cell_type": "markdown",
   "metadata": {},
   "source": [
    "### Load Data"
   ]
  },
  {
   "cell_type": "code",
   "execution_count": 69,
   "metadata": {},
   "outputs": [],
   "source": [
    "import pandas as pd\n",
    "from sklearn.utils import shuffle\n"
   ]
  },
  {
   "cell_type": "code",
   "execution_count": 70,
   "metadata": {},
   "outputs": [
    {
     "data": {
      "text/html": [
       "<div>\n",
       "<style scoped>\n",
       "    .dataframe tbody tr th:only-of-type {\n",
       "        vertical-align: middle;\n",
       "    }\n",
       "\n",
       "    .dataframe tbody tr th {\n",
       "        vertical-align: top;\n",
       "    }\n",
       "\n",
       "    .dataframe thead th {\n",
       "        text-align: right;\n",
       "    }\n",
       "</style>\n",
       "<table border=\"1\" class=\"dataframe\">\n",
       "  <thead>\n",
       "    <tr style=\"text-align: right;\">\n",
       "      <th></th>\n",
       "      <th>Text</th>\n",
       "      <th>Emotion</th>\n",
       "    </tr>\n",
       "  </thead>\n",
       "  <tbody>\n",
       "    <tr>\n",
       "      <th>0</th>\n",
       "      <td>i didnt feel humiliated</td>\n",
       "      <td>sadness</td>\n",
       "    </tr>\n",
       "    <tr>\n",
       "      <th>1</th>\n",
       "      <td>i can go from feeling so hopeless to so damned...</td>\n",
       "      <td>sadness</td>\n",
       "    </tr>\n",
       "    <tr>\n",
       "      <th>2</th>\n",
       "      <td>im grabbing a minute to post i feel greedy wrong</td>\n",
       "      <td>anger</td>\n",
       "    </tr>\n",
       "    <tr>\n",
       "      <th>3</th>\n",
       "      <td>i am ever feeling nostalgic about the fireplac...</td>\n",
       "      <td>love</td>\n",
       "    </tr>\n",
       "    <tr>\n",
       "      <th>4</th>\n",
       "      <td>i am feeling grouchy</td>\n",
       "      <td>anger</td>\n",
       "    </tr>\n",
       "  </tbody>\n",
       "</table>\n",
       "</div>"
      ],
      "text/plain": [
       "                                                Text  Emotion\n",
       "0                            i didnt feel humiliated  sadness\n",
       "1  i can go from feeling so hopeless to so damned...  sadness\n",
       "2   im grabbing a minute to post i feel greedy wrong    anger\n",
       "3  i am ever feeling nostalgic about the fireplac...     love\n",
       "4                               i am feeling grouchy    anger"
      ]
     },
     "execution_count": 70,
     "metadata": {},
     "output_type": "execute_result"
    },
    {
     "data": {
      "text/plain": [
       "21459"
      ]
     },
     "execution_count": 70,
     "metadata": {},
     "output_type": "execute_result"
    }
   ],
   "source": [
    "data = pd.read_csv(\"Emotion_final.csv\")\n",
    "data.head()\n",
    "len(data)\n",
    "\n",
    "data = shuffle(data)"
   ]
  },
  {
   "cell_type": "code",
   "execution_count": 71,
   "metadata": {},
   "outputs": [
    {
     "data": {
      "text/html": [
       "<div>\n",
       "<style scoped>\n",
       "    .dataframe tbody tr th:only-of-type {\n",
       "        vertical-align: middle;\n",
       "    }\n",
       "\n",
       "    .dataframe tbody tr th {\n",
       "        vertical-align: top;\n",
       "    }\n",
       "\n",
       "    .dataframe thead th {\n",
       "        text-align: right;\n",
       "    }\n",
       "</style>\n",
       "<table border=\"1\" class=\"dataframe\">\n",
       "  <thead>\n",
       "    <tr style=\"text-align: right;\">\n",
       "      <th></th>\n",
       "      <th>Text</th>\n",
       "      <th>Emotion</th>\n",
       "      <th>label</th>\n",
       "    </tr>\n",
       "  </thead>\n",
       "  <tbody>\n",
       "    <tr>\n",
       "      <th>15620</th>\n",
       "      <td>lost my girlfriend</td>\n",
       "      <td>sadness</td>\n",
       "      <td>4</td>\n",
       "    </tr>\n",
       "    <tr>\n",
       "      <th>432</th>\n",
       "      <td>i were feeling energetic so we decided we were...</td>\n",
       "      <td>happy</td>\n",
       "      <td>1</td>\n",
       "    </tr>\n",
       "    <tr>\n",
       "      <th>3963</th>\n",
       "      <td>i should just leave him be so he could go on h...</td>\n",
       "      <td>sadness</td>\n",
       "      <td>4</td>\n",
       "    </tr>\n",
       "    <tr>\n",
       "      <th>17564</th>\n",
       "      <td>i feel drained and i am physically sore from t...</td>\n",
       "      <td>sadness</td>\n",
       "      <td>4</td>\n",
       "    </tr>\n",
       "    <tr>\n",
       "      <th>3018</th>\n",
       "      <td>i nodded proud of my decision to procure a pum...</td>\n",
       "      <td>happy</td>\n",
       "      <td>1</td>\n",
       "    </tr>\n",
       "  </tbody>\n",
       "</table>\n",
       "</div>"
      ],
      "text/plain": [
       "                                                    Text  Emotion  label\n",
       "15620                                 lost my girlfriend  sadness      4\n",
       "432    i were feeling energetic so we decided we were...    happy      1\n",
       "3963   i should just leave him be so he could go on h...  sadness      4\n",
       "17564  i feel drained and i am physically sore from t...  sadness      4\n",
       "3018   i nodded proud of my decision to procure a pum...    happy      1"
      ]
     },
     "execution_count": 71,
     "metadata": {},
     "output_type": "execute_result"
    },
    {
     "data": {
      "text/plain": [
       "1    7029\n",
       "4    6265\n",
       "2    2993\n",
       "0    2652\n",
       "5    1641\n",
       "3     879\n",
       "Name: label, dtype: int64"
      ]
     },
     "execution_count": 71,
     "metadata": {},
     "output_type": "execute_result"
    }
   ],
   "source": [
    "# Map text label to numbers\n",
    "\n",
    "label_map = {'fear':0, 'happy':1, 'anger':2, 'surprise':3, 'sadness':4, 'love':5}\n",
    "data[\"label\"] = data.Emotion.apply(lambda x: label_map[x])\n",
    "data.head()\n",
    "data.label.value_counts()"
   ]
  },
  {
   "cell_type": "code",
   "execution_count": 72,
   "metadata": {},
   "outputs": [],
   "source": [
    "# Split dataset into training, evaluation, and test\n",
    "\n",
    "train_data = data.iloc[0: 15000]\n",
    "eval_data = data.iloc[15000: 18000]\n",
    "test_data = data.iloc[18000: ]"
   ]
  },
  {
   "cell_type": "markdown",
   "metadata": {},
   "source": [
    "### Preprocess Text "
   ]
  },
  {
   "cell_type": "code",
   "execution_count": 73,
   "metadata": {},
   "outputs": [
    {
     "data": {
      "text/plain": [
       "[]"
      ]
     },
     "execution_count": 73,
     "metadata": {},
     "output_type": "execute_result"
    },
    {
     "name": "stdout",
     "output_type": "stream",
     "text": [
      "15997\n"
     ]
    },
    {
     "data": {
      "text/plain": [
       "1     8393\n",
       "2     2323\n",
       "3     1115\n",
       "4      722\n",
       "5      439\n",
       "6      301\n",
       "7      260\n",
       "8      203\n",
       "9      148\n",
       "11     131\n",
       "dtype: int64"
      ]
     },
     "execution_count": 73,
     "metadata": {},
     "output_type": "execute_result"
    },
    {
     "data": {
      "image/png": "[encoded data removed]",
      "text/plain": [
       "<Figure size 432x288 with 1 Axes>"
      ]
     },
     "metadata": {
      "needs_background": "light"
     },
     "output_type": "display_data"
    }
   ],
   "source": [
    "# A few exploration steps. This plots shows the sentence length can be set to 50 \n",
    "# and vocab size can be set around 8000 \n",
    "from tensorflow import keras\n",
    "\n",
    "# check document length\n",
    "(train_data.apply(lambda row: len(row[\"Text\"].split()), axis = 1)).hist(bins = 200).plot()\n",
    "#(train_data.apply(lambda row: len(row[\"title\"].split()), axis = 1)).hist(bins = 200).plot()\n",
    "\n",
    "# check word frequencies\n",
    "tokenizer = keras.preprocessing.text.Tokenizer()\n",
    "#tokenizer.fit_on_texts(train_data[\"title\"] +\" \"+ train_data[\"text\"])\n",
    "tokenizer.fit_on_texts(train_data[\"Text\"])\n",
    "\n",
    "print(len(tokenizer.word_counts))\n",
    "word_counts = pd.Series(list(tokenizer.word_counts.values()))\n",
    "word_counts.value_counts().sort_values(ascending = False)[0:10]"
   ]
  },
  {
   "cell_type": "code",
   "execution_count": 74,
   "metadata": {},
   "outputs": [],
   "source": [
    "class News_dataset(Dataset):\n",
    "    def __init__(self, x, y):\n",
    "        self.x = torch.Tensor(x).long()\n",
    "        self.y = torch.Tensor(y).long()\n",
    "    \n",
    "    def __getitem__(self, index):\n",
    "        return self.x[index], self.y[index]\n",
    "    \n",
    "    def __len__(self):\n",
    "        return self.x.size()[0]\n"
   ]
  },
  {
   "cell_type": "code",
   "execution_count": 75,
   "metadata": {},
   "outputs": [],
   "source": [
    "def preprocess(train_data, eval_data, test_data, vocab_size = 10000, max_sent = 50):\n",
    "    \n",
    "    tokenizer = keras.preprocessing.text.Tokenizer(num_words = vocab_size)\n",
    "    tokenizer.fit_on_texts(train_data[\"Text\"])\n",
    "\n",
    "    train_seq = tokenizer.texts_to_sequences(train_data[\"Text\"])\n",
    "    train_seq = keras.preprocessing.sequence.pad_sequences(train_seq,\n",
    "                                                        value=0,\n",
    "                                                        padding='post',\n",
    "                                                        maxlen=max_sent)\n",
    "\n",
    "    eval_seq = tokenizer.texts_to_sequences(eval_data[\"Text\"])\n",
    "    eval_seq = keras.preprocessing.sequence.pad_sequences(eval_seq,\n",
    "                                                        value=0,\n",
    "                                                        padding='post',\n",
    "                                                        maxlen=max_sent)\n",
    "\n",
    "    \n",
    "    test_seq = tokenizer.texts_to_sequences(test_data[\"Text\"])\n",
    "    test_seq = keras.preprocessing.sequence.pad_sequences(test_seq,\n",
    "                                                        value=0,\n",
    "                                                        padding='post',\n",
    "                                                        maxlen=max_sent)\n",
    "\n",
    "    # dataset\n",
    "    train_dataset = News_dataset(train_seq, train_data[\"label\"].values)\n",
    "    eval_dataset = News_dataset(eval_seq, eval_data[\"label\"].values)\n",
    "    test_dataset = News_dataset(test_seq, test_data[\"label\"].values)\n",
    "    \n",
    "    return train_dataset, eval_dataset, test_dataset, tokenizer"
   ]
  },
  {
   "cell_type": "code",
   "execution_count": 76,
   "metadata": {},
   "outputs": [],
   "source": [
    "vocab_size = 10000\n",
    "max_sent = 50\n",
    "\n",
    "train_dataset, eval_dataset, test_dataset, tokenizer = preprocess(train_data, eval_data, test_data, \\\n",
    "                                                       vocab_size, max_sent )"
   ]
  },
  {
   "cell_type": "code",
   "execution_count": 77,
   "metadata": {},
   "outputs": [],
   "source": [
    "#tokenizer.word_index"
   ]
  },
  {
   "cell_type": "markdown",
   "metadata": {},
   "source": [
    "### Load pretrained word vectors "
   ]
  },
  {
   "cell_type": "code",
   "execution_count": 78,
   "metadata": {},
   "outputs": [],
   "source": [
    "#!pip install torchtext"
   ]
  },
  {
   "cell_type": "code",
   "execution_count": 79,
   "metadata": {},
   "outputs": [],
   "source": [
    "import torchtext\n",
    "emb_dim = 100\n",
    "\n",
    "vector = torchtext.vocab.GloVe(name='6B', dim=100)"
   ]
  },
  {
   "cell_type": "code",
   "execution_count": 80,
   "metadata": {},
   "outputs": [
    {
     "name": "stdout",
     "output_type": "stream",
     "text": [
      "[]\n"
     ]
    }
   ],
   "source": [
    "\n",
    "missing_words = []  # check if any word without a vector\n",
    "\n",
    "# initialize embedding matrix\n",
    "emb_weight = np.zeros((vocab_size, emb_dim))\n",
    "\n",
    "# loop through all words\n",
    "for word, idx in tokenizer.word_index.items():\n",
    "\n",
    "  # align with word index in sentences, since the first 3 indexes are reserved\n",
    "  if idx < vocab_size :  \n",
    "    try:\n",
    "      emb = vector[word]\n",
    "      emb_weight[idx] = emb    \n",
    "\n",
    "    # not every word has a vector\n",
    "    except:\n",
    "      missing_words.append(word)\n",
    "    \n",
    "print(missing_words)"
   ]
  },
  {
   "cell_type": "code",
   "execution_count": 81,
   "metadata": {},
   "outputs": [
    {
     "name": "stdout",
     "output_type": "stream",
     "text": [
      "[ 2.65720010e-01  3.48570012e-02  4.90550011e-01 -6.74019992e-01\n",
      "  3.28830004e-01  9.99170005e-01 -1.03050005e+00  6.94920003e-01\n",
      "  3.43580008e-01  8.57919991e-01 -4.38039988e-01 -8.18350017e-01\n",
      "  2.68680006e-01 -2.50829995e-01  1.54660001e-01 -8.32239985e-01\n",
      "  1.17270005e+00 -1.86039999e-01 -5.29290020e-01  1.76530004e-01\n",
      "  8.07470024e-01 -1.40310004e-01 -2.40310002e-02 -6.11579977e-03\n",
      " -6.02169991e-01 -6.71710014e-01  2.06980005e-01 -5.09480000e-01\n",
      " -3.29899997e-01 -3.94540012e-01 -4.59270000e-01 -2.89310008e-01\n",
      "  7.88110018e-01  4.44830000e-01 -4.86970007e-01 -2.36300007e-01\n",
      " -1.50809996e-02  1.66060001e-01 -3.41719985e-02  8.40490013e-02\n",
      " -8.60819966e-02 -9.01499987e-01 -2.01989993e-01 -5.60479999e-01\n",
      "  8.64350021e-01  3.27419996e-01  3.81839991e-01 -2.43340001e-01\n",
      "  5.97230017e-01  1.74640000e-01 -4.47560012e-01 -3.34769994e-01\n",
      "  3.24229985e-01  1.02310002e+00 -5.49459994e-01 -2.85200000e+00\n",
      " -5.76399982e-01 -3.57600003e-01  1.41040003e+00  3.07570010e-01\n",
      " -3.88520002e-01  7.43019998e-01 -4.05620009e-01  9.14790034e-02\n",
      "  1.74600005e-01 -1.92509994e-01  1.63409993e-01  1.81970000e-01\n",
      " -3.52200001e-01  2.91229993e-01 -2.83899993e-01 -7.30449975e-01\n",
      " -1.55499995e-01 -3.81379992e-01  3.93949986e-01 -4.90079999e-01\n",
      "  1.02769995e+00  2.84620002e-03 -1.43420005e+00 -1.26069993e-01\n",
      "  3.33380014e-01  4.87410009e-01 -9.97699976e-01  4.07830000e-01\n",
      " -7.95809984e-01  4.93220001e-01 -4.88029987e-01 -2.94079989e-01\n",
      "  5.71399987e-01 -4.67240006e-01  1.09870005e+00 -6.03980005e-01\n",
      " -4.66829985e-01  1.47949994e-01 -1.34150004e+00  7.18800008e-01\n",
      " -2.85890013e-01  3.91240001e-01  9.82320011e-01  6.92090020e-02]\n",
      "tensor([ 2.6572e-01,  3.4857e-02,  4.9055e-01, -6.7402e-01,  3.2883e-01,\n",
      "         9.9917e-01, -1.0305e+00,  6.9492e-01,  3.4358e-01,  8.5792e-01,\n",
      "        -4.3804e-01, -8.1835e-01,  2.6868e-01, -2.5083e-01,  1.5466e-01,\n",
      "        -8.3224e-01,  1.1727e+00, -1.8604e-01, -5.2929e-01,  1.7653e-01,\n",
      "         8.0747e-01, -1.4031e-01, -2.4031e-02, -6.1158e-03, -6.0217e-01,\n",
      "        -6.7171e-01,  2.0698e-01, -5.0948e-01, -3.2990e-01, -3.9454e-01,\n",
      "        -4.5927e-01, -2.8931e-01,  7.8811e-01,  4.4483e-01, -4.8697e-01,\n",
      "        -2.3630e-01, -1.5081e-02,  1.6606e-01, -3.4172e-02,  8.4049e-02,\n",
      "        -8.6082e-02, -9.0150e-01, -2.0199e-01, -5.6048e-01,  8.6435e-01,\n",
      "         3.2742e-01,  3.8184e-01, -2.4334e-01,  5.9723e-01,  1.7464e-01,\n",
      "        -4.4756e-01, -3.3477e-01,  3.2423e-01,  1.0231e+00, -5.4946e-01,\n",
      "        -2.8520e+00, -5.7640e-01, -3.5760e-01,  1.4104e+00,  3.0757e-01,\n",
      "        -3.8852e-01,  7.4302e-01, -4.0562e-01,  9.1479e-02,  1.7460e-01,\n",
      "        -1.9251e-01,  1.6341e-01,  1.8197e-01, -3.5220e-01,  2.9123e-01,\n",
      "        -2.8390e-01, -7.3045e-01, -1.5550e-01, -3.8138e-01,  3.9395e-01,\n",
      "        -4.9008e-01,  1.0277e+00,  2.8462e-03, -1.4342e+00, -1.2607e-01,\n",
      "         3.3338e-01,  4.8741e-01, -9.9770e-01,  4.0783e-01, -7.9581e-01,\n",
      "         4.9322e-01, -4.8803e-01, -2.9408e-01,  5.7140e-01, -4.6724e-01,\n",
      "         1.0987e+00, -6.0398e-01, -4.6683e-01,  1.4795e-01, -1.3415e+00,\n",
      "         7.1880e-01, -2.8589e-01,  3.9124e-01,  9.8232e-01,  6.9209e-02])\n"
     ]
    }
   ],
   "source": [
    "# Check alignment. These two must be the same\n",
    "\n",
    "idx = tokenizer.word_index['city']\n",
    "print(emb_weight[idx])\n",
    "\n",
    "print(vector['city'])"
   ]
  },
  {
   "cell_type": "code",
   "execution_count": 82,
   "metadata": {},
   "outputs": [
    {
     "name": "stdout",
     "output_type": "stream",
     "text": [
      "torch.Size([10000, 100])\n"
     ]
    }
   ],
   "source": [
    "emb_matrix = torch.Tensor(emb_weight)\n",
    "print(emb_matrix.shape)"
   ]
  },
  {
   "cell_type": "markdown",
   "metadata": {},
   "source": [
    "### Q1.1. RNN Model "
   ]
  },
  {
   "cell_type": "markdown",
   "metadata": {},
   "source": [
    "Define a recurrent neural netowrk model for this classification task. You model should contain the following:\n",
    "- `An embedding layer` that is initialized with pre-trained word vectors and can fine-tune the word vectors (as we noticed from HW 3, this configuration worked the best)\n",
    "- One or more `RNN layers (LSTM or GRU)`\n",
    "\n",
    "\n",
    "Your model should allow to configure these hyperparameters:\n",
    "- Embedding layer:\n",
    "    - Vocabulary size\n",
    "    - Embedding dimension\n",
    "    - Pretrained word vectors\n",
    "- RNN layers:\n",
    "    - Number of RNN layers\n",
    "    - Hidden units\n",
    "    - Bidirectional or not\n",
    "    \n",
    "    \n",
    "Train this model as you did in HW3. You are expected to receive `an accuracy around 89% on the test dataset`.\n",
    "\n",
    "Analyze your model and answer the following questions:\n",
    "- How many parameters does your RNN model have? Does this model have more or less parameters than your CNN model in HW3?\n",
    "- What outputs of the RNN layers (i.e., output of each step, working memory, or cell memory) enter the linear layer to make the label predictions? \n",
    "- What hyperparameters of the RNN layers do you think are critical in achieving good performance?"
   ]
  },
  {
   "cell_type": "markdown",
   "metadata": {},
   "source": [
    "#### Model Definition"
   ]
  },
  {
   "cell_type": "code",
   "execution_count": 126,
   "metadata": {},
   "outputs": [],
   "source": [
    "class rnn_text(nn.Module):\n",
    "\n",
    "    # define all the layers used in model\n",
    "    def __init__(self, vocab_size, emb_dim, num_classes, hidden_units , \\\n",
    "                 num_layers = 1,  bidirectional = False, \\\n",
    "                 emb_weight = None, freeze = False, dropout_rate = 0.5):\n",
    "      \n",
    "        super(rnn_text, self).__init__()\n",
    "        \n",
    "        self.emb_dim = emb_dim\n",
    "        \n",
    "        self.num_layers = num_layers\n",
    "        self.hidden_units = hidden_units\n",
    "        self.bidirectional = bidirectional\n",
    "        self.num_classes = num_classes\n",
    "       \n",
    "        if emb_weight is None:      \n",
    "            self.embedding = nn.Embedding(vocab_size, emb_dim, padding_idx = 0)\n",
    "        else:\n",
    "            self.embedding = nn.Embedding.from_pretrained(emb_weight, freeze=freeze)\n",
    "        \n",
    "        self.rnn = nn.LSTM(input_size = self.emb_dim, hidden_size = self.hidden_units,\\\n",
    "                           num_layers = self.num_layers, \\\n",
    "                           bidirectional = self.bidirectional,\\\n",
    "                           batch_first = True,\\\n",
    "                           #dropout = dropout_rate\n",
    "                          )\n",
    "        \n",
    "        feature_size = self.hidden_units * 2\n",
    "        if self.bidirectional:\n",
    "            feature_size = self.hidden_units * 4\n",
    "            \n",
    "        self.fc = nn.Linear(feature_size, self.num_classes)\n",
    "        self.dropout = nn.Dropout(dropout_rate)\n",
    "\n",
    "    def forward(self, x):\n",
    "        \n",
    "        x = self.embedding(x) # Batch x sent_len x emb_dim\n",
    "        #print(x.size())\n",
    "        #x = torch.swapaxes(x, 1, 2) # Batch x emb_dim x max_sent \n",
    "\n",
    "        x, _ = self.rnn(x)  # batch, seq_len, self.hidden_units*(2 if self.bidirectional else 0)\n",
    "        #print(x.size())\n",
    "        x = self.dropout(x)\n",
    "        x = torch.cat([x[:,-1,:],x[:,0,:]], dim = -1)\n",
    "        \n",
    "        logit = self.fc(x)  \n",
    "\n",
    "        return logit"
   ]
  },
  {
   "cell_type": "code",
   "execution_count": 127,
   "metadata": {},
   "outputs": [
    {
     "name": "stdout",
     "output_type": "stream",
     "text": [
      "rnn_text(\n",
      "  (embedding): Embedding(10000, 100, padding_idx=0)\n",
      "  (rnn): LSTM(100, 100, batch_first=True, bidirectional=True)\n",
      "  (fc): Linear(in_features=400, out_features=6, bias=True)\n",
      "  (dropout): Dropout(p=0.5, inplace=False)\n",
      ")\n"
     ]
    }
   ],
   "source": [
    "from torchsummary import summary\n",
    "model = rnn_text(10000, 100, 6, 100 , \\\n",
    "                 num_layers = 1,  bidirectional = True, \\\n",
    "                 emb_weight = None, freeze = False, dropout_rate = 0.5)\n",
    "                 \n",
    "                \n",
    "#summary(model, (16,50))\n",
    "print(model)"
   ]
  },
  {
   "cell_type": "markdown",
   "metadata": {},
   "source": [
    "#### Training function"
   ]
  },
  {
   "cell_type": "code",
   "execution_count": 128,
   "metadata": {},
   "outputs": [],
   "source": [
    "from sklearn.metrics import classification_report\n",
    "\n",
    "def train_model(model, train_dataset, eval_dataset,  device, \n",
    "                optimizer, epochs=30, batch_size=64):\n",
    "    \n",
    "    # construct dataloader\n",
    "    train_loader = DataLoader(train_dataset, batch_size=batch_size, shuffle=True)\n",
    "    eval_loader = DataLoader(eval_dataset, batch_size=batch_size, shuffle=False)\n",
    "    #test_loader = DataLoader(test_dataset, batch_size=batch_size, shuffle=False)\n",
    "\n",
    "    # move model to device\n",
    "    model = model.to(device)\n",
    "\n",
    "    # history\n",
    "    history = {'train_loss': [],\n",
    "               'train_acc': [],\n",
    "               'val_loss': [],\n",
    "               'val_acc': [],\n",
    "               'test_acc': 0}\n",
    "    \n",
    "    patience = 10\n",
    "    max_acc = -np.Inf\n",
    "    cnt = 0\n",
    "    \n",
    "    # setup loss function and optimizer\n",
    "    criterion = nn.CrossEntropyLoss()\n",
    "    #optimizer = torch.optim.RMSprop(model.parameters(), lr=lr)\n",
    "\n",
    "    # training loop\n",
    "    print('Training Start')\n",
    "    for epoch in range(epochs):\n",
    "        model.train()\n",
    "        train_loss = 0\n",
    "        train_acc = 0\n",
    "        test_loss = 0\n",
    "        test_acc = 0\n",
    "        \n",
    "        for x, y in train_loader:\n",
    "            \n",
    "            # move data to device\n",
    "            x = x.to(device)\n",
    "            y = y.to(device)\n",
    "            \n",
    "            # forward\n",
    "            outputs = model(x)  # (num_batch, 45) \n",
    "            _, pred = torch.max(outputs, dim = -1)\n",
    "            cur_train_loss = criterion(outputs, y)\n",
    "            cur_train_acc = (pred == y).float().mean().item()\n",
    "            \n",
    "            # backward\n",
    "            cur_train_loss.backward()\n",
    "            optimizer.step()\n",
    "            optimizer.zero_grad()\n",
    "            # loss and acc\n",
    "            train_loss += cur_train_loss\n",
    "            train_acc += cur_train_acc\n",
    "\n",
    "        # test start\n",
    "        model.eval()\n",
    "        with torch.no_grad():\n",
    "            for x, y in eval_loader:\n",
    "                # move\n",
    "                x = x.to(device)\n",
    "                y = y.to(device)\n",
    "                # predict\n",
    "                \n",
    "                outputs = model(x)  # (num_batch, 45) \n",
    "                _, pred = torch.max(outputs, dim = -1)\n",
    "                cur_test_loss = criterion(outputs, y)\n",
    "                cur_test_acc = (pred == y).float().mean().item() \n",
    "                # loss and acc\n",
    "                test_loss += cur_test_loss\n",
    "                test_acc += cur_test_acc\n",
    "\n",
    "        # epoch output\n",
    "        train_loss = (train_loss/len(train_loader)).item()\n",
    "        train_acc = train_acc/len(train_loader)\n",
    "        val_loss = (test_loss/len(eval_loader)).item()\n",
    "        val_acc = test_acc/len(eval_loader)\n",
    "        history['train_loss'].append(train_loss)\n",
    "        history['train_acc'].append(train_acc)\n",
    "        history['val_loss'].append(val_loss)\n",
    "        history['val_acc'].append(val_acc)\n",
    "        print(f\"Epoch:{epoch + 1} / {epochs}, train loss:{train_loss:.4f},\\\n",
    "        train_acc:{train_acc:.4f}, valid loss:{val_loss:.4f} valid acc:{val_acc:.4f}\")\n",
    "        \n",
    "        if test_acc > max_acc:\n",
    "            max_acc = test_acc\n",
    "            cnt = 0\n",
    "            torch.save(model.state_dict(), \"best_model.pth\")\n",
    "            print(\"model saved!\")\n",
    "        else:\n",
    "            cnt += 1\n",
    "            \n",
    "            if cnt == patience:\n",
    "                print(\"early stopping!\")\n",
    "                break\n",
    "    \n",
    "    # restore best model\n",
    "    model.load_state_dict(torch.load(\"best_model.pth\"))\n",
    "    \n",
    "    return model, history"
   ]
  },
  {
   "cell_type": "code",
   "execution_count": 129,
   "metadata": {},
   "outputs": [],
   "source": [
    "def test_model(model, test_dataset, batch_size = 64):    # get test performance\n",
    "    \n",
    "    test_loader = DataLoader(test_dataset, batch_size=batch_size, shuffle=False)\n",
    "    \n",
    "    test_acc = 0\n",
    "    ys = []\n",
    "    preds = []\n",
    "    \n",
    "    model.eval()\n",
    "    with torch.no_grad():\n",
    "        for x, y in test_loader:\n",
    "            # move\n",
    "            x = x.to(device)\n",
    "            y = y.to(device)\n",
    "            # predict\n",
    "            outputs = model(x)\n",
    "            _, pred = torch.max(outputs, dim = -1)\n",
    "            \n",
    "            ys.append(y.cpu().numpy())\n",
    "            preds.append(pred.cpu().numpy())\n",
    "    \n",
    "    ys = np.concatenate(ys)\n",
    "    preds = np.concatenate(preds)\n",
    "    \n",
    "    test_acc = (preds == ys).astype(int).mean()\n",
    "    print(classification_report(ys, preds))\n",
    "        \n",
    "    print(f\"Test acc: {test_acc:.4f}\")\n",
    "    \n",
    "    return test_acc"
   ]
  },
  {
   "cell_type": "code",
   "execution_count": 144,
   "metadata": {},
   "outputs": [],
   "source": [
    "def get_plot(hist_list, labels, epochs):\n",
    "    \n",
    "    colors = ['red',\"blue\",\"green\",\"orange\"]\n",
    "    \n",
    "    fig, ax = plt.subplots(1,2, figsize=(16,4))\n",
    "    for i, hist in enumerate(hist_list):\n",
    "        ax[0].plot(range(len(hist['val_loss'])), hist['val_loss'], '-', color = colors[i], label=labels[i])\n",
    "        \n",
    "    ax[0].set_title('Evaluation Loss')\n",
    "    ax[0].set_xlabel('Epochs')\n",
    "    ax[0].set_ylabel('Loss')\n",
    "    ax[0].legend()\n",
    "    \n",
    "    for i, hist in enumerate(hist_list):\n",
    "        ax[1].plot(range(len(hist['val_acc'])), hist['val_acc'], '-', color = colors[i], label=labels[i])\n",
    "        \n",
    "\n",
    "    ax[1].set_title('Evaluation Acc.')\n",
    "    ax[1].set_xlabel('Epochs')\n",
    "    ax[1].set_ylabel('Acc.')\n",
    "    ax[1].legend()\n",
    "   \n",
    "    plt.show()"
   ]
  },
  {
   "cell_type": "markdown",
   "metadata": {},
   "source": [
    "#### Train model"
   ]
  },
  {
   "cell_type": "code",
   "execution_count": 130,
   "metadata": {},
   "outputs": [],
   "source": [
    "device = torch.device(\"cuda\" if torch.cuda.is_available() else \"cpu\")"
   ]
  },
  {
   "cell_type": "code",
   "execution_count": 97,
   "metadata": {},
   "outputs": [],
   "source": [
    "emb_dim = 100\n",
    "hidden_units = emb_dim\n",
    "num_layers = 1\n",
    "bidirectional = True\n",
    "num_classes = 6\n",
    "vocab_size = 10000"
   ]
  },
  {
   "cell_type": "code",
   "execution_count": 134,
   "metadata": {},
   "outputs": [
    {
     "name": "stdout",
     "output_type": "stream",
     "text": [
      "rnn_text(\n",
      "  (embedding): Embedding(10000, 100)\n",
      "  (rnn): LSTM(100, 100, batch_first=True, bidirectional=True)\n",
      "  (fc): Linear(in_features=400, out_features=6, bias=True)\n",
      "  (dropout): Dropout(p=0.5, inplace=False)\n",
      ")\n",
      "Training Start\n",
      "Epoch:1 / 100, train loss:1.1766,        train_acc:0.5480, valid loss:0.7642 valid acc:0.7395\n",
      "model saved!\n",
      "Epoch:2 / 100, train loss:0.4544,        train_acc:0.8539, valid loss:0.4733 valid acc:0.8594\n",
      "model saved!\n",
      "Epoch:3 / 100, train loss:0.1872,        train_acc:0.9538, valid loss:0.3779 valid acc:0.8883\n",
      "model saved!\n",
      "Epoch:4 / 100, train loss:0.1097,        train_acc:0.9720, valid loss:0.3838 valid acc:0.8947\n",
      "model saved!\n",
      "Epoch:5 / 100, train loss:0.0797,        train_acc:0.9786, valid loss:0.4258 valid acc:0.8910\n",
      "Epoch:6 / 100, train loss:0.0745,        train_acc:0.9795, valid loss:0.4664 valid acc:0.8835\n",
      "Epoch:7 / 100, train loss:0.0555,        train_acc:0.9834, valid loss:0.4124 valid acc:0.8943\n",
      "Epoch:8 / 100, train loss:0.0517,        train_acc:0.9846, valid loss:0.4101 valid acc:0.8939\n",
      "Epoch:9 / 100, train loss:0.0626,        train_acc:0.9818, valid loss:0.3949 valid acc:0.8996\n",
      "model saved!\n",
      "Epoch:10 / 100, train loss:0.0388,        train_acc:0.9885, valid loss:0.4303 valid acc:0.9013\n",
      "model saved!\n",
      "Epoch:11 / 100, train loss:0.0345,        train_acc:0.9900, valid loss:0.4049 valid acc:0.9029\n",
      "model saved!\n",
      "Epoch:12 / 100, train loss:0.0288,        train_acc:0.9908, valid loss:0.4529 valid acc:0.8993\n",
      "Epoch:13 / 100, train loss:0.0335,        train_acc:0.9897, valid loss:0.4898 valid acc:0.8857\n",
      "Epoch:14 / 100, train loss:0.0305,        train_acc:0.9911, valid loss:0.5304 valid acc:0.8873\n",
      "Epoch:15 / 100, train loss:0.0427,        train_acc:0.9880, valid loss:0.4455 valid acc:0.9033\n",
      "model saved!\n",
      "Epoch:16 / 100, train loss:0.0255,        train_acc:0.9926, valid loss:0.4710 valid acc:0.8989\n",
      "Epoch:17 / 100, train loss:0.0215,        train_acc:0.9938, valid loss:0.4978 valid acc:0.8980\n",
      "Epoch:18 / 100, train loss:0.0215,        train_acc:0.9934, valid loss:0.4873 valid acc:0.8947\n",
      "Epoch:19 / 100, train loss:0.0271,        train_acc:0.9918, valid loss:0.6013 valid acc:0.8881\n",
      "Epoch:20 / 100, train loss:0.0248,        train_acc:0.9925, valid loss:0.4702 valid acc:0.9034\n",
      "model saved!\n",
      "Epoch:21 / 100, train loss:0.0230,        train_acc:0.9926, valid loss:0.5250 valid acc:0.8973\n",
      "Epoch:22 / 100, train loss:0.0201,        train_acc:0.9940, valid loss:0.4912 valid acc:0.8983\n",
      "Epoch:23 / 100, train loss:0.0165,        train_acc:0.9952, valid loss:0.4833 valid acc:0.8977\n",
      "Epoch:24 / 100, train loss:0.0196,        train_acc:0.9946, valid loss:0.5735 valid acc:0.8909\n",
      "Epoch:25 / 100, train loss:0.0352,        train_acc:0.9896, valid loss:0.5012 valid acc:0.9026\n",
      "Epoch:26 / 100, train loss:0.0162,        train_acc:0.9948, valid loss:0.5048 valid acc:0.9033\n",
      "Epoch:27 / 100, train loss:0.0135,        train_acc:0.9957, valid loss:0.5294 valid acc:0.9000\n",
      "Epoch:28 / 100, train loss:0.0148,        train_acc:0.9955, valid loss:0.5346 valid acc:0.8999\n",
      "Epoch:29 / 100, train loss:0.0214,        train_acc:0.9934, valid loss:0.5317 valid acc:0.9022\n",
      "Epoch:30 / 100, train loss:0.0152,        train_acc:0.9954, valid loss:0.5461 valid acc:0.9009\n",
      "early stopping!\n"
     ]
    }
   ],
   "source": [
    "# Case C: Use word vectors and allow fine tuning\n",
    "\n",
    "model_rnn = rnn_text(vocab_size = vocab_size , emb_dim = emb_dim, \n",
    "                       num_classes = num_classes, hidden_units = hidden_units , \\\n",
    "                       num_layers = num_layers,  bidirectional =  True, \\\n",
    "                       emb_weight =  emb_matrix, freeze = False, dropout_rate = 0.5)\n",
    "                  \n",
    "print(model_rnn)\n",
    "\n",
    "optimizer = torch.optim.Adam(model_rnn.parameters(), lr=0.0005)\n",
    "\n",
    "model_rnn, hist_rnn = train_model(model_rnn, train_dataset, eval_dataset, \\\n",
    "                           device, optimizer, epochs=100)\n",
    "\n"
   ]
  },
  {
   "cell_type": "code",
   "execution_count": 135,
   "metadata": {},
   "outputs": [
    {
     "name": "stdout",
     "output_type": "stream",
     "text": [
      "              precision    recall  f1-score   support\n",
      "\n",
      "           0       0.87      0.84      0.86       394\n",
      "           1       0.94      0.90      0.92      1180\n",
      "           2       0.86      0.91      0.89       479\n",
      "           3       0.79      0.71      0.75       129\n",
      "           4       0.92      0.95      0.94      1027\n",
      "           5       0.77      0.82      0.79       250\n",
      "\n",
      "    accuracy                           0.90      3459\n",
      "   macro avg       0.86      0.86      0.86      3459\n",
      "weighted avg       0.90      0.90      0.90      3459\n",
      "\n",
      "Test acc: 0.8977\n"
     ]
    }
   ],
   "source": [
    "test_acc_rnn = test_model(model_rnn, test_dataset)"
   ]
  },
  {
   "cell_type": "markdown",
   "metadata": {},
   "source": [
    "### Q1.2. RNN + CNN Model"
   ]
  },
  {
   "cell_type": "markdown",
   "metadata": {},
   "source": [
    "From HW 3, we found CNN is quite effective in text classification. Can we combine RNN and CNN to achieve even better performance? Let's define a model with RNN and CNN layers working together.\n",
    "\n",
    "You model should contain these layers in the order as follows:\n",
    "1. `An embedding layer` that is initialized with pre-trained word vectors and can fine-tune the word vectors (as we noticed from HW 3, this configuration worked the best)\n",
    "2. One or more `RNN layers (LSTM or GRU)`: If your sequence length is L, and the RNN hidden units is M, the RNN layers will output a sequence of shape `L x M` or `L x 2M` (for bidirectional). In other words, each element in the sequence has been transformed into a vector of size `M` (or `2M`).\n",
    "3. `CNN layers` (as you defined in HW3): The CNN layers continue to process the sequence produced by the RNN. For CNN layers, feel free to use your code in HW3 or the reference solution \n",
    "\n",
    "\n",
    "Your model should allow to configure these hyperparameters:\n",
    "- Embedding layer:\n",
    "    - Vocabulary size\n",
    "    - Embedding dimension\n",
    "    - Pretrained word vectors\n",
    "- RNN layers:\n",
    "    - Number of RNN layers\n",
    "    - Hidden units\n",
    "    - Bidirectional or not\n",
    "- Convolution layer:\n",
    "    - Number of filters\n",
    "    - Filter sizes\n",
    "    \n",
    "Train this model as Q1.1. You are expected to receive `an accuracy around 91% on the test dataset`.\n",
    "\n",
    "Analyze your model and answer this question:\n",
    "- Why does the RNN + CNN combination work better than RNN or CNN alone?"
   ]
  },
  {
   "cell_type": "markdown",
   "metadata": {},
   "source": [
    "#### Model Definition"
   ]
  },
  {
   "cell_type": "code",
   "execution_count": 136,
   "metadata": {},
   "outputs": [],
   "source": [
    "class rnn_cnn_text(nn.Module):\n",
    "\n",
    "    # define all the layers used in model\n",
    "    def __init__(self, vocab_size, emb_dim, num_classes, \n",
    "                 num_filters,  kernel_sizes,\n",
    "                 hidden_units , num_layers = 1,  bidirectional = False, \\\n",
    "                 emb_weight = None, freeze = False, dropout_rate = 0.5):\n",
    "      \n",
    "        super(rnn_cnn_text, self).__init__()\n",
    "        \n",
    "        self.emb_dim = emb_dim\n",
    "        \n",
    "        self.num_filters = num_filters\n",
    "        self.kernel_sizes = kernel_sizes\n",
    "        self.num_layers = num_layers\n",
    "        self.hidden_units = hidden_units\n",
    "        self.bidirectional = bidirectional\n",
    "        self.num_classes = num_classes\n",
    "       \n",
    "        if emb_weight is None:      \n",
    "            self.embedding = nn.Embedding(vocab_size, emb_dim, padding_idx = 0)\n",
    "        else:\n",
    "            self.embedding = nn.Embedding.from_pretrained(emb_weight, freeze=freeze)\n",
    "        \n",
    "        self.rnn = nn.LSTM(input_size = self.emb_dim, hidden_size = self.hidden_units,\\\n",
    "                           num_layers = self.num_layers, \\\n",
    "                           bidirectional = self.bidirectional,\\\n",
    "                           batch_first = True,\\\n",
    "                           #dropout = dropout_rate\n",
    "                          )\n",
    "        \n",
    "        feature_size = self.hidden_units \n",
    "        \n",
    "        if self.bidirectional:\n",
    "            feature_size = self.hidden_units * 2\n",
    "        \n",
    "        self.convs = nn.ModuleList([nn.Conv1d(feature_size, self.num_filters, f) for f in self.kernel_sizes])\n",
    "        \n",
    "            \n",
    "        self.fc = nn.Linear(len(kernel_sizes)*self.num_filters, self.num_classes)\n",
    "        self.dropout = nn.Dropout(dropout_rate)\n",
    "\n",
    "    def forward(self, x):\n",
    "        \n",
    "        x = self.embedding(x) # Batch x sent_len x emb_dim\n",
    "        \n",
    "        x, _ = self.rnn(x)  # batch, seq_len, features (self.hidden_units*(2 if self.bidirectional else 1))\n",
    "        \n",
    "        x = torch.swapaxes(x, 1, 2) # Batch x max_sent x features\n",
    "        \n",
    "        x = [F.relu(conv(x)) for conv in self.convs]  # output of three conv, batch x num_filter x L\n",
    "\n",
    "        x = [F.max_pool1d(i, i.size(2)).squeeze(2) for i in x] # continue with 3 maxpooling\n",
    "\n",
    "        x = torch.cat(x, 1)\n",
    "\n",
    "        x = self.dropout(x)\n",
    "        \n",
    "        logit = self.fc(x)  \n",
    "\n",
    "        return logit"
   ]
  },
  {
   "cell_type": "code",
   "execution_count": 137,
   "metadata": {},
   "outputs": [],
   "source": [
    "emb_dim = 100\n",
    "hidden_units = emb_dim\n",
    "num_layers = 1\n",
    "bidirectional = True\n",
    "num_classes = 6\n",
    "vocab_size = 10000\n",
    "num_filters = 30\n",
    "kernel_sizes = [1,3,5]"
   ]
  },
  {
   "cell_type": "markdown",
   "metadata": {},
   "source": [
    "#### Train Model"
   ]
  },
  {
   "cell_type": "code",
   "execution_count": 138,
   "metadata": {},
   "outputs": [
    {
     "name": "stdout",
     "output_type": "stream",
     "text": [
      "rnn_cnn_text(\n",
      "  (embedding): Embedding(10000, 100)\n",
      "  (rnn): LSTM(100, 100, batch_first=True, bidirectional=True)\n",
      "  (convs): ModuleList(\n",
      "    (0): Conv1d(200, 30, kernel_size=(1,), stride=(1,))\n",
      "    (1): Conv1d(200, 30, kernel_size=(3,), stride=(1,))\n",
      "    (2): Conv1d(200, 30, kernel_size=(5,), stride=(1,))\n",
      "  )\n",
      "  (fc): Linear(in_features=90, out_features=6, bias=True)\n",
      "  (dropout): Dropout(p=0.5, inplace=False)\n",
      ")\n",
      "Training Start\n",
      "Epoch:1 / 100, train loss:0.7014,        train_acc:0.7514, valid loss:0.2683 valid acc:0.9108\n",
      "model saved!\n",
      "Epoch:2 / 100, train loss:0.1019,        train_acc:0.9702, valid loss:0.2802 valid acc:0.9123\n",
      "model saved!\n",
      "Epoch:3 / 100, train loss:0.0632,        train_acc:0.9794, valid loss:0.3269 valid acc:0.9090\n",
      "Epoch:4 / 100, train loss:0.0515,        train_acc:0.9834, valid loss:0.2856 valid acc:0.9119\n",
      "Epoch:5 / 100, train loss:0.0423,        train_acc:0.9863, valid loss:0.3262 valid acc:0.9119\n",
      "Epoch:6 / 100, train loss:0.0394,        train_acc:0.9872, valid loss:0.3555 valid acc:0.9153\n",
      "model saved!\n",
      "Epoch:7 / 100, train loss:0.0333,        train_acc:0.9883, valid loss:0.3441 valid acc:0.9110\n",
      "Epoch:8 / 100, train loss:0.0285,        train_acc:0.9898, valid loss:0.3166 valid acc:0.9167\n",
      "model saved!\n",
      "Epoch:9 / 100, train loss:0.0267,        train_acc:0.9915, valid loss:0.4211 valid acc:0.9086\n",
      "Epoch:10 / 100, train loss:0.0245,        train_acc:0.9915, valid loss:0.4024 valid acc:0.9033\n",
      "Epoch:11 / 100, train loss:0.0225,        train_acc:0.9919, valid loss:0.3955 valid acc:0.9097\n",
      "Epoch:12 / 100, train loss:0.0204,        train_acc:0.9931, valid loss:0.4126 valid acc:0.9167\n",
      "Epoch:13 / 100, train loss:0.0217,        train_acc:0.9932, valid loss:0.4044 valid acc:0.9114\n",
      "Epoch:14 / 100, train loss:0.0196,        train_acc:0.9936, valid loss:0.3883 valid acc:0.9140\n",
      "Epoch:15 / 100, train loss:0.0212,        train_acc:0.9932, valid loss:0.4360 valid acc:0.9060\n",
      "Epoch:16 / 100, train loss:0.0204,        train_acc:0.9928, valid loss:0.4022 valid acc:0.9124\n",
      "Epoch:17 / 100, train loss:0.0164,        train_acc:0.9940, valid loss:0.3766 valid acc:0.9133\n",
      "Epoch:18 / 100, train loss:0.0130,        train_acc:0.9951, valid loss:0.3757 valid acc:0.9177\n",
      "model saved!\n",
      "Epoch:19 / 100, train loss:0.0153,        train_acc:0.9947, valid loss:0.4349 valid acc:0.9113\n",
      "Epoch:20 / 100, train loss:0.0150,        train_acc:0.9953, valid loss:0.4065 valid acc:0.9137\n",
      "Epoch:21 / 100, train loss:0.0127,        train_acc:0.9959, valid loss:0.4592 valid acc:0.9167\n",
      "Epoch:22 / 100, train loss:0.0124,        train_acc:0.9957, valid loss:0.4952 valid acc:0.9120\n",
      "Epoch:23 / 100, train loss:0.0192,        train_acc:0.9939, valid loss:0.3910 valid acc:0.9234\n",
      "model saved!\n",
      "Epoch:24 / 100, train loss:0.0116,        train_acc:0.9960, valid loss:0.4412 valid acc:0.9157\n",
      "Epoch:25 / 100, train loss:0.0106,        train_acc:0.9963, valid loss:0.4449 valid acc:0.9129\n",
      "Epoch:26 / 100, train loss:0.0141,        train_acc:0.9957, valid loss:0.4649 valid acc:0.9086\n",
      "Epoch:27 / 100, train loss:0.0098,        train_acc:0.9967, valid loss:0.4566 valid acc:0.9143\n",
      "Epoch:28 / 100, train loss:0.0132,        train_acc:0.9950, valid loss:0.4543 valid acc:0.9173\n",
      "Epoch:29 / 100, train loss:0.0097,        train_acc:0.9965, valid loss:0.4766 valid acc:0.9140\n",
      "Epoch:30 / 100, train loss:0.0111,        train_acc:0.9959, valid loss:0.4951 valid acc:0.9130\n",
      "Epoch:31 / 100, train loss:0.0092,        train_acc:0.9963, valid loss:0.4971 valid acc:0.9160\n",
      "Epoch:32 / 100, train loss:0.0082,        train_acc:0.9970, valid loss:0.4664 valid acc:0.9117\n",
      "Epoch:33 / 100, train loss:0.0096,        train_acc:0.9961, valid loss:0.4728 valid acc:0.9203\n",
      "early stopping!\n"
     ]
    }
   ],
   "source": [
    "model_rnn_cnn = rnn_cnn_text(vocab_size = vocab_size , emb_dim = emb_dim, \n",
    "                       num_filters = num_filters,  kernel_sizes = kernel_sizes,\n",
    "                       num_classes = num_classes, hidden_units = hidden_units , \\\n",
    "                       num_layers = num_layers,  bidirectional =  True, \\\n",
    "                       emb_weight =  emb_matrix, freeze = False, dropout_rate = 0.5)\n",
    "                  \n",
    "print(model_rnn_cnn)\n",
    "\n",
    "optimizer = torch.optim.Adam(model_rnn_cnn.parameters(), lr=0.0005)\n",
    "\n",
    "model_rnn_cnn, hist_rnn_cnn = train_model(model_rnn_cnn, train_dataset, eval_dataset, \\\n",
    "                           device, optimizer, epochs=100)\n",
    "\n"
   ]
  },
  {
   "cell_type": "code",
   "execution_count": 139,
   "metadata": {},
   "outputs": [
    {
     "name": "stdout",
     "output_type": "stream",
     "text": [
      "              precision    recall  f1-score   support\n",
      "\n",
      "           0       0.89      0.88      0.89       394\n",
      "           1       0.94      0.93      0.93      1180\n",
      "           2       0.90      0.93      0.92       479\n",
      "           3       0.85      0.74      0.79       129\n",
      "           4       0.95      0.96      0.95      1027\n",
      "           5       0.79      0.83      0.81       250\n",
      "\n",
      "    accuracy                           0.92      3459\n",
      "   macro avg       0.89      0.88      0.88      3459\n",
      "weighted avg       0.92      0.92      0.92      3459\n",
      "\n",
      "Test acc: 0.9167\n"
     ]
    }
   ],
   "source": [
    "test_acc_rnn_cnn = test_model(model_rnn_cnn, test_dataset)"
   ]
  },
  {
   "cell_type": "code",
   "execution_count": 145,
   "metadata": {},
   "outputs": [
    {
     "name": "stdout",
     "output_type": "stream",
     "text": [
      "Test acc: RNN: 0.898, RNN + CNN: 0.917\n"
     ]
    },
    {
     "data": {
      "image/png": "[encoded data removed]",
      "text/plain": [
       "<Figure size 1152x288 with 2 Axes>"
      ]
     },
     "metadata": {
      "needs_background": "light"
     },
     "output_type": "display_data"
    }
   ],
   "source": [
    "print(f\"Test acc: RNN: {test_acc_rnn:.3f}, RNN + CNN: {test_acc_rnn_cnn:.3f}\")\n",
    "\n",
    "get_plot([hist_rnn, hist_rnn_cnn], [\"RNN\",'RNN + CNN'], len(hist_rnn['val_loss']))"
   ]
  },
  {
   "cell_type": "markdown",
   "metadata": {},
   "source": [
    "## Q2. Time Series Regression\n",
    "\n",
    "\n",
    "In this task, let's use RNN for time series regression. Please download the dataset from https://www.kaggle.com/datasets/hmavrodiev/london-bike-sharing-dataset\n",
    "\n",
    "The dataset has the following columns:\n",
    "- timestamp: index as datetime value\n",
    "- cnt: new bike shares count\n",
    "- t1: actual temp in Celcius\n",
    "- t2: temp in Celcius which feels like\n",
    "- hum: % of humidity\n",
    "- wind_speed: speed of wind in km/hr\n",
    "- weather_code: weather category\n",
    "- is_holiday — holiday-1, non-holiday-2 \n",
    "- is_weekend: weekend-1, weekday-0\n",
    "- season: 0-spring, 1-summer, 2-fall, 3-winter\n",
    "\n",
    "\n",
    "Column `cnt` is the target of our regression."
   ]
  },
  {
   "cell_type": "code",
   "execution_count": 147,
   "metadata": {},
   "outputs": [
    {
     "data": {
      "text/html": [
       "<div>\n",
       "<style scoped>\n",
       "    .dataframe tbody tr th:only-of-type {\n",
       "        vertical-align: middle;\n",
       "    }\n",
       "\n",
       "    .dataframe tbody tr th {\n",
       "        vertical-align: top;\n",
       "    }\n",
       "\n",
       "    .dataframe thead th {\n",
       "        text-align: right;\n",
       "    }\n",
       "</style>\n",
       "<table border=\"1\" class=\"dataframe\">\n",
       "  <thead>\n",
       "    <tr style=\"text-align: right;\">\n",
       "      <th></th>\n",
       "      <th>cnt</th>\n",
       "      <th>t1</th>\n",
       "      <th>t2</th>\n",
       "      <th>hum</th>\n",
       "      <th>wind_speed</th>\n",
       "      <th>weather_code</th>\n",
       "      <th>is_holiday</th>\n",
       "      <th>is_weekend</th>\n",
       "      <th>season</th>\n",
       "    </tr>\n",
       "    <tr>\n",
       "      <th>timestamp</th>\n",
       "      <th></th>\n",
       "      <th></th>\n",
       "      <th></th>\n",
       "      <th></th>\n",
       "      <th></th>\n",
       "      <th></th>\n",
       "      <th></th>\n",
       "      <th></th>\n",
       "      <th></th>\n",
       "    </tr>\n",
       "  </thead>\n",
       "  <tbody>\n",
       "    <tr>\n",
       "      <th>2015-01-04 00:00:00</th>\n",
       "      <td>182</td>\n",
       "      <td>3.0</td>\n",
       "      <td>2.0</td>\n",
       "      <td>93.0</td>\n",
       "      <td>6.0</td>\n",
       "      <td>3.0</td>\n",
       "      <td>0.0</td>\n",
       "      <td>1.0</td>\n",
       "      <td>3.0</td>\n",
       "    </tr>\n",
       "    <tr>\n",
       "      <th>2015-01-04 01:00:00</th>\n",
       "      <td>138</td>\n",
       "      <td>3.0</td>\n",
       "      <td>2.5</td>\n",
       "      <td>93.0</td>\n",
       "      <td>5.0</td>\n",
       "      <td>1.0</td>\n",
       "      <td>0.0</td>\n",
       "      <td>1.0</td>\n",
       "      <td>3.0</td>\n",
       "    </tr>\n",
       "    <tr>\n",
       "      <th>2015-01-04 02:00:00</th>\n",
       "      <td>134</td>\n",
       "      <td>2.5</td>\n",
       "      <td>2.5</td>\n",
       "      <td>96.5</td>\n",
       "      <td>0.0</td>\n",
       "      <td>1.0</td>\n",
       "      <td>0.0</td>\n",
       "      <td>1.0</td>\n",
       "      <td>3.0</td>\n",
       "    </tr>\n",
       "    <tr>\n",
       "      <th>2015-01-04 03:00:00</th>\n",
       "      <td>72</td>\n",
       "      <td>2.0</td>\n",
       "      <td>2.0</td>\n",
       "      <td>100.0</td>\n",
       "      <td>0.0</td>\n",
       "      <td>1.0</td>\n",
       "      <td>0.0</td>\n",
       "      <td>1.0</td>\n",
       "      <td>3.0</td>\n",
       "    </tr>\n",
       "    <tr>\n",
       "      <th>2015-01-04 04:00:00</th>\n",
       "      <td>47</td>\n",
       "      <td>2.0</td>\n",
       "      <td>0.0</td>\n",
       "      <td>93.0</td>\n",
       "      <td>6.5</td>\n",
       "      <td>1.0</td>\n",
       "      <td>0.0</td>\n",
       "      <td>1.0</td>\n",
       "      <td>3.0</td>\n",
       "    </tr>\n",
       "  </tbody>\n",
       "</table>\n",
       "</div>"
      ],
      "text/plain": [
       "                     cnt   t1   t2    hum  wind_speed  weather_code  \\\n",
       "timestamp                                                             \n",
       "2015-01-04 00:00:00  182  3.0  2.0   93.0         6.0           3.0   \n",
       "2015-01-04 01:00:00  138  3.0  2.5   93.0         5.0           1.0   \n",
       "2015-01-04 02:00:00  134  2.5  2.5   96.5         0.0           1.0   \n",
       "2015-01-04 03:00:00   72  2.0  2.0  100.0         0.0           1.0   \n",
       "2015-01-04 04:00:00   47  2.0  0.0   93.0         6.5           1.0   \n",
       "\n",
       "                     is_holiday  is_weekend  season  \n",
       "timestamp                                            \n",
       "2015-01-04 00:00:00         0.0         1.0     3.0  \n",
       "2015-01-04 01:00:00         0.0         1.0     3.0  \n",
       "2015-01-04 02:00:00         0.0         1.0     3.0  \n",
       "2015-01-04 03:00:00         0.0         1.0     3.0  \n",
       "2015-01-04 04:00:00         0.0         1.0     3.0  "
      ]
     },
     "execution_count": 147,
     "metadata": {},
     "output_type": "execute_result"
    }
   ],
   "source": [
    "data = pd.read_csv(\"london_merged.csv\", parse_dates = ['timestamp'], index_col ='timestamp')\n",
    "data.head()"
   ]
  },
  {
   "cell_type": "code",
   "execution_count": 148,
   "metadata": {},
   "outputs": [
    {
     "data": {
      "text/plain": [
       "<AxesSubplot:xlabel='timestamp'>"
      ]
     },
     "execution_count": 148,
     "metadata": {},
     "output_type": "execute_result"
    },
    {
     "data": {
      "image/png": "[encoded data removed]",
      "text/plain": [
       "<Figure size 1440x360 with 1 Axes>"
      ]
     },
     "metadata": {
      "needs_background": "light"
     },
     "output_type": "display_data"
    }
   ],
   "source": [
    "data.iloc[0:200][\"cnt\"].plot(figsize=(20,5))"
   ]
  },
  {
   "cell_type": "markdown",
   "metadata": {},
   "source": [
    "You're required to build a model to predict the hourly `cnt`. This problem can be formulated as following:\n",
    "\n",
    "- Given data $[X_{t-L+1},X_{t-L+2}, ..., X_{t}]$, predict $Y_{t+1}$. For example, if $L = 4$, we'll use data from the 1st to 4th hours to predict the bikes shared in the 5th hour, data from 2nd to 5th hours to predict the 6th hour, and so on.\n",
    "- Every $X_{t}$ has a number of features. Let's use `cnt, t1, t2, hum, wind_speed` as features. In other words, we'll use past bike sharing quantities along with temperature and other variables to predict how many bikes will be shared in the next hour.\n",
    "- To be more specific, the following code shows how your first two samples should look like:"
   ]
  },
  {
   "cell_type": "code",
   "execution_count": 156,
   "metadata": {},
   "outputs": [
    {
     "name": "stdout",
     "output_type": "stream",
     "text": [
      "X1:\n",
      "                      cnt   t1   t2    hum  wind_speed\n",
      "timestamp                                            \n",
      "2015-01-04 00:00:00  182  3.0  2.0   93.0         6.0\n",
      "2015-01-04 01:00:00  138  3.0  2.5   93.0         5.0\n",
      "2015-01-04 02:00:00  134  2.5  2.5   96.5         0.0\n",
      "2015-01-04 03:00:00   72  2.0  2.0  100.0         0.0\n",
      " Y1: 47.0\n",
      "\n",
      "\n",
      "X2:\n",
      "                      cnt   t1   t2    hum  wind_speed\n",
      "timestamp                                            \n",
      "2015-01-04 01:00:00  138  3.0  2.5   93.0         5.0\n",
      "2015-01-04 02:00:00  134  2.5  2.5   96.5         0.0\n",
      "2015-01-04 03:00:00   72  2.0  2.0  100.0         0.0\n",
      "2015-01-04 04:00:00   47  2.0  0.0   93.0         6.5\n",
      " Y2: 46.0\n"
     ]
    }
   ],
   "source": [
    "L = 4\n",
    "feature_cols = [\"cnt\",\"t1\",\"t2\",\"hum\",\"wind_speed\"]\n",
    "target_col = 'cnt'\n",
    "\n",
    "# first sample\n",
    "X1 = data.iloc[0:4][feature_cols]\n",
    "Y1 = data.iloc[4][target_col]\n",
    "print(f\"X1:\\n {X1}\\n Y1: {Y1}\")\n",
    "\n",
    "print(\"\\n\")\n",
    "# 2nd sample\n",
    "X2 = data.iloc[1:5][feature_cols]\n",
    "Y2 = data.iloc[5][target_col]\n",
    "\n",
    "print(f\"X2:\\n {X2}\\n Y2: {Y2}\")"
   ]
  },
  {
   "cell_type": "markdown",
   "metadata": {},
   "source": [
    "### Q2.1. Preprocessing\n",
    "\n",
    "\n",
    "Write a function `transform_data(data, feature_cols, target_col, cut_off_index, timestep=8)` to transform the dataset to a format that can be used by RNN. **Carefully follow the instruction below to define this function as follows**:\n",
    "- Take the following arguments:\n",
    "    - `data`: the dataframe created from the csv file\n",
    "    - `feature_cols`: a list of features to be used for prediction\n",
    "    - `target_col`: the target column name\n",
    "    - `cut_off_index`: the index to split data into training and test subsets. Data after this point is reserved for testing only\n",
    "    - `timestep`: the length of historical data that can be used for prediction. The default value is 8 (i.e. 8 hours)\n",
    "- Split `data` by `cut_off_index`\n",
    "- Normalize the dataset: Notice that the features are in different scales. We need to normalize the data first. \n",
    "    - You can use `MinMaxSaler`, `StandardScaler`, or `RobustScaler` to transform the dataset. Check https://scikit-learn.org/stable/modules/classes.html#module-sklearn.preprocessing for details.\n",
    "    - You can `only fit the scaler using the training dataset` (avoid data leaking). You need to fit a scaler for X (i.e., features) and another scaler for Y (i.e., target).\n",
    "    - Transform the entire dataset (i.e., `data`) using the fitted scalers. If you want to transform the databack to the orginal, you can call the scalers' `inverse_transform` function. \n",
    "    - Slice the transformed dataset in every `timestep` rows, i.e.,  \n",
    "        - Let ($X_i, Y_i$) denote the $i$th sample. $X_i$ `= S[i : (i + timestep), feature_cols]` and $Y_i$ `= S[ i + timestep, target_col]`, where `S` is the transformed array of `data`, \n",
    "         \n",
    "    - The training subset should have records ($X_i, Y_i$) for $i=0$ to `cut_off_index - Timestep +1`. Use the rest as the test subset.\n",
    "    - Return the transformed training X/Y, testing X/Y, and the fitted X and Y scalers.\n",
    "    \n",
    "Note, you may be wondering why not apply batch normalization. For time series data with trending, batch normalization may not work, since a random batch cannot preserve the trending of the time series. "
   ]
  },
  {
   "cell_type": "code",
   "execution_count": 157,
   "metadata": {},
   "outputs": [],
   "source": [
    "import numpy as np\n",
    "from sklearn.preprocessing import StandardScaler\n",
    "#from sklearn.preprocessing import RobustScaler\n",
    "from sklearn.model_selection import train_test_split\n",
    "\n",
    "def transform_data(data, feature_cols, target_col, cut_off_index, timestep=8):\n",
    "    X = []  # input\n",
    "    Y = []  # target\n",
    "   \n",
    "    train_data = data.iloc[0: cut_off_index]\n",
    "    \n",
    "    x_scaler = StandardScaler()\n",
    "    y_scaler = StandardScaler()\n",
    "    x_scaler.fit(train_data[feature_cols].values)\n",
    "    y_scaler.fit(train_data[target_col].values)\n",
    "    \n",
    "    X_normalized = x_scaler.transform(data[feature_cols].values)\n",
    "    Y_normalized = y_scaler.transform(data[target_col].values)\n",
    "    \n",
    "    for idx in range(0, len(data)):\n",
    "        \n",
    "        if idx+timestep >= len(data):\n",
    "            break\n",
    "            \n",
    "        x = X_normalized[idx:(idx+timestep)]\n",
    "        y = Y_normalized[idx+timestep]\n",
    "        \n",
    "        X.append(x)\n",
    "        Y.append(y)\n",
    "        \n",
    "    X = np.array(X)\n",
    "    Y = np.array(Y).reshape(-1)\n",
    "    \n",
    "    train_X = X[0: cut_off_index - timestep + 1]\n",
    "    train_Y = Y[0: cut_off_index - timestep + 1]\n",
    "    \n",
    "    test_X = X[(cut_off_index - timestep + 1):]\n",
    "    test_Y = Y[(cut_off_index - timestep + 1):]\n",
    "    \n",
    "    \n",
    "    return train_X, train_Y , test_X, test_Y, x_scaler, y_scaler"
   ]
  },
  {
   "cell_type": "markdown",
   "metadata": {},
   "source": [
    "Let's set `cut_off_index = 15000` , `feature_cols = [\"cnt\",\"t1\",\"t2\",\"hum\",\"wind_speed\"]`, and `target_col = cnt`. Transform the dataset to get train/test X and Y."
   ]
  },
  {
   "cell_type": "code",
   "execution_count": 158,
   "metadata": {},
   "outputs": [],
   "source": [
    "cut_off_index = 15000\n",
    "feature_cols = [\"cnt\",\"t1\",\"t2\",\"hum\",\"wind_speed\"]\n",
    "target_col = ['cnt']\n",
    "train_X, train_Y , test_X, test_Y, x_scaler, y_scaler = transform_data(data, feature_cols, target_col, cut_off_index, timestep=8)"
   ]
  },
  {
   "cell_type": "code",
   "execution_count": 159,
   "metadata": {},
   "outputs": [
    {
     "data": {
      "text/plain": [
       "array([[-0.89142933, -1.74259585, -1.48069179,  1.52220096, -1.29900762],\n",
       "       [-0.93161   , -1.74259585, -1.40644337,  1.52220096, -1.42509311],\n",
       "       [-0.93526279, -1.8306977 , -1.40644337,  1.76577483, -2.05552053],\n",
       "       [-0.99188101, -1.91879955, -1.48069179,  2.0093487 , -2.05552053],\n",
       "       [-1.01471093, -1.91879955, -1.77768549,  1.52220096, -1.23596488],\n",
       "       [-1.01562413, -1.91879955, -1.48069179,  1.52220096, -1.55117859],\n",
       "       [-1.01105814, -2.09500324, -1.92618234,  2.0093487 , -1.17292213],\n",
       "       [-0.98914141, -2.09500324, -1.92618234,  2.0093487 , -1.17292213]])"
      ]
     },
     "execution_count": 159,
     "metadata": {},
     "output_type": "execute_result"
    },
    {
     "data": {
      "text/plain": [
       "-0.9380023807279542"
      ]
     },
     "execution_count": 159,
     "metadata": {},
     "output_type": "execute_result"
    },
    {
     "data": {
      "text/plain": [
       "array([[-0.54350126,  1.16476518,  1.11800308, -0.91353771,  0.52923192],\n",
       "       [-0.64577933,  1.07666333,  1.04375466, -0.63516757,  0.40314643],\n",
       "       [-0.78184569,  1.07666333,  1.04375466, -0.49598251,  0.27706095],\n",
       "       [-0.92065164,  1.07666333,  1.04375466, -0.21761237,  0.08793272],\n",
       "       [-0.94896075,  1.07666333,  1.04375466, -0.04363104,  0.08793272],\n",
       "       [-0.96813788,  0.63615409,  0.67251253,  0.82627563,  0.02488998],\n",
       "       [-0.87407859,  0.54805224,  0.59826411,  1.00025696,  0.15097546],\n",
       "       [-0.69509197,  0.63615409,  0.67251253,  0.82627563,  0.59227466]])"
      ]
     },
     "execution_count": 159,
     "metadata": {},
     "output_type": "execute_result"
    },
    {
     "data": {
      "text/plain": [
       "-0.27502133895339026"
      ]
     },
     "execution_count": 159,
     "metadata": {},
     "output_type": "execute_result"
    }
   ],
   "source": [
    "# Show a few transformed examples\n",
    "\n",
    "train_X[0]\n",
    "train_Y[0]\n",
    "\n",
    "test_X[0]\n",
    "test_Y[0]"
   ]
  },
  {
   "cell_type": "markdown",
   "metadata": {},
   "source": [
    "### Q2.2: Establish a naive baseline\n",
    "\n",
    "Create a function `evaluate_naive_method` to estalish a baseline. This can help you check if your model is in the right track. \n",
    "- A simple baseline can be the `moving average`, i.e., the mean of `cnt` values in each input sequence as the baseline. For example, the moving average of `test_X[0]` showing above is -0.797\n",
    "- Calculate the `mean absolute error (MAE)` on the `testing data` as the baseline. For example, the mae for `test_X[0]` is `| - 0.797 - (-0.275) | = 0.5222`\n",
    "- Feel free to use more advanced method, i.e. ARIMA, to creat a baseline. "
   ]
  },
  {
   "cell_type": "code",
   "execution_count": 164,
   "metadata": {},
   "outputs": [],
   "source": [
    "def evaluate_naive_method(test_X, test_Y):\n",
    "    mae = []\n",
    "    preds = np.mean(test_X, axis = 1)\n",
    "    error = np.abs(preds - test_Y)\n",
    "    mae = error.mean(axis = 0)\n",
    "    \n",
    "    return mae"
   ]
  },
  {
   "cell_type": "code",
   "execution_count": 165,
   "metadata": {},
   "outputs": [
    {
     "name": "stdout",
     "output_type": "stream",
     "text": [
      "mae: 0.715\n"
     ]
    }
   ],
   "source": [
    "mae = evaluate_naive_method(test_X[:,:,0], test_Y)\n",
    "print(\"mae: {0:.3f}\".format(mae))"
   ]
  },
  {
   "cell_type": "markdown",
   "metadata": {},
   "source": [
    "### Q2.3. Create train, evaluation, and test dataset\n",
    "\n",
    "- As usual, create a dataset class\n",
    "- Create dataset objects for training and test subsets\n",
    "- Randomly sample 2400 instances from the training dataset as the evaluation dataset. "
   ]
  },
  {
   "cell_type": "code",
   "execution_count": 166,
   "metadata": {},
   "outputs": [],
   "source": [
    "class Bike_dataset(Dataset):\n",
    "    def __init__(self, featuers, targets):\n",
    "        self.length = len(featuers)\n",
    "        self.features = torch.Tensor(featuers)\n",
    "        self.targets = torch.Tensor(targets)\n",
    "    \n",
    "    def __getitem__(self, index):\n",
    "        return self.features[index], self.targets[index]\n",
    "    \n",
    "    def __len__(self):\n",
    "        return self.length"
   ]
  },
  {
   "cell_type": "code",
   "execution_count": 167,
   "metadata": {},
   "outputs": [
    {
     "name": "stdout",
     "output_type": "stream",
     "text": [
      "12593 2400 2413\n"
     ]
    }
   ],
   "source": [
    "train_dataset = Bike_dataset(train_X, train_Y)\n",
    "test_dataset = Bike_dataset(test_X, test_Y)\n",
    "\n",
    "sizes = [len(train_X) - 2400, 2400]\n",
    "train_dataset, eval_dataset = random_split(train_dataset, sizes)\n",
    "print(len(train_dataset), len(eval_dataset), len(test_dataset))"
   ]
  },
  {
   "cell_type": "markdown",
   "metadata": {},
   "source": [
    "### Q2.4. Define RNN model\n",
    "\n",
    "\n",
    "Create a neural network model as follows:\n",
    "    - The input to the model is the the training samples you created in Q2.1. \n",
    "    - Add LSTM or GRU layers into the model\n",
    "    - Add other appropriate layers or mechanisms, e.g. Dropout, regularizers.\n",
    "    - The output predicts the transformed `cnt` value of the next hour \n",
    "    - Carefully choose your hyperparameters, e.g. the number of hidden units in the LSTM/GRU layer, epochs, batch size etc.\n",
    "   "
   ]
  },
  {
   "cell_type": "code",
   "execution_count": 170,
   "metadata": {},
   "outputs": [],
   "source": [
    "class Bike_Model(nn.Module):\n",
    "    \n",
    "    def __init__(self, feature_dim, hidden_dim, lstm_layers = 1 ):\n",
    "        \n",
    "        super(Bike_Model, self).__init__()\n",
    "\n",
    "        # Defining some parameters\n",
    "        self.feature_dim = feature_dim\n",
    "        self.hidden_dim = hidden_dim\n",
    "        self.num_layers = lstm_layers\n",
    "\n",
    "        # RNN Layer\n",
    "        self.bilstm = nn.LSTM(input_size = self.feature_dim, hidden_size = self.hidden_dim, \\\n",
    "                            bidirectional = True,\\\n",
    "                            num_layers = self.num_layers, batch_first=True)\n",
    "        \n",
    "        self.lstm = nn.LSTM(input_size = self.hidden_dim*2, hidden_size = self.hidden_dim*2, \\\n",
    "                            bidirectional = False, batch_first=True)\n",
    "\n",
    "        self.fc = nn.Linear(self.hidden_dim*2, 1)\n",
    "        \n",
    "        self.dropout = nn.Dropout(0.3)\n",
    "    \n",
    "    def forward(self, x):\n",
    "        \n",
    "        \n",
    "        # Passing in the input and hidden state into the model and obtaining outputs\n",
    "        out, _ = self.bilstm(x)\n",
    "        \n",
    "        out = self.dropout(out)\n",
    "        \n",
    "        out, _ = self.lstm(out)\n",
    "        \n",
    "        out = out[:, -1, :]\n",
    "        \n",
    "        out = self.dropout(out)\n",
    "        \n",
    "        out = self.fc(out)\n",
    "        \n",
    "        return out"
   ]
  },
  {
   "cell_type": "markdown",
   "metadata": {},
   "source": [
    "### Q2.5. Define a train function\n",
    "\n",
    "Modify the train function you used before to train this model:\n",
    "- This is a regression problem. You should use MSE or MAE as the loss function\n",
    "- During training, report train and test MAE in addition to loss\n",
    "- Test the model after training completes. Generate prediction and report the MAE on the testing dataset. If your model is well tuned, `your test MAE should be less than 0.20`.\n",
    "- Use the scaler to inverse transform the predictions to get actual forecast. Plot actual values and forecast.\n",
    "\n"
   ]
  },
  {
   "cell_type": "code",
   "execution_count": 171,
   "metadata": {},
   "outputs": [],
   "source": [
    "def train_model(model, train_dataset, test_dataset, device, binary_pred = False,\\\n",
    "                lr=0.0005, epochs=20, batch_size=32):\n",
    "    \n",
    "    # construct dataloader\n",
    "    train_loader = DataLoader(train_dataset, batch_size=batch_size, shuffle=True)\n",
    "    test_loader = DataLoader(test_dataset, batch_size=batch_size)\n",
    "\n",
    "    # move model to device\n",
    "    model = model.to(device)\n",
    "    \n",
    "    # early stopping\n",
    "    patience = 10\n",
    "    max_loss = np.inf\n",
    "    cnt = 0\n",
    "\n",
    "    # history\n",
    "    history = {'train_loss': [],\n",
    "               'train_mae': [],\n",
    "               'test_loss': [],\n",
    "               'test_mae': []}\n",
    "    # setup loss function and optimizer\n",
    "    optimizer = torch.optim.RMSprop(model.parameters(), lr=lr)\n",
    "    \n",
    "    criterion = nn.MSELoss()\n",
    "        #criterion = nn.L1Loss()\n",
    "\n",
    "    # training loop\n",
    "    print('Training Start')\n",
    "    for epoch in range(epochs):\n",
    "        model.train()\n",
    "        train_loss = 0\n",
    "        train_mae = 0\n",
    "        test_loss = 0\n",
    "        test_mae = 0\n",
    "\n",
    "        for x, y in train_loader:\n",
    "            # move data to device\n",
    "            x = x.to(device)\n",
    "            y = y.to(device)\n",
    "            # forward\n",
    "            outputs = model(x).view(-1)\n",
    "\n",
    "            cur_train_loss = criterion(outputs, y)\n",
    "            cur_train_mae = torch.abs(outputs - y).mean().item()\n",
    "                \n",
    "            # backward\n",
    "            cur_train_loss.backward()\n",
    "            optimizer.step()\n",
    "            optimizer.zero_grad()\n",
    "            train_loss += cur_train_loss\n",
    "            train_mae += cur_train_mae\n",
    "\n",
    "        # evaluation start\n",
    "        model.eval()\n",
    "        with torch.no_grad():\n",
    "            for x, y in test_loader:\n",
    "                # move\n",
    "                x = x.to(device)\n",
    "                y = y.to(device)\n",
    "                \n",
    "                # predict\n",
    "                outputs = model(x).view(-1)\n",
    "                cur_test_loss = criterion(outputs, y)\n",
    "                cur_test_mae = torch.abs(outputs - y).mean().item()\n",
    "                \n",
    "                # loss and acc\n",
    "                test_loss += cur_test_loss\n",
    "                test_mae += cur_test_mae\n",
    "                \n",
    "\n",
    "        # epoch output\n",
    "        train_loss = (train_loss/len(train_loader)).item()\n",
    "        val_loss = (test_loss/len(test_loader)).item()\n",
    "        train_mae = (train_mae/len(train_loader))\n",
    "        val_mae = (test_mae/len(test_loader))\n",
    "        history['train_loss'].append(train_loss)\n",
    "        history['test_loss'].append(val_loss)\n",
    "        history['train_mae'].append(train_mae)\n",
    "        history['test_mae'].append(val_mae)\n",
    "        \n",
    "        print(f\"Epoch:{epoch + 1} / {epochs}, \\ttrain loss:{train_loss:.4f},\\ttrain_mae:{train_mae:.4f}, \\tvalid loss:{val_loss:.4f},\\tvalid mae:{val_mae:.4f}\")\n",
    "        \n",
    "        # early stopping\n",
    "        if max_loss > test_loss:\n",
    "            max_loss = test_loss \n",
    "            cnt = 0\n",
    "            torch.save(model.state_dict(), \"best_model.pth\")\n",
    "            print(\"model saved!\")\n",
    "        else:\n",
    "            cnt += 1\n",
    "         \n",
    "            if cnt == patience:\n",
    "                print(\"early stopping!\")\n",
    "                break\n",
    "        \n",
    "        model.load_state_dict(torch.load(\"best_model.pth\"))\n",
    "        \n",
    "    \n",
    "    return model, history"
   ]
  },
  {
   "cell_type": "code",
   "execution_count": 179,
   "metadata": {},
   "outputs": [],
   "source": [
    "def test_model(model, test_dataset, batch_size = 64):    # get test performance\n",
    "    \n",
    "    test_loader = DataLoader(test_dataset, batch_size=batch_size, shuffle=False)\n",
    "    \n",
    "    test_mae = 0\n",
    "    ys = []\n",
    "    preds = []\n",
    "    \n",
    "    model.eval()\n",
    "    with torch.no_grad():\n",
    "        for x, y in test_loader:\n",
    "            # move\n",
    "            x = x.to(device)\n",
    "            y = y.to(device)\n",
    "            # predict\n",
    "            outputs = model(x).view(-1)    \n",
    "            ys.append(y.cpu().numpy())\n",
    "            preds.append(outputs.cpu().numpy())\n",
    "    \n",
    "    ys = np.concatenate(ys)\n",
    "    preds = np.concatenate(preds)\n",
    "    \n",
    "    test_mae = np.abs(preds - ys).mean()\n",
    "        \n",
    "    print(f\"Test mae: {test_mae:.4f}\")\n",
    "    \n",
    "    \n",
    "    return test_mae, preds"
   ]
  },
  {
   "cell_type": "markdown",
   "metadata": {},
   "source": [
    "#### Train model"
   ]
  },
  {
   "cell_type": "code",
   "execution_count": 184,
   "metadata": {},
   "outputs": [
    {
     "name": "stdout",
     "output_type": "stream",
     "text": [
      "Bike_Model(\n",
      "  (bilstm): LSTM(5, 12, batch_first=True, bidirectional=True)\n",
      "  (lstm): LSTM(24, 24, batch_first=True)\n",
      "  (fc): Linear(in_features=24, out_features=1, bias=True)\n",
      "  (dropout): Dropout(p=0.3, inplace=False)\n",
      ")\n",
      "Training Start\n",
      "Epoch:1 / 100, \ttrain loss:0.7325,\ttrain_mae:0.6391, \tvalid loss:0.5756,\tvalid mae:0.5060\n",
      "model saved!\n",
      "Epoch:2 / 100, \ttrain loss:0.4802,\ttrain_mae:0.4836, \tvalid loss:0.4033,\tvalid mae:0.4079\n",
      "model saved!\n",
      "Epoch:3 / 100, \ttrain loss:0.3649,\ttrain_mae:0.4249, \tvalid loss:0.2752,\tvalid mae:0.3423\n",
      "model saved!\n",
      "Epoch:4 / 100, \ttrain loss:0.2905,\ttrain_mae:0.3811, \tvalid loss:0.2102,\tvalid mae:0.3105\n",
      "model saved!\n",
      "Epoch:5 / 100, \ttrain loss:0.2429,\ttrain_mae:0.3528, \tvalid loss:0.1840,\tvalid mae:0.2715\n",
      "model saved!\n",
      "Epoch:6 / 100, \ttrain loss:0.2144,\ttrain_mae:0.3281, \tvalid loss:0.1513,\tvalid mae:0.2526\n",
      "model saved!\n",
      "Epoch:7 / 100, \ttrain loss:0.1939,\ttrain_mae:0.3117, \tvalid loss:0.1317,\tvalid mae:0.2358\n",
      "model saved!\n",
      "Epoch:8 / 100, \ttrain loss:0.1788,\ttrain_mae:0.2978, \tvalid loss:0.1307,\tvalid mae:0.2348\n",
      "model saved!\n",
      "Epoch:9 / 100, \ttrain loss:0.1622,\ttrain_mae:0.2835, \tvalid loss:0.1295,\tvalid mae:0.2368\n",
      "model saved!\n",
      "Epoch:10 / 100, \ttrain loss:0.1572,\ttrain_mae:0.2775, \tvalid loss:0.1115,\tvalid mae:0.2173\n",
      "model saved!\n",
      "Epoch:11 / 100, \ttrain loss:0.1471,\ttrain_mae:0.2689, \tvalid loss:0.0997,\tvalid mae:0.2093\n",
      "model saved!\n",
      "Epoch:12 / 100, \ttrain loss:0.1410,\ttrain_mae:0.2630, \tvalid loss:0.1030,\tvalid mae:0.2136\n",
      "Epoch:13 / 100, \ttrain loss:0.1409,\ttrain_mae:0.2634, \tvalid loss:0.0876,\tvalid mae:0.1834\n",
      "model saved!\n",
      "Epoch:14 / 100, \ttrain loss:0.1319,\ttrain_mae:0.2548, \tvalid loss:0.0825,\tvalid mae:0.1811\n",
      "model saved!\n",
      "Epoch:15 / 100, \ttrain loss:0.1284,\ttrain_mae:0.2497, \tvalid loss:0.0807,\tvalid mae:0.1828\n",
      "model saved!\n",
      "Epoch:16 / 100, \ttrain loss:0.1230,\ttrain_mae:0.2451, \tvalid loss:0.0760,\tvalid mae:0.1801\n",
      "model saved!\n",
      "Epoch:17 / 100, \ttrain loss:0.1196,\ttrain_mae:0.2436, \tvalid loss:0.0795,\tvalid mae:0.1822\n",
      "Epoch:18 / 100, \ttrain loss:0.1203,\ttrain_mae:0.2413, \tvalid loss:0.0715,\tvalid mae:0.1803\n",
      "model saved!\n",
      "Epoch:19 / 100, \ttrain loss:0.1167,\ttrain_mae:0.2386, \tvalid loss:0.0737,\tvalid mae:0.1699\n",
      "Epoch:20 / 100, \ttrain loss:0.1175,\ttrain_mae:0.2384, \tvalid loss:0.0698,\tvalid mae:0.1733\n",
      "model saved!\n",
      "Epoch:21 / 100, \ttrain loss:0.1135,\ttrain_mae:0.2329, \tvalid loss:0.0699,\tvalid mae:0.1650\n",
      "Epoch:22 / 100, \ttrain loss:0.1131,\ttrain_mae:0.2341, \tvalid loss:0.0716,\tvalid mae:0.1728\n",
      "Epoch:23 / 100, \ttrain loss:0.1116,\ttrain_mae:0.2332, \tvalid loss:0.0699,\tvalid mae:0.1700\n",
      "Epoch:24 / 100, \ttrain loss:0.1107,\ttrain_mae:0.2306, \tvalid loss:0.0665,\tvalid mae:0.1657\n",
      "model saved!\n",
      "Epoch:25 / 100, \ttrain loss:0.1085,\ttrain_mae:0.2304, \tvalid loss:0.0630,\tvalid mae:0.1561\n",
      "model saved!\n",
      "Epoch:26 / 100, \ttrain loss:0.1054,\ttrain_mae:0.2264, \tvalid loss:0.0661,\tvalid mae:0.1588\n",
      "Epoch:27 / 100, \ttrain loss:0.1090,\ttrain_mae:0.2294, \tvalid loss:0.0629,\tvalid mae:0.1625\n",
      "model saved!\n",
      "Epoch:28 / 100, \ttrain loss:0.1038,\ttrain_mae:0.2245, \tvalid loss:0.0613,\tvalid mae:0.1569\n",
      "model saved!\n",
      "Epoch:29 / 100, \ttrain loss:0.1006,\ttrain_mae:0.2206, \tvalid loss:0.0599,\tvalid mae:0.1513\n",
      "model saved!\n",
      "Epoch:30 / 100, \ttrain loss:0.0997,\ttrain_mae:0.2205, \tvalid loss:0.0607,\tvalid mae:0.1587\n",
      "Epoch:31 / 100, \ttrain loss:0.0995,\ttrain_mae:0.2200, \tvalid loss:0.0566,\tvalid mae:0.1535\n",
      "model saved!\n",
      "Epoch:32 / 100, \ttrain loss:0.0957,\ttrain_mae:0.2161, \tvalid loss:0.0551,\tvalid mae:0.1521\n",
      "model saved!\n",
      "Epoch:33 / 100, \ttrain loss:0.0956,\ttrain_mae:0.2164, \tvalid loss:0.0594,\tvalid mae:0.1634\n",
      "Epoch:34 / 100, \ttrain loss:0.0958,\ttrain_mae:0.2163, \tvalid loss:0.0524,\tvalid mae:0.1462\n",
      "model saved!\n",
      "Epoch:35 / 100, \ttrain loss:0.0948,\ttrain_mae:0.2136, \tvalid loss:0.0477,\tvalid mae:0.1429\n",
      "model saved!\n",
      "Epoch:36 / 100, \ttrain loss:0.0926,\ttrain_mae:0.2127, \tvalid loss:0.0568,\tvalid mae:0.1558\n",
      "Epoch:37 / 100, \ttrain loss:0.0941,\ttrain_mae:0.2133, \tvalid loss:0.0554,\tvalid mae:0.1553\n",
      "Epoch:38 / 100, \ttrain loss:0.0933,\ttrain_mae:0.2111, \tvalid loss:0.0507,\tvalid mae:0.1428\n",
      "Epoch:39 / 100, \ttrain loss:0.0966,\ttrain_mae:0.2150, \tvalid loss:0.0505,\tvalid mae:0.1462\n",
      "Epoch:40 / 100, \ttrain loss:0.0921,\ttrain_mae:0.2104, \tvalid loss:0.0530,\tvalid mae:0.1526\n",
      "Epoch:41 / 100, \ttrain loss:0.0923,\ttrain_mae:0.2104, \tvalid loss:0.0551,\tvalid mae:0.1514\n",
      "Epoch:42 / 100, \ttrain loss:0.0942,\ttrain_mae:0.2124, \tvalid loss:0.0581,\tvalid mae:0.1524\n",
      "Epoch:43 / 100, \ttrain loss:0.0906,\ttrain_mae:0.2102, \tvalid loss:0.0594,\tvalid mae:0.1543\n",
      "Epoch:44 / 100, \ttrain loss:0.0965,\ttrain_mae:0.2144, \tvalid loss:0.0460,\tvalid mae:0.1403\n",
      "model saved!\n",
      "Epoch:45 / 100, \ttrain loss:0.0896,\ttrain_mae:0.2094, \tvalid loss:0.0537,\tvalid mae:0.1544\n",
      "Epoch:46 / 100, \ttrain loss:0.0906,\ttrain_mae:0.2098, \tvalid loss:0.0455,\tvalid mae:0.1379\n",
      "model saved!\n",
      "Epoch:47 / 100, \ttrain loss:0.0882,\ttrain_mae:0.2072, \tvalid loss:0.0460,\tvalid mae:0.1404\n",
      "Epoch:48 / 100, \ttrain loss:0.0919,\ttrain_mae:0.2110, \tvalid loss:0.0490,\tvalid mae:0.1406\n",
      "Epoch:49 / 100, \ttrain loss:0.0910,\ttrain_mae:0.2113, \tvalid loss:0.0497,\tvalid mae:0.1419\n",
      "Epoch:50 / 100, \ttrain loss:0.0904,\ttrain_mae:0.2092, \tvalid loss:0.0467,\tvalid mae:0.1391\n",
      "Epoch:51 / 100, \ttrain loss:0.0901,\ttrain_mae:0.2086, \tvalid loss:0.0557,\tvalid mae:0.1500\n",
      "Epoch:52 / 100, \ttrain loss:0.0876,\ttrain_mae:0.2044, \tvalid loss:0.0512,\tvalid mae:0.1446\n",
      "Epoch:53 / 100, \ttrain loss:0.0890,\ttrain_mae:0.2071, \tvalid loss:0.0510,\tvalid mae:0.1418\n",
      "Epoch:54 / 100, \ttrain loss:0.0923,\ttrain_mae:0.2106, \tvalid loss:0.0533,\tvalid mae:0.1492\n",
      "Epoch:55 / 100, \ttrain loss:0.0909,\ttrain_mae:0.2101, \tvalid loss:0.0491,\tvalid mae:0.1407\n",
      "Epoch:56 / 100, \ttrain loss:0.0865,\ttrain_mae:0.2066, \tvalid loss:0.0468,\tvalid mae:0.1440\n",
      "early stopping!\n"
     ]
    }
   ],
   "source": [
    "device = 'cuda' if torch.cuda.is_available() else 'cpu'\n",
    "\n",
    "model = Bike_Model(len(feature_cols), hidden_dim=12, lstm_layers = 1 )\n",
    "print(model)\n",
    "model, hista = train_model(model=model,\n",
    "                      train_dataset=train_dataset,\n",
    "                      test_dataset=test_dataset,\n",
    "                      device=device,\n",
    "                      binary_pred = True,\n",
    "                      lr=0.0005,\n",
    "                      epochs=100,\n",
    "                      batch_size=128)"
   ]
  },
  {
   "cell_type": "code",
   "execution_count": 185,
   "metadata": {},
   "outputs": [
    {
     "name": "stdout",
     "output_type": "stream",
     "text": [
      "Test mae: 0.1441\n"
     ]
    }
   ],
   "source": [
    "test_mae, preds = test_model(model, test_dataset, batch_size = 64)"
   ]
  },
  {
   "cell_type": "code",
   "execution_count": 188,
   "metadata": {},
   "outputs": [
    {
     "data": {
      "text/html": [
       "<div>\n",
       "<style scoped>\n",
       "    .dataframe tbody tr th:only-of-type {\n",
       "        vertical-align: middle;\n",
       "    }\n",
       "\n",
       "    .dataframe tbody tr th {\n",
       "        vertical-align: top;\n",
       "    }\n",
       "\n",
       "    .dataframe thead th {\n",
       "        text-align: right;\n",
       "    }\n",
       "</style>\n",
       "<table border=\"1\" class=\"dataframe\">\n",
       "  <thead>\n",
       "    <tr style=\"text-align: right;\">\n",
       "      <th></th>\n",
       "      <th>transformed_y</th>\n",
       "      <th>Predicted</th>\n",
       "      <th>Actual</th>\n",
       "      <th>forecast</th>\n",
       "    </tr>\n",
       "    <tr>\n",
       "      <th>timestamp</th>\n",
       "      <th></th>\n",
       "      <th></th>\n",
       "      <th></th>\n",
       "      <th></th>\n",
       "    </tr>\n",
       "  </thead>\n",
       "  <tbody>\n",
       "    <tr>\n",
       "      <th>2016-09-25 08:00:00</th>\n",
       "      <td>-0.275021</td>\n",
       "      <td>-0.015423</td>\n",
       "      <td>397</td>\n",
       "      <td>1141.274414</td>\n",
       "    </tr>\n",
       "    <tr>\n",
       "      <th>2016-09-25 09:00:00</th>\n",
       "      <td>0.221758</td>\n",
       "      <td>0.500092</td>\n",
       "      <td>857</td>\n",
       "      <td>1705.790894</td>\n",
       "    </tr>\n",
       "    <tr>\n",
       "      <th>2016-09-25 10:00:00</th>\n",
       "      <td>0.724929</td>\n",
       "      <td>0.591849</td>\n",
       "      <td>1401</td>\n",
       "      <td>1806.269409</td>\n",
       "    </tr>\n",
       "    <tr>\n",
       "      <th>2016-09-25 11:00:00</th>\n",
       "      <td>1.123997</td>\n",
       "      <td>1.048723</td>\n",
       "      <td>1952</td>\n",
       "      <td>2306.571289</td>\n",
       "    </tr>\n",
       "    <tr>\n",
       "      <th>2016-09-25 12:00:00</th>\n",
       "      <td>1.422612</td>\n",
       "      <td>1.231984</td>\n",
       "      <td>2389</td>\n",
       "      <td>2507.251953</td>\n",
       "    </tr>\n",
       "  </tbody>\n",
       "</table>\n",
       "</div>"
      ],
      "text/plain": [
       "                     transformed_y  Predicted  Actual     forecast\n",
       "timestamp                                                         \n",
       "2016-09-25 08:00:00      -0.275021  -0.015423     397  1141.274414\n",
       "2016-09-25 09:00:00       0.221758   0.500092     857  1705.790894\n",
       "2016-09-25 10:00:00       0.724929   0.591849    1401  1806.269409\n",
       "2016-09-25 11:00:00       1.123997   1.048723    1952  2306.571289\n",
       "2016-09-25 12:00:00       1.422612   1.231984    2389  2507.251953"
      ]
     },
     "execution_count": 188,
     "metadata": {},
     "output_type": "execute_result"
    }
   ],
   "source": [
    "inverse_pred = y_scaler.inverse_transform(preds)\n",
    "actual_y = data.iloc[cut_off_index:len(data)-1]['cnt']\n",
    "forecast = pd.DataFrame({'transformed_y':test_Y, \n",
    "                         \"Predicted\":preds, \n",
    "                         \"Actual\":actual_y, \n",
    "                         'forecast': inverse_pred})\n",
    "forecast.head()"
   ]
  },
  {
   "cell_type": "code",
   "execution_count": 189,
   "metadata": {},
   "outputs": [
    {
     "data": {
      "text/plain": [
       "<AxesSubplot:xlabel='timestamp'>"
      ]
     },
     "execution_count": 189,
     "metadata": {},
     "output_type": "execute_result"
    },
    {
     "data": {
      "image/png": "[encoded data removed]",
      "text/plain": [
       "<Figure size 1080x360 with 1 Axes>"
      ]
     },
     "metadata": {
      "needs_background": "light"
     },
     "output_type": "display_data"
    }
   ],
   "source": [
    "forecast[[\"Actual\",\"forecast\"]].plot(figsize=(15, 5))"
   ]
  },
  {
   "cell_type": "code",
   "execution_count": 190,
   "metadata": {},
   "outputs": [
    {
     "data": {
      "text/plain": [
       "<AxesSubplot:xlabel='timestamp'>"
      ]
     },
     "execution_count": 190,
     "metadata": {},
     "output_type": "execute_result"
    },
    {
     "data": {
      "image/png": "[encoded data removed]",
      "text/plain": [
       "<Figure size 1080x360 with 1 Axes>"
      ]
     },
     "metadata": {
      "needs_background": "light"
     },
     "output_type": "display_data"
    }
   ],
   "source": [
    "forecast[[\"Actual\",\"forecast\"]].iloc[0:200].plot(figsize=(15, 5))"
   ]
  },
  {
   "cell_type": "markdown",
   "metadata": {},
   "source": [
    "### Q2.6.(Bonus): Predict biking sharing for the next 24 hours\n",
    "\n",
    "\n",
    "Hope you have achieved your goal! So far we predict the bike sharing for the next hour. Can you modify your model to `predict the biking sharing for the next 24 hours`? You can enlarge the input sequence to include history data in the past a few days (e.g. 7 days). \n",
    "\n",
    "Hint: This is a sequence to sequence model. You should follow the neural translation model.\n",
    "\n",
    "Good luck!"
   ]
  },
  {
   "cell_type": "code",
   "execution_count": null,
   "metadata": {},
   "outputs": [],
   "source": []
  }
 ],
 "metadata": {
  "kernelspec": {
   "display_name": "Python 3 (ipykernel)",
   "language": "python",
   "name": "python3"
  },
  "language_info": {
   "codemirror_mode": {
    "name": "ipython",
    "version": 3
   },
   "file_extension": ".py",
   "mimetype": "text/x-python",
   "name": "python",
   "nbconvert_exporter": "python",
   "pygments_lexer": "ipython3",
   "version": "3.9.7"
  },
  "toc-autonumbering": false,
  "toc-showcode": false
 },
 "nbformat": 4,
 "nbformat_minor": 4
}
